{
  "nbformat": 4,
  "nbformat_minor": 0,
  "metadata": {
    "colab": {
      "provenance": [],
      "gpuType": "T4",
      "mount_file_id": "1H7ajK5Uk0s1Cy70zk6UTLYx2xVjbAog8",
      "authorship_tag": "ABX9TyNn8XKkQ5fHlzCHE4O+awHG",
      "include_colab_link": true
    },
    "kernelspec": {
      "name": "python3",
      "display_name": "Python 3"
    },
    "language_info": {
      "name": "python"
    },
    "accelerator": "GPU",
    "gpuClass": "standard"
  },
  "cells": [
    {
      "cell_type": "markdown",
      "metadata": {
        "id": "view-in-github",
        "colab_type": "text"
      },
      "source": [
        "<a href=\"https://colab.research.google.com/github/Lnchi/CIP-Data-Science-Internship/blob/main/EmailSpamDetectionUsingPython.ipynb\" target=\"_parent\"><img src=\"https://colab.research.google.com/assets/colab-badge.svg\" alt=\"Open In Colab\"/></a>"
      ]
    },
    {
      "cell_type": "markdown",
      "source": [
        "# Project name : Email Spam Detection using Python."
      ],
      "metadata": {
        "id": "kly_UcnPqDKc"
      }
    },
    {
      "cell_type": "markdown",
      "source": [
        "Detecting email spam is a prevalent application of natural language processing (NLP), In this task, we classify whether an email is spam or not using machine learning algorithms.\n",
        "\n",
        "\n",
        "\n",
        "\n"
      ],
      "metadata": {
        "id": "f2bg61W7D24C"
      }
    },
    {
      "cell_type": "markdown",
      "source": [
        "# Import Libraries"
      ],
      "metadata": {
        "id": "aDieEsj4D-mn"
      }
    },
    {
      "cell_type": "code",
      "source": [
        "#panda : to read and process the email data \n",
        "import pandas as pd \n",
        "#sklearn : to build the machine learning model\n",
        "from sklearn.feature_extraction.text import CountVectorizer\n",
        "from sklearn.model_selection import train_test_split\n",
        "from sklearn.naive_bayes import MultinomialNB\n",
        "from sklearn import svm \n",
        "from sklearn.linear_model import LogisticRegression\n",
        "from sklearn.metrics import classification_report, confusion_matrix, accuracy_score\n",
        "import seaborn as sns\n",
        "import matplotlib.pyplot as plt\n",
        "import plotly.express as px"
      ],
      "metadata": {
        "id": "fuP0YB57EErH"
      },
      "execution_count": 1,
      "outputs": []
    },
    {
      "cell_type": "markdown",
      "source": [
        "# Load the dataset\n",
        "\n",
        " The dataset that we will utilize is the Spam Mails Dataset available on Kaggle, which comprises a collection of emails that have been pre-labeled as either spam or not spam.\n",
        "\n"
      ],
      "metadata": {
        "id": "MT78Kn7PHHNb"
      }
    },
    {
      "cell_type": "code",
      "source": [
        "!pip install kaggle #Install the Kaggle library.\n",
        "!mkdir ~/.kaggle #Create a new directory named \".kaggle\".\n",
        "!cp /content/drive/MyDrive/kaggle.json ~/.kaggle/kaggle.json #copy the “kaggle.json” file from the mounted google drive to the current instance storage. \n",
        "!chmod 600 ~/.kaggle/kaggle.json\n",
        "\n",
        "! kaggle datasets download venky73/spam-mails-dataset"
      ],
      "metadata": {
        "colab": {
          "base_uri": "https://localhost:8080/"
        },
        "id": "OdDZDMmeJLd9",
        "outputId": "88f82160-7cd9-4208-b2c0-872f41136372"
      },
      "execution_count": 2,
      "outputs": [
        {
          "output_type": "stream",
          "name": "stdout",
          "text": [
            "Looking in indexes: https://pypi.org/simple, https://us-python.pkg.dev/colab-wheels/public/simple/\n",
            "Requirement already satisfied: kaggle in /usr/local/lib/python3.10/dist-packages (1.5.13)\n",
            "Requirement already satisfied: urllib3 in /usr/local/lib/python3.10/dist-packages (from kaggle) (1.26.15)\n",
            "Requirement already satisfied: tqdm in /usr/local/lib/python3.10/dist-packages (from kaggle) (4.65.0)\n",
            "Requirement already satisfied: python-slugify in /usr/local/lib/python3.10/dist-packages (from kaggle) (8.0.1)\n",
            "Requirement already satisfied: certifi in /usr/local/lib/python3.10/dist-packages (from kaggle) (2022.12.7)\n",
            "Requirement already satisfied: python-dateutil in /usr/local/lib/python3.10/dist-packages (from kaggle) (2.8.2)\n",
            "Requirement already satisfied: requests in /usr/local/lib/python3.10/dist-packages (from kaggle) (2.27.1)\n",
            "Requirement already satisfied: six>=1.10 in /usr/local/lib/python3.10/dist-packages (from kaggle) (1.16.0)\n",
            "Requirement already satisfied: text-unidecode>=1.3 in /usr/local/lib/python3.10/dist-packages (from python-slugify->kaggle) (1.3)\n",
            "Requirement already satisfied: charset-normalizer~=2.0.0 in /usr/local/lib/python3.10/dist-packages (from requests->kaggle) (2.0.12)\n",
            "Requirement already satisfied: idna<4,>=2.5 in /usr/local/lib/python3.10/dist-packages (from requests->kaggle) (3.4)\n",
            "Downloading spam-mails-dataset.zip to /content\n",
            "  0% 0.00/1.86M [00:00<?, ?B/s]\n",
            "100% 1.86M/1.86M [00:00<00:00, 41.6MB/s]\n"
          ]
        }
      ]
    },
    {
      "cell_type": "code",
      "source": [
        "!unzip spam-mails-dataset.zip"
      ],
      "metadata": {
        "colab": {
          "base_uri": "https://localhost:8080/"
        },
        "id": "5jTD6s2uMUS6",
        "outputId": "7bc65f72-afdb-4211-d48c-c31265efd5ff"
      },
      "execution_count": 3,
      "outputs": [
        {
          "output_type": "stream",
          "name": "stdout",
          "text": [
            "Archive:  spam-mails-dataset.zip\n",
            "  inflating: spam_ham_dataset.csv    \n"
          ]
        }
      ]
    },
    {
      "cell_type": "code",
      "source": [
        "df = pd.read_csv(\"spam_ham_dataset.csv\")\n",
        "df.sample(10)"
      ],
      "metadata": {
        "colab": {
          "base_uri": "https://localhost:8080/",
          "height": 363
        },
        "id": "xZAMS4q5Mb_P",
        "outputId": "e356ef6a-2cce-46ec-b25a-d3ac719db151"
      },
      "execution_count": 4,
      "outputs": [
        {
          "output_type": "execute_result",
          "data": {
            "text/plain": [
              "      Unnamed: 0 label                                               text  \\\n",
              "1127        4354  spam  Subject: don ' t be fooled abazis\\r\\nabazis\\r\\...   \n",
              "1291        2867   ham  Subject: natural gas nomination for 04 / 01\\r\\...   \n",
              "4707        1798   ham  Subject: union carbide - seadrift\\r\\ndaren\\r\\n...   \n",
              "454         2617   ham  Subject: re : meter 6884\\r\\ni may need more as...   \n",
              "2354        4263  spam  Subject: legal operating systems for a third o...   \n",
              "1420        3297   ham  Subject: hpl nom for may 30 , 2001\\r\\n( see at...   \n",
              "2519         197   ham  Subject: the 1999 form w - 2 and retiree tax f...   \n",
              "535         2293   ham  Subject: hpl nom . for dec . 28 , 2000\\r\\n( se...   \n",
              "356         2624   ham  Subject: enron / hpl nom for february 24 - 26 ...   \n",
              "4523         975   ham  Subject: re : wholesale volumes\\r\\ntexas has a...   \n",
              "\n",
              "      label_num  \n",
              "1127          1  \n",
              "1291          0  \n",
              "4707          0  \n",
              "454           0  \n",
              "2354          1  \n",
              "1420          0  \n",
              "2519          0  \n",
              "535           0  \n",
              "356           0  \n",
              "4523          0  "
            ],
            "text/html": [
              "\n",
              "  <div id=\"df-89925380-ac64-4968-b0cf-d898ea6730ee\">\n",
              "    <div class=\"colab-df-container\">\n",
              "      <div>\n",
              "<style scoped>\n",
              "    .dataframe tbody tr th:only-of-type {\n",
              "        vertical-align: middle;\n",
              "    }\n",
              "\n",
              "    .dataframe tbody tr th {\n",
              "        vertical-align: top;\n",
              "    }\n",
              "\n",
              "    .dataframe thead th {\n",
              "        text-align: right;\n",
              "    }\n",
              "</style>\n",
              "<table border=\"1\" class=\"dataframe\">\n",
              "  <thead>\n",
              "    <tr style=\"text-align: right;\">\n",
              "      <th></th>\n",
              "      <th>Unnamed: 0</th>\n",
              "      <th>label</th>\n",
              "      <th>text</th>\n",
              "      <th>label_num</th>\n",
              "    </tr>\n",
              "  </thead>\n",
              "  <tbody>\n",
              "    <tr>\n",
              "      <th>1127</th>\n",
              "      <td>4354</td>\n",
              "      <td>spam</td>\n",
              "      <td>Subject: don ' t be fooled abazis\\r\\nabazis\\r\\...</td>\n",
              "      <td>1</td>\n",
              "    </tr>\n",
              "    <tr>\n",
              "      <th>1291</th>\n",
              "      <td>2867</td>\n",
              "      <td>ham</td>\n",
              "      <td>Subject: natural gas nomination for 04 / 01\\r\\...</td>\n",
              "      <td>0</td>\n",
              "    </tr>\n",
              "    <tr>\n",
              "      <th>4707</th>\n",
              "      <td>1798</td>\n",
              "      <td>ham</td>\n",
              "      <td>Subject: union carbide - seadrift\\r\\ndaren\\r\\n...</td>\n",
              "      <td>0</td>\n",
              "    </tr>\n",
              "    <tr>\n",
              "      <th>454</th>\n",
              "      <td>2617</td>\n",
              "      <td>ham</td>\n",
              "      <td>Subject: re : meter 6884\\r\\ni may need more as...</td>\n",
              "      <td>0</td>\n",
              "    </tr>\n",
              "    <tr>\n",
              "      <th>2354</th>\n",
              "      <td>4263</td>\n",
              "      <td>spam</td>\n",
              "      <td>Subject: legal operating systems for a third o...</td>\n",
              "      <td>1</td>\n",
              "    </tr>\n",
              "    <tr>\n",
              "      <th>1420</th>\n",
              "      <td>3297</td>\n",
              "      <td>ham</td>\n",
              "      <td>Subject: hpl nom for may 30 , 2001\\r\\n( see at...</td>\n",
              "      <td>0</td>\n",
              "    </tr>\n",
              "    <tr>\n",
              "      <th>2519</th>\n",
              "      <td>197</td>\n",
              "      <td>ham</td>\n",
              "      <td>Subject: the 1999 form w - 2 and retiree tax f...</td>\n",
              "      <td>0</td>\n",
              "    </tr>\n",
              "    <tr>\n",
              "      <th>535</th>\n",
              "      <td>2293</td>\n",
              "      <td>ham</td>\n",
              "      <td>Subject: hpl nom . for dec . 28 , 2000\\r\\n( se...</td>\n",
              "      <td>0</td>\n",
              "    </tr>\n",
              "    <tr>\n",
              "      <th>356</th>\n",
              "      <td>2624</td>\n",
              "      <td>ham</td>\n",
              "      <td>Subject: enron / hpl nom for february 24 - 26 ...</td>\n",
              "      <td>0</td>\n",
              "    </tr>\n",
              "    <tr>\n",
              "      <th>4523</th>\n",
              "      <td>975</td>\n",
              "      <td>ham</td>\n",
              "      <td>Subject: re : wholesale volumes\\r\\ntexas has a...</td>\n",
              "      <td>0</td>\n",
              "    </tr>\n",
              "  </tbody>\n",
              "</table>\n",
              "</div>\n",
              "      <button class=\"colab-df-convert\" onclick=\"convertToInteractive('df-89925380-ac64-4968-b0cf-d898ea6730ee')\"\n",
              "              title=\"Convert this dataframe to an interactive table.\"\n",
              "              style=\"display:none;\">\n",
              "        \n",
              "  <svg xmlns=\"http://www.w3.org/2000/svg\" height=\"24px\"viewBox=\"0 0 24 24\"\n",
              "       width=\"24px\">\n",
              "    <path d=\"M0 0h24v24H0V0z\" fill=\"none\"/>\n",
              "    <path d=\"M18.56 5.44l.94 2.06.94-2.06 2.06-.94-2.06-.94-.94-2.06-.94 2.06-2.06.94zm-11 1L8.5 8.5l.94-2.06 2.06-.94-2.06-.94L8.5 2.5l-.94 2.06-2.06.94zm10 10l.94 2.06.94-2.06 2.06-.94-2.06-.94-.94-2.06-.94 2.06-2.06.94z\"/><path d=\"M17.41 7.96l-1.37-1.37c-.4-.4-.92-.59-1.43-.59-.52 0-1.04.2-1.43.59L10.3 9.45l-7.72 7.72c-.78.78-.78 2.05 0 2.83L4 21.41c.39.39.9.59 1.41.59.51 0 1.02-.2 1.41-.59l7.78-7.78 2.81-2.81c.8-.78.8-2.07 0-2.86zM5.41 20L4 18.59l7.72-7.72 1.47 1.35L5.41 20z\"/>\n",
              "  </svg>\n",
              "      </button>\n",
              "      \n",
              "  <style>\n",
              "    .colab-df-container {\n",
              "      display:flex;\n",
              "      flex-wrap:wrap;\n",
              "      gap: 12px;\n",
              "    }\n",
              "\n",
              "    .colab-df-convert {\n",
              "      background-color: #E8F0FE;\n",
              "      border: none;\n",
              "      border-radius: 50%;\n",
              "      cursor: pointer;\n",
              "      display: none;\n",
              "      fill: #1967D2;\n",
              "      height: 32px;\n",
              "      padding: 0 0 0 0;\n",
              "      width: 32px;\n",
              "    }\n",
              "\n",
              "    .colab-df-convert:hover {\n",
              "      background-color: #E2EBFA;\n",
              "      box-shadow: 0px 1px 2px rgba(60, 64, 67, 0.3), 0px 1px 3px 1px rgba(60, 64, 67, 0.15);\n",
              "      fill: #174EA6;\n",
              "    }\n",
              "\n",
              "    [theme=dark] .colab-df-convert {\n",
              "      background-color: #3B4455;\n",
              "      fill: #D2E3FC;\n",
              "    }\n",
              "\n",
              "    [theme=dark] .colab-df-convert:hover {\n",
              "      background-color: #434B5C;\n",
              "      box-shadow: 0px 1px 3px 1px rgba(0, 0, 0, 0.15);\n",
              "      filter: drop-shadow(0px 1px 2px rgba(0, 0, 0, 0.3));\n",
              "      fill: #FFFFFF;\n",
              "    }\n",
              "  </style>\n",
              "\n",
              "      <script>\n",
              "        const buttonEl =\n",
              "          document.querySelector('#df-89925380-ac64-4968-b0cf-d898ea6730ee button.colab-df-convert');\n",
              "        buttonEl.style.display =\n",
              "          google.colab.kernel.accessAllowed ? 'block' : 'none';\n",
              "\n",
              "        async function convertToInteractive(key) {\n",
              "          const element = document.querySelector('#df-89925380-ac64-4968-b0cf-d898ea6730ee');\n",
              "          const dataTable =\n",
              "            await google.colab.kernel.invokeFunction('convertToInteractive',\n",
              "                                                     [key], {});\n",
              "          if (!dataTable) return;\n",
              "\n",
              "          const docLinkHtml = 'Like what you see? Visit the ' +\n",
              "            '<a target=\"_blank\" href=https://colab.research.google.com/notebooks/data_table.ipynb>data table notebook</a>'\n",
              "            + ' to learn more about interactive tables.';\n",
              "          element.innerHTML = '';\n",
              "          dataTable['output_type'] = 'display_data';\n",
              "          await google.colab.output.renderOutput(dataTable, element);\n",
              "          const docLink = document.createElement('div');\n",
              "          docLink.innerHTML = docLinkHtml;\n",
              "          element.appendChild(docLink);\n",
              "        }\n",
              "      </script>\n",
              "    </div>\n",
              "  </div>\n",
              "  "
            ]
          },
          "metadata": {},
          "execution_count": 4
        }
      ]
    },
    {
      "cell_type": "code",
      "source": [
        "df=df.drop(['Unnamed: 0'],axis=1) #drop Unnamed: 0 column  \n",
        "df.sample(10)"
      ],
      "metadata": {
        "colab": {
          "base_uri": "https://localhost:8080/",
          "height": 363
        },
        "id": "sRJXgY8Nt5pr",
        "outputId": "ef886191-b99a-4323-89c0-d358a50c99be"
      },
      "execution_count": 5,
      "outputs": [
        {
          "output_type": "execute_result",
          "data": {
            "text/plain": [
              "     label                                               text  label_num\n",
              "875   spam  Subject: account # 20367 s tue , 28 jun 2005 1...          1\n",
              "4248   ham  Subject: neon discussion november 8\\r\\nhere ar...          0\n",
              "1602   ham  Subject: re : pennzoil avails\\r\\n- - - - - - -...          0\n",
              "2446  spam  Subject: re : this is how i made that money wi...          1\n",
              "3279   ham  Subject: fyi - union carbide\\r\\nunion carbide ...          0\n",
              "1138   ham  Subject: valero plants\\r\\nhey buddy ! ! how ' ...          0\n",
              "1713   ham  Subject: shipper meter list\\r\\nsorry , i attac...          0\n",
              "1887   ham  Subject: re : meter 1550\\r\\nper gas control , ...          0\n",
              "4097  spam  Subject: re : walium clalls vi - agra\\r\\nre : ...          1\n",
              "2159  spam  Subject: get xanax , darvocet over night - no ...          1"
            ],
            "text/html": [
              "\n",
              "  <div id=\"df-32e6414e-b22c-4889-b09f-317881b8f7f7\">\n",
              "    <div class=\"colab-df-container\">\n",
              "      <div>\n",
              "<style scoped>\n",
              "    .dataframe tbody tr th:only-of-type {\n",
              "        vertical-align: middle;\n",
              "    }\n",
              "\n",
              "    .dataframe tbody tr th {\n",
              "        vertical-align: top;\n",
              "    }\n",
              "\n",
              "    .dataframe thead th {\n",
              "        text-align: right;\n",
              "    }\n",
              "</style>\n",
              "<table border=\"1\" class=\"dataframe\">\n",
              "  <thead>\n",
              "    <tr style=\"text-align: right;\">\n",
              "      <th></th>\n",
              "      <th>label</th>\n",
              "      <th>text</th>\n",
              "      <th>label_num</th>\n",
              "    </tr>\n",
              "  </thead>\n",
              "  <tbody>\n",
              "    <tr>\n",
              "      <th>875</th>\n",
              "      <td>spam</td>\n",
              "      <td>Subject: account # 20367 s tue , 28 jun 2005 1...</td>\n",
              "      <td>1</td>\n",
              "    </tr>\n",
              "    <tr>\n",
              "      <th>4248</th>\n",
              "      <td>ham</td>\n",
              "      <td>Subject: neon discussion november 8\\r\\nhere ar...</td>\n",
              "      <td>0</td>\n",
              "    </tr>\n",
              "    <tr>\n",
              "      <th>1602</th>\n",
              "      <td>ham</td>\n",
              "      <td>Subject: re : pennzoil avails\\r\\n- - - - - - -...</td>\n",
              "      <td>0</td>\n",
              "    </tr>\n",
              "    <tr>\n",
              "      <th>2446</th>\n",
              "      <td>spam</td>\n",
              "      <td>Subject: re : this is how i made that money wi...</td>\n",
              "      <td>1</td>\n",
              "    </tr>\n",
              "    <tr>\n",
              "      <th>3279</th>\n",
              "      <td>ham</td>\n",
              "      <td>Subject: fyi - union carbide\\r\\nunion carbide ...</td>\n",
              "      <td>0</td>\n",
              "    </tr>\n",
              "    <tr>\n",
              "      <th>1138</th>\n",
              "      <td>ham</td>\n",
              "      <td>Subject: valero plants\\r\\nhey buddy ! ! how ' ...</td>\n",
              "      <td>0</td>\n",
              "    </tr>\n",
              "    <tr>\n",
              "      <th>1713</th>\n",
              "      <td>ham</td>\n",
              "      <td>Subject: shipper meter list\\r\\nsorry , i attac...</td>\n",
              "      <td>0</td>\n",
              "    </tr>\n",
              "    <tr>\n",
              "      <th>1887</th>\n",
              "      <td>ham</td>\n",
              "      <td>Subject: re : meter 1550\\r\\nper gas control , ...</td>\n",
              "      <td>0</td>\n",
              "    </tr>\n",
              "    <tr>\n",
              "      <th>4097</th>\n",
              "      <td>spam</td>\n",
              "      <td>Subject: re : walium clalls vi - agra\\r\\nre : ...</td>\n",
              "      <td>1</td>\n",
              "    </tr>\n",
              "    <tr>\n",
              "      <th>2159</th>\n",
              "      <td>spam</td>\n",
              "      <td>Subject: get xanax , darvocet over night - no ...</td>\n",
              "      <td>1</td>\n",
              "    </tr>\n",
              "  </tbody>\n",
              "</table>\n",
              "</div>\n",
              "      <button class=\"colab-df-convert\" onclick=\"convertToInteractive('df-32e6414e-b22c-4889-b09f-317881b8f7f7')\"\n",
              "              title=\"Convert this dataframe to an interactive table.\"\n",
              "              style=\"display:none;\">\n",
              "        \n",
              "  <svg xmlns=\"http://www.w3.org/2000/svg\" height=\"24px\"viewBox=\"0 0 24 24\"\n",
              "       width=\"24px\">\n",
              "    <path d=\"M0 0h24v24H0V0z\" fill=\"none\"/>\n",
              "    <path d=\"M18.56 5.44l.94 2.06.94-2.06 2.06-.94-2.06-.94-.94-2.06-.94 2.06-2.06.94zm-11 1L8.5 8.5l.94-2.06 2.06-.94-2.06-.94L8.5 2.5l-.94 2.06-2.06.94zm10 10l.94 2.06.94-2.06 2.06-.94-2.06-.94-.94-2.06-.94 2.06-2.06.94z\"/><path d=\"M17.41 7.96l-1.37-1.37c-.4-.4-.92-.59-1.43-.59-.52 0-1.04.2-1.43.59L10.3 9.45l-7.72 7.72c-.78.78-.78 2.05 0 2.83L4 21.41c.39.39.9.59 1.41.59.51 0 1.02-.2 1.41-.59l7.78-7.78 2.81-2.81c.8-.78.8-2.07 0-2.86zM5.41 20L4 18.59l7.72-7.72 1.47 1.35L5.41 20z\"/>\n",
              "  </svg>\n",
              "      </button>\n",
              "      \n",
              "  <style>\n",
              "    .colab-df-container {\n",
              "      display:flex;\n",
              "      flex-wrap:wrap;\n",
              "      gap: 12px;\n",
              "    }\n",
              "\n",
              "    .colab-df-convert {\n",
              "      background-color: #E8F0FE;\n",
              "      border: none;\n",
              "      border-radius: 50%;\n",
              "      cursor: pointer;\n",
              "      display: none;\n",
              "      fill: #1967D2;\n",
              "      height: 32px;\n",
              "      padding: 0 0 0 0;\n",
              "      width: 32px;\n",
              "    }\n",
              "\n",
              "    .colab-df-convert:hover {\n",
              "      background-color: #E2EBFA;\n",
              "      box-shadow: 0px 1px 2px rgba(60, 64, 67, 0.3), 0px 1px 3px 1px rgba(60, 64, 67, 0.15);\n",
              "      fill: #174EA6;\n",
              "    }\n",
              "\n",
              "    [theme=dark] .colab-df-convert {\n",
              "      background-color: #3B4455;\n",
              "      fill: #D2E3FC;\n",
              "    }\n",
              "\n",
              "    [theme=dark] .colab-df-convert:hover {\n",
              "      background-color: #434B5C;\n",
              "      box-shadow: 0px 1px 3px 1px rgba(0, 0, 0, 0.15);\n",
              "      filter: drop-shadow(0px 1px 2px rgba(0, 0, 0, 0.3));\n",
              "      fill: #FFFFFF;\n",
              "    }\n",
              "  </style>\n",
              "\n",
              "      <script>\n",
              "        const buttonEl =\n",
              "          document.querySelector('#df-32e6414e-b22c-4889-b09f-317881b8f7f7 button.colab-df-convert');\n",
              "        buttonEl.style.display =\n",
              "          google.colab.kernel.accessAllowed ? 'block' : 'none';\n",
              "\n",
              "        async function convertToInteractive(key) {\n",
              "          const element = document.querySelector('#df-32e6414e-b22c-4889-b09f-317881b8f7f7');\n",
              "          const dataTable =\n",
              "            await google.colab.kernel.invokeFunction('convertToInteractive',\n",
              "                                                     [key], {});\n",
              "          if (!dataTable) return;\n",
              "\n",
              "          const docLinkHtml = 'Like what you see? Visit the ' +\n",
              "            '<a target=\"_blank\" href=https://colab.research.google.com/notebooks/data_table.ipynb>data table notebook</a>'\n",
              "            + ' to learn more about interactive tables.';\n",
              "          element.innerHTML = '';\n",
              "          dataTable['output_type'] = 'display_data';\n",
              "          await google.colab.output.renderOutput(dataTable, element);\n",
              "          const docLink = document.createElement('div');\n",
              "          docLink.innerHTML = docLinkHtml;\n",
              "          element.appendChild(docLink);\n",
              "        }\n",
              "      </script>\n",
              "    </div>\n",
              "  </div>\n",
              "  "
            ]
          },
          "metadata": {},
          "execution_count": 5
        }
      ]
    },
    {
      "cell_type": "markdown",
      "source": [
        "- The dataset consists of three variables: \"label,\" which indicates whether an email is classified as \"Spam\" or \"Ham\"; \"text,\" which contains the email content; and \"label_num,\" which is assigned a value of 1 if the email is spam, and 0 if it is not."
      ],
      "metadata": {
        "id": "NKwkfvBiRFeT"
      }
    },
    {
      "cell_type": "code",
      "source": [
        "df.info()"
      ],
      "metadata": {
        "colab": {
          "base_uri": "https://localhost:8080/"
        },
        "id": "mYOfIPCWY5ay",
        "outputId": "318fd018-8493-412c-b6a5-67e133f197ce"
      },
      "execution_count": 6,
      "outputs": [
        {
          "output_type": "stream",
          "name": "stdout",
          "text": [
            "<class 'pandas.core.frame.DataFrame'>\n",
            "RangeIndex: 5171 entries, 0 to 5170\n",
            "Data columns (total 3 columns):\n",
            " #   Column     Non-Null Count  Dtype \n",
            "---  ------     --------------  ----- \n",
            " 0   label      5171 non-null   object\n",
            " 1   text       5171 non-null   object\n",
            " 2   label_num  5171 non-null   int64 \n",
            "dtypes: int64(1), object(2)\n",
            "memory usage: 121.3+ KB\n"
          ]
        }
      ]
    },
    {
      "cell_type": "code",
      "source": [
        "df['label'].value_counts()"
      ],
      "metadata": {
        "colab": {
          "base_uri": "https://localhost:8080/"
        },
        "id": "ws5UR8lcOw7s",
        "outputId": "03ac82fc-6985-47e1-ee5c-b736b47759c5"
      },
      "execution_count": 7,
      "outputs": [
        {
          "output_type": "execute_result",
          "data": {
            "text/plain": [
              "ham     3672\n",
              "spam    1499\n",
              "Name: label, dtype: int64"
            ]
          },
          "metadata": {},
          "execution_count": 7
        }
      ]
    },
    {
      "cell_type": "code",
      "source": [
        "label = df.groupby(by = [\"label_num\"]).size().reset_index(name=\"Count\")\n",
        "figure = px.bar(label,x='label_num',y='Count', color='label_num', title='The count of spam labels.')\n",
        "figure.show()"
      ],
      "metadata": {
        "colab": {
          "base_uri": "https://localhost:8080/",
          "height": 542
        },
        "id": "LQHCadN0SfMn",
        "outputId": "60f546d1-0ee1-4045-8fce-e3d15bec3bbc"
      },
      "execution_count": 8,
      "outputs": [
        {
          "output_type": "display_data",
          "data": {
            "text/html": [
              "<html>\n",
              "<head><meta charset=\"utf-8\" /></head>\n",
              "<body>\n",
              "    <div>            <script src=\"https://cdnjs.cloudflare.com/ajax/libs/mathjax/2.7.5/MathJax.js?config=TeX-AMS-MML_SVG\"></script><script type=\"text/javascript\">if (window.MathJax && window.MathJax.Hub && window.MathJax.Hub.Config) {window.MathJax.Hub.Config({SVG: {font: \"STIX-Web\"}});}</script>                <script type=\"text/javascript\">window.PlotlyConfig = {MathJaxConfig: 'local'};</script>\n",
              "        <script src=\"https://cdn.plot.ly/plotly-2.18.2.min.js\"></script>                <div id=\"0ca6b7c5-c592-4205-922b-d6bfbf497066\" class=\"plotly-graph-div\" style=\"height:525px; width:100%;\"></div>            <script type=\"text/javascript\">                                    window.PLOTLYENV=window.PLOTLYENV || {};                                    if (document.getElementById(\"0ca6b7c5-c592-4205-922b-d6bfbf497066\")) {                    Plotly.newPlot(                        \"0ca6b7c5-c592-4205-922b-d6bfbf497066\",                        [{\"alignmentgroup\":\"True\",\"hovertemplate\":\"label_num=%{marker.color}<br>Count=%{y}<extra></extra>\",\"legendgroup\":\"\",\"marker\":{\"color\":[0,1],\"coloraxis\":\"coloraxis\",\"pattern\":{\"shape\":\"\"}},\"name\":\"\",\"offsetgroup\":\"\",\"orientation\":\"v\",\"showlegend\":false,\"textposition\":\"auto\",\"x\":[0,1],\"xaxis\":\"x\",\"y\":[3672,1499],\"yaxis\":\"y\",\"type\":\"bar\"}],                        {\"template\":{\"data\":{\"histogram2dcontour\":[{\"type\":\"histogram2dcontour\",\"colorbar\":{\"outlinewidth\":0,\"ticks\":\"\"},\"colorscale\":[[0.0,\"#0d0887\"],[0.1111111111111111,\"#46039f\"],[0.2222222222222222,\"#7201a8\"],[0.3333333333333333,\"#9c179e\"],[0.4444444444444444,\"#bd3786\"],[0.5555555555555556,\"#d8576b\"],[0.6666666666666666,\"#ed7953\"],[0.7777777777777778,\"#fb9f3a\"],[0.8888888888888888,\"#fdca26\"],[1.0,\"#f0f921\"]]}],\"choropleth\":[{\"type\":\"choropleth\",\"colorbar\":{\"outlinewidth\":0,\"ticks\":\"\"}}],\"histogram2d\":[{\"type\":\"histogram2d\",\"colorbar\":{\"outlinewidth\":0,\"ticks\":\"\"},\"colorscale\":[[0.0,\"#0d0887\"],[0.1111111111111111,\"#46039f\"],[0.2222222222222222,\"#7201a8\"],[0.3333333333333333,\"#9c179e\"],[0.4444444444444444,\"#bd3786\"],[0.5555555555555556,\"#d8576b\"],[0.6666666666666666,\"#ed7953\"],[0.7777777777777778,\"#fb9f3a\"],[0.8888888888888888,\"#fdca26\"],[1.0,\"#f0f921\"]]}],\"heatmap\":[{\"type\":\"heatmap\",\"colorbar\":{\"outlinewidth\":0,\"ticks\":\"\"},\"colorscale\":[[0.0,\"#0d0887\"],[0.1111111111111111,\"#46039f\"],[0.2222222222222222,\"#7201a8\"],[0.3333333333333333,\"#9c179e\"],[0.4444444444444444,\"#bd3786\"],[0.5555555555555556,\"#d8576b\"],[0.6666666666666666,\"#ed7953\"],[0.7777777777777778,\"#fb9f3a\"],[0.8888888888888888,\"#fdca26\"],[1.0,\"#f0f921\"]]}],\"heatmapgl\":[{\"type\":\"heatmapgl\",\"colorbar\":{\"outlinewidth\":0,\"ticks\":\"\"},\"colorscale\":[[0.0,\"#0d0887\"],[0.1111111111111111,\"#46039f\"],[0.2222222222222222,\"#7201a8\"],[0.3333333333333333,\"#9c179e\"],[0.4444444444444444,\"#bd3786\"],[0.5555555555555556,\"#d8576b\"],[0.6666666666666666,\"#ed7953\"],[0.7777777777777778,\"#fb9f3a\"],[0.8888888888888888,\"#fdca26\"],[1.0,\"#f0f921\"]]}],\"contourcarpet\":[{\"type\":\"contourcarpet\",\"colorbar\":{\"outlinewidth\":0,\"ticks\":\"\"}}],\"contour\":[{\"type\":\"contour\",\"colorbar\":{\"outlinewidth\":0,\"ticks\":\"\"},\"colorscale\":[[0.0,\"#0d0887\"],[0.1111111111111111,\"#46039f\"],[0.2222222222222222,\"#7201a8\"],[0.3333333333333333,\"#9c179e\"],[0.4444444444444444,\"#bd3786\"],[0.5555555555555556,\"#d8576b\"],[0.6666666666666666,\"#ed7953\"],[0.7777777777777778,\"#fb9f3a\"],[0.8888888888888888,\"#fdca26\"],[1.0,\"#f0f921\"]]}],\"surface\":[{\"type\":\"surface\",\"colorbar\":{\"outlinewidth\":0,\"ticks\":\"\"},\"colorscale\":[[0.0,\"#0d0887\"],[0.1111111111111111,\"#46039f\"],[0.2222222222222222,\"#7201a8\"],[0.3333333333333333,\"#9c179e\"],[0.4444444444444444,\"#bd3786\"],[0.5555555555555556,\"#d8576b\"],[0.6666666666666666,\"#ed7953\"],[0.7777777777777778,\"#fb9f3a\"],[0.8888888888888888,\"#fdca26\"],[1.0,\"#f0f921\"]]}],\"mesh3d\":[{\"type\":\"mesh3d\",\"colorbar\":{\"outlinewidth\":0,\"ticks\":\"\"}}],\"scatter\":[{\"fillpattern\":{\"fillmode\":\"overlay\",\"size\":10,\"solidity\":0.2},\"type\":\"scatter\"}],\"parcoords\":[{\"type\":\"parcoords\",\"line\":{\"colorbar\":{\"outlinewidth\":0,\"ticks\":\"\"}}}],\"scatterpolargl\":[{\"type\":\"scatterpolargl\",\"marker\":{\"colorbar\":{\"outlinewidth\":0,\"ticks\":\"\"}}}],\"bar\":[{\"error_x\":{\"color\":\"#2a3f5f\"},\"error_y\":{\"color\":\"#2a3f5f\"},\"marker\":{\"line\":{\"color\":\"#E5ECF6\",\"width\":0.5},\"pattern\":{\"fillmode\":\"overlay\",\"size\":10,\"solidity\":0.2}},\"type\":\"bar\"}],\"scattergeo\":[{\"type\":\"scattergeo\",\"marker\":{\"colorbar\":{\"outlinewidth\":0,\"ticks\":\"\"}}}],\"scatterpolar\":[{\"type\":\"scatterpolar\",\"marker\":{\"colorbar\":{\"outlinewidth\":0,\"ticks\":\"\"}}}],\"histogram\":[{\"marker\":{\"pattern\":{\"fillmode\":\"overlay\",\"size\":10,\"solidity\":0.2}},\"type\":\"histogram\"}],\"scattergl\":[{\"type\":\"scattergl\",\"marker\":{\"colorbar\":{\"outlinewidth\":0,\"ticks\":\"\"}}}],\"scatter3d\":[{\"type\":\"scatter3d\",\"line\":{\"colorbar\":{\"outlinewidth\":0,\"ticks\":\"\"}},\"marker\":{\"colorbar\":{\"outlinewidth\":0,\"ticks\":\"\"}}}],\"scattermapbox\":[{\"type\":\"scattermapbox\",\"marker\":{\"colorbar\":{\"outlinewidth\":0,\"ticks\":\"\"}}}],\"scatterternary\":[{\"type\":\"scatterternary\",\"marker\":{\"colorbar\":{\"outlinewidth\":0,\"ticks\":\"\"}}}],\"scattercarpet\":[{\"type\":\"scattercarpet\",\"marker\":{\"colorbar\":{\"outlinewidth\":0,\"ticks\":\"\"}}}],\"carpet\":[{\"aaxis\":{\"endlinecolor\":\"#2a3f5f\",\"gridcolor\":\"white\",\"linecolor\":\"white\",\"minorgridcolor\":\"white\",\"startlinecolor\":\"#2a3f5f\"},\"baxis\":{\"endlinecolor\":\"#2a3f5f\",\"gridcolor\":\"white\",\"linecolor\":\"white\",\"minorgridcolor\":\"white\",\"startlinecolor\":\"#2a3f5f\"},\"type\":\"carpet\"}],\"table\":[{\"cells\":{\"fill\":{\"color\":\"#EBF0F8\"},\"line\":{\"color\":\"white\"}},\"header\":{\"fill\":{\"color\":\"#C8D4E3\"},\"line\":{\"color\":\"white\"}},\"type\":\"table\"}],\"barpolar\":[{\"marker\":{\"line\":{\"color\":\"#E5ECF6\",\"width\":0.5},\"pattern\":{\"fillmode\":\"overlay\",\"size\":10,\"solidity\":0.2}},\"type\":\"barpolar\"}],\"pie\":[{\"automargin\":true,\"type\":\"pie\"}]},\"layout\":{\"autotypenumbers\":\"strict\",\"colorway\":[\"#636efa\",\"#EF553B\",\"#00cc96\",\"#ab63fa\",\"#FFA15A\",\"#19d3f3\",\"#FF6692\",\"#B6E880\",\"#FF97FF\",\"#FECB52\"],\"font\":{\"color\":\"#2a3f5f\"},\"hovermode\":\"closest\",\"hoverlabel\":{\"align\":\"left\"},\"paper_bgcolor\":\"white\",\"plot_bgcolor\":\"#E5ECF6\",\"polar\":{\"bgcolor\":\"#E5ECF6\",\"angularaxis\":{\"gridcolor\":\"white\",\"linecolor\":\"white\",\"ticks\":\"\"},\"radialaxis\":{\"gridcolor\":\"white\",\"linecolor\":\"white\",\"ticks\":\"\"}},\"ternary\":{\"bgcolor\":\"#E5ECF6\",\"aaxis\":{\"gridcolor\":\"white\",\"linecolor\":\"white\",\"ticks\":\"\"},\"baxis\":{\"gridcolor\":\"white\",\"linecolor\":\"white\",\"ticks\":\"\"},\"caxis\":{\"gridcolor\":\"white\",\"linecolor\":\"white\",\"ticks\":\"\"}},\"coloraxis\":{\"colorbar\":{\"outlinewidth\":0,\"ticks\":\"\"}},\"colorscale\":{\"sequential\":[[0.0,\"#0d0887\"],[0.1111111111111111,\"#46039f\"],[0.2222222222222222,\"#7201a8\"],[0.3333333333333333,\"#9c179e\"],[0.4444444444444444,\"#bd3786\"],[0.5555555555555556,\"#d8576b\"],[0.6666666666666666,\"#ed7953\"],[0.7777777777777778,\"#fb9f3a\"],[0.8888888888888888,\"#fdca26\"],[1.0,\"#f0f921\"]],\"sequentialminus\":[[0.0,\"#0d0887\"],[0.1111111111111111,\"#46039f\"],[0.2222222222222222,\"#7201a8\"],[0.3333333333333333,\"#9c179e\"],[0.4444444444444444,\"#bd3786\"],[0.5555555555555556,\"#d8576b\"],[0.6666666666666666,\"#ed7953\"],[0.7777777777777778,\"#fb9f3a\"],[0.8888888888888888,\"#fdca26\"],[1.0,\"#f0f921\"]],\"diverging\":[[0,\"#8e0152\"],[0.1,\"#c51b7d\"],[0.2,\"#de77ae\"],[0.3,\"#f1b6da\"],[0.4,\"#fde0ef\"],[0.5,\"#f7f7f7\"],[0.6,\"#e6f5d0\"],[0.7,\"#b8e186\"],[0.8,\"#7fbc41\"],[0.9,\"#4d9221\"],[1,\"#276419\"]]},\"xaxis\":{\"gridcolor\":\"white\",\"linecolor\":\"white\",\"ticks\":\"\",\"title\":{\"standoff\":15},\"zerolinecolor\":\"white\",\"automargin\":true,\"zerolinewidth\":2},\"yaxis\":{\"gridcolor\":\"white\",\"linecolor\":\"white\",\"ticks\":\"\",\"title\":{\"standoff\":15},\"zerolinecolor\":\"white\",\"automargin\":true,\"zerolinewidth\":2},\"scene\":{\"xaxis\":{\"backgroundcolor\":\"#E5ECF6\",\"gridcolor\":\"white\",\"linecolor\":\"white\",\"showbackground\":true,\"ticks\":\"\",\"zerolinecolor\":\"white\",\"gridwidth\":2},\"yaxis\":{\"backgroundcolor\":\"#E5ECF6\",\"gridcolor\":\"white\",\"linecolor\":\"white\",\"showbackground\":true,\"ticks\":\"\",\"zerolinecolor\":\"white\",\"gridwidth\":2},\"zaxis\":{\"backgroundcolor\":\"#E5ECF6\",\"gridcolor\":\"white\",\"linecolor\":\"white\",\"showbackground\":true,\"ticks\":\"\",\"zerolinecolor\":\"white\",\"gridwidth\":2}},\"shapedefaults\":{\"line\":{\"color\":\"#2a3f5f\"}},\"annotationdefaults\":{\"arrowcolor\":\"#2a3f5f\",\"arrowhead\":0,\"arrowwidth\":1},\"geo\":{\"bgcolor\":\"white\",\"landcolor\":\"#E5ECF6\",\"subunitcolor\":\"white\",\"showland\":true,\"showlakes\":true,\"lakecolor\":\"white\"},\"title\":{\"x\":0.05},\"mapbox\":{\"style\":\"light\"}}},\"xaxis\":{\"anchor\":\"y\",\"domain\":[0.0,1.0],\"title\":{\"text\":\"label_num\"}},\"yaxis\":{\"anchor\":\"x\",\"domain\":[0.0,1.0],\"title\":{\"text\":\"Count\"}},\"coloraxis\":{\"colorbar\":{\"title\":{\"text\":\"label_num\"}},\"colorscale\":[[0.0,\"#0d0887\"],[0.1111111111111111,\"#46039f\"],[0.2222222222222222,\"#7201a8\"],[0.3333333333333333,\"#9c179e\"],[0.4444444444444444,\"#bd3786\"],[0.5555555555555556,\"#d8576b\"],[0.6666666666666666,\"#ed7953\"],[0.7777777777777778,\"#fb9f3a\"],[0.8888888888888888,\"#fdca26\"],[1.0,\"#f0f921\"]]},\"legend\":{\"tracegroupgap\":0},\"title\":{\"text\":\"The count of spam labels.\"},\"barmode\":\"relative\"},                        {\"responsive\": true}                    ).then(function(){\n",
              "                            \n",
              "var gd = document.getElementById('0ca6b7c5-c592-4205-922b-d6bfbf497066');\n",
              "var x = new MutationObserver(function (mutations, observer) {{\n",
              "        var display = window.getComputedStyle(gd).display;\n",
              "        if (!display || display === 'none') {{\n",
              "            console.log([gd, 'removed!']);\n",
              "            Plotly.purge(gd);\n",
              "            observer.disconnect();\n",
              "        }}\n",
              "}});\n",
              "\n",
              "// Listen for the removal of the full notebook cells\n",
              "var notebookContainer = gd.closest('#notebook-container');\n",
              "if (notebookContainer) {{\n",
              "    x.observe(notebookContainer, {childList: true});\n",
              "}}\n",
              "\n",
              "// Listen for the clearing of the current output cell\n",
              "var outputEl = gd.closest('.output');\n",
              "if (outputEl) {{\n",
              "    x.observe(outputEl, {childList: true});\n",
              "}}\n",
              "\n",
              "                        })                };                            </script>        </div>\n",
              "</body>\n",
              "</html>"
            ]
          },
          "metadata": {}
        }
      ]
    },
    {
      "cell_type": "markdown",
      "source": [
        "- The dataset we are utilizing is imbalanced, as the number of samples labeled as 'Ham' is significantly higher than those labeled as 'Spam'."
      ],
      "metadata": {
        "id": "9N8-gQaEW-68"
      }
    },
    {
      "cell_type": "markdown",
      "source": [
        "# Preprocess the data\n",
        "- Preprocessing of the data is required before constructing the machine learning model."
      ],
      "metadata": {
        "id": "Nt1LjQQ_Gg_W"
      }
    },
    {
      "cell_type": "markdown",
      "source": [
        "- Check the data for any missing values and clean the data"
      ],
      "metadata": {
        "id": "dmqnnm8dZhXc"
      }
    },
    {
      "cell_type": "code",
      "source": [
        "df.isna().sum()"
      ],
      "metadata": {
        "colab": {
          "base_uri": "https://localhost:8080/"
        },
        "id": "6Bqh51apZG1-",
        "outputId": "1bdd4295-c096-477b-d4d3-5d49c2dba623"
      },
      "execution_count": 9,
      "outputs": [
        {
          "output_type": "execute_result",
          "data": {
            "text/plain": [
              "label        0\n",
              "text         0\n",
              "label_num    0\n",
              "dtype: int64"
            ]
          },
          "metadata": {},
          "execution_count": 9
        }
      ]
    },
    {
      "cell_type": "code",
      "source": [
        "df.duplicated()"
      ],
      "metadata": {
        "colab": {
          "base_uri": "https://localhost:8080/"
        },
        "id": "MdK8mCwKZVGR",
        "outputId": "c9b27dab-3524-4978-a104-fbfd7c33b4ab"
      },
      "execution_count": 10,
      "outputs": [
        {
          "output_type": "execute_result",
          "data": {
            "text/plain": [
              "0       False\n",
              "1       False\n",
              "2       False\n",
              "3       False\n",
              "4       False\n",
              "        ...  \n",
              "5166    False\n",
              "5167    False\n",
              "5168     True\n",
              "5169    False\n",
              "5170    False\n",
              "Length: 5171, dtype: bool"
            ]
          },
          "metadata": {},
          "execution_count": 10
        }
      ]
    },
    {
      "cell_type": "code",
      "source": [
        "df.drop_duplicates(inplace=True)"
      ],
      "metadata": {
        "id": "mDr5U5G5Z1qQ"
      },
      "execution_count": 11,
      "outputs": []
    },
    {
      "cell_type": "markdown",
      "source": [
        "- Text preprocessing by removing stop words and non-alphanumeric characters from the email text data."
      ],
      "metadata": {
        "id": "ffUQKhjjLEa6"
      }
    },
    {
      "cell_type": "code",
      "source": [
        "# list of stop words, which are common words that don't add much meaning to a text.\n",
        "# These words will be removed from the text data during preprocessing.\n",
        "SW=['a', 'an', 'the', 'in', 'of', 'at', 'on', 'by', 'I', 'you', 'he', 'she', 'it', 'we', 'they']\n",
        "\n",
        "# Apply a lambda function to the 'text' column using the apply() method. \n",
        "# The lambda function takes each email text, splits it into words,\n",
        "# removes any stop words, converts the remaining words to lowercase, and joins them back into a string.\n",
        "df['text']=df['text'].apply(lambda x: ' '.join([word.lower() for word in x.split() if word.lower() not in SW]))\n",
        "\n",
        "# Apply another lambda function to the 'text' column using the str.replace() method. \n",
        "# This function removes any non-alphanumeric characters from the text data.\n",
        "# [^\\w\\s] is a regular expression pattern that matches any character that is not a word character \n",
        "# (\\w, which includes all letters, digits, and underscores) or whitespace (\\s). \n",
        "# The ^ symbol inside the square brackets negates the pattern, so it matches any character that is not a word character or whitespace.\n",
        "df['text']=df['text'].str.replace('[^\\w\\s]','')\n",
        "df.sample(10)"
      ],
      "metadata": {
        "colab": {
          "base_uri": "https://localhost:8080/",
          "height": 436
        },
        "id": "-I4a4gSwFkoY",
        "outputId": "379957a9-d248-4f91-c9de-bf7f5971bf07"
      },
      "execution_count": 12,
      "outputs": [
        {
          "output_type": "stream",
          "name": "stderr",
          "text": [
            "<ipython-input-12-260715a1b0e3>:15: FutureWarning:\n",
            "\n",
            "The default value of regex will change from True to False in a future version.\n",
            "\n"
          ]
        },
        {
          "output_type": "execute_result",
          "data": {
            "text/plain": [
              "     label                                               text  label_num\n",
              "739    ham  subject phillips petroleum  inc               ...          0\n",
              "2683  spam  subject survivor junction genuine college degr...          1\n",
              "2652  spam  subject how to acquire and use international d...          1\n",
              "1249   ham  subject enron    keep up good work   home love...          0\n",
              "4083  spam  subject need this abazis look this  fers  vi  ...          1\n",
              "2584   ham  subject panenergy 4  01 daren  did exchange wi...          0\n",
              "360    ham  subject hpl nom for january 13  2001  see atta...          0\n",
              "2376   ham  subject hpl nom for february 27  2001  see att...          0\n",
              "1362   ham  subject http    www  pge  texas  com  www  gtt...          0\n",
              "1414   ham  subject intraday eastrans nomination change fo...          0"
            ],
            "text/html": [
              "\n",
              "  <div id=\"df-571ee446-fe76-469a-854e-c39b19fb82ab\">\n",
              "    <div class=\"colab-df-container\">\n",
              "      <div>\n",
              "<style scoped>\n",
              "    .dataframe tbody tr th:only-of-type {\n",
              "        vertical-align: middle;\n",
              "    }\n",
              "\n",
              "    .dataframe tbody tr th {\n",
              "        vertical-align: top;\n",
              "    }\n",
              "\n",
              "    .dataframe thead th {\n",
              "        text-align: right;\n",
              "    }\n",
              "</style>\n",
              "<table border=\"1\" class=\"dataframe\">\n",
              "  <thead>\n",
              "    <tr style=\"text-align: right;\">\n",
              "      <th></th>\n",
              "      <th>label</th>\n",
              "      <th>text</th>\n",
              "      <th>label_num</th>\n",
              "    </tr>\n",
              "  </thead>\n",
              "  <tbody>\n",
              "    <tr>\n",
              "      <th>739</th>\n",
              "      <td>ham</td>\n",
              "      <td>subject phillips petroleum  inc               ...</td>\n",
              "      <td>0</td>\n",
              "    </tr>\n",
              "    <tr>\n",
              "      <th>2683</th>\n",
              "      <td>spam</td>\n",
              "      <td>subject survivor junction genuine college degr...</td>\n",
              "      <td>1</td>\n",
              "    </tr>\n",
              "    <tr>\n",
              "      <th>2652</th>\n",
              "      <td>spam</td>\n",
              "      <td>subject how to acquire and use international d...</td>\n",
              "      <td>1</td>\n",
              "    </tr>\n",
              "    <tr>\n",
              "      <th>1249</th>\n",
              "      <td>ham</td>\n",
              "      <td>subject enron    keep up good work   home love...</td>\n",
              "      <td>0</td>\n",
              "    </tr>\n",
              "    <tr>\n",
              "      <th>4083</th>\n",
              "      <td>spam</td>\n",
              "      <td>subject need this abazis look this  fers  vi  ...</td>\n",
              "      <td>1</td>\n",
              "    </tr>\n",
              "    <tr>\n",
              "      <th>2584</th>\n",
              "      <td>ham</td>\n",
              "      <td>subject panenergy 4  01 daren  did exchange wi...</td>\n",
              "      <td>0</td>\n",
              "    </tr>\n",
              "    <tr>\n",
              "      <th>360</th>\n",
              "      <td>ham</td>\n",
              "      <td>subject hpl nom for january 13  2001  see atta...</td>\n",
              "      <td>0</td>\n",
              "    </tr>\n",
              "    <tr>\n",
              "      <th>2376</th>\n",
              "      <td>ham</td>\n",
              "      <td>subject hpl nom for february 27  2001  see att...</td>\n",
              "      <td>0</td>\n",
              "    </tr>\n",
              "    <tr>\n",
              "      <th>1362</th>\n",
              "      <td>ham</td>\n",
              "      <td>subject http    www  pge  texas  com  www  gtt...</td>\n",
              "      <td>0</td>\n",
              "    </tr>\n",
              "    <tr>\n",
              "      <th>1414</th>\n",
              "      <td>ham</td>\n",
              "      <td>subject intraday eastrans nomination change fo...</td>\n",
              "      <td>0</td>\n",
              "    </tr>\n",
              "  </tbody>\n",
              "</table>\n",
              "</div>\n",
              "      <button class=\"colab-df-convert\" onclick=\"convertToInteractive('df-571ee446-fe76-469a-854e-c39b19fb82ab')\"\n",
              "              title=\"Convert this dataframe to an interactive table.\"\n",
              "              style=\"display:none;\">\n",
              "        \n",
              "  <svg xmlns=\"http://www.w3.org/2000/svg\" height=\"24px\"viewBox=\"0 0 24 24\"\n",
              "       width=\"24px\">\n",
              "    <path d=\"M0 0h24v24H0V0z\" fill=\"none\"/>\n",
              "    <path d=\"M18.56 5.44l.94 2.06.94-2.06 2.06-.94-2.06-.94-.94-2.06-.94 2.06-2.06.94zm-11 1L8.5 8.5l.94-2.06 2.06-.94-2.06-.94L8.5 2.5l-.94 2.06-2.06.94zm10 10l.94 2.06.94-2.06 2.06-.94-2.06-.94-.94-2.06-.94 2.06-2.06.94z\"/><path d=\"M17.41 7.96l-1.37-1.37c-.4-.4-.92-.59-1.43-.59-.52 0-1.04.2-1.43.59L10.3 9.45l-7.72 7.72c-.78.78-.78 2.05 0 2.83L4 21.41c.39.39.9.59 1.41.59.51 0 1.02-.2 1.41-.59l7.78-7.78 2.81-2.81c.8-.78.8-2.07 0-2.86zM5.41 20L4 18.59l7.72-7.72 1.47 1.35L5.41 20z\"/>\n",
              "  </svg>\n",
              "      </button>\n",
              "      \n",
              "  <style>\n",
              "    .colab-df-container {\n",
              "      display:flex;\n",
              "      flex-wrap:wrap;\n",
              "      gap: 12px;\n",
              "    }\n",
              "\n",
              "    .colab-df-convert {\n",
              "      background-color: #E8F0FE;\n",
              "      border: none;\n",
              "      border-radius: 50%;\n",
              "      cursor: pointer;\n",
              "      display: none;\n",
              "      fill: #1967D2;\n",
              "      height: 32px;\n",
              "      padding: 0 0 0 0;\n",
              "      width: 32px;\n",
              "    }\n",
              "\n",
              "    .colab-df-convert:hover {\n",
              "      background-color: #E2EBFA;\n",
              "      box-shadow: 0px 1px 2px rgba(60, 64, 67, 0.3), 0px 1px 3px 1px rgba(60, 64, 67, 0.15);\n",
              "      fill: #174EA6;\n",
              "    }\n",
              "\n",
              "    [theme=dark] .colab-df-convert {\n",
              "      background-color: #3B4455;\n",
              "      fill: #D2E3FC;\n",
              "    }\n",
              "\n",
              "    [theme=dark] .colab-df-convert:hover {\n",
              "      background-color: #434B5C;\n",
              "      box-shadow: 0px 1px 3px 1px rgba(0, 0, 0, 0.15);\n",
              "      filter: drop-shadow(0px 1px 2px rgba(0, 0, 0, 0.3));\n",
              "      fill: #FFFFFF;\n",
              "    }\n",
              "  </style>\n",
              "\n",
              "      <script>\n",
              "        const buttonEl =\n",
              "          document.querySelector('#df-571ee446-fe76-469a-854e-c39b19fb82ab button.colab-df-convert');\n",
              "        buttonEl.style.display =\n",
              "          google.colab.kernel.accessAllowed ? 'block' : 'none';\n",
              "\n",
              "        async function convertToInteractive(key) {\n",
              "          const element = document.querySelector('#df-571ee446-fe76-469a-854e-c39b19fb82ab');\n",
              "          const dataTable =\n",
              "            await google.colab.kernel.invokeFunction('convertToInteractive',\n",
              "                                                     [key], {});\n",
              "          if (!dataTable) return;\n",
              "\n",
              "          const docLinkHtml = 'Like what you see? Visit the ' +\n",
              "            '<a target=\"_blank\" href=https://colab.research.google.com/notebooks/data_table.ipynb>data table notebook</a>'\n",
              "            + ' to learn more about interactive tables.';\n",
              "          element.innerHTML = '';\n",
              "          dataTable['output_type'] = 'display_data';\n",
              "          await google.colab.output.renderOutput(dataTable, element);\n",
              "          const docLink = document.createElement('div');\n",
              "          docLink.innerHTML = docLinkHtml;\n",
              "          element.appendChild(docLink);\n",
              "        }\n",
              "      </script>\n",
              "    </div>\n",
              "  </div>\n",
              "  "
            ]
          },
          "metadata": {},
          "execution_count": 12
        }
      ]
    },
    {
      "cell_type": "markdown",
      "source": [
        " - We will divide the data into two parts: a training set and a testing set."
      ],
      "metadata": {
        "id": "tZZEmByvbGLi"
      }
    },
    {
      "cell_type": "code",
      "source": [
        "# Split the data into training and testing sets\n",
        "# Sets the testing set to 20 percent of df['text'] and df['label'].\n",
        "x_train, x_test, y_train, y_test = train_test_split(df['text'], df['label'], test_size=0.2, random_state=70)"
      ],
      "metadata": {
        "id": "23T1v9s4cDfL"
      },
      "execution_count": 13,
      "outputs": []
    },
    {
      "cell_type": "markdown",
      "source": [
        "- We will employ the CountVectorizer class to transform the textual data into a matrix of term frequencies (of token counts).\n",
        "\n"
      ],
      "metadata": {
        "id": "7mAuVZa1mnYF"
      }
    },
    {
      "cell_type": "code",
      "source": [
        "# Create a Vectorizer Object\n",
        "Counvect=CountVectorizer()\n",
        "# Fit the CountVectorizer to data\n",
        "# CountVectorizer() assigns a numerical value to each word in the dataset and computes the frequency of occurrence\n",
        "# of each word. The resulting values are stored in the variable \"Counvect\"\n",
        "train_features=Counvect.fit_transform(x_train)\n",
        "test_features=Counvect.transform(x_test)\n",
        "print(train_features)"
      ],
      "metadata": {
        "colab": {
          "base_uri": "https://localhost:8080/"
        },
        "id": "3yaS6DI8mw82",
        "outputId": "aa8a8a7e-643f-4d63-d055-7b2bce03b8c9"
      },
      "execution_count": 14,
      "outputs": [
        {
          "output_type": "stream",
          "name": "stdout",
          "text": [
            "  (0, 39136)\t1\n",
            "  (0, 42275)\t2\n",
            "  (0, 43726)\t1\n",
            "  (0, 7647)\t1\n",
            "  (0, 19288)\t1\n",
            "  (0, 24670)\t2\n",
            "  (0, 40492)\t1\n",
            "  (0, 28586)\t1\n",
            "  (0, 399)\t1\n",
            "  (0, 29110)\t1\n",
            "  (0, 4326)\t1\n",
            "  (0, 32413)\t1\n",
            "  (0, 15022)\t1\n",
            "  (0, 6001)\t2\n",
            "  (0, 34061)\t2\n",
            "  (0, 30716)\t1\n",
            "  (0, 23896)\t1\n",
            "  (0, 40765)\t1\n",
            "  (0, 40373)\t1\n",
            "  (0, 31691)\t1\n",
            "  (0, 7338)\t1\n",
            "  (0, 38911)\t1\n",
            "  (0, 19938)\t1\n",
            "  (0, 20554)\t1\n",
            "  (0, 40226)\t1\n",
            "  :\t:\n",
            "  (3993, 42030)\t1\n",
            "  (3993, 31161)\t1\n",
            "  (3993, 22259)\t1\n",
            "  (3993, 30879)\t1\n",
            "  (3993, 44242)\t1\n",
            "  (3993, 21567)\t1\n",
            "  (3993, 11207)\t1\n",
            "  (3993, 30555)\t1\n",
            "  (3993, 25046)\t1\n",
            "  (3993, 42339)\t1\n",
            "  (3993, 8049)\t1\n",
            "  (3993, 1504)\t1\n",
            "  (3993, 3007)\t1\n",
            "  (3993, 27745)\t1\n",
            "  (3993, 8367)\t1\n",
            "  (3993, 39709)\t1\n",
            "  (3993, 32654)\t1\n",
            "  (3993, 43947)\t1\n",
            "  (3993, 1194)\t1\n",
            "  (3993, 22962)\t1\n",
            "  (3993, 23445)\t1\n",
            "  (3993, 37272)\t1\n",
            "  (3993, 15426)\t1\n",
            "  (3993, 44535)\t1\n",
            "  (3993, 43013)\t1\n"
          ]
        }
      ]
    },
    {
      "cell_type": "markdown",
      "source": [
        "- (0, 37791)\t1 : The index of the email is denoted by 0. The middle column in the output represents the sequence number assigned to each word by the CountVectorizer function, and the values on the right indicate the frequency count of each word."
      ],
      "metadata": {
        "id": "i4p-zMgze7qq"
      }
    },
    {
      "cell_type": "markdown",
      "source": [
        "# Train the Model"
      ],
      "metadata": {
        "id": "srXhtOSdfwD-"
      }
    },
    {
      "cell_type": "markdown",
      "source": [
        " Now that the data has been preprocessed, we can proceed with training our machine learning model. For this purpose, we will be using Scikit-learn's MultinomialNB, svm and linear_model classes to build a Naive Bayes, an SVM and a Logistic Regression model."
      ],
      "metadata": {
        "id": "3DoQVtqXgDyq"
      }
    },
    {
      "cell_type": "markdown",
      "source": [
        "- A **Naive Bayes** model is a type of machine learning model based on the Bayesian classification method. It is commonly used for text classification in natural language processing and can be trained to predict the category or label of a document based on its textual content"
      ],
      "metadata": {
        "id": "9P2daMlUjAkQ"
      }
    },
    {
      "cell_type": "code",
      "source": [
        "model_NB= MultinomialNB() # create model \n",
        "model_NB.fit(train_features, y_train) # train model"
      ],
      "metadata": {
        "colab": {
          "base_uri": "https://localhost:8080/",
          "height": 74
        },
        "id": "BGVloQR0htcB",
        "outputId": "eaf90ef1-6d09-49d7-bbe2-ef407cffcae4"
      },
      "execution_count": 15,
      "outputs": [
        {
          "output_type": "execute_result",
          "data": {
            "text/plain": [
              "MultinomialNB()"
            ],
            "text/html": [
              "<style>#sk-container-id-1 {color: black;background-color: white;}#sk-container-id-1 pre{padding: 0;}#sk-container-id-1 div.sk-toggleable {background-color: white;}#sk-container-id-1 label.sk-toggleable__label {cursor: pointer;display: block;width: 100%;margin-bottom: 0;padding: 0.3em;box-sizing: border-box;text-align: center;}#sk-container-id-1 label.sk-toggleable__label-arrow:before {content: \"▸\";float: left;margin-right: 0.25em;color: #696969;}#sk-container-id-1 label.sk-toggleable__label-arrow:hover:before {color: black;}#sk-container-id-1 div.sk-estimator:hover label.sk-toggleable__label-arrow:before {color: black;}#sk-container-id-1 div.sk-toggleable__content {max-height: 0;max-width: 0;overflow: hidden;text-align: left;background-color: #f0f8ff;}#sk-container-id-1 div.sk-toggleable__content pre {margin: 0.2em;color: black;border-radius: 0.25em;background-color: #f0f8ff;}#sk-container-id-1 input.sk-toggleable__control:checked~div.sk-toggleable__content {max-height: 200px;max-width: 100%;overflow: auto;}#sk-container-id-1 input.sk-toggleable__control:checked~label.sk-toggleable__label-arrow:before {content: \"▾\";}#sk-container-id-1 div.sk-estimator input.sk-toggleable__control:checked~label.sk-toggleable__label {background-color: #d4ebff;}#sk-container-id-1 div.sk-label input.sk-toggleable__control:checked~label.sk-toggleable__label {background-color: #d4ebff;}#sk-container-id-1 input.sk-hidden--visually {border: 0;clip: rect(1px 1px 1px 1px);clip: rect(1px, 1px, 1px, 1px);height: 1px;margin: -1px;overflow: hidden;padding: 0;position: absolute;width: 1px;}#sk-container-id-1 div.sk-estimator {font-family: monospace;background-color: #f0f8ff;border: 1px dotted black;border-radius: 0.25em;box-sizing: border-box;margin-bottom: 0.5em;}#sk-container-id-1 div.sk-estimator:hover {background-color: #d4ebff;}#sk-container-id-1 div.sk-parallel-item::after {content: \"\";width: 100%;border-bottom: 1px solid gray;flex-grow: 1;}#sk-container-id-1 div.sk-label:hover label.sk-toggleable__label {background-color: #d4ebff;}#sk-container-id-1 div.sk-serial::before {content: \"\";position: absolute;border-left: 1px solid gray;box-sizing: border-box;top: 0;bottom: 0;left: 50%;z-index: 0;}#sk-container-id-1 div.sk-serial {display: flex;flex-direction: column;align-items: center;background-color: white;padding-right: 0.2em;padding-left: 0.2em;position: relative;}#sk-container-id-1 div.sk-item {position: relative;z-index: 1;}#sk-container-id-1 div.sk-parallel {display: flex;align-items: stretch;justify-content: center;background-color: white;position: relative;}#sk-container-id-1 div.sk-item::before, #sk-container-id-1 div.sk-parallel-item::before {content: \"\";position: absolute;border-left: 1px solid gray;box-sizing: border-box;top: 0;bottom: 0;left: 50%;z-index: -1;}#sk-container-id-1 div.sk-parallel-item {display: flex;flex-direction: column;z-index: 1;position: relative;background-color: white;}#sk-container-id-1 div.sk-parallel-item:first-child::after {align-self: flex-end;width: 50%;}#sk-container-id-1 div.sk-parallel-item:last-child::after {align-self: flex-start;width: 50%;}#sk-container-id-1 div.sk-parallel-item:only-child::after {width: 0;}#sk-container-id-1 div.sk-dashed-wrapped {border: 1px dashed gray;margin: 0 0.4em 0.5em 0.4em;box-sizing: border-box;padding-bottom: 0.4em;background-color: white;}#sk-container-id-1 div.sk-label label {font-family: monospace;font-weight: bold;display: inline-block;line-height: 1.2em;}#sk-container-id-1 div.sk-label-container {text-align: center;}#sk-container-id-1 div.sk-container {/* jupyter's `normalize.less` sets `[hidden] { display: none; }` but bootstrap.min.css set `[hidden] { display: none !important; }` so we also need the `!important` here to be able to override the default hidden behavior on the sphinx rendered scikit-learn.org. See: https://github.com/scikit-learn/scikit-learn/issues/21755 */display: inline-block !important;position: relative;}#sk-container-id-1 div.sk-text-repr-fallback {display: none;}</style><div id=\"sk-container-id-1\" class=\"sk-top-container\"><div class=\"sk-text-repr-fallback\"><pre>MultinomialNB()</pre><b>In a Jupyter environment, please rerun this cell to show the HTML representation or trust the notebook. <br />On GitHub, the HTML representation is unable to render, please try loading this page with nbviewer.org.</b></div><div class=\"sk-container\" hidden><div class=\"sk-item\"><div class=\"sk-estimator sk-toggleable\"><input class=\"sk-toggleable__control sk-hidden--visually\" id=\"sk-estimator-id-1\" type=\"checkbox\" checked><label for=\"sk-estimator-id-1\" class=\"sk-toggleable__label sk-toggleable__label-arrow\">MultinomialNB</label><div class=\"sk-toggleable__content\"><pre>MultinomialNB()</pre></div></div></div></div></div>"
            ]
          },
          "metadata": {},
          "execution_count": 15
        }
      ]
    },
    {
      "cell_type": "markdown",
      "source": [
        "- **SVM**, short for support vector machine, is a classification and regression algorithm that uses a linear model. The basic idea behind SVM is to create a line or a hyperplane that can separate the data into different classes. One of the benefits of SVM is that it can handle both linear and non-linear problems"
      ],
      "metadata": {
        "id": "MaGkIEnyxV1S"
      }
    },
    {
      "cell_type": "code",
      "source": [
        "model_SVM= svm.SVC()\n",
        "model_SVM.fit(train_features, y_train)"
      ],
      "metadata": {
        "colab": {
          "base_uri": "https://localhost:8080/",
          "height": 74
        },
        "id": "Dmk7EuRhwBu-",
        "outputId": "a5649c53-3937-4b4f-88fb-26a64af4263c"
      },
      "execution_count": 16,
      "outputs": [
        {
          "output_type": "execute_result",
          "data": {
            "text/plain": [
              "SVC()"
            ],
            "text/html": [
              "<style>#sk-container-id-2 {color: black;background-color: white;}#sk-container-id-2 pre{padding: 0;}#sk-container-id-2 div.sk-toggleable {background-color: white;}#sk-container-id-2 label.sk-toggleable__label {cursor: pointer;display: block;width: 100%;margin-bottom: 0;padding: 0.3em;box-sizing: border-box;text-align: center;}#sk-container-id-2 label.sk-toggleable__label-arrow:before {content: \"▸\";float: left;margin-right: 0.25em;color: #696969;}#sk-container-id-2 label.sk-toggleable__label-arrow:hover:before {color: black;}#sk-container-id-2 div.sk-estimator:hover label.sk-toggleable__label-arrow:before {color: black;}#sk-container-id-2 div.sk-toggleable__content {max-height: 0;max-width: 0;overflow: hidden;text-align: left;background-color: #f0f8ff;}#sk-container-id-2 div.sk-toggleable__content pre {margin: 0.2em;color: black;border-radius: 0.25em;background-color: #f0f8ff;}#sk-container-id-2 input.sk-toggleable__control:checked~div.sk-toggleable__content {max-height: 200px;max-width: 100%;overflow: auto;}#sk-container-id-2 input.sk-toggleable__control:checked~label.sk-toggleable__label-arrow:before {content: \"▾\";}#sk-container-id-2 div.sk-estimator input.sk-toggleable__control:checked~label.sk-toggleable__label {background-color: #d4ebff;}#sk-container-id-2 div.sk-label input.sk-toggleable__control:checked~label.sk-toggleable__label {background-color: #d4ebff;}#sk-container-id-2 input.sk-hidden--visually {border: 0;clip: rect(1px 1px 1px 1px);clip: rect(1px, 1px, 1px, 1px);height: 1px;margin: -1px;overflow: hidden;padding: 0;position: absolute;width: 1px;}#sk-container-id-2 div.sk-estimator {font-family: monospace;background-color: #f0f8ff;border: 1px dotted black;border-radius: 0.25em;box-sizing: border-box;margin-bottom: 0.5em;}#sk-container-id-2 div.sk-estimator:hover {background-color: #d4ebff;}#sk-container-id-2 div.sk-parallel-item::after {content: \"\";width: 100%;border-bottom: 1px solid gray;flex-grow: 1;}#sk-container-id-2 div.sk-label:hover label.sk-toggleable__label {background-color: #d4ebff;}#sk-container-id-2 div.sk-serial::before {content: \"\";position: absolute;border-left: 1px solid gray;box-sizing: border-box;top: 0;bottom: 0;left: 50%;z-index: 0;}#sk-container-id-2 div.sk-serial {display: flex;flex-direction: column;align-items: center;background-color: white;padding-right: 0.2em;padding-left: 0.2em;position: relative;}#sk-container-id-2 div.sk-item {position: relative;z-index: 1;}#sk-container-id-2 div.sk-parallel {display: flex;align-items: stretch;justify-content: center;background-color: white;position: relative;}#sk-container-id-2 div.sk-item::before, #sk-container-id-2 div.sk-parallel-item::before {content: \"\";position: absolute;border-left: 1px solid gray;box-sizing: border-box;top: 0;bottom: 0;left: 50%;z-index: -1;}#sk-container-id-2 div.sk-parallel-item {display: flex;flex-direction: column;z-index: 1;position: relative;background-color: white;}#sk-container-id-2 div.sk-parallel-item:first-child::after {align-self: flex-end;width: 50%;}#sk-container-id-2 div.sk-parallel-item:last-child::after {align-self: flex-start;width: 50%;}#sk-container-id-2 div.sk-parallel-item:only-child::after {width: 0;}#sk-container-id-2 div.sk-dashed-wrapped {border: 1px dashed gray;margin: 0 0.4em 0.5em 0.4em;box-sizing: border-box;padding-bottom: 0.4em;background-color: white;}#sk-container-id-2 div.sk-label label {font-family: monospace;font-weight: bold;display: inline-block;line-height: 1.2em;}#sk-container-id-2 div.sk-label-container {text-align: center;}#sk-container-id-2 div.sk-container {/* jupyter's `normalize.less` sets `[hidden] { display: none; }` but bootstrap.min.css set `[hidden] { display: none !important; }` so we also need the `!important` here to be able to override the default hidden behavior on the sphinx rendered scikit-learn.org. See: https://github.com/scikit-learn/scikit-learn/issues/21755 */display: inline-block !important;position: relative;}#sk-container-id-2 div.sk-text-repr-fallback {display: none;}</style><div id=\"sk-container-id-2\" class=\"sk-top-container\"><div class=\"sk-text-repr-fallback\"><pre>SVC()</pre><b>In a Jupyter environment, please rerun this cell to show the HTML representation or trust the notebook. <br />On GitHub, the HTML representation is unable to render, please try loading this page with nbviewer.org.</b></div><div class=\"sk-container\" hidden><div class=\"sk-item\"><div class=\"sk-estimator sk-toggleable\"><input class=\"sk-toggleable__control sk-hidden--visually\" id=\"sk-estimator-id-2\" type=\"checkbox\" checked><label for=\"sk-estimator-id-2\" class=\"sk-toggleable__label sk-toggleable__label-arrow\">SVC</label><div class=\"sk-toggleable__content\"><pre>SVC()</pre></div></div></div></div></div>"
            ]
          },
          "metadata": {},
          "execution_count": 16
        }
      ]
    },
    {
      "cell_type": "markdown",
      "source": [
        "- **Logistic Regression** is a popular machine learning algorithm used for binary classification problems. In Logistic Regression, a linear model is used to predict the probability of the positive class (i.e., class 1), given a set of input features. The model then uses a logistic function (i.e., the sigmoid function) to convert this probability value into a binary output prediction.\n",
        "\n",
        "In the context of spam detection, Logistic Regression can be used to predict whether an email is spam or not based on various features of the email. The model can be trained on a dataset of pre-labeled emails and then used to make predictions on new, unseen emails."
      ],
      "metadata": {
        "id": "MrRdo-W_-QQN"
      }
    },
    {
      "cell_type": "code",
      "source": [
        "model_LR= LogisticRegression()\n",
        "model_LR.fit(train_features, y_train)"
      ],
      "metadata": {
        "colab": {
          "base_uri": "https://localhost:8080/",
          "height": 74
        },
        "id": "iCGm9-IC9GZ8",
        "outputId": "d483fa59-2d3f-46c0-fa5b-a6a27a210417"
      },
      "execution_count": 17,
      "outputs": [
        {
          "output_type": "execute_result",
          "data": {
            "text/plain": [
              "LogisticRegression()"
            ],
            "text/html": [
              "<style>#sk-container-id-3 {color: black;background-color: white;}#sk-container-id-3 pre{padding: 0;}#sk-container-id-3 div.sk-toggleable {background-color: white;}#sk-container-id-3 label.sk-toggleable__label {cursor: pointer;display: block;width: 100%;margin-bottom: 0;padding: 0.3em;box-sizing: border-box;text-align: center;}#sk-container-id-3 label.sk-toggleable__label-arrow:before {content: \"▸\";float: left;margin-right: 0.25em;color: #696969;}#sk-container-id-3 label.sk-toggleable__label-arrow:hover:before {color: black;}#sk-container-id-3 div.sk-estimator:hover label.sk-toggleable__label-arrow:before {color: black;}#sk-container-id-3 div.sk-toggleable__content {max-height: 0;max-width: 0;overflow: hidden;text-align: left;background-color: #f0f8ff;}#sk-container-id-3 div.sk-toggleable__content pre {margin: 0.2em;color: black;border-radius: 0.25em;background-color: #f0f8ff;}#sk-container-id-3 input.sk-toggleable__control:checked~div.sk-toggleable__content {max-height: 200px;max-width: 100%;overflow: auto;}#sk-container-id-3 input.sk-toggleable__control:checked~label.sk-toggleable__label-arrow:before {content: \"▾\";}#sk-container-id-3 div.sk-estimator input.sk-toggleable__control:checked~label.sk-toggleable__label {background-color: #d4ebff;}#sk-container-id-3 div.sk-label input.sk-toggleable__control:checked~label.sk-toggleable__label {background-color: #d4ebff;}#sk-container-id-3 input.sk-hidden--visually {border: 0;clip: rect(1px 1px 1px 1px);clip: rect(1px, 1px, 1px, 1px);height: 1px;margin: -1px;overflow: hidden;padding: 0;position: absolute;width: 1px;}#sk-container-id-3 div.sk-estimator {font-family: monospace;background-color: #f0f8ff;border: 1px dotted black;border-radius: 0.25em;box-sizing: border-box;margin-bottom: 0.5em;}#sk-container-id-3 div.sk-estimator:hover {background-color: #d4ebff;}#sk-container-id-3 div.sk-parallel-item::after {content: \"\";width: 100%;border-bottom: 1px solid gray;flex-grow: 1;}#sk-container-id-3 div.sk-label:hover label.sk-toggleable__label {background-color: #d4ebff;}#sk-container-id-3 div.sk-serial::before {content: \"\";position: absolute;border-left: 1px solid gray;box-sizing: border-box;top: 0;bottom: 0;left: 50%;z-index: 0;}#sk-container-id-3 div.sk-serial {display: flex;flex-direction: column;align-items: center;background-color: white;padding-right: 0.2em;padding-left: 0.2em;position: relative;}#sk-container-id-3 div.sk-item {position: relative;z-index: 1;}#sk-container-id-3 div.sk-parallel {display: flex;align-items: stretch;justify-content: center;background-color: white;position: relative;}#sk-container-id-3 div.sk-item::before, #sk-container-id-3 div.sk-parallel-item::before {content: \"\";position: absolute;border-left: 1px solid gray;box-sizing: border-box;top: 0;bottom: 0;left: 50%;z-index: -1;}#sk-container-id-3 div.sk-parallel-item {display: flex;flex-direction: column;z-index: 1;position: relative;background-color: white;}#sk-container-id-3 div.sk-parallel-item:first-child::after {align-self: flex-end;width: 50%;}#sk-container-id-3 div.sk-parallel-item:last-child::after {align-self: flex-start;width: 50%;}#sk-container-id-3 div.sk-parallel-item:only-child::after {width: 0;}#sk-container-id-3 div.sk-dashed-wrapped {border: 1px dashed gray;margin: 0 0.4em 0.5em 0.4em;box-sizing: border-box;padding-bottom: 0.4em;background-color: white;}#sk-container-id-3 div.sk-label label {font-family: monospace;font-weight: bold;display: inline-block;line-height: 1.2em;}#sk-container-id-3 div.sk-label-container {text-align: center;}#sk-container-id-3 div.sk-container {/* jupyter's `normalize.less` sets `[hidden] { display: none; }` but bootstrap.min.css set `[hidden] { display: none !important; }` so we also need the `!important` here to be able to override the default hidden behavior on the sphinx rendered scikit-learn.org. See: https://github.com/scikit-learn/scikit-learn/issues/21755 */display: inline-block !important;position: relative;}#sk-container-id-3 div.sk-text-repr-fallback {display: none;}</style><div id=\"sk-container-id-3\" class=\"sk-top-container\"><div class=\"sk-text-repr-fallback\"><pre>LogisticRegression()</pre><b>In a Jupyter environment, please rerun this cell to show the HTML representation or trust the notebook. <br />On GitHub, the HTML representation is unable to render, please try loading this page with nbviewer.org.</b></div><div class=\"sk-container\" hidden><div class=\"sk-item\"><div class=\"sk-estimator sk-toggleable\"><input class=\"sk-toggleable__control sk-hidden--visually\" id=\"sk-estimator-id-3\" type=\"checkbox\" checked><label for=\"sk-estimator-id-3\" class=\"sk-toggleable__label sk-toggleable__label-arrow\">LogisticRegression</label><div class=\"sk-toggleable__content\"><pre>LogisticRegression()</pre></div></div></div></div></div>"
            ]
          },
          "metadata": {},
          "execution_count": 17
        }
      ]
    },
    {
      "cell_type": "markdown",
      "source": [
        "- Trains the model using the training data x_train_features and corresponding labels y_train. The \"fit\" method adjusts the model weights to the training data to minimize the prediction error. Once the model is trained, it can be used to predict class labels for new data."
      ],
      "metadata": {
        "id": "8qgvkM2N1qhA"
      }
    },
    {
      "cell_type": "markdown",
      "source": [
        "# Test the performance of the model on the test set.\n",
        "- Calculates the accuracy of the machine learning model by comparing the predicted target variable (spam or non-spam) with the actual target variable (y_test) on the test dataset (x_test_features). The resulting accuracy value is then assigned to the variable \"accuracy\".\n"
      ],
      "metadata": {
        "id": "QMcThs26loLc"
      }
    },
    {
      "cell_type": "code",
      "source": [
        "# Naive Bayes model\n",
        "y_pred_NB=model_NB.predict(test_features) #y_pred: predicted labels\n",
        "y_pred_NB"
      ],
      "metadata": {
        "colab": {
          "base_uri": "https://localhost:8080/"
        },
        "id": "LQYvo9AZ4DtZ",
        "outputId": "471e2925-1f70-4e15-e139-a7119c1cb836"
      },
      "execution_count": 18,
      "outputs": [
        {
          "output_type": "execute_result",
          "data": {
            "text/plain": [
              "array(['ham', 'ham', 'ham', 'spam', 'ham', 'ham', 'ham', 'ham', 'ham',\n",
              "       'ham', 'ham', 'ham', 'ham', 'spam', 'spam', 'spam', 'ham', 'ham',\n",
              "       'ham', 'ham', 'ham', 'ham', 'ham', 'ham', 'spam', 'ham', 'spam',\n",
              "       'ham', 'ham', 'ham', 'spam', 'ham', 'ham', 'ham', 'ham', 'ham',\n",
              "       'ham', 'spam', 'ham', 'ham', 'ham', 'spam', 'spam', 'ham', 'ham',\n",
              "       'ham', 'ham', 'ham', 'ham', 'spam', 'ham', 'spam', 'ham', 'spam',\n",
              "       'ham', 'ham', 'ham', 'ham', 'ham', 'ham', 'spam', 'spam', 'ham',\n",
              "       'ham', 'spam', 'ham', 'spam', 'ham', 'ham', 'ham', 'spam', 'ham',\n",
              "       'ham', 'spam', 'ham', 'spam', 'spam', 'ham', 'ham', 'spam', 'ham',\n",
              "       'spam', 'spam', 'spam', 'spam', 'ham', 'ham', 'spam', 'ham', 'ham',\n",
              "       'ham', 'spam', 'ham', 'ham', 'ham', 'ham', 'ham', 'ham', 'spam',\n",
              "       'ham', 'ham', 'ham', 'spam', 'spam', 'spam', 'ham', 'spam', 'spam',\n",
              "       'spam', 'spam', 'spam', 'ham', 'ham', 'spam', 'spam', 'spam',\n",
              "       'ham', 'spam', 'ham', 'ham', 'spam', 'ham', 'ham', 'ham', 'ham',\n",
              "       'ham', 'spam', 'spam', 'ham', 'spam', 'spam', 'ham', 'spam', 'ham',\n",
              "       'ham', 'spam', 'spam', 'ham', 'ham', 'spam', 'ham', 'ham', 'spam',\n",
              "       'ham', 'ham', 'ham', 'ham', 'ham', 'ham', 'ham', 'ham', 'spam',\n",
              "       'ham', 'spam', 'spam', 'ham', 'ham', 'spam', 'ham', 'ham', 'spam',\n",
              "       'ham', 'ham', 'ham', 'spam', 'ham', 'spam', 'ham', 'spam', 'ham',\n",
              "       'ham', 'ham', 'ham', 'ham', 'ham', 'ham', 'ham', 'spam', 'ham',\n",
              "       'ham', 'ham', 'ham', 'spam', 'ham', 'ham', 'spam', 'ham', 'ham',\n",
              "       'spam', 'ham', 'ham', 'spam', 'ham', 'ham', 'ham', 'ham', 'ham',\n",
              "       'ham', 'ham', 'ham', 'ham', 'ham', 'ham', 'ham', 'ham', 'ham',\n",
              "       'ham', 'spam', 'ham', 'ham', 'ham', 'ham', 'spam', 'spam', 'ham',\n",
              "       'ham', 'ham', 'spam', 'ham', 'spam', 'ham', 'ham', 'spam', 'ham',\n",
              "       'ham', 'ham', 'ham', 'spam', 'ham', 'ham', 'ham', 'ham', 'ham',\n",
              "       'ham', 'ham', 'spam', 'spam', 'ham', 'ham', 'spam', 'ham', 'ham',\n",
              "       'ham', 'ham', 'spam', 'ham', 'ham', 'ham', 'ham', 'spam', 'spam',\n",
              "       'spam', 'ham', 'ham', 'ham', 'ham', 'ham', 'ham', 'ham', 'ham',\n",
              "       'ham', 'ham', 'spam', 'ham', 'ham', 'spam', 'ham', 'ham', 'spam',\n",
              "       'ham', 'ham', 'ham', 'ham', 'ham', 'ham', 'spam', 'ham', 'ham',\n",
              "       'spam', 'ham', 'spam', 'ham', 'ham', 'ham', 'ham', 'ham', 'spam',\n",
              "       'spam', 'ham', 'ham', 'ham', 'spam', 'spam', 'ham', 'ham', 'ham',\n",
              "       'ham', 'spam', 'spam', 'ham', 'ham', 'spam', 'ham', 'ham', 'ham',\n",
              "       'spam', 'ham', 'ham', 'ham', 'spam', 'ham', 'spam', 'ham', 'spam',\n",
              "       'spam', 'spam', 'ham', 'ham', 'ham', 'ham', 'ham', 'ham', 'ham',\n",
              "       'ham', 'spam', 'ham', 'ham', 'spam', 'ham', 'ham', 'spam', 'ham',\n",
              "       'ham', 'ham', 'ham', 'ham', 'spam', 'ham', 'ham', 'ham', 'ham',\n",
              "       'ham', 'ham', 'ham', 'ham', 'ham', 'ham', 'ham', 'spam', 'spam',\n",
              "       'ham', 'ham', 'ham', 'ham', 'spam', 'ham', 'spam', 'ham', 'ham',\n",
              "       'ham', 'ham', 'ham', 'ham', 'ham', 'ham', 'spam', 'spam', 'ham',\n",
              "       'ham', 'ham', 'spam', 'ham', 'ham', 'ham', 'ham', 'spam', 'ham',\n",
              "       'ham', 'ham', 'ham', 'spam', 'ham', 'ham', 'ham', 'ham', 'ham',\n",
              "       'ham', 'spam', 'ham', 'spam', 'spam', 'ham', 'ham', 'ham', 'ham',\n",
              "       'ham', 'spam', 'ham', 'ham', 'ham', 'ham', 'ham', 'spam', 'ham',\n",
              "       'ham', 'ham', 'ham', 'spam', 'spam', 'ham', 'ham', 'ham', 'ham',\n",
              "       'ham', 'ham', 'ham', 'spam', 'spam', 'spam', 'ham', 'ham', 'ham',\n",
              "       'spam', 'spam', 'ham', 'spam', 'spam', 'spam', 'spam', 'ham',\n",
              "       'ham', 'ham', 'spam', 'ham', 'ham', 'ham', 'spam', 'spam', 'spam',\n",
              "       'ham', 'ham', 'ham', 'ham', 'ham', 'ham', 'ham', 'spam', 'ham',\n",
              "       'ham', 'ham', 'ham', 'spam', 'spam', 'ham', 'ham', 'spam', 'ham',\n",
              "       'ham', 'spam', 'ham', 'spam', 'spam', 'ham', 'ham', 'spam', 'ham',\n",
              "       'ham', 'ham', 'ham', 'spam', 'ham', 'spam', 'ham', 'ham', 'spam',\n",
              "       'ham', 'ham', 'ham', 'ham', 'ham', 'ham', 'ham', 'ham', 'ham',\n",
              "       'spam', 'ham', 'spam', 'ham', 'ham', 'ham', 'ham', 'ham', 'spam',\n",
              "       'spam', 'ham', 'spam', 'spam', 'ham', 'spam', 'ham', 'spam', 'ham',\n",
              "       'ham', 'ham', 'spam', 'ham', 'ham', 'ham', 'ham', 'ham', 'ham',\n",
              "       'ham', 'ham', 'ham', 'ham', 'ham', 'ham', 'spam', 'ham', 'ham',\n",
              "       'spam', 'ham', 'spam', 'ham', 'spam', 'ham', 'ham', 'ham', 'ham',\n",
              "       'ham', 'ham', 'ham', 'ham', 'spam', 'ham', 'spam', 'spam', 'ham',\n",
              "       'spam', 'spam', 'ham', 'spam', 'spam', 'ham', 'spam', 'spam',\n",
              "       'ham', 'ham', 'ham', 'ham', 'spam', 'spam', 'ham', 'ham', 'spam',\n",
              "       'ham', 'ham', 'ham', 'spam', 'ham', 'ham', 'spam', 'spam', 'ham',\n",
              "       'spam', 'spam', 'ham', 'ham', 'ham', 'ham', 'spam', 'ham', 'ham',\n",
              "       'ham', 'ham', 'ham', 'spam', 'ham', 'ham', 'ham', 'ham', 'ham',\n",
              "       'spam', 'ham', 'spam', 'spam', 'spam', 'spam', 'spam', 'ham',\n",
              "       'spam', 'ham', 'spam', 'spam', 'ham', 'ham', 'spam', 'spam',\n",
              "       'spam', 'ham', 'spam', 'ham', 'ham', 'ham', 'ham', 'ham', 'ham',\n",
              "       'ham', 'ham', 'ham', 'ham', 'spam', 'ham', 'ham', 'ham', 'ham',\n",
              "       'ham', 'spam', 'ham', 'spam', 'ham', 'ham', 'ham', 'ham', 'ham',\n",
              "       'spam', 'spam', 'ham', 'ham', 'ham', 'spam', 'spam', 'ham', 'spam',\n",
              "       'ham', 'ham', 'ham', 'spam', 'ham', 'ham', 'ham', 'spam', 'spam',\n",
              "       'spam', 'ham', 'spam', 'ham', 'spam', 'ham', 'ham', 'spam', 'ham',\n",
              "       'spam', 'ham', 'ham', 'ham', 'ham', 'ham', 'ham', 'ham', 'ham',\n",
              "       'ham', 'ham', 'ham', 'ham', 'spam', 'ham', 'spam', 'ham', 'spam',\n",
              "       'spam', 'ham', 'ham', 'ham', 'spam', 'ham', 'ham', 'ham', 'spam',\n",
              "       'spam', 'ham', 'spam', 'ham', 'spam', 'ham', 'ham', 'ham', 'ham',\n",
              "       'ham', 'ham', 'spam', 'ham', 'ham', 'ham', 'spam', 'ham', 'ham',\n",
              "       'ham', 'spam', 'spam', 'ham', 'spam', 'ham', 'ham', 'ham', 'ham',\n",
              "       'spam', 'ham', 'ham', 'ham', 'ham', 'ham', 'ham', 'spam', 'ham',\n",
              "       'ham', 'ham', 'ham', 'ham', 'ham', 'ham', 'ham', 'ham', 'spam',\n",
              "       'ham', 'spam', 'ham', 'ham', 'ham', 'spam', 'ham', 'ham', 'ham',\n",
              "       'spam', 'ham', 'ham', 'ham', 'ham', 'spam', 'spam', 'ham', 'ham',\n",
              "       'ham', 'ham', 'ham', 'spam', 'spam', 'ham', 'ham', 'ham', 'ham',\n",
              "       'spam', 'spam', 'spam', 'ham', 'ham', 'ham', 'ham', 'ham', 'ham',\n",
              "       'ham', 'spam', 'ham', 'spam', 'ham', 'spam', 'ham', 'ham', 'ham',\n",
              "       'ham', 'ham', 'ham', 'ham', 'spam', 'ham', 'ham', 'ham', 'ham',\n",
              "       'ham', 'spam', 'ham', 'ham', 'ham', 'ham', 'ham', 'ham', 'ham',\n",
              "       'ham', 'ham', 'spam', 'ham', 'ham', 'spam', 'ham', 'ham', 'ham',\n",
              "       'spam', 'ham', 'spam', 'ham', 'spam', 'ham', 'spam', 'ham', 'ham',\n",
              "       'ham', 'ham', 'ham', 'ham', 'ham', 'spam', 'ham', 'ham', 'ham',\n",
              "       'spam', 'ham', 'ham', 'ham', 'spam', 'ham', 'spam', 'spam', 'ham',\n",
              "       'ham', 'ham', 'ham', 'ham', 'spam', 'ham', 'spam', 'ham', 'ham',\n",
              "       'spam', 'spam', 'ham', 'ham', 'ham', 'ham', 'ham', 'ham', 'ham',\n",
              "       'ham', 'ham', 'ham', 'spam', 'ham', 'ham', 'ham', 'ham', 'spam',\n",
              "       'spam', 'ham', 'ham', 'spam', 'ham', 'spam', 'ham', 'spam', 'ham',\n",
              "       'spam', 'ham', 'ham', 'ham', 'ham', 'ham', 'ham', 'ham', 'spam',\n",
              "       'ham', 'spam', 'spam', 'ham', 'ham', 'ham', 'ham', 'ham', 'spam',\n",
              "       'ham', 'ham', 'spam', 'spam', 'spam', 'ham', 'ham', 'ham', 'ham',\n",
              "       'ham', 'ham', 'spam', 'ham', 'ham', 'ham', 'ham', 'ham', 'ham',\n",
              "       'spam', 'ham', 'spam', 'ham', 'spam', 'ham', 'ham', 'ham', 'ham',\n",
              "       'ham', 'ham', 'ham', 'spam', 'spam', 'ham', 'spam', 'ham', 'spam',\n",
              "       'ham', 'ham', 'ham', 'ham', 'ham', 'spam', 'spam', 'ham', 'ham',\n",
              "       'spam', 'spam', 'ham', 'spam', 'spam', 'ham', 'ham', 'spam',\n",
              "       'spam', 'ham', 'spam', 'ham', 'spam', 'ham', 'spam', 'ham', 'ham',\n",
              "       'ham', 'ham', 'ham', 'ham', 'ham', 'ham', 'spam', 'ham', 'ham',\n",
              "       'ham', 'ham', 'ham', 'ham', 'ham', 'ham', 'ham', 'ham', 'ham',\n",
              "       'ham', 'ham', 'ham', 'ham', 'ham', 'ham', 'ham', 'ham', 'ham',\n",
              "       'ham', 'ham', 'ham', 'spam', 'ham', 'ham', 'ham', 'ham', 'ham',\n",
              "       'spam', 'ham', 'ham', 'ham', 'ham', 'ham', 'spam', 'ham', 'ham',\n",
              "       'ham', 'ham', 'ham', 'spam', 'ham', 'spam', 'spam', 'spam', 'ham',\n",
              "       'ham', 'spam', 'ham', 'ham', 'ham', 'ham'], dtype='<U4')"
            ]
          },
          "metadata": {},
          "execution_count": 18
        }
      ]
    },
    {
      "cell_type": "code",
      "source": [
        "# SVM model\n",
        "y_pred_SVM=model_SVM.predict(test_features)\n",
        "y_pred_SVM"
      ],
      "metadata": {
        "colab": {
          "base_uri": "https://localhost:8080/"
        },
        "id": "Z0ruHJc32Iup",
        "outputId": "7f1465e3-1505-4c1e-b48d-62ac2d72f2c6"
      },
      "execution_count": 19,
      "outputs": [
        {
          "output_type": "execute_result",
          "data": {
            "text/plain": [
              "array(['ham', 'ham', 'ham', 'spam', 'ham', 'ham', 'ham', 'ham', 'ham',\n",
              "       'ham', 'ham', 'ham', 'spam', 'spam', 'spam', 'spam', 'ham', 'ham',\n",
              "       'ham', 'ham', 'ham', 'ham', 'ham', 'ham', 'spam', 'ham', 'spam',\n",
              "       'ham', 'ham', 'ham', 'spam', 'ham', 'ham', 'ham', 'ham', 'ham',\n",
              "       'spam', 'spam', 'ham', 'ham', 'ham', 'spam', 'spam', 'ham', 'ham',\n",
              "       'ham', 'ham', 'ham', 'ham', 'ham', 'ham', 'spam', 'ham', 'spam',\n",
              "       'ham', 'ham', 'ham', 'ham', 'ham', 'ham', 'spam', 'spam', 'ham',\n",
              "       'ham', 'spam', 'ham', 'spam', 'ham', 'ham', 'ham', 'spam', 'ham',\n",
              "       'ham', 'spam', 'ham', 'spam', 'ham', 'ham', 'ham', 'spam', 'ham',\n",
              "       'spam', 'spam', 'spam', 'spam', 'ham', 'ham', 'spam', 'ham', 'ham',\n",
              "       'ham', 'spam', 'spam', 'ham', 'ham', 'spam', 'ham', 'ham', 'spam',\n",
              "       'ham', 'ham', 'ham', 'spam', 'spam', 'spam', 'ham', 'spam', 'spam',\n",
              "       'spam', 'spam', 'spam', 'ham', 'ham', 'spam', 'spam', 'spam',\n",
              "       'ham', 'spam', 'ham', 'ham', 'spam', 'ham', 'ham', 'ham', 'ham',\n",
              "       'ham', 'spam', 'spam', 'ham', 'spam', 'spam', 'ham', 'spam', 'ham',\n",
              "       'ham', 'ham', 'spam', 'ham', 'ham', 'spam', 'ham', 'ham', 'spam',\n",
              "       'ham', 'ham', 'ham', 'ham', 'ham', 'ham', 'ham', 'ham', 'spam',\n",
              "       'ham', 'spam', 'spam', 'ham', 'ham', 'spam', 'ham', 'ham', 'spam',\n",
              "       'ham', 'ham', 'ham', 'spam', 'ham', 'spam', 'ham', 'spam', 'ham',\n",
              "       'ham', 'ham', 'ham', 'ham', 'ham', 'ham', 'ham', 'spam', 'ham',\n",
              "       'ham', 'ham', 'ham', 'spam', 'ham', 'ham', 'spam', 'ham', 'ham',\n",
              "       'spam', 'ham', 'ham', 'spam', 'ham', 'ham', 'ham', 'ham', 'ham',\n",
              "       'ham', 'ham', 'ham', 'ham', 'ham', 'ham', 'ham', 'ham', 'ham',\n",
              "       'ham', 'spam', 'spam', 'ham', 'ham', 'ham', 'spam', 'spam', 'ham',\n",
              "       'ham', 'ham', 'spam', 'ham', 'spam', 'ham', 'ham', 'spam', 'ham',\n",
              "       'ham', 'ham', 'ham', 'spam', 'ham', 'ham', 'ham', 'ham', 'ham',\n",
              "       'ham', 'ham', 'spam', 'spam', 'ham', 'ham', 'spam', 'ham', 'ham',\n",
              "       'ham', 'ham', 'spam', 'ham', 'ham', 'ham', 'ham', 'spam', 'spam',\n",
              "       'spam', 'ham', 'ham', 'ham', 'spam', 'ham', 'ham', 'spam', 'ham',\n",
              "       'ham', 'ham', 'spam', 'ham', 'ham', 'spam', 'ham', 'ham', 'spam',\n",
              "       'ham', 'ham', 'ham', 'ham', 'ham', 'ham', 'spam', 'ham', 'ham',\n",
              "       'spam', 'ham', 'spam', 'ham', 'ham', 'ham', 'ham', 'ham', 'spam',\n",
              "       'spam', 'ham', 'ham', 'ham', 'spam', 'spam', 'ham', 'ham', 'ham',\n",
              "       'spam', 'spam', 'spam', 'ham', 'ham', 'spam', 'ham', 'ham', 'ham',\n",
              "       'ham', 'ham', 'ham', 'ham', 'spam', 'ham', 'spam', 'ham', 'spam',\n",
              "       'spam', 'spam', 'ham', 'ham', 'ham', 'ham', 'ham', 'ham', 'ham',\n",
              "       'ham', 'spam', 'ham', 'ham', 'spam', 'ham', 'ham', 'spam', 'spam',\n",
              "       'ham', 'ham', 'ham', 'ham', 'spam', 'ham', 'ham', 'ham', 'ham',\n",
              "       'ham', 'ham', 'ham', 'spam', 'ham', 'ham', 'ham', 'spam', 'spam',\n",
              "       'ham', 'ham', 'ham', 'ham', 'spam', 'ham', 'ham', 'ham', 'ham',\n",
              "       'ham', 'ham', 'ham', 'ham', 'ham', 'ham', 'spam', 'spam', 'ham',\n",
              "       'ham', 'ham', 'spam', 'ham', 'ham', 'ham', 'ham', 'spam', 'ham',\n",
              "       'ham', 'ham', 'ham', 'spam', 'ham', 'ham', 'spam', 'ham', 'ham',\n",
              "       'ham', 'spam', 'ham', 'spam', 'spam', 'ham', 'ham', 'ham', 'ham',\n",
              "       'ham', 'spam', 'ham', 'ham', 'ham', 'ham', 'ham', 'spam', 'ham',\n",
              "       'ham', 'ham', 'ham', 'spam', 'spam', 'ham', 'ham', 'ham', 'ham',\n",
              "       'ham', 'ham', 'ham', 'spam', 'spam', 'spam', 'ham', 'ham', 'ham',\n",
              "       'spam', 'spam', 'ham', 'spam', 'spam', 'spam', 'spam', 'ham',\n",
              "       'ham', 'ham', 'spam', 'ham', 'ham', 'ham', 'spam', 'spam', 'spam',\n",
              "       'ham', 'ham', 'ham', 'ham', 'ham', 'ham', 'ham', 'spam', 'ham',\n",
              "       'ham', 'ham', 'ham', 'spam', 'spam', 'ham', 'ham', 'spam', 'ham',\n",
              "       'ham', 'spam', 'ham', 'spam', 'spam', 'ham', 'ham', 'spam', 'ham',\n",
              "       'ham', 'ham', 'ham', 'spam', 'ham', 'spam', 'ham', 'ham', 'spam',\n",
              "       'ham', 'ham', 'ham', 'ham', 'ham', 'ham', 'ham', 'ham', 'ham',\n",
              "       'spam', 'ham', 'spam', 'ham', 'ham', 'ham', 'ham', 'ham', 'spam',\n",
              "       'spam', 'ham', 'spam', 'spam', 'ham', 'spam', 'ham', 'spam', 'ham',\n",
              "       'ham', 'spam', 'spam', 'ham', 'ham', 'ham', 'ham', 'ham', 'ham',\n",
              "       'ham', 'spam', 'ham', 'ham', 'ham', 'ham', 'spam', 'ham', 'ham',\n",
              "       'spam', 'ham', 'spam', 'ham', 'spam', 'ham', 'ham', 'ham', 'ham',\n",
              "       'ham', 'ham', 'ham', 'ham', 'spam', 'ham', 'spam', 'spam', 'ham',\n",
              "       'spam', 'spam', 'ham', 'spam', 'spam', 'ham', 'spam', 'spam',\n",
              "       'ham', 'ham', 'ham', 'ham', 'spam', 'spam', 'ham', 'ham', 'spam',\n",
              "       'ham', 'ham', 'ham', 'spam', 'ham', 'ham', 'spam', 'spam', 'ham',\n",
              "       'spam', 'spam', 'ham', 'ham', 'ham', 'ham', 'spam', 'ham', 'ham',\n",
              "       'ham', 'ham', 'ham', 'spam', 'ham', 'ham', 'ham', 'ham', 'spam',\n",
              "       'spam', 'ham', 'spam', 'spam', 'spam', 'spam', 'spam', 'ham',\n",
              "       'spam', 'ham', 'spam', 'spam', 'ham', 'ham', 'spam', 'spam',\n",
              "       'spam', 'ham', 'spam', 'ham', 'ham', 'ham', 'ham', 'ham', 'spam',\n",
              "       'ham', 'ham', 'ham', 'ham', 'spam', 'ham', 'ham', 'ham', 'ham',\n",
              "       'ham', 'spam', 'ham', 'spam', 'ham', 'spam', 'spam', 'ham', 'ham',\n",
              "       'spam', 'spam', 'spam', 'ham', 'spam', 'spam', 'spam', 'ham',\n",
              "       'spam', 'ham', 'ham', 'ham', 'spam', 'ham', 'ham', 'ham', 'spam',\n",
              "       'spam', 'spam', 'ham', 'ham', 'ham', 'spam', 'ham', 'ham', 'spam',\n",
              "       'ham', 'ham', 'ham', 'ham', 'ham', 'ham', 'ham', 'ham', 'spam',\n",
              "       'spam', 'ham', 'ham', 'ham', 'ham', 'ham', 'ham', 'spam', 'ham',\n",
              "       'spam', 'spam', 'ham', 'ham', 'ham', 'spam', 'ham', 'ham', 'ham',\n",
              "       'spam', 'spam', 'ham', 'spam', 'ham', 'spam', 'ham', 'ham', 'ham',\n",
              "       'ham', 'ham', 'ham', 'spam', 'ham', 'ham', 'ham', 'spam', 'ham',\n",
              "       'ham', 'ham', 'spam', 'spam', 'ham', 'spam', 'ham', 'spam', 'ham',\n",
              "       'ham', 'spam', 'ham', 'ham', 'ham', 'ham', 'ham', 'ham', 'spam',\n",
              "       'ham', 'ham', 'ham', 'ham', 'ham', 'ham', 'ham', 'ham', 'ham',\n",
              "       'spam', 'ham', 'spam', 'ham', 'ham', 'ham', 'spam', 'ham', 'ham',\n",
              "       'ham', 'spam', 'ham', 'ham', 'ham', 'ham', 'spam', 'spam', 'ham',\n",
              "       'ham', 'ham', 'ham', 'ham', 'spam', 'spam', 'ham', 'ham', 'ham',\n",
              "       'ham', 'spam', 'spam', 'spam', 'ham', 'ham', 'ham', 'ham', 'ham',\n",
              "       'ham', 'ham', 'spam', 'ham', 'spam', 'ham', 'spam', 'ham', 'ham',\n",
              "       'ham', 'ham', 'ham', 'spam', 'ham', 'spam', 'ham', 'ham', 'ham',\n",
              "       'ham', 'ham', 'spam', 'ham', 'ham', 'ham', 'ham', 'ham', 'ham',\n",
              "       'ham', 'ham', 'ham', 'spam', 'ham', 'ham', 'spam', 'ham', 'ham',\n",
              "       'ham', 'spam', 'ham', 'spam', 'ham', 'spam', 'ham', 'spam', 'ham',\n",
              "       'ham', 'ham', 'ham', 'ham', 'ham', 'ham', 'spam', 'ham', 'ham',\n",
              "       'ham', 'spam', 'spam', 'ham', 'ham', 'spam', 'ham', 'spam', 'spam',\n",
              "       'ham', 'spam', 'ham', 'ham', 'ham', 'spam', 'ham', 'spam', 'ham',\n",
              "       'ham', 'spam', 'spam', 'ham', 'ham', 'ham', 'ham', 'ham', 'ham',\n",
              "       'ham', 'ham', 'ham', 'ham', 'ham', 'ham', 'ham', 'ham', 'ham',\n",
              "       'spam', 'spam', 'ham', 'ham', 'spam', 'ham', 'spam', 'ham', 'spam',\n",
              "       'ham', 'spam', 'ham', 'ham', 'ham', 'ham', 'ham', 'ham', 'ham',\n",
              "       'spam', 'ham', 'spam', 'spam', 'ham', 'ham', 'spam', 'ham', 'spam',\n",
              "       'spam', 'ham', 'ham', 'spam', 'spam', 'spam', 'ham', 'ham', 'ham',\n",
              "       'ham', 'ham', 'ham', 'spam', 'ham', 'ham', 'ham', 'ham', 'ham',\n",
              "       'ham', 'spam', 'ham', 'spam', 'ham', 'spam', 'ham', 'ham', 'ham',\n",
              "       'ham', 'ham', 'ham', 'ham', 'spam', 'spam', 'ham', 'spam', 'ham',\n",
              "       'spam', 'ham', 'ham', 'ham', 'ham', 'ham', 'spam', 'spam', 'ham',\n",
              "       'ham', 'spam', 'spam', 'spam', 'spam', 'spam', 'ham', 'ham',\n",
              "       'spam', 'spam', 'ham', 'spam', 'ham', 'spam', 'ham', 'spam', 'ham',\n",
              "       'ham', 'ham', 'ham', 'ham', 'ham', 'ham', 'ham', 'spam', 'ham',\n",
              "       'ham', 'ham', 'ham', 'ham', 'ham', 'ham', 'ham', 'ham', 'ham',\n",
              "       'ham', 'ham', 'ham', 'ham', 'ham', 'ham', 'ham', 'ham', 'ham',\n",
              "       'ham', 'ham', 'ham', 'ham', 'spam', 'ham', 'ham', 'ham', 'ham',\n",
              "       'ham', 'spam', 'ham', 'ham', 'ham', 'ham', 'ham', 'spam', 'ham',\n",
              "       'ham', 'ham', 'ham', 'ham', 'spam', 'ham', 'spam', 'spam', 'spam',\n",
              "       'ham', 'ham', 'spam', 'ham', 'ham', 'ham', 'ham'], dtype=object)"
            ]
          },
          "metadata": {},
          "execution_count": 19
        }
      ]
    },
    {
      "cell_type": "code",
      "source": [
        "#LogisticRegression\n",
        "y_pred_LR=model_LR.predict(test_features)\n",
        "y_pred_LR"
      ],
      "metadata": {
        "colab": {
          "base_uri": "https://localhost:8080/"
        },
        "id": "xzxXBJkK_TID",
        "outputId": "dc3e5c86-b0eb-44c3-8432-135cc826dc2a"
      },
      "execution_count": 20,
      "outputs": [
        {
          "output_type": "execute_result",
          "data": {
            "text/plain": [
              "array(['ham', 'ham', 'ham', 'spam', 'ham', 'ham', 'ham', 'ham', 'ham',\n",
              "       'ham', 'ham', 'ham', 'ham', 'spam', 'spam', 'spam', 'ham', 'ham',\n",
              "       'ham', 'ham', 'ham', 'ham', 'ham', 'ham', 'spam', 'ham', 'spam',\n",
              "       'ham', 'ham', 'ham', 'spam', 'ham', 'ham', 'ham', 'ham', 'ham',\n",
              "       'ham', 'spam', 'ham', 'ham', 'ham', 'spam', 'spam', 'ham', 'ham',\n",
              "       'ham', 'ham', 'ham', 'ham', 'ham', 'ham', 'spam', 'ham', 'spam',\n",
              "       'ham', 'ham', 'ham', 'ham', 'ham', 'ham', 'spam', 'spam', 'ham',\n",
              "       'ham', 'spam', 'ham', 'spam', 'ham', 'ham', 'ham', 'spam', 'ham',\n",
              "       'ham', 'spam', 'ham', 'spam', 'ham', 'ham', 'ham', 'spam', 'ham',\n",
              "       'spam', 'spam', 'spam', 'spam', 'ham', 'ham', 'spam', 'ham', 'ham',\n",
              "       'ham', 'spam', 'ham', 'ham', 'ham', 'spam', 'ham', 'ham', 'spam',\n",
              "       'ham', 'ham', 'ham', 'spam', 'spam', 'spam', 'ham', 'spam', 'spam',\n",
              "       'spam', 'spam', 'spam', 'ham', 'ham', 'spam', 'spam', 'spam',\n",
              "       'ham', 'spam', 'ham', 'ham', 'spam', 'ham', 'ham', 'ham', 'ham',\n",
              "       'ham', 'spam', 'spam', 'ham', 'spam', 'spam', 'ham', 'spam', 'ham',\n",
              "       'ham', 'spam', 'spam', 'ham', 'ham', 'spam', 'ham', 'ham', 'spam',\n",
              "       'ham', 'ham', 'ham', 'ham', 'ham', 'ham', 'ham', 'ham', 'spam',\n",
              "       'ham', 'spam', 'spam', 'ham', 'ham', 'spam', 'ham', 'ham', 'spam',\n",
              "       'ham', 'ham', 'ham', 'spam', 'ham', 'spam', 'ham', 'spam', 'ham',\n",
              "       'ham', 'ham', 'ham', 'ham', 'ham', 'ham', 'ham', 'spam', 'ham',\n",
              "       'ham', 'ham', 'ham', 'spam', 'ham', 'ham', 'spam', 'ham', 'ham',\n",
              "       'spam', 'ham', 'ham', 'spam', 'ham', 'ham', 'ham', 'ham', 'ham',\n",
              "       'ham', 'ham', 'ham', 'ham', 'ham', 'ham', 'ham', 'ham', 'ham',\n",
              "       'ham', 'spam', 'spam', 'ham', 'ham', 'ham', 'spam', 'spam', 'ham',\n",
              "       'ham', 'ham', 'spam', 'ham', 'spam', 'ham', 'ham', 'spam', 'ham',\n",
              "       'ham', 'ham', 'ham', 'spam', 'ham', 'ham', 'ham', 'ham', 'ham',\n",
              "       'ham', 'ham', 'spam', 'spam', 'ham', 'ham', 'spam', 'ham', 'ham',\n",
              "       'ham', 'ham', 'spam', 'ham', 'ham', 'ham', 'ham', 'spam', 'spam',\n",
              "       'spam', 'ham', 'ham', 'ham', 'spam', 'ham', 'ham', 'spam', 'ham',\n",
              "       'ham', 'ham', 'spam', 'ham', 'ham', 'spam', 'ham', 'ham', 'spam',\n",
              "       'ham', 'ham', 'ham', 'ham', 'ham', 'ham', 'spam', 'ham', 'ham',\n",
              "       'spam', 'ham', 'spam', 'ham', 'ham', 'ham', 'ham', 'ham', 'spam',\n",
              "       'spam', 'ham', 'ham', 'ham', 'spam', 'spam', 'ham', 'ham', 'ham',\n",
              "       'spam', 'ham', 'spam', 'ham', 'ham', 'spam', 'ham', 'ham', 'ham',\n",
              "       'spam', 'ham', 'ham', 'ham', 'spam', 'ham', 'spam', 'ham', 'spam',\n",
              "       'spam', 'spam', 'ham', 'ham', 'ham', 'ham', 'ham', 'ham', 'ham',\n",
              "       'ham', 'spam', 'ham', 'ham', 'spam', 'ham', 'ham', 'spam', 'ham',\n",
              "       'ham', 'ham', 'ham', 'ham', 'spam', 'ham', 'ham', 'ham', 'ham',\n",
              "       'ham', 'ham', 'ham', 'ham', 'ham', 'ham', 'ham', 'spam', 'spam',\n",
              "       'ham', 'ham', 'ham', 'ham', 'spam', 'ham', 'ham', 'ham', 'ham',\n",
              "       'ham', 'ham', 'ham', 'ham', 'ham', 'ham', 'ham', 'spam', 'ham',\n",
              "       'ham', 'ham', 'spam', 'ham', 'ham', 'ham', 'ham', 'spam', 'ham',\n",
              "       'ham', 'ham', 'ham', 'spam', 'ham', 'ham', 'ham', 'ham', 'ham',\n",
              "       'ham', 'spam', 'ham', 'spam', 'spam', 'ham', 'ham', 'ham', 'ham',\n",
              "       'ham', 'spam', 'ham', 'ham', 'ham', 'ham', 'ham', 'spam', 'ham',\n",
              "       'ham', 'ham', 'ham', 'spam', 'spam', 'ham', 'ham', 'ham', 'ham',\n",
              "       'ham', 'ham', 'ham', 'spam', 'ham', 'spam', 'ham', 'ham', 'ham',\n",
              "       'spam', 'spam', 'ham', 'spam', 'spam', 'spam', 'spam', 'ham',\n",
              "       'ham', 'ham', 'spam', 'ham', 'ham', 'ham', 'spam', 'spam', 'spam',\n",
              "       'ham', 'ham', 'ham', 'ham', 'ham', 'ham', 'ham', 'spam', 'ham',\n",
              "       'ham', 'ham', 'ham', 'spam', 'spam', 'ham', 'ham', 'spam', 'ham',\n",
              "       'ham', 'spam', 'ham', 'spam', 'spam', 'ham', 'ham', 'spam', 'ham',\n",
              "       'ham', 'ham', 'ham', 'spam', 'ham', 'spam', 'ham', 'ham', 'spam',\n",
              "       'ham', 'ham', 'ham', 'ham', 'ham', 'ham', 'ham', 'ham', 'ham',\n",
              "       'spam', 'ham', 'spam', 'ham', 'ham', 'ham', 'ham', 'ham', 'spam',\n",
              "       'spam', 'ham', 'spam', 'spam', 'ham', 'spam', 'ham', 'spam', 'ham',\n",
              "       'ham', 'spam', 'spam', 'ham', 'ham', 'ham', 'ham', 'ham', 'ham',\n",
              "       'ham', 'ham', 'ham', 'ham', 'ham', 'ham', 'spam', 'ham', 'ham',\n",
              "       'spam', 'ham', 'spam', 'ham', 'spam', 'ham', 'ham', 'ham', 'ham',\n",
              "       'ham', 'ham', 'ham', 'ham', 'spam', 'ham', 'spam', 'spam', 'ham',\n",
              "       'spam', 'spam', 'ham', 'spam', 'spam', 'ham', 'spam', 'spam',\n",
              "       'ham', 'ham', 'ham', 'ham', 'spam', 'spam', 'ham', 'ham', 'spam',\n",
              "       'ham', 'ham', 'ham', 'spam', 'ham', 'ham', 'spam', 'spam', 'ham',\n",
              "       'spam', 'spam', 'ham', 'ham', 'ham', 'ham', 'spam', 'ham', 'ham',\n",
              "       'ham', 'ham', 'ham', 'spam', 'ham', 'ham', 'ham', 'ham', 'spam',\n",
              "       'spam', 'ham', 'spam', 'spam', 'spam', 'spam', 'spam', 'ham',\n",
              "       'spam', 'ham', 'spam', 'spam', 'ham', 'ham', 'spam', 'spam',\n",
              "       'spam', 'ham', 'spam', 'ham', 'ham', 'ham', 'ham', 'ham', 'ham',\n",
              "       'ham', 'ham', 'ham', 'ham', 'spam', 'ham', 'ham', 'ham', 'ham',\n",
              "       'ham', 'spam', 'ham', 'spam', 'ham', 'spam', 'spam', 'ham', 'ham',\n",
              "       'spam', 'spam', 'ham', 'ham', 'spam', 'spam', 'spam', 'ham',\n",
              "       'spam', 'ham', 'ham', 'ham', 'spam', 'ham', 'ham', 'ham', 'spam',\n",
              "       'spam', 'spam', 'ham', 'spam', 'ham', 'spam', 'ham', 'ham', 'spam',\n",
              "       'ham', 'spam', 'ham', 'ham', 'ham', 'ham', 'ham', 'ham', 'spam',\n",
              "       'ham', 'ham', 'ham', 'ham', 'ham', 'spam', 'ham', 'spam', 'ham',\n",
              "       'spam', 'spam', 'ham', 'ham', 'ham', 'spam', 'ham', 'ham', 'ham',\n",
              "       'spam', 'spam', 'ham', 'spam', 'ham', 'spam', 'ham', 'ham', 'ham',\n",
              "       'ham', 'ham', 'ham', 'spam', 'ham', 'ham', 'ham', 'spam', 'ham',\n",
              "       'ham', 'ham', 'spam', 'spam', 'ham', 'spam', 'ham', 'spam', 'ham',\n",
              "       'ham', 'spam', 'ham', 'ham', 'ham', 'ham', 'ham', 'ham', 'spam',\n",
              "       'ham', 'ham', 'ham', 'ham', 'ham', 'ham', 'ham', 'ham', 'ham',\n",
              "       'spam', 'ham', 'spam', 'ham', 'ham', 'ham', 'spam', 'ham', 'ham',\n",
              "       'ham', 'spam', 'ham', 'ham', 'ham', 'ham', 'spam', 'spam', 'ham',\n",
              "       'ham', 'ham', 'ham', 'ham', 'spam', 'spam', 'ham', 'ham', 'ham',\n",
              "       'ham', 'spam', 'spam', 'spam', 'ham', 'ham', 'ham', 'ham', 'ham',\n",
              "       'ham', 'ham', 'spam', 'ham', 'spam', 'ham', 'spam', 'ham', 'ham',\n",
              "       'ham', 'ham', 'ham', 'spam', 'ham', 'spam', 'ham', 'ham', 'ham',\n",
              "       'spam', 'ham', 'spam', 'ham', 'ham', 'ham', 'ham', 'ham', 'ham',\n",
              "       'ham', 'ham', 'ham', 'spam', 'ham', 'ham', 'spam', 'ham', 'ham',\n",
              "       'ham', 'spam', 'ham', 'spam', 'ham', 'spam', 'ham', 'spam', 'ham',\n",
              "       'ham', 'ham', 'ham', 'ham', 'ham', 'ham', 'spam', 'ham', 'ham',\n",
              "       'ham', 'spam', 'ham', 'ham', 'ham', 'spam', 'ham', 'spam', 'spam',\n",
              "       'ham', 'spam', 'ham', 'ham', 'ham', 'spam', 'ham', 'spam', 'ham',\n",
              "       'ham', 'spam', 'spam', 'ham', 'ham', 'ham', 'ham', 'ham', 'ham',\n",
              "       'ham', 'ham', 'ham', 'ham', 'spam', 'ham', 'ham', 'ham', 'ham',\n",
              "       'spam', 'spam', 'ham', 'ham', 'spam', 'ham', 'ham', 'ham', 'spam',\n",
              "       'ham', 'spam', 'ham', 'ham', 'ham', 'ham', 'ham', 'ham', 'ham',\n",
              "       'spam', 'ham', 'spam', 'spam', 'ham', 'ham', 'ham', 'ham', 'spam',\n",
              "       'spam', 'ham', 'ham', 'spam', 'spam', 'ham', 'ham', 'ham', 'ham',\n",
              "       'ham', 'ham', 'ham', 'spam', 'ham', 'ham', 'ham', 'ham', 'ham',\n",
              "       'ham', 'spam', 'ham', 'spam', 'ham', 'spam', 'ham', 'ham', 'ham',\n",
              "       'ham', 'ham', 'ham', 'ham', 'spam', 'spam', 'ham', 'spam', 'ham',\n",
              "       'spam', 'ham', 'ham', 'ham', 'ham', 'ham', 'spam', 'spam', 'ham',\n",
              "       'ham', 'spam', 'spam', 'spam', 'spam', 'spam', 'ham', 'ham',\n",
              "       'spam', 'spam', 'ham', 'spam', 'ham', 'spam', 'ham', 'spam', 'ham',\n",
              "       'ham', 'ham', 'ham', 'ham', 'ham', 'ham', 'ham', 'spam', 'ham',\n",
              "       'ham', 'ham', 'ham', 'ham', 'ham', 'ham', 'ham', 'ham', 'ham',\n",
              "       'ham', 'ham', 'ham', 'ham', 'ham', 'ham', 'ham', 'ham', 'ham',\n",
              "       'ham', 'ham', 'ham', 'ham', 'spam', 'ham', 'ham', 'ham', 'ham',\n",
              "       'ham', 'spam', 'ham', 'ham', 'ham', 'ham', 'ham', 'spam', 'ham',\n",
              "       'ham', 'ham', 'ham', 'ham', 'spam', 'ham', 'spam', 'spam', 'spam',\n",
              "       'ham', 'ham', 'spam', 'ham', 'ham', 'ham', 'ham'], dtype=object)"
            ]
          },
          "metadata": {},
          "execution_count": 20
        }
      ]
    },
    {
      "cell_type": "code",
      "source": [
        "# Naive Bayes model\n",
        "Accuracy=accuracy_score(y_pred_NB,y_test) #y_test: true labels \n",
        "print(Accuracy)"
      ],
      "metadata": {
        "colab": {
          "base_uri": "https://localhost:8080/"
        },
        "id": "Tj6x9D3B4cC9",
        "outputId": "be8f7214-cd70-4af5-ec0b-e14c018200d6"
      },
      "execution_count": 21,
      "outputs": [
        {
          "output_type": "stream",
          "name": "stdout",
          "text": [
            "0.987987987987988\n"
          ]
        }
      ]
    },
    {
      "cell_type": "code",
      "source": [
        "# SVM model\n",
        "Accuracy=accuracy_score(y_pred_SVM,y_test) \n",
        "print(Accuracy)"
      ],
      "metadata": {
        "colab": {
          "base_uri": "https://localhost:8080/"
        },
        "id": "4q_bkz7t2Yi9",
        "outputId": "3409276e-698f-4160-b86d-e87214085098"
      },
      "execution_count": 22,
      "outputs": [
        {
          "output_type": "stream",
          "name": "stdout",
          "text": [
            "0.964964964964965\n"
          ]
        }
      ]
    },
    {
      "cell_type": "code",
      "source": [
        "#Logistic Regression model\n",
        "Accuracy=accuracy_score(y_pred_LR,y_test) \n",
        "print(Accuracy)"
      ],
      "metadata": {
        "colab": {
          "base_uri": "https://localhost:8080/"
        },
        "id": "qEQnGLTy_ivR",
        "outputId": "0afc29dd-22f3-4451-811f-f0c8884ba907"
      },
      "execution_count": 23,
      "outputs": [
        {
          "output_type": "stream",
          "name": "stdout",
          "text": [
            "0.978978978978979\n"
          ]
        }
      ]
    },
    {
      "cell_type": "markdown",
      "source": [
        "- classification_report takes in the true labels and predicted labels as input and generates a report with precision, recall, F1-score, and support for each class."
      ],
      "metadata": {
        "id": "psIkmBm_-PP8"
      }
    },
    {
      "cell_type": "code",
      "source": [
        "#A report with precision, recall, F1-score, and support for each class.\n",
        "\n",
        "# Naive Bayes model\n",
        "report=classification_report(y_test,y_pred_NB)\n",
        "print(report)"
      ],
      "metadata": {
        "colab": {
          "base_uri": "https://localhost:8080/"
        },
        "id": "A2t1LhqP6yTZ",
        "outputId": "17d77f51-7e8b-4b7a-8108-ff834f92ca46"
      },
      "execution_count": 24,
      "outputs": [
        {
          "output_type": "stream",
          "name": "stdout",
          "text": [
            "              precision    recall  f1-score   support\n",
            "\n",
            "         ham       0.99      0.99      0.99       706\n",
            "        spam       0.98      0.98      0.98       293\n",
            "\n",
            "    accuracy                           0.99       999\n",
            "   macro avg       0.99      0.98      0.99       999\n",
            "weighted avg       0.99      0.99      0.99       999\n",
            "\n"
          ]
        }
      ]
    },
    {
      "cell_type": "code",
      "source": [
        "# SVM model\n",
        "report=classification_report(y_test,y_pred_SVM)\n",
        "print(report)"
      ],
      "metadata": {
        "colab": {
          "base_uri": "https://localhost:8080/"
        },
        "id": "K_eKk8Qo2tJM",
        "outputId": "fc1100c6-5f43-4ce0-cec3-4b87316f4aeb"
      },
      "execution_count": 25,
      "outputs": [
        {
          "output_type": "stream",
          "name": "stdout",
          "text": [
            "              precision    recall  f1-score   support\n",
            "\n",
            "         ham       0.99      0.96      0.97       706\n",
            "        spam       0.92      0.97      0.94       293\n",
            "\n",
            "    accuracy                           0.96       999\n",
            "   macro avg       0.95      0.97      0.96       999\n",
            "weighted avg       0.97      0.96      0.97       999\n",
            "\n"
          ]
        }
      ]
    },
    {
      "cell_type": "code",
      "source": [
        "#Logistic Regression model\n",
        "report=classification_report(y_test,y_pred_LR)\n",
        "print(report)"
      ],
      "metadata": {
        "colab": {
          "base_uri": "https://localhost:8080/"
        },
        "id": "2mmuF-Zi_vFo",
        "outputId": "2191c9f3-5f6b-4d3f-930c-e468e8163129"
      },
      "execution_count": 26,
      "outputs": [
        {
          "output_type": "stream",
          "name": "stdout",
          "text": [
            "              precision    recall  f1-score   support\n",
            "\n",
            "         ham       0.99      0.98      0.99       706\n",
            "        spam       0.95      0.98      0.96       293\n",
            "\n",
            "    accuracy                           0.98       999\n",
            "   macro avg       0.97      0.98      0.97       999\n",
            "weighted avg       0.98      0.98      0.98       999\n",
            "\n"
          ]
        }
      ]
    },
    {
      "cell_type": "markdown",
      "source": [
        "- Creates a confusion matrix based on the true labels y_test and predicted labels y_pred. A confusion matrix is a table that shows the number of true positive, true negative, false positive, and false negative predictions made by a classification model. It can be used to evaluate the performance of a machine learning model."
      ],
      "metadata": {
        "id": "ulHZ21OnyhKR"
      }
    },
    {
      "cell_type": "code",
      "source": [
        "# Naive Bayes model\n",
        "\n",
        "# assuming y_pred_NB and y_test are the predicted and true labels respectively\n",
        "cm = confusion_matrix(y_test, y_pred_NB)\n",
        "plt.title('Confusion Matrix for Naive Bayes model ')\n",
        "# Plot the confusion matrix as a heatmap\n",
        "sns.heatmap(cm, annot=True, cmap='Reds', fmt='g')\n",
        "plt.xlabel('Predicted')\n",
        "plt.ylabel('Actual')"
      ],
      "metadata": {
        "colab": {
          "base_uri": "https://localhost:8080/",
          "height": 490
        },
        "id": "Kw8CqOUAy7_y",
        "outputId": "78377f85-dc99-46bb-eeea-efe49bc2a077"
      },
      "execution_count": 27,
      "outputs": [
        {
          "output_type": "execute_result",
          "data": {
            "text/plain": [
              "Text(50.722222222222214, 0.5, 'Actual')"
            ]
          },
          "metadata": {},
          "execution_count": 27
        },
        {
          "output_type": "display_data",
          "data": {
            "text/plain": [
              "<Figure size 640x480 with 2 Axes>"
            ],
            "image/png": "[encoded data removed]"
          },
          "metadata": {}
        }
      ]
    },
    {
      "cell_type": "code",
      "source": [
        "# SVM\n",
        "\n",
        "# assuming y_pred_SVM and y_test are the predicted and true labels respectively\n",
        "cm = confusion_matrix(y_test, y_pred_SVM)\n",
        "plt.title('Confusion Matrix for SVM model ')\n",
        "# Plot the confusion matrix as a heatmap\n",
        "sns.heatmap(cm, annot=True, cmap='Reds', fmt='g')\n",
        "plt.xlabel('Predicted')\n",
        "plt.ylabel('Actual')"
      ],
      "metadata": {
        "colab": {
          "base_uri": "https://localhost:8080/",
          "height": 490
        },
        "id": "wWL0DURazVcO",
        "outputId": "cadadfeb-7310-44e8-efc7-e2ed8a82198a"
      },
      "execution_count": 28,
      "outputs": [
        {
          "output_type": "execute_result",
          "data": {
            "text/plain": [
              "Text(50.722222222222214, 0.5, 'Actual')"
            ]
          },
          "metadata": {},
          "execution_count": 28
        },
        {
          "output_type": "display_data",
          "data": {
            "text/plain": [
              "<Figure size 640x480 with 2 Axes>"
            ],
            "image/png": "[encoded data removed]"
          },
          "metadata": {}
        }
      ]
    },
    {
      "cell_type": "code",
      "source": [
        "# Logistic Regression model\n",
        "\n",
        "# assuming y_pred_LR and y_test are the predicted and true labels respectively\n",
        "cm = confusion_matrix(y_test, y_pred_LR)\n",
        "plt.title('Confusion Matrix for Logistic Regression model ')\n",
        "# Plot the confusion matrix as a heatmap\n",
        "sns.heatmap(cm, annot=True, cmap='Reds', fmt='g')\n",
        "plt.xlabel('Predicted')\n",
        "plt.ylabel('Actual')"
      ],
      "metadata": {
        "colab": {
          "base_uri": "https://localhost:8080/",
          "height": 490
        },
        "id": "M-5TgCTszhTg",
        "outputId": "96b9ef09-e883-46a2-b477-9d8c9d2de5b1"
      },
      "execution_count": 29,
      "outputs": [
        {
          "output_type": "execute_result",
          "data": {
            "text/plain": [
              "Text(50.722222222222214, 0.5, 'Actual')"
            ]
          },
          "metadata": {},
          "execution_count": 29
        },
        {
          "output_type": "display_data",
          "data": {
            "text/plain": [
              "<Figure size 640x480 with 2 Axes>"
            ],
            "image/png": "[encoded data removed]"
          },
          "metadata": {}
        }
      ]
    }
  ]
}