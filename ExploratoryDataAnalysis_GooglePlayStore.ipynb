{
  "nbformat": 4,
  "nbformat_minor": 0,
  "metadata": {
    "colab": {
      "provenance": [],
      "gpuType": "T4"
    },
    "kernelspec": {
      "name": "python3",
      "display_name": "Python 3"
    },
    "language_info": {
      "name": "python"
    },
    "gpuClass": "standard",
    "accelerator": "GPU"
  },
  "cells": [
    {
      "cell_type": "markdown",
      "source": [
        "#  In this work, I will perform Exploratory Data Analysis on the data of **Google Play Store** apps using Python."
      ],
      "metadata": {
        "id": "-36_XabuvMEj"
      }
    },
    {
      "cell_type": "markdown",
      "source": [
        "# Import libraries:"
      ],
      "metadata": {
        "id": "D9K6ZBPIw5dR"
      }
    },
    {
      "cell_type": "code",
      "source": [
        "import pandas as pd\n",
        "import numpy as np\n",
        "import matplotlib.pyplot as plt \n",
        "import seaborn as sns\n",
        "import plotly.express as px"
      ],
      "metadata": {
        "id": "DFzEBAZVwEZe"
      },
      "execution_count": 206,
      "outputs": []
    },
    {
      "cell_type": "markdown",
      "source": [
        "# Load the dataset:\n",
        "# Web scraped data of 10k Play Store apps for analysing the Android market."
      ],
      "metadata": {
        "id": "y2V6pRw9yM1p"
      }
    },
    {
      "cell_type": "code",
      "source": [
        "#Install the Kaggle library. \n",
        "!pip install kaggle\n",
        "#Create a new directory named \".kaggle\".\n",
        "!mkdir ~/.kaggle\n",
        "\n",
        "#upload the “kaggle.json” file to your Google Drive\n",
        "#copy the “kaggle.json” file from the mounted google drive to the current instance storage.\n",
        "!cp /content/drive/MyDrive/kaggle.json ~/.kaggle/kaggle.json \n",
        "\n",
        "#Copy the \"kaggle.json\" file into the newly created directory.\n",
        "#\"kaggle.json\" contains the username and the API key\n",
        "#!cp /kaggle.json ~/.kaggle/\n",
        "#Grant the necessary permissions for this file.\n",
        "!chmod 600 ~/.kaggle/kaggle.json"
      ],
      "metadata": {
        "colab": {
          "base_uri": "https://localhost:8080/"
        },
        "id": "ypobUAvnyOey",
        "outputId": "63ec6cee-9228-4424-c86a-2a2ab0c7c935"
      },
      "execution_count": 207,
      "outputs": [
        {
          "output_type": "stream",
          "name": "stdout",
          "text": [
            "Looking in indexes: https://pypi.org/simple, https://us-python.pkg.dev/colab-wheels/public/simple/\n",
            "Requirement already satisfied: kaggle in /usr/local/lib/python3.9/dist-packages (1.5.13)\n",
            "Requirement already satisfied: certifi in /usr/local/lib/python3.9/dist-packages (from kaggle) (2022.12.7)\n",
            "Requirement already satisfied: six>=1.10 in /usr/local/lib/python3.9/dist-packages (from kaggle) (1.16.0)\n",
            "Requirement already satisfied: tqdm in /usr/local/lib/python3.9/dist-packages (from kaggle) (4.65.0)\n",
            "Requirement already satisfied: python-slugify in /usr/local/lib/python3.9/dist-packages (from kaggle) (8.0.1)\n",
            "Requirement already satisfied: requests in /usr/local/lib/python3.9/dist-packages (from kaggle) (2.27.1)\n",
            "Requirement already satisfied: python-dateutil in /usr/local/lib/python3.9/dist-packages (from kaggle) (2.8.2)\n",
            "Requirement already satisfied: urllib3 in /usr/local/lib/python3.9/dist-packages (from kaggle) (1.26.15)\n",
            "Requirement already satisfied: text-unidecode>=1.3 in /usr/local/lib/python3.9/dist-packages (from python-slugify->kaggle) (1.3)\n",
            "Requirement already satisfied: charset-normalizer~=2.0.0 in /usr/local/lib/python3.9/dist-packages (from requests->kaggle) (2.0.12)\n",
            "Requirement already satisfied: idna<4,>=2.5 in /usr/local/lib/python3.9/dist-packages (from requests->kaggle) (3.4)\n",
            "mkdir: cannot create directory ‘/root/.kaggle’: File exists\n"
          ]
        }
      ]
    },
    {
      "cell_type": "code",
      "source": [
        "! kaggle datasets download lava18/google-play-store-apps -f googleplaystore.csv "
      ],
      "metadata": {
        "colab": {
          "base_uri": "https://localhost:8080/"
        },
        "id": "6eNDsXpEQlF0",
        "outputId": "1ca65524-bbe5-41b3-fcd6-7d05631d605c"
      },
      "execution_count": 208,
      "outputs": [
        {
          "output_type": "stream",
          "name": "stdout",
          "text": [
            "googleplaystore.csv.zip: Skipping, found more recently modified local copy (use --force to force download)\n"
          ]
        }
      ]
    },
    {
      "cell_type": "code",
      "source": [
        "!unzip googleplaystore.csv.zip"
      ],
      "metadata": {
        "colab": {
          "base_uri": "https://localhost:8080/"
        },
        "id": "05FDdOCpZ7Xs",
        "outputId": "65c831e6-c62f-46b6-c95e-89214868de36"
      },
      "execution_count": 209,
      "outputs": [
        {
          "output_type": "stream",
          "name": "stdout",
          "text": [
            "Archive:  googleplaystore.csv.zip\n",
            "replace googleplaystore.csv? [y]es, [n]o, [A]ll, [N]one, [r]ename: y\n",
            "  inflating: googleplaystore.csv     \n"
          ]
        }
      ]
    },
    {
      "cell_type": "code",
      "source": [
        "df = pd.read_csv(\"googleplaystore.csv\")\n",
        "#df.head()\n",
        "df.sample(10)"
      ],
      "metadata": {
        "colab": {
          "base_uri": "https://localhost:8080/",
          "height": 771
        },
        "id": "OcKd5aTggkG1",
        "outputId": "f718811b-46a7-434e-9f6a-f50e5d094e90"
      },
      "execution_count": 210,
      "outputs": [
        {
          "output_type": "execute_result",
          "data": {
            "text/plain": [
              "                                                App            Category  \\\n",
              "8153                                        WebCams             WEATHER   \n",
              "4147                   Gboard - the Google Keyboard               TOOLS   \n",
              "7998                           IZ2UUF Morse Koch CW       COMMUNICATION   \n",
              "3173   Priceline Hotel Deals, Rental Cars & Flights    TRAVEL_AND_LOCAL   \n",
              "782                                    Khan Academy           EDUCATION   \n",
              "4891                 30 Day AB Challenge - Lumowell  HEALTH_AND_FITNESS   \n",
              "2593                 MeetMe: Chat & Meet New People              SOCIAL   \n",
              "9788               ES Disk Analyzer - Storage Space        PRODUCTIVITY   \n",
              "841                     EasyBib: Citation Generator           EDUCATION   \n",
              "10758                 Fingerprint Lock Screen Prank               TOOLS   \n",
              "\n",
              "       Rating  Reviews                Size      Installs  Type Price  \\\n",
              "8153      4.6     3963                 23M      100,000+  Free     0   \n",
              "4147      4.2  1855262  Varies with device  500,000,000+  Free     0   \n",
              "7998      4.6      649                837k       50,000+  Free     0   \n",
              "3173      4.4    48930                 15M    5,000,000+  Free     0   \n",
              "782       4.6    85375                 21M    5,000,000+  Free     0   \n",
              "4891      4.8      793                 40M       10,000+  Free     0   \n",
              "2593      4.2  1259849                 76M   50,000,000+  Free     0   \n",
              "9788      4.7     5867                4.4M      100,000+  Free     0   \n",
              "841       3.5     1405                7.3M      100,000+  Free     0   \n",
              "10758     4.1    10786                4.3M    1,000,000+  Free     0   \n",
              "\n",
              "      Content Rating            Genres        Last Updated  \\\n",
              "8153        Everyone           Weather       July 17, 2018   \n",
              "4147        Everyone             Tools       July 31, 2018   \n",
              "7998        Everyone     Communication      August 8, 2013   \n",
              "3173        Everyone    Travel & Local       July 26, 2018   \n",
              "782         Everyone         Education       July 27, 2018   \n",
              "4891        Everyone  Health & Fitness  September 15, 2016   \n",
              "2593      Mature 17+            Social      August 3, 2018   \n",
              "9788        Everyone      Productivity    October 31, 2017   \n",
              "841         Everyone         Education      March 29, 2018   \n",
              "10758       Everyone             Tools    December 9, 2017   \n",
              "\n",
              "              Current Ver         Android Ver  \n",
              "8153               5.2.11          4.2 and up  \n",
              "4147   Varies with device  Varies with device  \n",
              "7998              1.0.013          2.1 and up  \n",
              "3173             4.38.176          4.4 and up  \n",
              "782                 5.0.0          4.1 and up  \n",
              "4891                1.0.3        4.0.3 and up  \n",
              "2593   Varies with device          4.1 and up  \n",
              "9788              1.0.2.9          4.0 and up  \n",
              "841                 2.4.4          4.0 and up  \n",
              "10758                 5.0          4.0 and up  "
            ],
            "text/html": [
              "\n",
              "  <div id=\"df-c17f264f-e101-41a1-b19d-04ceee98a7f1\">\n",
              "    <div class=\"colab-df-container\">\n",
              "      <div>\n",
              "<style scoped>\n",
              "    .dataframe tbody tr th:only-of-type {\n",
              "        vertical-align: middle;\n",
              "    }\n",
              "\n",
              "    .dataframe tbody tr th {\n",
              "        vertical-align: top;\n",
              "    }\n",
              "\n",
              "    .dataframe thead th {\n",
              "        text-align: right;\n",
              "    }\n",
              "</style>\n",
              "<table border=\"1\" class=\"dataframe\">\n",
              "  <thead>\n",
              "    <tr style=\"text-align: right;\">\n",
              "      <th></th>\n",
              "      <th>App</th>\n",
              "      <th>Category</th>\n",
              "      <th>Rating</th>\n",
              "      <th>Reviews</th>\n",
              "      <th>Size</th>\n",
              "      <th>Installs</th>\n",
              "      <th>Type</th>\n",
              "      <th>Price</th>\n",
              "      <th>Content Rating</th>\n",
              "      <th>Genres</th>\n",
              "      <th>Last Updated</th>\n",
              "      <th>Current Ver</th>\n",
              "      <th>Android Ver</th>\n",
              "    </tr>\n",
              "  </thead>\n",
              "  <tbody>\n",
              "    <tr>\n",
              "      <th>8153</th>\n",
              "      <td>WebCams</td>\n",
              "      <td>WEATHER</td>\n",
              "      <td>4.6</td>\n",
              "      <td>3963</td>\n",
              "      <td>23M</td>\n",
              "      <td>100,000+</td>\n",
              "      <td>Free</td>\n",
              "      <td>0</td>\n",
              "      <td>Everyone</td>\n",
              "      <td>Weather</td>\n",
              "      <td>July 17, 2018</td>\n",
              "      <td>5.2.11</td>\n",
              "      <td>4.2 and up</td>\n",
              "    </tr>\n",
              "    <tr>\n",
              "      <th>4147</th>\n",
              "      <td>Gboard - the Google Keyboard</td>\n",
              "      <td>TOOLS</td>\n",
              "      <td>4.2</td>\n",
              "      <td>1855262</td>\n",
              "      <td>Varies with device</td>\n",
              "      <td>500,000,000+</td>\n",
              "      <td>Free</td>\n",
              "      <td>0</td>\n",
              "      <td>Everyone</td>\n",
              "      <td>Tools</td>\n",
              "      <td>July 31, 2018</td>\n",
              "      <td>Varies with device</td>\n",
              "      <td>Varies with device</td>\n",
              "    </tr>\n",
              "    <tr>\n",
              "      <th>7998</th>\n",
              "      <td>IZ2UUF Morse Koch CW</td>\n",
              "      <td>COMMUNICATION</td>\n",
              "      <td>4.6</td>\n",
              "      <td>649</td>\n",
              "      <td>837k</td>\n",
              "      <td>50,000+</td>\n",
              "      <td>Free</td>\n",
              "      <td>0</td>\n",
              "      <td>Everyone</td>\n",
              "      <td>Communication</td>\n",
              "      <td>August 8, 2013</td>\n",
              "      <td>1.0.013</td>\n",
              "      <td>2.1 and up</td>\n",
              "    </tr>\n",
              "    <tr>\n",
              "      <th>3173</th>\n",
              "      <td>Priceline Hotel Deals, Rental Cars &amp; Flights</td>\n",
              "      <td>TRAVEL_AND_LOCAL</td>\n",
              "      <td>4.4</td>\n",
              "      <td>48930</td>\n",
              "      <td>15M</td>\n",
              "      <td>5,000,000+</td>\n",
              "      <td>Free</td>\n",
              "      <td>0</td>\n",
              "      <td>Everyone</td>\n",
              "      <td>Travel &amp; Local</td>\n",
              "      <td>July 26, 2018</td>\n",
              "      <td>4.38.176</td>\n",
              "      <td>4.4 and up</td>\n",
              "    </tr>\n",
              "    <tr>\n",
              "      <th>782</th>\n",
              "      <td>Khan Academy</td>\n",
              "      <td>EDUCATION</td>\n",
              "      <td>4.6</td>\n",
              "      <td>85375</td>\n",
              "      <td>21M</td>\n",
              "      <td>5,000,000+</td>\n",
              "      <td>Free</td>\n",
              "      <td>0</td>\n",
              "      <td>Everyone</td>\n",
              "      <td>Education</td>\n",
              "      <td>July 27, 2018</td>\n",
              "      <td>5.0.0</td>\n",
              "      <td>4.1 and up</td>\n",
              "    </tr>\n",
              "    <tr>\n",
              "      <th>4891</th>\n",
              "      <td>30 Day AB Challenge - Lumowell</td>\n",
              "      <td>HEALTH_AND_FITNESS</td>\n",
              "      <td>4.8</td>\n",
              "      <td>793</td>\n",
              "      <td>40M</td>\n",
              "      <td>10,000+</td>\n",
              "      <td>Free</td>\n",
              "      <td>0</td>\n",
              "      <td>Everyone</td>\n",
              "      <td>Health &amp; Fitness</td>\n",
              "      <td>September 15, 2016</td>\n",
              "      <td>1.0.3</td>\n",
              "      <td>4.0.3 and up</td>\n",
              "    </tr>\n",
              "    <tr>\n",
              "      <th>2593</th>\n",
              "      <td>MeetMe: Chat &amp; Meet New People</td>\n",
              "      <td>SOCIAL</td>\n",
              "      <td>4.2</td>\n",
              "      <td>1259849</td>\n",
              "      <td>76M</td>\n",
              "      <td>50,000,000+</td>\n",
              "      <td>Free</td>\n",
              "      <td>0</td>\n",
              "      <td>Mature 17+</td>\n",
              "      <td>Social</td>\n",
              "      <td>August 3, 2018</td>\n",
              "      <td>Varies with device</td>\n",
              "      <td>4.1 and up</td>\n",
              "    </tr>\n",
              "    <tr>\n",
              "      <th>9788</th>\n",
              "      <td>ES Disk Analyzer - Storage Space</td>\n",
              "      <td>PRODUCTIVITY</td>\n",
              "      <td>4.7</td>\n",
              "      <td>5867</td>\n",
              "      <td>4.4M</td>\n",
              "      <td>100,000+</td>\n",
              "      <td>Free</td>\n",
              "      <td>0</td>\n",
              "      <td>Everyone</td>\n",
              "      <td>Productivity</td>\n",
              "      <td>October 31, 2017</td>\n",
              "      <td>1.0.2.9</td>\n",
              "      <td>4.0 and up</td>\n",
              "    </tr>\n",
              "    <tr>\n",
              "      <th>841</th>\n",
              "      <td>EasyBib: Citation Generator</td>\n",
              "      <td>EDUCATION</td>\n",
              "      <td>3.5</td>\n",
              "      <td>1405</td>\n",
              "      <td>7.3M</td>\n",
              "      <td>100,000+</td>\n",
              "      <td>Free</td>\n",
              "      <td>0</td>\n",
              "      <td>Everyone</td>\n",
              "      <td>Education</td>\n",
              "      <td>March 29, 2018</td>\n",
              "      <td>2.4.4</td>\n",
              "      <td>4.0 and up</td>\n",
              "    </tr>\n",
              "    <tr>\n",
              "      <th>10758</th>\n",
              "      <td>Fingerprint Lock Screen Prank</td>\n",
              "      <td>TOOLS</td>\n",
              "      <td>4.1</td>\n",
              "      <td>10786</td>\n",
              "      <td>4.3M</td>\n",
              "      <td>1,000,000+</td>\n",
              "      <td>Free</td>\n",
              "      <td>0</td>\n",
              "      <td>Everyone</td>\n",
              "      <td>Tools</td>\n",
              "      <td>December 9, 2017</td>\n",
              "      <td>5.0</td>\n",
              "      <td>4.0 and up</td>\n",
              "    </tr>\n",
              "  </tbody>\n",
              "</table>\n",
              "</div>\n",
              "      <button class=\"colab-df-convert\" onclick=\"convertToInteractive('df-c17f264f-e101-41a1-b19d-04ceee98a7f1')\"\n",
              "              title=\"Convert this dataframe to an interactive table.\"\n",
              "              style=\"display:none;\">\n",
              "        \n",
              "  <svg xmlns=\"http://www.w3.org/2000/svg\" height=\"24px\"viewBox=\"0 0 24 24\"\n",
              "       width=\"24px\">\n",
              "    <path d=\"M0 0h24v24H0V0z\" fill=\"none\"/>\n",
              "    <path d=\"M18.56 5.44l.94 2.06.94-2.06 2.06-.94-2.06-.94-.94-2.06-.94 2.06-2.06.94zm-11 1L8.5 8.5l.94-2.06 2.06-.94-2.06-.94L8.5 2.5l-.94 2.06-2.06.94zm10 10l.94 2.06.94-2.06 2.06-.94-2.06-.94-.94-2.06-.94 2.06-2.06.94z\"/><path d=\"M17.41 7.96l-1.37-1.37c-.4-.4-.92-.59-1.43-.59-.52 0-1.04.2-1.43.59L10.3 9.45l-7.72 7.72c-.78.78-.78 2.05 0 2.83L4 21.41c.39.39.9.59 1.41.59.51 0 1.02-.2 1.41-.59l7.78-7.78 2.81-2.81c.8-.78.8-2.07 0-2.86zM5.41 20L4 18.59l7.72-7.72 1.47 1.35L5.41 20z\"/>\n",
              "  </svg>\n",
              "      </button>\n",
              "      \n",
              "  <style>\n",
              "    .colab-df-container {\n",
              "      display:flex;\n",
              "      flex-wrap:wrap;\n",
              "      gap: 12px;\n",
              "    }\n",
              "\n",
              "    .colab-df-convert {\n",
              "      background-color: #E8F0FE;\n",
              "      border: none;\n",
              "      border-radius: 50%;\n",
              "      cursor: pointer;\n",
              "      display: none;\n",
              "      fill: #1967D2;\n",
              "      height: 32px;\n",
              "      padding: 0 0 0 0;\n",
              "      width: 32px;\n",
              "    }\n",
              "\n",
              "    .colab-df-convert:hover {\n",
              "      background-color: #E2EBFA;\n",
              "      box-shadow: 0px 1px 2px rgba(60, 64, 67, 0.3), 0px 1px 3px 1px rgba(60, 64, 67, 0.15);\n",
              "      fill: #174EA6;\n",
              "    }\n",
              "\n",
              "    [theme=dark] .colab-df-convert {\n",
              "      background-color: #3B4455;\n",
              "      fill: #D2E3FC;\n",
              "    }\n",
              "\n",
              "    [theme=dark] .colab-df-convert:hover {\n",
              "      background-color: #434B5C;\n",
              "      box-shadow: 0px 1px 3px 1px rgba(0, 0, 0, 0.15);\n",
              "      filter: drop-shadow(0px 1px 2px rgba(0, 0, 0, 0.3));\n",
              "      fill: #FFFFFF;\n",
              "    }\n",
              "  </style>\n",
              "\n",
              "      <script>\n",
              "        const buttonEl =\n",
              "          document.querySelector('#df-c17f264f-e101-41a1-b19d-04ceee98a7f1 button.colab-df-convert');\n",
              "        buttonEl.style.display =\n",
              "          google.colab.kernel.accessAllowed ? 'block' : 'none';\n",
              "\n",
              "        async function convertToInteractive(key) {\n",
              "          const element = document.querySelector('#df-c17f264f-e101-41a1-b19d-04ceee98a7f1');\n",
              "          const dataTable =\n",
              "            await google.colab.kernel.invokeFunction('convertToInteractive',\n",
              "                                                     [key], {});\n",
              "          if (!dataTable) return;\n",
              "\n",
              "          const docLinkHtml = 'Like what you see? Visit the ' +\n",
              "            '<a target=\"_blank\" href=https://colab.research.google.com/notebooks/data_table.ipynb>data table notebook</a>'\n",
              "            + ' to learn more about interactive tables.';\n",
              "          element.innerHTML = '';\n",
              "          dataTable['output_type'] = 'display_data';\n",
              "          await google.colab.output.renderOutput(dataTable, element);\n",
              "          const docLink = document.createElement('div');\n",
              "          docLink.innerHTML = docLinkHtml;\n",
              "          element.appendChild(docLink);\n",
              "        }\n",
              "      </script>\n",
              "    </div>\n",
              "  </div>\n",
              "  "
            ]
          },
          "metadata": {},
          "execution_count": 210
        }
      ]
    },
    {
      "cell_type": "code",
      "source": [
        "df.info()"
      ],
      "metadata": {
        "colab": {
          "base_uri": "https://localhost:8080/"
        },
        "id": "Go8axUydksyt",
        "outputId": "24ab07a1-1ab2-482e-8dbc-384968b00c59"
      },
      "execution_count": 211,
      "outputs": [
        {
          "output_type": "stream",
          "name": "stdout",
          "text": [
            "<class 'pandas.core.frame.DataFrame'>\n",
            "RangeIndex: 10841 entries, 0 to 10840\n",
            "Data columns (total 13 columns):\n",
            " #   Column          Non-Null Count  Dtype  \n",
            "---  ------          --------------  -----  \n",
            " 0   App             10841 non-null  object \n",
            " 1   Category        10841 non-null  object \n",
            " 2   Rating          9367 non-null   float64\n",
            " 3   Reviews         10841 non-null  object \n",
            " 4   Size            10841 non-null  object \n",
            " 5   Installs        10841 non-null  object \n",
            " 6   Type            10840 non-null  object \n",
            " 7   Price           10841 non-null  object \n",
            " 8   Content Rating  10840 non-null  object \n",
            " 9   Genres          10841 non-null  object \n",
            " 10  Last Updated    10841 non-null  object \n",
            " 11  Current Ver     10833 non-null  object \n",
            " 12  Android Ver     10838 non-null  object \n",
            "dtypes: float64(1), object(12)\n",
            "memory usage: 1.1+ MB\n"
          ]
        }
      ]
    },
    {
      "cell_type": "markdown",
      "source": [
        "# Performing an exploratory data analysis on the Google Play Store dataset"
      ],
      "metadata": {
        "id": "4HyGZTmWYyHr"
      }
    },
    {
      "cell_type": "markdown",
      "source": [
        "- Exploring the data can reveal some interesting insights, so let's dive in."
      ],
      "metadata": {
        "id": "IV4Zc3chbZ5y"
      }
    },
    {
      "cell_type": "markdown",
      "source": [
        "- Check the data for any missing values and clean the data."
      ],
      "metadata": {
        "id": "1Dn3fbtmGozX"
      }
    },
    {
      "cell_type": "code",
      "source": [
        " df.isna()"
      ],
      "metadata": {
        "colab": {
          "base_uri": "https://localhost:8080/",
          "height": 423
        },
        "id": "b5s_7-55mq8M",
        "outputId": "34858983-2810-4ac8-f24b-458baafebe0e"
      },
      "execution_count": 212,
      "outputs": [
        {
          "output_type": "execute_result",
          "data": {
            "text/plain": [
              "         App  Category  Rating  Reviews   Size  Installs   Type  Price  \\\n",
              "0      False     False   False    False  False     False  False  False   \n",
              "1      False     False   False    False  False     False  False  False   \n",
              "2      False     False   False    False  False     False  False  False   \n",
              "3      False     False   False    False  False     False  False  False   \n",
              "4      False     False   False    False  False     False  False  False   \n",
              "...      ...       ...     ...      ...    ...       ...    ...    ...   \n",
              "10836  False     False   False    False  False     False  False  False   \n",
              "10837  False     False   False    False  False     False  False  False   \n",
              "10838  False     False    True    False  False     False  False  False   \n",
              "10839  False     False   False    False  False     False  False  False   \n",
              "10840  False     False   False    False  False     False  False  False   \n",
              "\n",
              "       Content Rating  Genres  Last Updated  Current Ver  Android Ver  \n",
              "0               False   False         False        False        False  \n",
              "1               False   False         False        False        False  \n",
              "2               False   False         False        False        False  \n",
              "3               False   False         False        False        False  \n",
              "4               False   False         False        False        False  \n",
              "...               ...     ...           ...          ...          ...  \n",
              "10836           False   False         False        False        False  \n",
              "10837           False   False         False        False        False  \n",
              "10838           False   False         False        False        False  \n",
              "10839           False   False         False        False        False  \n",
              "10840           False   False         False        False        False  \n",
              "\n",
              "[10841 rows x 13 columns]"
            ],
            "text/html": [
              "\n",
              "  <div id=\"df-6203e311-e12f-4d70-868f-40b2d1141128\">\n",
              "    <div class=\"colab-df-container\">\n",
              "      <div>\n",
              "<style scoped>\n",
              "    .dataframe tbody tr th:only-of-type {\n",
              "        vertical-align: middle;\n",
              "    }\n",
              "\n",
              "    .dataframe tbody tr th {\n",
              "        vertical-align: top;\n",
              "    }\n",
              "\n",
              "    .dataframe thead th {\n",
              "        text-align: right;\n",
              "    }\n",
              "</style>\n",
              "<table border=\"1\" class=\"dataframe\">\n",
              "  <thead>\n",
              "    <tr style=\"text-align: right;\">\n",
              "      <th></th>\n",
              "      <th>App</th>\n",
              "      <th>Category</th>\n",
              "      <th>Rating</th>\n",
              "      <th>Reviews</th>\n",
              "      <th>Size</th>\n",
              "      <th>Installs</th>\n",
              "      <th>Type</th>\n",
              "      <th>Price</th>\n",
              "      <th>Content Rating</th>\n",
              "      <th>Genres</th>\n",
              "      <th>Last Updated</th>\n",
              "      <th>Current Ver</th>\n",
              "      <th>Android Ver</th>\n",
              "    </tr>\n",
              "  </thead>\n",
              "  <tbody>\n",
              "    <tr>\n",
              "      <th>0</th>\n",
              "      <td>False</td>\n",
              "      <td>False</td>\n",
              "      <td>False</td>\n",
              "      <td>False</td>\n",
              "      <td>False</td>\n",
              "      <td>False</td>\n",
              "      <td>False</td>\n",
              "      <td>False</td>\n",
              "      <td>False</td>\n",
              "      <td>False</td>\n",
              "      <td>False</td>\n",
              "      <td>False</td>\n",
              "      <td>False</td>\n",
              "    </tr>\n",
              "    <tr>\n",
              "      <th>1</th>\n",
              "      <td>False</td>\n",
              "      <td>False</td>\n",
              "      <td>False</td>\n",
              "      <td>False</td>\n",
              "      <td>False</td>\n",
              "      <td>False</td>\n",
              "      <td>False</td>\n",
              "      <td>False</td>\n",
              "      <td>False</td>\n",
              "      <td>False</td>\n",
              "      <td>False</td>\n",
              "      <td>False</td>\n",
              "      <td>False</td>\n",
              "    </tr>\n",
              "    <tr>\n",
              "      <th>2</th>\n",
              "      <td>False</td>\n",
              "      <td>False</td>\n",
              "      <td>False</td>\n",
              "      <td>False</td>\n",
              "      <td>False</td>\n",
              "      <td>False</td>\n",
              "      <td>False</td>\n",
              "      <td>False</td>\n",
              "      <td>False</td>\n",
              "      <td>False</td>\n",
              "      <td>False</td>\n",
              "      <td>False</td>\n",
              "      <td>False</td>\n",
              "    </tr>\n",
              "    <tr>\n",
              "      <th>3</th>\n",
              "      <td>False</td>\n",
              "      <td>False</td>\n",
              "      <td>False</td>\n",
              "      <td>False</td>\n",
              "      <td>False</td>\n",
              "      <td>False</td>\n",
              "      <td>False</td>\n",
              "      <td>False</td>\n",
              "      <td>False</td>\n",
              "      <td>False</td>\n",
              "      <td>False</td>\n",
              "      <td>False</td>\n",
              "      <td>False</td>\n",
              "    </tr>\n",
              "    <tr>\n",
              "      <th>4</th>\n",
              "      <td>False</td>\n",
              "      <td>False</td>\n",
              "      <td>False</td>\n",
              "      <td>False</td>\n",
              "      <td>False</td>\n",
              "      <td>False</td>\n",
              "      <td>False</td>\n",
              "      <td>False</td>\n",
              "      <td>False</td>\n",
              "      <td>False</td>\n",
              "      <td>False</td>\n",
              "      <td>False</td>\n",
              "      <td>False</td>\n",
              "    </tr>\n",
              "    <tr>\n",
              "      <th>...</th>\n",
              "      <td>...</td>\n",
              "      <td>...</td>\n",
              "      <td>...</td>\n",
              "      <td>...</td>\n",
              "      <td>...</td>\n",
              "      <td>...</td>\n",
              "      <td>...</td>\n",
              "      <td>...</td>\n",
              "      <td>...</td>\n",
              "      <td>...</td>\n",
              "      <td>...</td>\n",
              "      <td>...</td>\n",
              "      <td>...</td>\n",
              "    </tr>\n",
              "    <tr>\n",
              "      <th>10836</th>\n",
              "      <td>False</td>\n",
              "      <td>False</td>\n",
              "      <td>False</td>\n",
              "      <td>False</td>\n",
              "      <td>False</td>\n",
              "      <td>False</td>\n",
              "      <td>False</td>\n",
              "      <td>False</td>\n",
              "      <td>False</td>\n",
              "      <td>False</td>\n",
              "      <td>False</td>\n",
              "      <td>False</td>\n",
              "      <td>False</td>\n",
              "    </tr>\n",
              "    <tr>\n",
              "      <th>10837</th>\n",
              "      <td>False</td>\n",
              "      <td>False</td>\n",
              "      <td>False</td>\n",
              "      <td>False</td>\n",
              "      <td>False</td>\n",
              "      <td>False</td>\n",
              "      <td>False</td>\n",
              "      <td>False</td>\n",
              "      <td>False</td>\n",
              "      <td>False</td>\n",
              "      <td>False</td>\n",
              "      <td>False</td>\n",
              "      <td>False</td>\n",
              "    </tr>\n",
              "    <tr>\n",
              "      <th>10838</th>\n",
              "      <td>False</td>\n",
              "      <td>False</td>\n",
              "      <td>True</td>\n",
              "      <td>False</td>\n",
              "      <td>False</td>\n",
              "      <td>False</td>\n",
              "      <td>False</td>\n",
              "      <td>False</td>\n",
              "      <td>False</td>\n",
              "      <td>False</td>\n",
              "      <td>False</td>\n",
              "      <td>False</td>\n",
              "      <td>False</td>\n",
              "    </tr>\n",
              "    <tr>\n",
              "      <th>10839</th>\n",
              "      <td>False</td>\n",
              "      <td>False</td>\n",
              "      <td>False</td>\n",
              "      <td>False</td>\n",
              "      <td>False</td>\n",
              "      <td>False</td>\n",
              "      <td>False</td>\n",
              "      <td>False</td>\n",
              "      <td>False</td>\n",
              "      <td>False</td>\n",
              "      <td>False</td>\n",
              "      <td>False</td>\n",
              "      <td>False</td>\n",
              "    </tr>\n",
              "    <tr>\n",
              "      <th>10840</th>\n",
              "      <td>False</td>\n",
              "      <td>False</td>\n",
              "      <td>False</td>\n",
              "      <td>False</td>\n",
              "      <td>False</td>\n",
              "      <td>False</td>\n",
              "      <td>False</td>\n",
              "      <td>False</td>\n",
              "      <td>False</td>\n",
              "      <td>False</td>\n",
              "      <td>False</td>\n",
              "      <td>False</td>\n",
              "      <td>False</td>\n",
              "    </tr>\n",
              "  </tbody>\n",
              "</table>\n",
              "<p>10841 rows × 13 columns</p>\n",
              "</div>\n",
              "      <button class=\"colab-df-convert\" onclick=\"convertToInteractive('df-6203e311-e12f-4d70-868f-40b2d1141128')\"\n",
              "              title=\"Convert this dataframe to an interactive table.\"\n",
              "              style=\"display:none;\">\n",
              "        \n",
              "  <svg xmlns=\"http://www.w3.org/2000/svg\" height=\"24px\"viewBox=\"0 0 24 24\"\n",
              "       width=\"24px\">\n",
              "    <path d=\"M0 0h24v24H0V0z\" fill=\"none\"/>\n",
              "    <path d=\"M18.56 5.44l.94 2.06.94-2.06 2.06-.94-2.06-.94-.94-2.06-.94 2.06-2.06.94zm-11 1L8.5 8.5l.94-2.06 2.06-.94-2.06-.94L8.5 2.5l-.94 2.06-2.06.94zm10 10l.94 2.06.94-2.06 2.06-.94-2.06-.94-.94-2.06-.94 2.06-2.06.94z\"/><path d=\"M17.41 7.96l-1.37-1.37c-.4-.4-.92-.59-1.43-.59-.52 0-1.04.2-1.43.59L10.3 9.45l-7.72 7.72c-.78.78-.78 2.05 0 2.83L4 21.41c.39.39.9.59 1.41.59.51 0 1.02-.2 1.41-.59l7.78-7.78 2.81-2.81c.8-.78.8-2.07 0-2.86zM5.41 20L4 18.59l7.72-7.72 1.47 1.35L5.41 20z\"/>\n",
              "  </svg>\n",
              "      </button>\n",
              "      \n",
              "  <style>\n",
              "    .colab-df-container {\n",
              "      display:flex;\n",
              "      flex-wrap:wrap;\n",
              "      gap: 12px;\n",
              "    }\n",
              "\n",
              "    .colab-df-convert {\n",
              "      background-color: #E8F0FE;\n",
              "      border: none;\n",
              "      border-radius: 50%;\n",
              "      cursor: pointer;\n",
              "      display: none;\n",
              "      fill: #1967D2;\n",
              "      height: 32px;\n",
              "      padding: 0 0 0 0;\n",
              "      width: 32px;\n",
              "    }\n",
              "\n",
              "    .colab-df-convert:hover {\n",
              "      background-color: #E2EBFA;\n",
              "      box-shadow: 0px 1px 2px rgba(60, 64, 67, 0.3), 0px 1px 3px 1px rgba(60, 64, 67, 0.15);\n",
              "      fill: #174EA6;\n",
              "    }\n",
              "\n",
              "    [theme=dark] .colab-df-convert {\n",
              "      background-color: #3B4455;\n",
              "      fill: #D2E3FC;\n",
              "    }\n",
              "\n",
              "    [theme=dark] .colab-df-convert:hover {\n",
              "      background-color: #434B5C;\n",
              "      box-shadow: 0px 1px 3px 1px rgba(0, 0, 0, 0.15);\n",
              "      filter: drop-shadow(0px 1px 2px rgba(0, 0, 0, 0.3));\n",
              "      fill: #FFFFFF;\n",
              "    }\n",
              "  </style>\n",
              "\n",
              "      <script>\n",
              "        const buttonEl =\n",
              "          document.querySelector('#df-6203e311-e12f-4d70-868f-40b2d1141128 button.colab-df-convert');\n",
              "        buttonEl.style.display =\n",
              "          google.colab.kernel.accessAllowed ? 'block' : 'none';\n",
              "\n",
              "        async function convertToInteractive(key) {\n",
              "          const element = document.querySelector('#df-6203e311-e12f-4d70-868f-40b2d1141128');\n",
              "          const dataTable =\n",
              "            await google.colab.kernel.invokeFunction('convertToInteractive',\n",
              "                                                     [key], {});\n",
              "          if (!dataTable) return;\n",
              "\n",
              "          const docLinkHtml = 'Like what you see? Visit the ' +\n",
              "            '<a target=\"_blank\" href=https://colab.research.google.com/notebooks/data_table.ipynb>data table notebook</a>'\n",
              "            + ' to learn more about interactive tables.';\n",
              "          element.innerHTML = '';\n",
              "          dataTable['output_type'] = 'display_data';\n",
              "          await google.colab.output.renderOutput(dataTable, element);\n",
              "          const docLink = document.createElement('div');\n",
              "          docLink.innerHTML = docLinkHtml;\n",
              "          element.appendChild(docLink);\n",
              "        }\n",
              "      </script>\n",
              "    </div>\n",
              "  </div>\n",
              "  "
            ]
          },
          "metadata": {},
          "execution_count": 212
        }
      ]
    },
    {
      "cell_type": "code",
      "source": [
        "#count the NaN values (the missing value in the data) \n",
        "df.isna().sum()"
      ],
      "metadata": {
        "colab": {
          "base_uri": "https://localhost:8080/"
        },
        "id": "9RdFUSHXmyLU",
        "outputId": "49b7527e-223b-465b-8b59-9c873f5ef9bf"
      },
      "execution_count": 213,
      "outputs": [
        {
          "output_type": "execute_result",
          "data": {
            "text/plain": [
              "App                  0\n",
              "Category             0\n",
              "Rating            1474\n",
              "Reviews              0\n",
              "Size                 0\n",
              "Installs             0\n",
              "Type                 1\n",
              "Price                0\n",
              "Content Rating       1\n",
              "Genres               0\n",
              "Last Updated         0\n",
              "Current Ver          8\n",
              "Android Ver          3\n",
              "dtype: int64"
            ]
          },
          "metadata": {},
          "execution_count": 213
        }
      ]
    },
    {
      "cell_type": "code",
      "source": [
        "#isna().sum() counts both NaN and None missing values, while isnull().sum() only counts NaN missing values\n",
        "df.isnull().sum()"
      ],
      "metadata": {
        "colab": {
          "base_uri": "https://localhost:8080/"
        },
        "id": "danYj2MILit1",
        "outputId": "5e939c7a-9d42-4cd7-8ffb-16a13cc670ec"
      },
      "execution_count": 214,
      "outputs": [
        {
          "output_type": "execute_result",
          "data": {
            "text/plain": [
              "App                  0\n",
              "Category             0\n",
              "Rating            1474\n",
              "Reviews              0\n",
              "Size                 0\n",
              "Installs             0\n",
              "Type                 1\n",
              "Price                0\n",
              "Content Rating       1\n",
              "Genres               0\n",
              "Last Updated         0\n",
              "Current Ver          8\n",
              "Android Ver          3\n",
              "dtype: int64"
            ]
          },
          "metadata": {},
          "execution_count": 214
        }
      ]
    },
    {
      "cell_type": "code",
      "source": [
        "#Return boolean Series denoting duplicate rows\n",
        "df.duplicated()"
      ],
      "metadata": {
        "colab": {
          "base_uri": "https://localhost:8080/"
        },
        "id": "X9Fi9dQCefRT",
        "outputId": "a9de41b9-f0fa-4de6-d5c4-730dc8689980"
      },
      "execution_count": 215,
      "outputs": [
        {
          "output_type": "execute_result",
          "data": {
            "text/plain": [
              "0        False\n",
              "1        False\n",
              "2        False\n",
              "3        False\n",
              "4        False\n",
              "         ...  \n",
              "10836    False\n",
              "10837    False\n",
              "10838    False\n",
              "10839    False\n",
              "10840    False\n",
              "Length: 10841, dtype: bool"
            ]
          },
          "metadata": {},
          "execution_count": 215
        }
      ]
    },
    {
      "cell_type": "code",
      "source": [
        "# delete rows with missing values\n",
        "\n",
        "df.dropna(inplace=True)\n",
        "df.isna().sum()"
      ],
      "metadata": {
        "colab": {
          "base_uri": "https://localhost:8080/"
        },
        "id": "Cl_suiFtb8q4",
        "outputId": "477e5935-2b74-4ed6-c606-7bd4ba111a1f"
      },
      "execution_count": 216,
      "outputs": [
        {
          "output_type": "execute_result",
          "data": {
            "text/plain": [
              "App               0\n",
              "Category          0\n",
              "Rating            0\n",
              "Reviews           0\n",
              "Size              0\n",
              "Installs          0\n",
              "Type              0\n",
              "Price             0\n",
              "Content Rating    0\n",
              "Genres            0\n",
              "Last Updated      0\n",
              "Current Ver       0\n",
              "Android Ver       0\n",
              "dtype: int64"
            ]
          },
          "metadata": {},
          "execution_count": 216
        }
      ]
    },
    {
      "cell_type": "code",
      "source": [
        "# delete duplicates\n",
        "\n",
        "df.drop_duplicates(inplace=True)"
      ],
      "metadata": {
        "id": "mJ79LENLciVv"
      },
      "execution_count": 217,
      "outputs": []
    },
    {
      "cell_type": "code",
      "source": [
        "# Inspect the data types of all columns\n",
        "df.dtypes"
      ],
      "metadata": {
        "colab": {
          "base_uri": "https://localhost:8080/"
        },
        "id": "GTZQ7ZSlawtt",
        "outputId": "3599f3c9-d6ce-45d0-cd66-3dbb82ee4069"
      },
      "execution_count": 218,
      "outputs": [
        {
          "output_type": "execute_result",
          "data": {
            "text/plain": [
              "App                object\n",
              "Category           object\n",
              "Rating            float64\n",
              "Reviews            object\n",
              "Size               object\n",
              "Installs           object\n",
              "Type               object\n",
              "Price              object\n",
              "Content Rating     object\n",
              "Genres             object\n",
              "Last Updated       object\n",
              "Current Ver        object\n",
              "Android Ver        object\n",
              "dtype: object"
            ]
          },
          "metadata": {},
          "execution_count": 218
        }
      ]
    },
    {
      "cell_type": "code",
      "source": [
        "# Check the correlation between columns\n",
        "corr = df.corr()\n",
        "sns.heatmap(corr, annot=True)\n",
        "plt.show()"
      ],
      "metadata": {
        "colab": {
          "base_uri": "https://localhost:8080/",
          "height": 528
        },
        "id": "tCByV52OyHs1",
        "outputId": "74583a9d-640f-49bc-c63f-04d65fb76ff2"
      },
      "execution_count": 219,
      "outputs": [
        {
          "output_type": "stream",
          "name": "stderr",
          "text": [
            "<ipython-input-219-4d3d24ddbcc7>:2: FutureWarning:\n",
            "\n",
            "The default value of numeric_only in DataFrame.corr is deprecated. In a future version, it will default to False. Select only valid columns or specify the value of numeric_only to silence this warning.\n",
            "\n"
          ]
        },
        {
          "output_type": "display_data",
          "data": {
            "text/plain": [
              "<Figure size 640x480 with 2 Axes>"
            ],
            "image/png": "[encoded data removed]"
          },
          "metadata": {}
        }
      ]
    },
    {
      "cell_type": "markdown",
      "source": [
        "# - One numeric column in the Dataframe.\n",
        "# - the correlation of a variable with itself is 1."
      ],
      "metadata": {
        "id": "m9EEOROpFPQ-"
      }
    },
    {
      "cell_type": "code",
      "source": [
        "cat=df.Category.unique()\n",
        "cat\n"
      ],
      "metadata": {
        "colab": {
          "base_uri": "https://localhost:8080/"
        },
        "id": "Fdw7kBPAXt4H",
        "outputId": "138c2b3a-caca-48ed-fa34-891b5670a460"
      },
      "execution_count": 220,
      "outputs": [
        {
          "output_type": "execute_result",
          "data": {
            "text/plain": [
              "array(['ART_AND_DESIGN', 'AUTO_AND_VEHICLES', 'BEAUTY',\n",
              "       'BOOKS_AND_REFERENCE', 'BUSINESS', 'COMICS', 'COMMUNICATION',\n",
              "       'DATING', 'EDUCATION', 'ENTERTAINMENT', 'EVENTS', 'FINANCE',\n",
              "       'FOOD_AND_DRINK', 'HEALTH_AND_FITNESS', 'HOUSE_AND_HOME',\n",
              "       'LIBRARIES_AND_DEMO', 'LIFESTYLE', 'GAME', 'FAMILY', 'MEDICAL',\n",
              "       'SOCIAL', 'SHOPPING', 'PHOTOGRAPHY', 'SPORTS', 'TRAVEL_AND_LOCAL',\n",
              "       'TOOLS', 'PERSONALIZATION', 'PRODUCTIVITY', 'PARENTING', 'WEATHER',\n",
              "       'VIDEO_PLAYERS', 'NEWS_AND_MAGAZINES', 'MAPS_AND_NAVIGATION'],\n",
              "      dtype=object)"
            ]
          },
          "metadata": {},
          "execution_count": 220
        }
      ]
    },
    {
      "cell_type": "code",
      "source": [
        "len(cat)"
      ],
      "metadata": {
        "colab": {
          "base_uri": "https://localhost:8080/"
        },
        "id": "enEshaEKZSbS",
        "outputId": "42819401-505e-4674-fb6f-6ebe8b5b1686"
      },
      "execution_count": 221,
      "outputs": [
        {
          "output_type": "execute_result",
          "data": {
            "text/plain": [
              "33"
            ]
          },
          "metadata": {},
          "execution_count": 221
        }
      ]
    },
    {
      "cell_type": "markdown",
      "source": [
        "# - There are 33 categories in the dataset. Let's find out which category is the most commonly occurring."
      ],
      "metadata": {
        "id": "2XnCdHnIgBYn"
      }
    },
    {
      "cell_type": "code",
      "source": [
        "topCat = df.groupby(by = [\"Category\"]).size().reset_index(name=\"Count\")\n",
        "topCat"
      ],
      "metadata": {
        "colab": {
          "base_uri": "https://localhost:8080/",
          "height": 1000
        },
        "id": "hvUkWJXBbV9G",
        "outputId": "a0b777fd-06a6-4591-d6ed-d71e995420b9"
      },
      "execution_count": 222,
      "outputs": [
        {
          "output_type": "execute_result",
          "data": {
            "text/plain": [
              "               Category  Count\n",
              "0        ART_AND_DESIGN     61\n",
              "1     AUTO_AND_VEHICLES     73\n",
              "2                BEAUTY     42\n",
              "3   BOOKS_AND_REFERENCE    177\n",
              "4              BUSINESS    270\n",
              "5                COMICS     58\n",
              "6         COMMUNICATION    307\n",
              "7                DATING    159\n",
              "8             EDUCATION    129\n",
              "9         ENTERTAINMENT    111\n",
              "10               EVENTS     45\n",
              "11               FAMILY   1717\n",
              "12              FINANCE    317\n",
              "13       FOOD_AND_DRINK    106\n",
              "14                 GAME   1074\n",
              "15   HEALTH_AND_FITNESS    262\n",
              "16       HOUSE_AND_HOME     68\n",
              "17   LIBRARIES_AND_DEMO     64\n",
              "18            LIFESTYLE    305\n",
              "19  MAPS_AND_NAVIGATION    124\n",
              "20              MEDICAL    302\n",
              "21   NEWS_AND_MAGAZINES    214\n",
              "22            PARENTING     50\n",
              "23      PERSONALIZATION    308\n",
              "24          PHOTOGRAPHY    304\n",
              "25         PRODUCTIVITY    334\n",
              "26             SHOPPING    202\n",
              "27               SOCIAL    244\n",
              "28               SPORTS    286\n",
              "29                TOOLS    733\n",
              "30     TRAVEL_AND_LOCAL    205\n",
              "31        VIDEO_PLAYERS    160\n",
              "32              WEATHER     75"
            ],
            "text/html": [
              "\n",
              "  <div id=\"df-1462f145-0a86-46b5-a73d-c6d6a4d40558\">\n",
              "    <div class=\"colab-df-container\">\n",
              "      <div>\n",
              "<style scoped>\n",
              "    .dataframe tbody tr th:only-of-type {\n",
              "        vertical-align: middle;\n",
              "    }\n",
              "\n",
              "    .dataframe tbody tr th {\n",
              "        vertical-align: top;\n",
              "    }\n",
              "\n",
              "    .dataframe thead th {\n",
              "        text-align: right;\n",
              "    }\n",
              "</style>\n",
              "<table border=\"1\" class=\"dataframe\">\n",
              "  <thead>\n",
              "    <tr style=\"text-align: right;\">\n",
              "      <th></th>\n",
              "      <th>Category</th>\n",
              "      <th>Count</th>\n",
              "    </tr>\n",
              "  </thead>\n",
              "  <tbody>\n",
              "    <tr>\n",
              "      <th>0</th>\n",
              "      <td>ART_AND_DESIGN</td>\n",
              "      <td>61</td>\n",
              "    </tr>\n",
              "    <tr>\n",
              "      <th>1</th>\n",
              "      <td>AUTO_AND_VEHICLES</td>\n",
              "      <td>73</td>\n",
              "    </tr>\n",
              "    <tr>\n",
              "      <th>2</th>\n",
              "      <td>BEAUTY</td>\n",
              "      <td>42</td>\n",
              "    </tr>\n",
              "    <tr>\n",
              "      <th>3</th>\n",
              "      <td>BOOKS_AND_REFERENCE</td>\n",
              "      <td>177</td>\n",
              "    </tr>\n",
              "    <tr>\n",
              "      <th>4</th>\n",
              "      <td>BUSINESS</td>\n",
              "      <td>270</td>\n",
              "    </tr>\n",
              "    <tr>\n",
              "      <th>5</th>\n",
              "      <td>COMICS</td>\n",
              "      <td>58</td>\n",
              "    </tr>\n",
              "    <tr>\n",
              "      <th>6</th>\n",
              "      <td>COMMUNICATION</td>\n",
              "      <td>307</td>\n",
              "    </tr>\n",
              "    <tr>\n",
              "      <th>7</th>\n",
              "      <td>DATING</td>\n",
              "      <td>159</td>\n",
              "    </tr>\n",
              "    <tr>\n",
              "      <th>8</th>\n",
              "      <td>EDUCATION</td>\n",
              "      <td>129</td>\n",
              "    </tr>\n",
              "    <tr>\n",
              "      <th>9</th>\n",
              "      <td>ENTERTAINMENT</td>\n",
              "      <td>111</td>\n",
              "    </tr>\n",
              "    <tr>\n",
              "      <th>10</th>\n",
              "      <td>EVENTS</td>\n",
              "      <td>45</td>\n",
              "    </tr>\n",
              "    <tr>\n",
              "      <th>11</th>\n",
              "      <td>FAMILY</td>\n",
              "      <td>1717</td>\n",
              "    </tr>\n",
              "    <tr>\n",
              "      <th>12</th>\n",
              "      <td>FINANCE</td>\n",
              "      <td>317</td>\n",
              "    </tr>\n",
              "    <tr>\n",
              "      <th>13</th>\n",
              "      <td>FOOD_AND_DRINK</td>\n",
              "      <td>106</td>\n",
              "    </tr>\n",
              "    <tr>\n",
              "      <th>14</th>\n",
              "      <td>GAME</td>\n",
              "      <td>1074</td>\n",
              "    </tr>\n",
              "    <tr>\n",
              "      <th>15</th>\n",
              "      <td>HEALTH_AND_FITNESS</td>\n",
              "      <td>262</td>\n",
              "    </tr>\n",
              "    <tr>\n",
              "      <th>16</th>\n",
              "      <td>HOUSE_AND_HOME</td>\n",
              "      <td>68</td>\n",
              "    </tr>\n",
              "    <tr>\n",
              "      <th>17</th>\n",
              "      <td>LIBRARIES_AND_DEMO</td>\n",
              "      <td>64</td>\n",
              "    </tr>\n",
              "    <tr>\n",
              "      <th>18</th>\n",
              "      <td>LIFESTYLE</td>\n",
              "      <td>305</td>\n",
              "    </tr>\n",
              "    <tr>\n",
              "      <th>19</th>\n",
              "      <td>MAPS_AND_NAVIGATION</td>\n",
              "      <td>124</td>\n",
              "    </tr>\n",
              "    <tr>\n",
              "      <th>20</th>\n",
              "      <td>MEDICAL</td>\n",
              "      <td>302</td>\n",
              "    </tr>\n",
              "    <tr>\n",
              "      <th>21</th>\n",
              "      <td>NEWS_AND_MAGAZINES</td>\n",
              "      <td>214</td>\n",
              "    </tr>\n",
              "    <tr>\n",
              "      <th>22</th>\n",
              "      <td>PARENTING</td>\n",
              "      <td>50</td>\n",
              "    </tr>\n",
              "    <tr>\n",
              "      <th>23</th>\n",
              "      <td>PERSONALIZATION</td>\n",
              "      <td>308</td>\n",
              "    </tr>\n",
              "    <tr>\n",
              "      <th>24</th>\n",
              "      <td>PHOTOGRAPHY</td>\n",
              "      <td>304</td>\n",
              "    </tr>\n",
              "    <tr>\n",
              "      <th>25</th>\n",
              "      <td>PRODUCTIVITY</td>\n",
              "      <td>334</td>\n",
              "    </tr>\n",
              "    <tr>\n",
              "      <th>26</th>\n",
              "      <td>SHOPPING</td>\n",
              "      <td>202</td>\n",
              "    </tr>\n",
              "    <tr>\n",
              "      <th>27</th>\n",
              "      <td>SOCIAL</td>\n",
              "      <td>244</td>\n",
              "    </tr>\n",
              "    <tr>\n",
              "      <th>28</th>\n",
              "      <td>SPORTS</td>\n",
              "      <td>286</td>\n",
              "    </tr>\n",
              "    <tr>\n",
              "      <th>29</th>\n",
              "      <td>TOOLS</td>\n",
              "      <td>733</td>\n",
              "    </tr>\n",
              "    <tr>\n",
              "      <th>30</th>\n",
              "      <td>TRAVEL_AND_LOCAL</td>\n",
              "      <td>205</td>\n",
              "    </tr>\n",
              "    <tr>\n",
              "      <th>31</th>\n",
              "      <td>VIDEO_PLAYERS</td>\n",
              "      <td>160</td>\n",
              "    </tr>\n",
              "    <tr>\n",
              "      <th>32</th>\n",
              "      <td>WEATHER</td>\n",
              "      <td>75</td>\n",
              "    </tr>\n",
              "  </tbody>\n",
              "</table>\n",
              "</div>\n",
              "      <button class=\"colab-df-convert\" onclick=\"convertToInteractive('df-1462f145-0a86-46b5-a73d-c6d6a4d40558')\"\n",
              "              title=\"Convert this dataframe to an interactive table.\"\n",
              "              style=\"display:none;\">\n",
              "        \n",
              "  <svg xmlns=\"http://www.w3.org/2000/svg\" height=\"24px\"viewBox=\"0 0 24 24\"\n",
              "       width=\"24px\">\n",
              "    <path d=\"M0 0h24v24H0V0z\" fill=\"none\"/>\n",
              "    <path d=\"M18.56 5.44l.94 2.06.94-2.06 2.06-.94-2.06-.94-.94-2.06-.94 2.06-2.06.94zm-11 1L8.5 8.5l.94-2.06 2.06-.94-2.06-.94L8.5 2.5l-.94 2.06-2.06.94zm10 10l.94 2.06.94-2.06 2.06-.94-2.06-.94-.94-2.06-.94 2.06-2.06.94z\"/><path d=\"M17.41 7.96l-1.37-1.37c-.4-.4-.92-.59-1.43-.59-.52 0-1.04.2-1.43.59L10.3 9.45l-7.72 7.72c-.78.78-.78 2.05 0 2.83L4 21.41c.39.39.9.59 1.41.59.51 0 1.02-.2 1.41-.59l7.78-7.78 2.81-2.81c.8-.78.8-2.07 0-2.86zM5.41 20L4 18.59l7.72-7.72 1.47 1.35L5.41 20z\"/>\n",
              "  </svg>\n",
              "      </button>\n",
              "      \n",
              "  <style>\n",
              "    .colab-df-container {\n",
              "      display:flex;\n",
              "      flex-wrap:wrap;\n",
              "      gap: 12px;\n",
              "    }\n",
              "\n",
              "    .colab-df-convert {\n",
              "      background-color: #E8F0FE;\n",
              "      border: none;\n",
              "      border-radius: 50%;\n",
              "      cursor: pointer;\n",
              "      display: none;\n",
              "      fill: #1967D2;\n",
              "      height: 32px;\n",
              "      padding: 0 0 0 0;\n",
              "      width: 32px;\n",
              "    }\n",
              "\n",
              "    .colab-df-convert:hover {\n",
              "      background-color: #E2EBFA;\n",
              "      box-shadow: 0px 1px 2px rgba(60, 64, 67, 0.3), 0px 1px 3px 1px rgba(60, 64, 67, 0.15);\n",
              "      fill: #174EA6;\n",
              "    }\n",
              "\n",
              "    [theme=dark] .colab-df-convert {\n",
              "      background-color: #3B4455;\n",
              "      fill: #D2E3FC;\n",
              "    }\n",
              "\n",
              "    [theme=dark] .colab-df-convert:hover {\n",
              "      background-color: #434B5C;\n",
              "      box-shadow: 0px 1px 3px 1px rgba(0, 0, 0, 0.15);\n",
              "      filter: drop-shadow(0px 1px 2px rgba(0, 0, 0, 0.3));\n",
              "      fill: #FFFFFF;\n",
              "    }\n",
              "  </style>\n",
              "\n",
              "      <script>\n",
              "        const buttonEl =\n",
              "          document.querySelector('#df-1462f145-0a86-46b5-a73d-c6d6a4d40558 button.colab-df-convert');\n",
              "        buttonEl.style.display =\n",
              "          google.colab.kernel.accessAllowed ? 'block' : 'none';\n",
              "\n",
              "        async function convertToInteractive(key) {\n",
              "          const element = document.querySelector('#df-1462f145-0a86-46b5-a73d-c6d6a4d40558');\n",
              "          const dataTable =\n",
              "            await google.colab.kernel.invokeFunction('convertToInteractive',\n",
              "                                                     [key], {});\n",
              "          if (!dataTable) return;\n",
              "\n",
              "          const docLinkHtml = 'Like what you see? Visit the ' +\n",
              "            '<a target=\"_blank\" href=https://colab.research.google.com/notebooks/data_table.ipynb>data table notebook</a>'\n",
              "            + ' to learn more about interactive tables.';\n",
              "          element.innerHTML = '';\n",
              "          dataTable['output_type'] = 'display_data';\n",
              "          await google.colab.output.renderOutput(dataTable, element);\n",
              "          const docLink = document.createElement('div');\n",
              "          docLink.innerHTML = docLinkHtml;\n",
              "          element.appendChild(docLink);\n",
              "        }\n",
              "      </script>\n",
              "    </div>\n",
              "  </div>\n",
              "  "
            ]
          },
          "metadata": {},
          "execution_count": 222
        }
      ]
    },
    {
      "cell_type": "code",
      "source": [
        "figure = px.bar(topCat,x='Category',y='Count',title='Categorization of Apps',height = 800)\n",
        "figure.show()"
      ],
      "metadata": {
        "colab": {
          "base_uri": "https://localhost:8080/",
          "height": 817
        },
        "id": "aMngPFVLdaAh",
        "outputId": "16759bbc-81b5-4bde-e2d9-bcf5faf0f570"
      },
      "execution_count": 223,
      "outputs": [
        {
          "output_type": "display_data",
          "data": {
            "text/html": [
              "<html>\n",
              "<head><meta charset=\"utf-8\" /></head>\n",
              "<body>\n",
              "    <div>            <script src=\"https://cdnjs.cloudflare.com/ajax/libs/mathjax/2.7.5/MathJax.js?config=TeX-AMS-MML_SVG\"></script><script type=\"text/javascript\">if (window.MathJax && window.MathJax.Hub && window.MathJax.Hub.Config) {window.MathJax.Hub.Config({SVG: {font: \"STIX-Web\"}});}</script>                <script type=\"text/javascript\">window.PlotlyConfig = {MathJaxConfig: 'local'};</script>\n",
              "        <script src=\"https://cdn.plot.ly/plotly-2.18.2.min.js\"></script>                <div id=\"2a784205-93b3-4c38-99a9-03c8249bceef\" class=\"plotly-graph-div\" style=\"height:800px; width:100%;\"></div>            <script type=\"text/javascript\">                                    window.PLOTLYENV=window.PLOTLYENV || {};                                    if (document.getElementById(\"2a784205-93b3-4c38-99a9-03c8249bceef\")) {                    Plotly.newPlot(                        \"2a784205-93b3-4c38-99a9-03c8249bceef\",                        [{\"alignmentgroup\":\"True\",\"hovertemplate\":\"Category=%{x}<br>Count=%{y}<extra></extra>\",\"legendgroup\":\"\",\"marker\":{\"color\":\"#636efa\",\"pattern\":{\"shape\":\"\"}},\"name\":\"\",\"offsetgroup\":\"\",\"orientation\":\"v\",\"showlegend\":false,\"textposition\":\"auto\",\"x\":[\"ART_AND_DESIGN\",\"AUTO_AND_VEHICLES\",\"BEAUTY\",\"BOOKS_AND_REFERENCE\",\"BUSINESS\",\"COMICS\",\"COMMUNICATION\",\"DATING\",\"EDUCATION\",\"ENTERTAINMENT\",\"EVENTS\",\"FAMILY\",\"FINANCE\",\"FOOD_AND_DRINK\",\"GAME\",\"HEALTH_AND_FITNESS\",\"HOUSE_AND_HOME\",\"LIBRARIES_AND_DEMO\",\"LIFESTYLE\",\"MAPS_AND_NAVIGATION\",\"MEDICAL\",\"NEWS_AND_MAGAZINES\",\"PARENTING\",\"PERSONALIZATION\",\"PHOTOGRAPHY\",\"PRODUCTIVITY\",\"SHOPPING\",\"SOCIAL\",\"SPORTS\",\"TOOLS\",\"TRAVEL_AND_LOCAL\",\"VIDEO_PLAYERS\",\"WEATHER\"],\"xaxis\":\"x\",\"y\":[61,73,42,177,270,58,307,159,129,111,45,1717,317,106,1074,262,68,64,305,124,302,214,50,308,304,334,202,244,286,733,205,160,75],\"yaxis\":\"y\",\"type\":\"bar\"}],                        {\"template\":{\"data\":{\"histogram2dcontour\":[{\"type\":\"histogram2dcontour\",\"colorbar\":{\"outlinewidth\":0,\"ticks\":\"\"},\"colorscale\":[[0.0,\"#0d0887\"],[0.1111111111111111,\"#46039f\"],[0.2222222222222222,\"#7201a8\"],[0.3333333333333333,\"#9c179e\"],[0.4444444444444444,\"#bd3786\"],[0.5555555555555556,\"#d8576b\"],[0.6666666666666666,\"#ed7953\"],[0.7777777777777778,\"#fb9f3a\"],[0.8888888888888888,\"#fdca26\"],[1.0,\"#f0f921\"]]}],\"choropleth\":[{\"type\":\"choropleth\",\"colorbar\":{\"outlinewidth\":0,\"ticks\":\"\"}}],\"histogram2d\":[{\"type\":\"histogram2d\",\"colorbar\":{\"outlinewidth\":0,\"ticks\":\"\"},\"colorscale\":[[0.0,\"#0d0887\"],[0.1111111111111111,\"#46039f\"],[0.2222222222222222,\"#7201a8\"],[0.3333333333333333,\"#9c179e\"],[0.4444444444444444,\"#bd3786\"],[0.5555555555555556,\"#d8576b\"],[0.6666666666666666,\"#ed7953\"],[0.7777777777777778,\"#fb9f3a\"],[0.8888888888888888,\"#fdca26\"],[1.0,\"#f0f921\"]]}],\"heatmap\":[{\"type\":\"heatmap\",\"colorbar\":{\"outlinewidth\":0,\"ticks\":\"\"},\"colorscale\":[[0.0,\"#0d0887\"],[0.1111111111111111,\"#46039f\"],[0.2222222222222222,\"#7201a8\"],[0.3333333333333333,\"#9c179e\"],[0.4444444444444444,\"#bd3786\"],[0.5555555555555556,\"#d8576b\"],[0.6666666666666666,\"#ed7953\"],[0.7777777777777778,\"#fb9f3a\"],[0.8888888888888888,\"#fdca26\"],[1.0,\"#f0f921\"]]}],\"heatmapgl\":[{\"type\":\"heatmapgl\",\"colorbar\":{\"outlinewidth\":0,\"ticks\":\"\"},\"colorscale\":[[0.0,\"#0d0887\"],[0.1111111111111111,\"#46039f\"],[0.2222222222222222,\"#7201a8\"],[0.3333333333333333,\"#9c179e\"],[0.4444444444444444,\"#bd3786\"],[0.5555555555555556,\"#d8576b\"],[0.6666666666666666,\"#ed7953\"],[0.7777777777777778,\"#fb9f3a\"],[0.8888888888888888,\"#fdca26\"],[1.0,\"#f0f921\"]]}],\"contourcarpet\":[{\"type\":\"contourcarpet\",\"colorbar\":{\"outlinewidth\":0,\"ticks\":\"\"}}],\"contour\":[{\"type\":\"contour\",\"colorbar\":{\"outlinewidth\":0,\"ticks\":\"\"},\"colorscale\":[[0.0,\"#0d0887\"],[0.1111111111111111,\"#46039f\"],[0.2222222222222222,\"#7201a8\"],[0.3333333333333333,\"#9c179e\"],[0.4444444444444444,\"#bd3786\"],[0.5555555555555556,\"#d8576b\"],[0.6666666666666666,\"#ed7953\"],[0.7777777777777778,\"#fb9f3a\"],[0.8888888888888888,\"#fdca26\"],[1.0,\"#f0f921\"]]}],\"surface\":[{\"type\":\"surface\",\"colorbar\":{\"outlinewidth\":0,\"ticks\":\"\"},\"colorscale\":[[0.0,\"#0d0887\"],[0.1111111111111111,\"#46039f\"],[0.2222222222222222,\"#7201a8\"],[0.3333333333333333,\"#9c179e\"],[0.4444444444444444,\"#bd3786\"],[0.5555555555555556,\"#d8576b\"],[0.6666666666666666,\"#ed7953\"],[0.7777777777777778,\"#fb9f3a\"],[0.8888888888888888,\"#fdca26\"],[1.0,\"#f0f921\"]]}],\"mesh3d\":[{\"type\":\"mesh3d\",\"colorbar\":{\"outlinewidth\":0,\"ticks\":\"\"}}],\"scatter\":[{\"fillpattern\":{\"fillmode\":\"overlay\",\"size\":10,\"solidity\":0.2},\"type\":\"scatter\"}],\"parcoords\":[{\"type\":\"parcoords\",\"line\":{\"colorbar\":{\"outlinewidth\":0,\"ticks\":\"\"}}}],\"scatterpolargl\":[{\"type\":\"scatterpolargl\",\"marker\":{\"colorbar\":{\"outlinewidth\":0,\"ticks\":\"\"}}}],\"bar\":[{\"error_x\":{\"color\":\"#2a3f5f\"},\"error_y\":{\"color\":\"#2a3f5f\"},\"marker\":{\"line\":{\"color\":\"#E5ECF6\",\"width\":0.5},\"pattern\":{\"fillmode\":\"overlay\",\"size\":10,\"solidity\":0.2}},\"type\":\"bar\"}],\"scattergeo\":[{\"type\":\"scattergeo\",\"marker\":{\"colorbar\":{\"outlinewidth\":0,\"ticks\":\"\"}}}],\"scatterpolar\":[{\"type\":\"scatterpolar\",\"marker\":{\"colorbar\":{\"outlinewidth\":0,\"ticks\":\"\"}}}],\"histogram\":[{\"marker\":{\"pattern\":{\"fillmode\":\"overlay\",\"size\":10,\"solidity\":0.2}},\"type\":\"histogram\"}],\"scattergl\":[{\"type\":\"scattergl\",\"marker\":{\"colorbar\":{\"outlinewidth\":0,\"ticks\":\"\"}}}],\"scatter3d\":[{\"type\":\"scatter3d\",\"line\":{\"colorbar\":{\"outlinewidth\":0,\"ticks\":\"\"}},\"marker\":{\"colorbar\":{\"outlinewidth\":0,\"ticks\":\"\"}}}],\"scattermapbox\":[{\"type\":\"scattermapbox\",\"marker\":{\"colorbar\":{\"outlinewidth\":0,\"ticks\":\"\"}}}],\"scatterternary\":[{\"type\":\"scatterternary\",\"marker\":{\"colorbar\":{\"outlinewidth\":0,\"ticks\":\"\"}}}],\"scattercarpet\":[{\"type\":\"scattercarpet\",\"marker\":{\"colorbar\":{\"outlinewidth\":0,\"ticks\":\"\"}}}],\"carpet\":[{\"aaxis\":{\"endlinecolor\":\"#2a3f5f\",\"gridcolor\":\"white\",\"linecolor\":\"white\",\"minorgridcolor\":\"white\",\"startlinecolor\":\"#2a3f5f\"},\"baxis\":{\"endlinecolor\":\"#2a3f5f\",\"gridcolor\":\"white\",\"linecolor\":\"white\",\"minorgridcolor\":\"white\",\"startlinecolor\":\"#2a3f5f\"},\"type\":\"carpet\"}],\"table\":[{\"cells\":{\"fill\":{\"color\":\"#EBF0F8\"},\"line\":{\"color\":\"white\"}},\"header\":{\"fill\":{\"color\":\"#C8D4E3\"},\"line\":{\"color\":\"white\"}},\"type\":\"table\"}],\"barpolar\":[{\"marker\":{\"line\":{\"color\":\"#E5ECF6\",\"width\":0.5},\"pattern\":{\"fillmode\":\"overlay\",\"size\":10,\"solidity\":0.2}},\"type\":\"barpolar\"}],\"pie\":[{\"automargin\":true,\"type\":\"pie\"}]},\"layout\":{\"autotypenumbers\":\"strict\",\"colorway\":[\"#636efa\",\"#EF553B\",\"#00cc96\",\"#ab63fa\",\"#FFA15A\",\"#19d3f3\",\"#FF6692\",\"#B6E880\",\"#FF97FF\",\"#FECB52\"],\"font\":{\"color\":\"#2a3f5f\"},\"hovermode\":\"closest\",\"hoverlabel\":{\"align\":\"left\"},\"paper_bgcolor\":\"white\",\"plot_bgcolor\":\"#E5ECF6\",\"polar\":{\"bgcolor\":\"#E5ECF6\",\"angularaxis\":{\"gridcolor\":\"white\",\"linecolor\":\"white\",\"ticks\":\"\"},\"radialaxis\":{\"gridcolor\":\"white\",\"linecolor\":\"white\",\"ticks\":\"\"}},\"ternary\":{\"bgcolor\":\"#E5ECF6\",\"aaxis\":{\"gridcolor\":\"white\",\"linecolor\":\"white\",\"ticks\":\"\"},\"baxis\":{\"gridcolor\":\"white\",\"linecolor\":\"white\",\"ticks\":\"\"},\"caxis\":{\"gridcolor\":\"white\",\"linecolor\":\"white\",\"ticks\":\"\"}},\"coloraxis\":{\"colorbar\":{\"outlinewidth\":0,\"ticks\":\"\"}},\"colorscale\":{\"sequential\":[[0.0,\"#0d0887\"],[0.1111111111111111,\"#46039f\"],[0.2222222222222222,\"#7201a8\"],[0.3333333333333333,\"#9c179e\"],[0.4444444444444444,\"#bd3786\"],[0.5555555555555556,\"#d8576b\"],[0.6666666666666666,\"#ed7953\"],[0.7777777777777778,\"#fb9f3a\"],[0.8888888888888888,\"#fdca26\"],[1.0,\"#f0f921\"]],\"sequentialminus\":[[0.0,\"#0d0887\"],[0.1111111111111111,\"#46039f\"],[0.2222222222222222,\"#7201a8\"],[0.3333333333333333,\"#9c179e\"],[0.4444444444444444,\"#bd3786\"],[0.5555555555555556,\"#d8576b\"],[0.6666666666666666,\"#ed7953\"],[0.7777777777777778,\"#fb9f3a\"],[0.8888888888888888,\"#fdca26\"],[1.0,\"#f0f921\"]],\"diverging\":[[0,\"#8e0152\"],[0.1,\"#c51b7d\"],[0.2,\"#de77ae\"],[0.3,\"#f1b6da\"],[0.4,\"#fde0ef\"],[0.5,\"#f7f7f7\"],[0.6,\"#e6f5d0\"],[0.7,\"#b8e186\"],[0.8,\"#7fbc41\"],[0.9,\"#4d9221\"],[1,\"#276419\"]]},\"xaxis\":{\"gridcolor\":\"white\",\"linecolor\":\"white\",\"ticks\":\"\",\"title\":{\"standoff\":15},\"zerolinecolor\":\"white\",\"automargin\":true,\"zerolinewidth\":2},\"yaxis\":{\"gridcolor\":\"white\",\"linecolor\":\"white\",\"ticks\":\"\",\"title\":{\"standoff\":15},\"zerolinecolor\":\"white\",\"automargin\":true,\"zerolinewidth\":2},\"scene\":{\"xaxis\":{\"backgroundcolor\":\"#E5ECF6\",\"gridcolor\":\"white\",\"linecolor\":\"white\",\"showbackground\":true,\"ticks\":\"\",\"zerolinecolor\":\"white\",\"gridwidth\":2},\"yaxis\":{\"backgroundcolor\":\"#E5ECF6\",\"gridcolor\":\"white\",\"linecolor\":\"white\",\"showbackground\":true,\"ticks\":\"\",\"zerolinecolor\":\"white\",\"gridwidth\":2},\"zaxis\":{\"backgroundcolor\":\"#E5ECF6\",\"gridcolor\":\"white\",\"linecolor\":\"white\",\"showbackground\":true,\"ticks\":\"\",\"zerolinecolor\":\"white\",\"gridwidth\":2}},\"shapedefaults\":{\"line\":{\"color\":\"#2a3f5f\"}},\"annotationdefaults\":{\"arrowcolor\":\"#2a3f5f\",\"arrowhead\":0,\"arrowwidth\":1},\"geo\":{\"bgcolor\":\"white\",\"landcolor\":\"#E5ECF6\",\"subunitcolor\":\"white\",\"showland\":true,\"showlakes\":true,\"lakecolor\":\"white\"},\"title\":{\"x\":0.05},\"mapbox\":{\"style\":\"light\"}}},\"xaxis\":{\"anchor\":\"y\",\"domain\":[0.0,1.0],\"title\":{\"text\":\"Category\"}},\"yaxis\":{\"anchor\":\"x\",\"domain\":[0.0,1.0],\"title\":{\"text\":\"Count\"}},\"legend\":{\"tracegroupgap\":0},\"title\":{\"text\":\"Categorization of Apps\"},\"barmode\":\"relative\",\"height\":800},                        {\"responsive\": true}                    ).then(function(){\n",
              "                            \n",
              "var gd = document.getElementById('2a784205-93b3-4c38-99a9-03c8249bceef');\n",
              "var x = new MutationObserver(function (mutations, observer) {{\n",
              "        var display = window.getComputedStyle(gd).display;\n",
              "        if (!display || display === 'none') {{\n",
              "            console.log([gd, 'removed!']);\n",
              "            Plotly.purge(gd);\n",
              "            observer.disconnect();\n",
              "        }}\n",
              "}});\n",
              "\n",
              "// Listen for the removal of the full notebook cells\n",
              "var notebookContainer = gd.closest('#notebook-container');\n",
              "if (notebookContainer) {{\n",
              "    x.observe(notebookContainer, {childList: true});\n",
              "}}\n",
              "\n",
              "// Listen for the clearing of the current output cell\n",
              "var outputEl = gd.closest('.output');\n",
              "if (outputEl) {{\n",
              "    x.observe(outputEl, {childList: true});\n",
              "}}\n",
              "\n",
              "                        })                };                            </script>        </div>\n",
              "</body>\n",
              "</html>"
            ]
          },
          "metadata": {}
        }
      ]
    },
    {
      "cell_type": "markdown",
      "source": [
        "# - The family category is the most frequently occurring"
      ],
      "metadata": {
        "id": "tupC51GLuyaM"
      }
    },
    {
      "cell_type": "markdown",
      "source": [
        "# Distribution of app ratings"
      ],
      "metadata": {
        "id": "gjJeLR-XhzaQ"
      }
    },
    {
      "cell_type": "markdown",
      "source": [
        "We will explore the correlation between **ratings** and **categories** to gain insights."
      ],
      "metadata": {
        "id": "LHi5BI7yww1v"
      }
    },
    {
      "cell_type": "code",
      "source": [
        "df.Rating.unique()"
      ],
      "metadata": {
        "colab": {
          "base_uri": "https://localhost:8080/"
        },
        "id": "e4PsitejwMku",
        "outputId": "a0324c16-713a-4706-c090-7a2d76b077c2"
      },
      "execution_count": 224,
      "outputs": [
        {
          "output_type": "execute_result",
          "data": {
            "text/plain": [
              "array([4.1, 3.9, 4.7, 4.5, 4.3, 4.4, 3.8, 4.2, 4.6, 4. , 4.8, 4.9, 3.6,\n",
              "       3.7, 3.2, 3.3, 3.4, 3.5, 3.1, 5. , 2.6, 3. , 1.9, 2.5, 2.8, 2.7,\n",
              "       1. , 2.9, 2.3, 2.2, 1.7, 2. , 1.8, 2.4, 1.6, 2.1, 1.4, 1.5, 1.2])"
            ]
          },
          "metadata": {},
          "execution_count": 224
        }
      ]
    },
    {
      "cell_type": "code",
      "source": [
        "topRat = df['Rating'].value_counts()\n",
        "topRat"
      ],
      "metadata": {
        "colab": {
          "base_uri": "https://localhost:8080/"
        },
        "id": "ACC9WPI6XXPL",
        "outputId": "171b7822-89e5-4871-bd3f-319a32e418ea"
      },
      "execution_count": 225,
      "outputs": [
        {
          "output_type": "execute_result",
          "data": {
            "text/plain": [
              "4.4    1031\n",
              "4.3    1016\n",
              "4.5     976\n",
              "4.2     887\n",
              "4.6     768\n",
              "4.1     656\n",
              "4.0     538\n",
              "4.7     484\n",
              "3.9     372\n",
              "3.8     293\n",
              "5.0     271\n",
              "3.7     231\n",
              "4.8     228\n",
              "3.6     169\n",
              "3.5     157\n",
              "3.4     127\n",
              "3.3     101\n",
              "4.9      87\n",
              "3.0      82\n",
              "3.1      69\n",
              "3.2      63\n",
              "2.9      45\n",
              "2.8      40\n",
              "2.6      24\n",
              "2.7      23\n",
              "2.5      20\n",
              "2.3      20\n",
              "2.4      19\n",
              "1.0      16\n",
              "2.2      14\n",
              "1.9      12\n",
              "2.0      12\n",
              "1.7       8\n",
              "1.8       8\n",
              "2.1       8\n",
              "1.6       4\n",
              "1.4       3\n",
              "1.5       3\n",
              "1.2       1\n",
              "Name: Rating, dtype: int64"
            ]
          },
          "metadata": {},
          "execution_count": 225
        }
      ]
    },
    {
      "cell_type": "code",
      "source": [
        "figure = px.histogram(df, x=\"Rating\", title='App Ratings Overview',text_auto='.3s', height=800)\n",
        "figure.show()"
      ],
      "metadata": {
        "colab": {
          "base_uri": "https://localhost:8080/",
          "height": 817
        },
        "id": "5IKyVdw0WlFF",
        "outputId": "5f3a981e-5cab-4fc3-8d19-c4d23bc695a9"
      },
      "execution_count": 226,
      "outputs": [
        {
          "output_type": "display_data",
          "data": {
            "text/html": [
              "<html>\n",
              "<head><meta charset=\"utf-8\" /></head>\n",
              "<body>\n",
              "    <div>            <script src=\"https://cdnjs.cloudflare.com/ajax/libs/mathjax/2.7.5/MathJax.js?config=TeX-AMS-MML_SVG\"></script><script type=\"text/javascript\">if (window.MathJax && window.MathJax.Hub && window.MathJax.Hub.Config) {window.MathJax.Hub.Config({SVG: {font: \"STIX-Web\"}});}</script>                <script type=\"text/javascript\">window.PlotlyConfig = {MathJaxConfig: 'local'};</script>\n",
              "        <script src=\"https://cdn.plot.ly/plotly-2.18.2.min.js\"></script>                <div id=\"2fd978be-cdef-460e-90f0-9137a0c2c27a\" class=\"plotly-graph-div\" style=\"height:800px; width:100%;\"></div>            <script type=\"text/javascript\">                                    window.PLOTLYENV=window.PLOTLYENV || {};                                    if (document.getElementById(\"2fd978be-cdef-460e-90f0-9137a0c2c27a\")) {                    Plotly.newPlot(                        \"2fd978be-cdef-460e-90f0-9137a0c2c27a\",                        [{\"alignmentgroup\":\"True\",\"bingroup\":\"x\",\"hovertemplate\":\"Rating=%{x}<br>count=%{y}<extra></extra>\",\"legendgroup\":\"\",\"marker\":{\"color\":\"#636efa\",\"pattern\":{\"shape\":\"\"}},\"name\":\"\",\"offsetgroup\":\"\",\"orientation\":\"v\",\"showlegend\":false,\"texttemplate\":\"%{value:.3s}\",\"x\":[4.1,3.9,4.7,4.5,4.3,4.4,3.8,4.1,4.4,4.7,4.4,4.4,4.2,4.6,4.4,4.7,4.5,4.3,4.6,4.0,4.1,4.7,4.7,4.8,4.7,4.1,3.9,4.1,4.2,4.1,4.5,4.2,4.7,3.8,4.7,4.1,4.7,4.0,4.2,4.5,4.4,3.8,4.2,4.7,4.6,4.2,4.3,4.2,4.0,3.8,4.6,3.9,4.3,4.9,4.4,4.2,4.0,3.9,4.6,4.9,4.3,4.6,4.9,3.9,4.0,4.3,3.9,4.2,4.8,3.6,4.2,4.8,4.8,4.6,4.5,4.3,4.5,4.9,3.9,4.4,4.0,4.3,3.7,4.4,4.3,3.2,4.6,4.6,4.5,3.7,4.6,4.6,4.6,4.0,4.4,4.0,4.7,4.9,4.7,3.9,3.9,4.2,4.6,4.3,4.7,4.7,4.8,4.2,4.3,4.5,4.1,4.2,4.5,4.4,4.0,4.1,4.1,4.4,4.6,4.5,3.9,4.4,4.6,3.8,4.0,4.3,4.5,4.1,3.7,4.7,4.2,4.6,4.5,4.6,4.4,4.2,4.5,4.5,4.5,4.5,4.4,4.5,4.6,4.8,3.9,4.6,4.2,4.1,4.7,4.2,4.3,3.3,4.6,4.8,4.7,4.1,4.6,4.1,4.6,4.7,4.5,3.9,4.4,4.3,4.2,4.5,4.4,3.4,4.9,4.6,4.4,4.4,4.4,4.4,3.5,4.4,4.1,4.3,4.4,4.3,4.3,4.1,4.4,4.3,3.9,4.8,4.5,4.4,4.0,4.3,4.0,4.2,4.5,4.2,4.2,4.6,4.1,4.6,3.1,3.9,4.3,4.1,4.4,4.1,4.1,4.5,4.4,4.4,4.3,4.4,4.6,4.2,4.4,4.7,3.8,3.9,4.3,4.4,4.7,4.5,4.2,4.7,4.8,4.2,4.3,4.4,4.1,3.8,4.3,3.8,3.5,4.1,4.6,4.3,4.5,4.1,4.5,4.6,4.0,4.2,4.4,4.0,4.2,4.2,4.1,3.8,3.9,3.9,4.2,4.3,4.4,4.5,4.5,4.6,4.7,4.7,4.8,3.9,4.1,4.4,4.6,4.5,4.7,4.4,4.5,3.9,3.2,3.2,4.1,4.5,4.2,4.2,3.7,4.5,4.6,4.5,4.7,4.4,3.5,3.3,4.5,4.4,4.2,5.0,4.4,4.7,4.4,4.4,4.6,4.0,4.4,4.3,4.3,4.4,4.3,4.0,4.3,4.3,4.4,4.3,4.3,4.3,4.3,4.3,4.0,4.5,4.3,3.7,4.5,3.9,4.4,3.6,4.4,4.2,4.4,4.1,4.4,4.3,4.2,4.2,4.4,4.4,3.9,4.2,4.4,4.6,4.3,4.3,4.4,3.7,4.3,3.9,4.5,3.7,4.3,4.0,4.3,4.0,4.3,4.0,4.1,4.2,4.2,4.2,4.1,4.4,4.3,4.4,4.1,4.3,4.3,4.5,4.3,4.2,4.2,4.5,4.3,4.3,4.3,4.4,4.2,4.3,4.3,4.4,4.6,4.4,4.2,4.5,4.5,4.4,4.5,4.1,4.2,4.1,4.3,4.1,4.2,4.0,4.2,4.2,4.3,4.4,4.2,4.4,4.1,4.2,4.8,4.4,4.4,4.4,4.0,4.5,4.4,4.1,4.2,4.5,4.3,4.5,4.0,4.3,4.3,4.2,4.5,4.6,4.1,4.0,4.2,4.6,4.1,4.3,4.2,4.3,4.0,4.3,4.1,4.6,4.2,2.6,3.5,4.0,4.1,3.7,4.1,4.2,4.5,4.4,4.2,4.0,4.1,3.1,4.4,4.2,4.1,3.9,4.3,4.4,3.5,4.0,3.3,4.5,4.4,4.1,3.9,3.9,3.6,4.0,3.6,3.4,4.2,4.1,3.4,3.0,4.6,4.1,3.9,1.9,3.5,2.5,3.9,3.4,3.5,4.4,3.8,4.2,2.5,2.8,4.1,4.2,3.5,4.3,3.3,4.1,4.2,3.5,4.2,4.4,4.1,4.2,4.3,3.0,4.0,3.3,4.1,3.7,3.9,3.5,3.9,4.0,4.6,4.0,4.1,4.2,3.3,4.4,4.3,4.2,3.9,4.3,3.4,4.2,4.1,4.0,3.6,4.2,3.5,4.0,4.1,4.4,4.4,4.2,4.1,4.2,3.9,4.1,4.2,3.9,4.0,4.2,4.5,3.9,3.6,4.4,3.5,4.4,4.8,4.6,4.7,4.8,2.7,5.0,4.8,5.0,4.8,4.9,3.0,4.7,1.0,5.0,4.7,5.0,5.0,3.0,4.1,5.0,3.7,4.5,4.2,4.3,4.1,1.9,4.1,4.0,3.8,4.4,4.4,4.3,3.4,4.7,4.8,4.7,3.5,4.7,3.8,2.9,4.1,4.7,4.6,4.7,4.6,4.7,4.5,4.7,4.8,4.6,4.6,4.6,4.2,4.9,3.8,4.2,4.4,4.4,4.3,4.5,4.4,4.6,3.9,4.4,4.3,4.4,4.2,4.4,4.0,4.2,3.8,4.5,4.7,4.5,4.3,4.2,4.3,4.7,4.7,4.6,4.5,4.4,4.6,4.5,4.5,4.4,4.4,4.2,4.5,4.1,4.0,4.1,4.3,4.3,4.3,4.6,4.1,4.6,4.7,4.7,4.3,4.7,4.6,4.6,4.6,4.3,4.2,4.0,4.5,4.2,4.1,4.4,4.0,4.5,4.4,4.0,4.2,4.3,4.2,4.7,4.6,4.5,4.2,4.7,4.6,4.3,4.2,4.7,4.4,4.5,4.4,4.0,4.6,4.4,4.7,4.3,4.1,4.2,4.3,4.3,4.3,4.0,4.2,4.0,4.0,3.8,4.1,3.9,4.1,4.5,4.2,4.4,4.0,4.4,4.7,4.5,4.3,4.3,4.5,4.2,3.5,4.4,4.4,4.8,4.4,4.1,4.9,4.7,4.7,4.7,4.4,4.0,4.2,4.3,4.5,3.5,4.2,3.1,4.6,4.2,4.3,4.3,4.1,3.8,3.4,4.3,4.4,4.4,4.0,3.7,3.9,4.5,4.4,4.3,4.2,4.2,4.5,4.7,4.5,4.5,3.4,4.2,4.3,4.2,4.6,4.1,4.2,4.2,4.3,4.4,3.9,4.1,4.3,4.6,3.6,4.3,4.3,4.2,4.1,4.1,4.2,3.9,4.2,3.7,4.5,3.7,3.8,4.3,3.0,4.1,4.2,4.1,3.9,4.0,4.4,4.2,4.0,3.9,4.0,4.2,4.0,4.3,3.9,4.4,4.3,3.7,4.0,4.5,4.1,4.5,3.6,3.8,4.0,3.7,3.8,3.7,4.1,3.7,3.9,4.4,3.9,3.9,4.3,4.1,4.0,3.9,4.2,4.3,4.6,4.3,4.6,4.5,4.6,3.9,4.2,4.4,4.2,4.3,4.6,4.3,4.5,4.0,4.0,4.5,4.5,4.0,4.0,4.2,4.4,4.6,4.6,4.1,4.6,4.4,4.6,4.9,4.5,4.6,4.7,4.3,4.2,4.3,5.0,4.4,5.0,4.5,4.5,4.8,4.4,5.0,3.7,4.1,4.8,4.6,4.4,4.4,3.6,3.7,3.8,4.2,4.2,4.2,3.3,3.4,4.3,4.2,4.7,4.1,4.7,4.0,3.6,4.0,3.6,4.3,4.2,4.2,4.1,4.0,4.1,4.4,4.7,4.5,4.3,4.6,4.3,4.0,4.5,4.5,3.6,4.2,4.1,3.5,4.4,4.0,4.5,4.2,4.6,4.2,4.8,4.5,4.2,4.3,4.4,4.4,4.6,4.6,4.6,4.4,4.3,4.2,4.2,3.8,4.5,4.6,4.6,4.7,4.6,4.6,4.7,3.8,4.3,4.3,4.5,4.6,4.6,4.7,4.5,4.4,3.9,4.5,4.6,4.1,4.5,4.4,4.5,4.6,4.2,4.4,4.1,3.9,4.5,3.7,4.1,4.4,4.6,4.3,4.3,4.3,4.4,4.3,4.4,4.4,4.1,4.4,4.2,4.3,4.3,4.3,3.9,4.1,4.1,4.2,4.5,4.2,4.7,4.4,4.6,4.6,4.4,4.6,4.3,4.0,4.4,4.6,4.2,4.1,3.6,4.1,4.6,4.7,4.7,4.7,4.7,4.1,3.4,3.8,3.7,4.2,3.1,3.5,4.7,4.5,4.2,4.3,4.0,4.5,4.6,4.7,4.1,4.3,3.8,4.4,4.3,4.2,4.3,3.8,4.3,3.7,4.5,3.6,4.8,3.3,4.7,4.6,4.6,3.4,4.6,4.0,4.1,4.5,4.4,4.5,4.0,4.1,4.5,4.6,4.1,4.5,4.6,4.5,4.3,3.6,4.4,4.6,4.1,4.3,3.9,4.1,4.3,4.7,4.6,4.4,4.2,4.5,4.3,4.2,4.5,4.5,4.3,4.0,4.3,4.8,4.0,4.9,4.8,4.9,4.8,4.4,3.3,4.7,4.6,4.8,4.8,4.8,4.5,4.4,4.5,4.5,4.5,4.8,3.9,4.6,4.5,4.5,4.7,4.7,4.4,4.2,3.9,4.2,4.4,4.6,4.6,4.2,4.5,4.7,4.5,4.5,3.7,4.5,4.6,4.6,4.7,4.5,4.5,4.6,4.0,4.3,4.4,4.5,4.2,4.6,4.9,4.5,4.5,4.6,4.5,4.6,4.6,4.5,4.5,4.4,3.9,4.5,4.4,4.6,4.4,4.5,4.5,4.5,4.4,4.4,4.4,4.2,4.5,4.5,4.4,4.3,4.6,4.6,4.9,4.4,4.3,4.1,4.6,4.8,4.5,4.7,4.6,4.3,4.6,4.3,4.6,4.6,4.5,4.6,4.6,4.5,4.1,4.5,4.6,4.5,4.8,4.8,4.6,4.5,4.1,4.4,4.2,4.5,4.3,4.6,4.0,4.6,4.6,4.4,4.7,4.4,4.2,4.5,4.4,4.6,4.5,4.4,4.4,4.5,4.5,4.0,4.6,4.1,4.0,4.4,4.4,4.1,3.5,4.3,4.5,4.2,4.5,4.4,4.1,4.5,3.7,4.3,4.5,4.6,4.7,4.6,4.0,4.4,4.8,4.2,4.6,4.1,4.4,4.3,4.5,4.8,4.2,4.5,4.1,4.1,4.0,4.3,4.5,4.6,3.7,3.7,4.2,4.5,4.3,3.9,4.6,4.3,4.4,4.6,4.5,3.8,4.4,4.7,3.4,4.3,4.3,4.0,4.0,3.8,4.3,3.6,3.8,4.5,4.6,4.5,4.7,4.3,3.7,4.2,3.4,3.9,4.0,4.0,4.0,4.6,4.0,4.1,3.9,4.4,4.4,4.3,4.2,4.4,4.6,4.1,3.9,4.4,4.6,4.1,3.8,4.6,3.5,4.7,4.3,4.5,4.4,3.4,4.3,4.3,4.6,4.6,4.2,4.6,4.4,3.9,4.5,3.8,4.3,3.7,5.0,3.2,4.5,4.7,4.0,3.8,4.7,4.5,4.2,4.1,3.1,4.1,4.1,4.3,4.0,4.6,4.4,4.4,4.3,4.6,3.2,4.5,4.6,4.6,4.3,3.0,4.4,4.4,4.3,3.5,4.3,4.5,3.7,4.5,4.2,4.3,4.6,4.5,3.9,4.3,3.3,4.7,4.2,3.2,4.4,3.5,3.7,3.8,3.8,3.7,4.6,4.0,3.6,3.8,4.1,4.7,3.9,4.1,4.6,4.2,4.6,4.2,4.4,4.6,4.1,3.9,4.0,4.1,4.6,4.1,4.1,4.1,4.4,4.3,4.3,4.4,4.2,4.4,4.3,4.1,4.0,4.2,4.1,3.9,4.4,4.6,4.5,4.5,4.8,4.4,4.5,4.5,4.6,4.5,4.5,4.5,4.4,4.7,4.5,4.2,4.4,4.6,4.3,4.3,4.2,4.6,4.4,4.4,4.5,4.4,4.3,4.6,4.3,4.2,4.2,4.5,4.5,4.5,4.7,4.7,4.5,4.4,4.3,3.8,4.6,4.6,4.4,4.3,4.1,4.3,4.4,4.6,4.3,4.4,4.7,4.5,4.4,4.6,4.5,4.4,4.6,4.5,4.5,4.3,4.5,4.4,4.4,4.5,4.7,4.6,4.5,4.5,4.7,4.5,4.8,4.7,4.4,4.5,4.6,4.7,4.6,4.5,4.6,4.5,4.4,4.7,4.3,4.3,4.4,4.3,4.5,4.4,4.5,4.4,4.5,4.6,4.7,4.6,4.4,4.4,4.5,4.6,4.3,4.5,4.5,4.4,4.5,4.2,4.5,4.7,4.2,4.5,4.5,4.4,4.5,4.5,4.7,4.7,4.1,4.8,4.4,4.2,4.4,4.7,4.3,4.7,4.2,4.3,4.4,4.1,4.1,4.2,4.7,4.6,4.5,3.1,4.1,3.4,4.4,4.3,4.6,4.4,4.3,4.6,4.2,4.2,4.5,4.4,4.2,4.5,4.4,4.6,4.5,4.3,4.6,4.4,4.4,4.5,4.6,4.6,4.6,4.1,4.5,4.6,4.4,4.7,4.6,4.3,4.5,4.6,4.2,4.5,4.8,4.1,4.3,4.4,4.0,4.2,4.0,4.2,4.5,4.7,4.2,4.4,4.6,4.9,4.4,4.5,4.6,4.2,4.5,4.6,4.6,4.5,4.4,4.6,4.5,4.6,4.4,4.4,4.3,4.3,4.6,4.3,4.3,4.6,4.5,4.5,4.2,4.7,4.3,4.0,4.4,4.3,4.6,4.7,4.4,4.4,4.3,4.2,4.4,4.5,4.5,4.5,4.4,4.3,4.5,4.7,4.7,4.6,4.6,4.4,4.4,4.7,4.6,4.5,4.3,4.3,4.3,4.6,4.8,4.5,4.4,4.5,4.5,4.6,4.6,4.6,4.6,4.7,4.5,4.5,4.5,4.6,4.5,4.4,4.4,4.6,4.7,4.5,4.4,4.6,4.7,4.6,4.5,4.4,4.5,4.3,4.2,4.5,4.3,4.6,4.7,4.4,4.6,4.5,4.3,4.5,4.5,4.6,4.6,4.3,4.5,4.7,4.5,4.7,4.7,4.6,4.4,4.3,4.5,4.3,4.4,4.2,4.3,4.4,4.7,4.2,4.1,4.5,4.5,4.5,4.1,4.3,4.5,4.4,4.5,4.6,4.0,4.3,4.5,4.2,4.5,4.6,4.5,4.7,4.5,4.5,4.5,4.4,4.6,4.3,4.4,4.7,4.7,4.4,4.3,4.4,4.5,4.4,4.4,4.6,4.6,4.4,4.6,4.2,4.4,4.6,4.6,4.7,4.2,4.6,4.7,4.3,4.6,4.4,4.4,4.5,4.2,4.4,4.3,4.7,4.5,4.4,4.5,4.4,4.4,4.5,4.6,4.5,4.3,4.7,4.4,4.5,4.2,4.5,4.5,4.7,4.4,4.3,4.6,3.9,4.2,4.5,4.3,4.5,4.4,4.4,4.8,4.4,4.4,4.3,4.6,4.1,4.5,4.5,4.5,4.0,4.5,4.6,4.5,4.5,4.5,4.4,4.7,4.5,4.5,4.2,4.3,4.5,4.2,4.3,4.4,4.6,4.5,4.2,4.5,4.6,4.6,4.1,4.5,4.6,4.6,4.5,4.3,3.8,4.5,4.1,4.8,3.9,4.5,4.4,4.3,4.2,3.0,4.5,4.7,4.1,4.5,4.5,4.5,4.6,4.3,4.3,4.5,4.2,4.2,4.4,4.5,4.1,4.2,4.1,4.7,4.3,4.4,4.4,4.3,4.4,4.3,4.3,4.2,4.2,4.3,4.3,4.1,4.2,4.5,4.3,4.3,4.5,4.1,4.5,4.2,4.4,4.0,4.1,4.4,4.1,4.0,4.3,4.6,4.3,4.7,4.3,4.4,4.2,4.7,3.9,4.1,4.1,4.1,4.2,4.7,4.4,4.3,4.5,4.3,4.3,4.1,4.1,4.1,4.6,4.1,4.4,4.4,4.3,4.0,4.8,3.8,4.7,4.5,4.8,4.4,4.8,4.2,4.2,4.0,4.7,4.7,3.9,4.5,4.1,4.4,3.9,4.4,3.6,4.4,4.1,3.6,4.6,4.3,4.5,4.4,4.5,4.1,4.5,4.1,3.9,4.1,3.9,4.1,4.2,4.7,3.8,4.3,3.9,4.0,4.0,4.3,4.2,4.0,4.3,4.3,4.2,4.3,4.2,4.6,4.1,4.5,4.4,4.5,4.3,4.2,4.4,4.6,4.5,4.8,4.5,3.2,4.6,4.5,4.1,4.6,4.5,4.4,4.4,4.4,3.8,4.6,2.5,4.0,5.0,4.3,3.4,3.4,4.3,4.4,4.4,4.2,5.0,4.1,3.9,4.6,4.2,4.4,4.2,3.6,4.5,4.7,4.6,4.5,4.2,4.2,4.3,4.4,4.1,4.4,4.6,4.4,4.2,4.5,2.6,4.6,4.8,4.2,4.7,3.0,3.5,4.6,4.8,4.2,4.6,4.4,4.8,4.0,3.7,4.2,4.8,4.7,3.5,3.9,4.2,4.8,2.7,4.2,4.7,4.6,4.5,4.7,4.7,4.5,4.7,4.0,3.4,3.5,3.0,4.7,4.6,4.2,4.8,4.5,4.2,3.8,3.0,4.4,4.5,4.0,3.6,4.4,4.7,4.9,3.6,4.5,4.1,4.6,4.7,4.7,2.8,4.3,4.6,4.3,3.4,4.0,4.8,4.2,3.0,4.5,3.7,4.5,4.5,3.6,4.4,4.4,4.5,4.1,4.6,4.3,4.3,4.7,4.5,4.2,4.4,3.9,4.2,4.1,4.1,3.5,4.2,4.0,4.3,4.3,2.3,4.5,4.3,3.1,4.4,2.9,3.1,3.7,4.0,3.8,4.4,4.3,3.7,5.0,3.0,3.7,3.7,5.0,5.0,5.0,5.0,5.0,5.0,5.0,5.0,5.0,4.3,4.9,5.0,4.9,4.6,5.0,4.0,5.0,2.6,4.8,4.3,4.7,2.5,4.6,4.5,4.3,4.4,4.5,3.8,4.0,4.5,3.7,4.3,4.4,3.8,4.3,3.8,5.0,3.6,4.0,4.3,4.7,5.0,4.7,4.6,3.1,4.4,5.0,3.6,2.8,4.4,4.6,4.2,3.8,3.5,4.1,4.5,4.3,4.4,4.4,4.2,4.0,4.3,4.6,4.4,4.2,4.4,4.4,4.3,4.6,4.4,4.5,4.6,4.6,4.6,4.4,4.5,4.5,4.3,4.4,4.6,4.3,4.8,4.2,4.6,4.0,4.6,4.3,3.6,4.0,4.5,4.4,4.5,4.2,4.5,4.3,4.2,4.2,4.3,4.3,4.1,4.5,4.3,4.2,4.1,4.3,4.2,4.1,4.1,4.4,3.7,3.9,3.7,4.0,4.5,3.6,4.1,4.1,4.0,4.1,4.0,4.3,4.3,4.2,4.5,4.2,4.3,4.1,3.8,4.2,4.4,4.2,4.1,4.0,4.3,4.2,4.0,4.4,4.0,4.4,4.1,4.1,4.3,4.0,4.2,4.2,4.1,4.3,4.4,4.2,4.0,4.5,4.6,4.3,4.2,4.3,4.6,4.4,4.4,4.5,4.3,4.2,4.2,4.4,4.6,4.2,3.6,4.5,4.4,3.8,4.7,3.6,4.2,3.6,4.3,4.4,4.5,4.1,4.3,4.3,4.7,4.3,4.2,4.2,4.3,4.2,4.3,4.6,4.4,4.3,3.8,4.6,4.5,4.1,4.4,4.3,3.8,4.0,3.3,4.1,4.1,4.2,4.1,4.4,4.1,4.2,4.5,4.3,4.5,4.1,4.5,4.4,4.6,4.5,4.6,4.7,4.3,4.4,4.4,4.7,4.1,4.2,4.5,4.2,4.6,4.3,4.1,4.6,4.2,4.2,4.2,4.2,4.0,4.4,4.0,4.6,4.5,3.9,4.5,4.2,4.3,4.3,4.4,4.5,4.6,4.3,4.7,4.4,4.0,4.5,4.1,4.4,4.6,4.5,4.4,4.1,4.3,4.5,3.8,4.5,4.7,4.1,4.6,4.8,4.0,4.7,4.7,4.1,4.5,3.6,4.5,4.7,4.7,4.5,4.2,4.5,4.4,4.5,4.5,4.4,3.7,4.3,4.5,4.4,3.3,4.3,4.4,4.5,4.4,4.2,4.5,4.7,4.5,4.6,4.6,4.4,4.3,4.3,4.6,4.4,4.5,4.5,4.2,4.0,4.4,4.7,4.3,4.6,4.4,4.5,4.3,4.3,4.4,4.5,4.4,4.6,4.3,4.3,4.4,4.2,4.3,4.4,3.9,4.3,4.4,4.2,4.3,4.3,4.3,4.1,4.4,4.3,4.0,4.0,4.0,4.4,4.3,4.1,4.2,3.9,4.4,4.4,4.5,4.1,4.0,4.3,4.2,4.0,4.1,4.1,4.0,4.3,4.5,4.0,4.4,4.1,4.3,4.3,4.2,4.3,4.4,4.4,4.3,3.8,4.4,4.4,4.3,4.6,4.0,4.1,4.2,4.3,4.6,4.6,4.3,4.1,4.2,4.6,4.6,4.4,4.7,4.4,4.1,4.3,4.4,4.2,4.4,4.5,4.2,3.8,4.3,4.4,4.6,4.4,4.5,4.2,4.5,4.5,4.3,4.2,4.1,4.3,4.0,4.6,4.3,4.5,4.2,4.3,4.4,4.2,4.1,4.4,4.7,4.6,4.2,4.3,4.3,4.5,4.6,4.5,4.4,4.7,4.2,4.3,4.2,3.9,3.9,4.2,4.3,4.6,4.3,4.0,4.0,4.0,4.6,4.3,4.2,4.3,4.4,4.0,4.6,4.7,4.3,4.0,4.5,4.7,4.4,4.8,3.3,4.3,3.9,4.4,3.9,4.4,4.4,4.2,4.1,4.0,3.1,2.9,4.0,4.5,4.3,4.1,4.3,4.5,4.6,4.4,4.2,4.3,3.4,4.6,4.2,4.0,4.1,4.0,4.6,4.2,4.5,4.4,4.0,3.5,4.2,4.0,4.4,4.8,4.1,4.6,4.3,4.4,4.3,4.6,4.5,4.3,4.2,4.5,4.0,4.7,4.6,4.1,4.1,3.5,4.5,3.9,4.6,4.2,4.6,4.5,4.5,4.4,4.2,4.0,4.2,3.9,4.2,4.5,4.1,4.2,4.4,4.4,4.1,4.3,4.5,4.5,4.4,4.5,4.7,4.4,4.1,4.4,4.4,4.3,4.0,4.7,4.3,4.6,3.9,3.6,4.0,4.1,4.2,3.9,4.1,4.3,3.1,3.7,3.4,4.4,3.6,4.4,3.3,3.7,3.0,3.6,4.8,3.9,3.8,4.3,4.5,3.4,3.7,4.5,4.4,4.1,4.5,4.0,3.9,4.4,4.8,4.7,4.3,3.7,4.2,3.5,4.3,4.7,4.3,4.1,3.1,4.3,4.1,4.2,4.3,4.3,4.3,4.6,4.4,4.2,4.2,4.4,4.4,4.4,4.4,4.4,4.4,3.7,4.4,3.6,4.4,4.0,4.1,4.4,4.4,4.3,4.2,4.3,4.3,4.2,4.5,4.4,4.4,4.1,4.6,4.4,4.1,4.5,4.3,4.5,4.2,4.2,4.2,4.5,4.7,4.0,4.2,4.2,4.1,4.4,4.4,4.2,4.2,4.1,4.5,4.6,4.1,4.3,4.2,4.1,4.0,4.6,3.1,4.6,4.5,3.2,4.3,4.6,4.4,4.6,4.5,4.6,4.4,4.2,4.4,3.1,3.6,4.1,4.2,3.5,3.9,3.0,3.9,4.5,3.4,4.4,3.4,4.3,3.7,3.5,3.8,3.6,3.1,3.8,4.2,4.0,4.3,4.3,4.5,4.5,4.5,4.4,4.4,4.3,4.2,4.7,4.4,4.3,4.4,4.3,4.5,4.7,4.5,4.6,4.7,4.6,4.8,3.9,4.5,4.6,4.5,4.4,4.5,4.0,4.3,4.0,4.4,4.1,4.3,4.1,4.3,4.2,4.2,4.2,4.2,4.3,4.5,4.4,4.5,4.2,4.1,4.4,4.5,4.3,4.4,4.1,4.4,4.2,4.1,4.6,4.5,4.3,4.1,4.1,4.2,4.1,4.6,4.5,4.0,3.5,4.4,4.4,4.4,4.1,4.2,4.6,4.4,4.6,4.6,4.5,4.7,4.4,4.5,4.6,4.6,4.0,4.6,4.5,4.7,4.7,4.4,4.3,4.7,4.1,4.7,4.4,4.6,4.5,4.4,4.4,4.3,4.3,4.6,4.7,4.3,4.5,4.6,4.4,4.5,4.7,4.3,3.7,4.7,4.5,4.4,4.3,4.8,4.6,4.1,4.7,4.1,4.2,4.3,4.2,4.0,4.2,3.9,4.3,4.1,4.2,4.4,4.3,4.3,4.4,4.3,4.1,4.2,4.1,4.1,4.2,4.1,4.4,4.1,4.3,4.6,4.1,4.6,4.2,4.1,4.2,4.5,4.3,4.2,4.0,4.2,4.2,4.3,4.4,4.4,4.4,4.3,4.3,4.6,4.5,4.1,4.3,4.4,4.2,4.2,4.1,4.5,4.7,4.3,4.4,4.4,3.8,4.4,4.3,4.2,4.5,3.2,4.5,4.2,4.4,4.7,4.4,4.0,4.4,4.0,4.6,4.5,4.2,4.0,4.4,4.5,3.9,4.2,4.3,4.2,4.2,4.4,4.7,4.6,3.1,4.4,4.1,4.5,4.6,4.3,3.9,4.5,4.3,3.7,4.5,4.4,4.0,4.0,4.4,4.7,4.6,4.2,4.5,4.6,4.0,4.5,4.4,4.3,4.5,4.5,4.4,4.6,4.3,4.6,4.5,4.3,4.1,4.2,4.2,4.6,4.2,4.5,4.4,4.3,4.3,4.5,4.3,4.3,4.5,4.5,4.4,4.2,4.2,4.6,4.4,4.3,4.6,4.2,4.2,4.2,4.0,4.3,4.6,4.6,4.6,4.5,4.4,4.3,4.0,4.2,4.2,4.5,4.2,4.4,4.6,4.3,4.6,4.2,4.4,4.6,4.6,4.4,4.1,4.4,4.4,4.1,4.3,4.1,4.1,4.5,3.9,3.8,4.6,4.7,4.0,4.7,4.1,3.7,4.1,3.7,4.6,4.4,4.6,4.1,4.4,4.7,4.4,4.8,4.0,4.9,4.8,4.4,4.7,4.2,4.6,4.6,4.5,4.6,4.1,3.8,4.8,4.8,4.5,4.0,4.4,4.7,3.9,4.4,4.4,4.5,4.4,4.8,4.4,4.8,4.5,4.7,4.5,3.5,4.4,4.3,4.4,4.2,4.6,4.4,4.4,3.9,4.3,4.5,4.2,3.7,4.2,3.9,3.6,4.5,4.3,4.3,4.2,4.6,4.5,4.5,4.2,3.9,4.8,3.8,4.5,4.5,4.2,4.0,4.2,4.3,4.3,4.2,4.3,3.6,3.9,4.8,3.9,3.7,4.6,4.4,4.4,4.2,4.1,3.8,4.4,4.5,4.6,4.7,4.3,4.5,4.3,3.7,3.9,3.6,4.5,4.4,3.8,4.6,4.2,4.3,3.8,4.4,3.1,4.6,4.1,4.5,4.0,4.5,4.3,3.7,3.9,3.5,3.3,4.3,4.5,4.1,4.4,4.4,4.5,4.4,4.3,4.5,4.3,4.6,4.1,4.2,3.5,4.0,3.8,4.3,4.3,4.1,4.3,4.5,4.4,4.0,4.1,4.6,4.3,3.9,4.5,4.7,4.3,4.5,3.1,4.7,3.8,4.0,4.2,4.0,4.2,3.4,4.6,4.5,4.0,4.4,4.2,4.1,4.4,4.0,3.7,4.6,4.5,4.6,4.5,3.9,4.3,4.4,4.3,4.4,3.6,4.5,3.6,4.1,4.4,4.1,4.2,4.7,3.9,3.9,4.4,4.6,4.0,4.3,4.2,4.3,4.0,4.1,4.6,4.5,4.2,4.3,4.2,4.2,4.0,4.2,4.3,3.9,4.0,4.5,4.1,3.9,4.5,4.4,4.6,4.2,4.1,4.4,4.4,4.2,4.5,4.2,4.4,4.4,4.0,4.3,4.4,4.2,4.3,4.1,4.4,4.3,4.4,4.2,4.7,4.3,4.5,3.7,4.3,4.2,4.1,4.5,4.8,4.3,4.7,4.3,4.2,3.7,4.6,4.5,4.3,4.5,4.2,4.2,4.3,4.3,4.4,3.7,4.4,4.4,4.2,3.5,4.2,4.2,4.0,4.5,4.2,3.9,4.3,3.7,4.3,4.3,4.6,4.3,4.2,4.6,3.9,4.4,4.6,4.1,4.8,4.3,4.5,4.4,4.4,3.3,4.2,3.8,4.5,4.3,4.5,3.7,4.5,4.1,4.4,3.7,4.1,4.8,4.4,4.3,4.1,4.4,4.1,4.5,4.5,4.5,4.5,4.2,4.4,4.5,4.3,3.8,4.5,3.7,4.5,4.5,4.3,4.6,4.3,4.4,4.3,4.3,4.3,4.3,4.3,4.4,4.2,4.9,4.5,4.6,4.6,4.6,3.4,3.8,4.4,4.7,4.6,4.1,3.8,4.4,4.4,3.9,4.1,4.5,3.7,4.4,4.5,4.5,3.8,3.1,4.5,5.0,4.4,4.3,2.9,3.1,3.3,4.1,4.4,4.5,4.3,4.3,4.5,2.2,4.5,4.2,4.5,4.6,3.9,4.1,3.3,4.5,4.1,4.8,4.1,4.5,4.6,4.6,4.3,4.1,4.5,4.3,4.4,4.7,4.4,4.4,4.3,4.2,4.2,4.6,4.5,4.6,4.7,4.8,4.7,4.7,1.7,4.5,4.0,3.6,2.0,4.7,4.1,4.3,4.3,4.5,4.4,4.4,4.6,3.7,4.5,4.0,4.8,4.0,4.7,4.8,4.6,4.3,4.2,4.8,4.2,4.6,4.2,4.5,4.6,4.5,4.5,4.3,4.8,4.5,4.3,4.2,4.4,4.5,4.2,4.6,4.6,4.4,4.5,4.5,4.6,4.5,4.4,4.1,4.4,4.6,4.6,4.5,4.5,4.3,4.3,3.3,3.7,4.5,4.4,3.1,4.0,4.4,4.2,3.9,4.4,4.6,4.8,4.4,3.9,4.5,3.6,3.4,4.7,4.4,4.4,4.5,4.2,4.6,4.3,4.3,4.3,4.6,4.4,4.5,4.5,4.0,4.3,4.5,4.0,4.3,4.6,4.2,4.4,4.5,4.3,4.3,4.4,4.6,4.4,4.3,4.2,4.3,4.3,4.6,3.6,4.3,4.2,4.2,4.4,4.3,4.9,4.5,4.2,4.2,3.8,4.2,1.0,4.4,4.0,4.4,4.4,4.5,3.4,3.8,3.7,4.1,4.6,4.4,4.2,4.2,4.4,4.5,4.2,4.5,4.3,4.4,4.2,3.6,4.0,4.4,4.6,4.5,4.4,4.2,4.3,4.6,1.8,3.8,4.4,3.0,3.4,4.6,3.7,3.0,4.6,4.4,3.1,4.3,4.3,3.8,4.5,3.6,4.2,4.5,4.2,3.3,4.2,4.3,4.2,3.7,3.8,2.9,4.5,4.3,4.9,4.4,4.4,4.4,2.9,4.2,4.0,4.3,4.3,3.9,4.3,4.0,4.6,3.7,4.0,4.6,4.4,4.5,3.0,3.1,4.3,4.5,4.5,4.5,4.1,4.6,4.2,3.9,3.9,3.9,4.2,4.2,3.7,2.8,4.4,4.1,4.4,2.7,4.7,4.2,4.2,4.5,4.4,4.0,4.2,4.1,4.0,4.4,4.7,4.3,4.7,4.4,4.0,4.3,4.2,4.4,4.6,3.3,4.5,2.3,4.2,4.1,4.4,3.2,3.5,4.6,4.3,4.1,4.1,4.1,4.7,3.5,3.9,4.1,4.7,4.6,4.5,4.7,4.9,4.3,4.1,4.4,4.2,4.1,4.6,4.3,4.4,4.4,4.5,4.6,4.8,4.3,4.8,4.8,3.7,4.1,3.7,4.2,4.5,4.6,4.5,4.7,4.3,4.9,4.4,4.6,4.0,4.8,4.3,4.4,4.2,4.6,4.8,4.0,4.3,4.7,4.5,4.6,4.5,4.3,4.0,4.2,4.0,4.5,4.0,4.1,4.6,3.1,4.9,4.5,4.0,4.0,3.6,4.5,4.2,4.3,3.9,4.3,4.3,4.4,4.3,4.4,4.3,4.5,4.4,3.5,4.4,4.4,4.5,4.4,4.4,4.0,3.9,3.9,4.3,4.9,3.7,3.3,3.8,3.5,4.2,4.5,3.5,3.6,4.6,3.9,4.2,4.2,4.0,3.2,4.6,2.4,4.5,4.1,4.2,3.7,4.3,4.2,4.1,3.9,3.8,4.4,3.4,4.0,4.4,3.3,4.8,4.5,3.4,4.3,4.3,4.1,4.0,4.4,3.8,4.4,3.8,4.2,3.8,4.8,4.7,4.3,3.5,3.9,4.2,4.6,4.7,4.5,3.8,4.5,3.7,3.5,4.1,3.9,4.1,4.6,4.4,4.5,4.4,4.6,4.0,4.4,4.4,4.4,4.0,3.8,3.9,3.7,4.2,4.1,4.3,4.3,4.1,4.4,3.8,4.3,3.8,4.5,3.8,3.9,4.0,4.3,4.5,4.4,4.6,5.0,4.4,4.2,4.0,4.2,4.6,4.1,3.9,4.6,4.4,3.9,4.6,4.5,3.0,3.6,4.4,4.6,4.3,5.0,4.5,4.1,4.1,4.5,4.8,4.5,4.0,4.8,3.7,4.7,2.7,2.9,4.2,4.4,4.2,3.4,2.6,4.1,4.3,4.5,4.2,4.4,4.0,4.4,4.1,4.8,2.2,3.8,3.1,3.1,3.8,3.8,4.3,3.6,4.0,4.4,4.6,4.5,1.8,4.7,3.9,4.4,3.6,4.5,4.4,3.9,3.9,3.8,4.2,4.1,4.4,4.4,5.0,4.1,4.5,4.3,3.9,3.5,3.2,3.3,4.8,4.5,3.7,4.8,4.7,4.3,3.8,4.1,4.7,4.2,4.6,4.2,4.6,4.6,4.2,4.1,3.5,4.1,4.4,4.5,4.1,4.5,4.3,4.4,4.3,4.3,3.8,3.9,4.1,4.8,4.4,4.0,4.7,4.6,4.3,4.0,4.4,3.7,3.7,3.3,4.1,3.0,4.1,3.0,3.8,4.0,4.5,4.6,4.1,3.6,4.7,3.5,3.1,3.9,3.7,4.2,4.4,4.4,3.3,4.8,4.2,4.5,3.8,4.1,4.2,4.2,4.0,4.2,3.8,4.5,3.7,4.3,4.5,4.1,4.2,4.5,4.0,4.4,4.2,4.3,4.7,4.1,3.2,3.9,4.1,3.4,3.0,4.6,4.6,4.1,3.1,3.4,4.2,4.2,3.0,2.4,4.1,2.9,4.0,4.0,3.8,2.4,4.4,3.7,4.3,4.6,4.2,4.8,3.6,3.2,4.0,3.5,4.4,2.5,3.9,4.4,4.2,4.2,4.3,4.1,4.3,4.2,4.2,3.9,3.9,4.4,3.8,4.5,4.2,3.7,4.3,4.3,4.6,3.3,3.6,4.1,3.8,3.3,4.5,4.8,4.6,4.3,4.5,4.2,3.8,4.7,4.2,4.3,4.7,4.7,3.6,4.2,4.0,4.3,4.7,4.2,4.6,4.8,4.6,3.8,4.6,4.3,4.2,4.5,3.2,4.3,4.3,4.5,4.4,1.9,4.4,2.5,4.2,4.3,4.0,4.5,4.8,4.2,4.7,4.4,4.4,4.4,4.6,4.6,4.2,4.5,4.0,4.4,4.2,4.5,4.6,4.4,4.7,4.2,4.4,3.2,4.1,4.0,4.7,4.6,4.6,4.7,4.8,4.6,4.2,4.3,3.3,4.7,4.5,4.0,4.5,4.2,4.6,4.2,4.7,4.7,4.2,4.3,4.3,4.5,4.4,4.5,4.6,4.3,3.8,4.5,4.5,3.9,4.0,2.7,4.5,4.0,2.9,4.6,4.4,4.5,4.6,4.4,4.3,4.4,4.2,4.8,4.3,4.3,4.6,4.6,4.2,4.2,4.1,4.4,4.5,4.4,4.4,4.2,4.5,4.6,4.5,4.6,4.0,4.5,4.2,3.9,4.7,4.4,4.5,4.3,4.4,4.2,3.9,4.1,2.2,4.2,4.2,2.8,3.9,4.3,4.8,4.3,4.1,4.2,4.4,4.1,4.6,4.3,4.3,3.8,4.8,3.8,3.9,4.3,4.3,4.3,4.1,4.2,4.9,4.5,4.6,3.8,4.7,4.5,4.7,4.5,4.8,4.6,4.6,4.3,4.8,3.4,4.6,4.4,4.5,4.4,4.4,4.6,4.2,4.3,4.3,3.8,3.9,4.3,4.8,4.2,4.5,4.8,4.6,4.2,4.2,4.0,4.3,4.8,4.1,4.7,4.8,4.0,3.5,3.8,3.5,3.3,3.7,3.3,3.4,1.8,1.6,1.9,3.6,3.4,3.2,2.5,4.7,2.6,2.8,3.9,4.2,3.9,4.0,3.5,3.1,3.7,3.6,3.4,4.0,3.7,1.7,2.4,4.3,4.2,3.3,4.1,4.1,3.4,3.0,3.0,2.2,3.7,3.7,4.8,3.7,3.6,3.7,4.4,3.8,3.7,3.7,4.8,4.2,4.1,4.6,4.1,4.3,3.9,3.8,4.0,4.5,4.6,4.1,4.4,3.7,3.9,3.9,4.5,4.5,4.4,4.3,4.5,4.7,4.7,4.1,3.3,4.2,4.1,3.4,4.3,4.9,4.5,4.1,4.4,4.3,4.4,3.4,4.1,4.1,3.5,3.8,4.6,4.6,5.0,4.6,4.2,4.0,3.9,3.7,4.3,1.9,4.2,4.2,4.0,4.4,4.2,4.5,4.3,4.4,4.0,4.2,4.3,4.0,4.3,3.9,4.0,3.7,4.1,3.9,4.2,4.4,4.5,3.9,3.9,4.2,4.5,4.1,4.7,4.4,4.7,4.7,4.0,3.9,3.8,3.9,4.4,4.5,3.8,3.5,4.2,4.7,2.0,4.3,2.8,4.0,3.9,4.2,3.4,4.5,4.7,2.0,4.4,4.7,3.3,4.1,4.2,4.4,3.7,4.3,3.9,5.0,4.1,4.8,4.0,4.1,3.8,4.6,4.3,4.1,4.6,4.1,4.4,4.2,4.1,4.3,4.3,4.0,4.5,4.1,3.8,4.5,4.1,3.9,3.7,4.5,4.4,3.4,2.3,4.7,3.4,4.7,5.0,3.6,5.0,4.3,5.0,4.1,4.1,4.5,3.4,2.9,4.6,5.0,3.9,3.9,5.0,4.1,5.0,3.0,4.0,1.0,4.0,4.0,3.8,3.5,2.6,3.4,4.5,3.4,3.8,3.0,4.4,4.0,3.9,4.6,3.8,3.8,4.0,4.6,3.6,4.4,3.1,4.2,4.6,4.0,5.0,3.3,4.1,3.6,3.2,4.4,4.0,4.4,4.5,4.3,4.7,4.4,4.4,4.4,3.7,3.3,3.7,3.0,2.6,3.5,3.9,4.6,3.8,4.6,4.4,4.5,4.5,4.7,4.4,5.0,2.8,4.6,2.8,5.0,5.0,2.8,3.8,4.1,4.8,5.0,5.0,4.4,5.0,4.1,4.8,4.8,4.0,5.0,4.6,5.0,4.5,5.0,4.4,4.0,3.9,4.1,4.8,4.3,3.9,4.5,3.7,4.3,4.2,3.7,3.8,4.6,3.3,3.0,3.9,4.2,3.9,4.1,4.6,4.4,3.8,4.4,4.9,3.6,4.3,3.6,4.1,3.4,4.5,4.7,4.5,4.4,4.3,4.6,4.2,4.8,4.6,4.8,4.6,4.6,4.6,4.1,4.7,4.7,4.8,3.6,4.7,4.6,4.5,4.7,4.5,4.3,4.5,4.8,4.7,4.7,4.7,4.7,4.7,4.7,4.7,4.6,4.7,4.7,4.6,3.8,3.9,4.0,4.0,3.8,4.1,2.9,3.8,3.5,4.2,4.6,4.4,4.4,4.1,3.9,3.6,4.0,3.8,4.3,4.6,3.6,3.9,4.0,4.2,4.2,4.2,4.5,4.7,3.5,4.5,4.0,4.6,4.2,4.3,4.1,4.5,4.2,4.5,4.4,3.7,4.4,4.3,4.3,4.3,4.5,4.5,3.8,4.5,4.5,4.4,4.7,3.5,4.9,4.0,4.1,4.2,4.4,4.1,4.6,4.6,4.7,4.5,4.6,4.4,4.4,4.2,4.4,4.0,4.2,4.2,4.2,4.8,3.7,3.4,4.3,4.3,4.6,4.2,4.6,4.1,4.4,4.6,4.3,4.4,4.7,4.2,3.8,4.3,3.7,4.3,2.9,4.3,4.3,4.0,3.3,4.5,4.1,5.0,3.9,4.6,4.0,3.6,4.0,4.5,2.9,4.2,4.5,4.6,4.7,4.2,4.7,4.7,3.9,4.7,3.7,4.8,4.0,4.6,4.4,4.3,4.7,3.6,4.4,4.6,2.9,4.5,5.0,3.7,3.7,4.2,3.0,5.0,4.4,4.7,4.3,3.9,4.4,4.3,4.6,4.5,3.9,4.7,4.3,5.0,5.0,5.0,4.4,2.7,4.6,4.4,4.4,4.1,3.8,4.4,4.6,4.1,4.5,4.2,4.7,4.3,4.3,4.2,3.8,4.0,4.3,4.6,4.3,4.3,4.3,4.7,4.4,3.8,4.6,4.6,4.5,4.5,3.9,4.4,3.8,4.3,4.3,3.7,3.2,4.0,3.8,4.4,3.8,3.4,2.9,4.5,3.7,3.8,4.1,4.1,3.7,3.6,3.0,4.1,3.8,4.2,4.4,4.5,3.6,3.6,3.7,3.9,4.2,4.1,4.5,2.8,2.6,4.3,4.4,4.1,4.0,4.3,3.9,3.5,3.7,4.3,4.3,4.1,4.2,4.3,4.2,4.6,4.3,4.1,4.4,4.4,4.1,4.2,4.4,4.3,2.4,4.5,4.3,4.5,4.5,4.3,4.4,4.3,4.4,4.6,3.4,3.9,4.3,4.4,4.5,4.4,4.2,4.0,4.3,4.4,4.2,4.0,4.4,4.6,4.0,4.4,3.5,4.6,4.0,4.0,4.1,4.1,3.3,3.9,4.1,4.2,4.0,4.5,3.8,3.5,4.3,4.6,4.7,3.8,4.7,4.8,3.2,4.5,3.9,3.6,3.7,4.4,4.1,4.0,3.1,4.0,2.8,3.7,2.7,3.9,3.8,3.6,4.5,3.5,4.0,3.8,3.6,4.2,4.4,4.0,4.7,4.1,4.0,4.7,3.8,5.0,4.4,4.0,3.8,4.1,4.3,4.5,4.4,3.4,4.1,4.1,3.8,4.3,4.4,4.4,4.8,3.3,3.3,4.4,3.7,3.4,2.3,3.3,2.7,4.6,3.5,3.4,4.3,4.1,4.7,4.4,3.8,3.0,4.4,4.2,4.5,3.5,4.5,4.3,4.5,4.5,4.0,4.8,4.3,1.7,4.3,4.2,4.2,4.3,4.0,4.2,4.6,4.1,4.6,4.1,4.0,3.3,4.1,4.0,4.4,4.2,3.8,3.1,5.0,4.2,4.7,4.4,4.6,4.4,2.9,2.7,4.6,4.0,3.8,4.8,5.0,3.9,4.2,4.1,4.7,4.2,4.2,3.7,4.1,4.1,3.8,4.6,4.4,4.2,4.4,4.6,5.0,4.5,3.5,3.9,4.4,3.0,3.1,4.4,3.0,3.7,3.7,3.9,4.8,4.6,4.6,4.5,4.3,5.0,4.3,4.7,4.0,3.8,5.0,4.8,4.5,4.3,3.7,4.3,3.8,4.5,4.6,4.1,4.2,5.0,4.3,3.3,3.6,4.0,4.0,4.0,4.3,4.2,4.3,4.2,4.5,4.3,4.6,4.4,4.2,4.2,4.2,3.4,3.2,4.0,4.6,3.2,4.4,4.0,4.7,3.7,3.9,4.2,4.1,3.5,4.8,4.3,3.9,3.5,4.3,4.4,4.8,3.9,3.8,4.2,4.0,4.0,4.4,4.7,4.5,4.3,3.3,4.3,4.1,2.1,3.7,4.2,4.4,4.2,2.1,2.4,4.1,3.1,5.0,3.5,4.2,4.7,4.8,4.5,4.6,4.6,4.9,4.8,4.0,3.9,4.1,4.1,4.5,4.2,4.0,4.4,1.9,3.7,4.2,4.0,4.3,2.5,4.4,3.7,4.7,4.6,4.4,4.3,4.4,3.6,3.8,4.4,4.4,3.0,4.2,3.7,5.0,4.2,4.8,4.4,4.1,4.7,4.7,3.3,4.0,1.0,4.4,4.2,4.4,4.6,4.3,4.4,3.7,2.9,4.0,3.3,4.2,4.5,2.3,5.0,3.6,3.9,4.4,4.2,4.8,4.3,4.2,4.4,4.3,4.0,1.4,3.3,4.3,4.6,4.7,4.2,3.9,3.4,4.3,4.8,4.8,4.5,3.3,4.2,4.9,4.2,4.6,4.1,4.6,4.0,4.2,5.0,4.1,3.7,4.1,3.8,4.7,3.5,4.0,4.2,3.3,3.7,3.4,3.7,5.0,4.4,5.0,4.8,4.4,4.9,4.0,4.4,4.5,4.9,4.4,4.4,5.0,4.8,4.6,4.3,3.8,4.3,4.3,4.1,4.5,4.2,3.8,4.3,4.4,4.2,4.2,3.8,4.2,4.0,4.2,4.3,4.3,4.4,4.7,4.1,4.5,4.2,4.3,4.4,4.5,4.3,4.2,4.0,3.4,4.4,3.8,3.0,4.1,4.4,4.1,4.1,4.1,4.5,4.1,2.2,3.9,4.0,4.3,3.9,4.0,4.2,4.2,3.6,4.3,4.4,2.6,4.1,3.5,4.2,3.7,4.5,2.4,2.9,4.2,4.2,4.0,2.6,4.4,4.8,4.7,4.4,4.6,2.7,3.8,1.7,4.6,3.3,4.6,2.3,4.5,4.8,5.0,4.1,4.9,3.0,4.8,4.5,3.4,4.0,3.7,2.2,4.8,5.0,4.5,4.3,3.8,4.5,4.5,4.8,4.5,4.4,3.9,4.3,4.3,4.0,4.1,4.6,3.7,3.4,4.5,4.4,4.4,2.4,4.1,4.6,4.6,4.3,4.3,4.7,4.2,4.3,4.3,3.9,4.7,4.2,4.1,4.6,4.7,4.3,4.5,4.6,2.9,4.0,3.0,3.9,4.8,3.9,4.0,5.0,4.0,5.0,4.5,4.8,4.6,4.2,3.4,2.6,2.4,4.5,4.6,3.3,4.1,4.6,3.9,4.0,3.4,4.5,4.0,5.0,3.6,3.5,4.6,4.9,3.7,5.0,4.0,3.9,5.0,4.0,4.9,4.4,3.6,4.7,4.3,3.9,4.5,4.2,4.6,4.1,4.3,4.6,4.2,4.6,4.5,4.4,4.2,4.5,4.0,4.2,4.7,4.1,4.4,4.3,4.6,4.2,4.0,2.3,4.5,3.6,4.4,3.9,3.9,4.8,4.2,3.7,4.0,1.0,4.4,4.7,3.6,4.1,3.3,5.0,4.3,4.7,4.0,4.4,4.6,5.0,4.3,4.3,3.8,4.1,4.6,4.0,4.7,3.6,4.5,4.0,4.1,4.0,3.8,4.5,2.8,4.2,4.8,5.0,5.0,4.3,4.3,4.5,4.5,5.0,3.8,4.4,5.0,4.7,4.7,2.2,4.6,4.6,4.7,4.6,4.4,3.8,3.6,4.9,4.8,4.4,5.0,4.8,4.6,5.0,4.6,5.0,4.0,4.3,4.5,4.0,3.2,4.6,4.2,4.8,3.0,4.3,3.9,3.2,3.9,4.8,3.5,4.4,4.1,4.2,4.7,4.0,4.4,4.2,5.0,3.5,3.8,4.5,4.1,4.3,4.3,4.4,4.0,4.3,4.0,4.9,4.7,4.3,4.2,4.1,4.3,4.7,3.2,3.9,4.2,4.1,4.9,3.7,3.5,4.9,3.3,4.9,3.4,4.5,4.3,5.0,3.5,4.4,3.7,4.8,4.3,4.9,5.0,4.3,4.3,4.4,1.0,4.5,4.0,5.0,4.9,4.7,4.5,3.9,3.2,3.5,3.7,3.0,4.2,4.0,4.1,4.7,4.0,3.1,4.4,3.2,3.9,4.2,4.7,4.0,4.0,3.7,4.1,4.4,4.0,3.9,3.6,4.6,4.4,1.9,4.3,4.5,4.1,3.8,4.1,4.6,3.7,3.9,4.4,4.5,4.3,4.4,3.5,4.3,4.5,4.5,4.4,4.2,4.3,3.6,4.0,3.8,4.4,3.8,3.9,4.1,4.3,3.5,4.3,4.7,4.5,3.8,4.5,4.2,4.3,4.1,4.6,4.6,4.5,4.5,3.0,2.6,3.4,4.0,4.7,3.4,3.7,4.5,3.9,4.0,4.5,4.0,4.4,1.8,4.3,5.0,5.0,3.2,4.2,4.6,3.8,3.9,4.2,4.0,3.8,4.1,3.9,4.4,2.1,1.8,4.2,2.0,3.4,4.3,3.6,3.7,4.7,4.5,4.6,3.6,4.4,4.6,2.3,3.8,3.0,5.0,4.5,4.4,4.5,4.8,4.3,3.8,4.3,3.7,4.5,4.3,4.4,3.4,4.5,1.6,4.5,4.4,3.8,4.3,4.3,3.0,4.0,4.2,4.8,4.0,4.5,4.7,1.9,4.9,4.4,4.7,4.9,4.8,4.5,4.6,4.5,5.0,3.9,4.3,4.8,4.3,4.6,4.1,4.5,4.3,3.8,2.4,4.3,2.8,4.5,4.6,4.1,4.2,4.6,4.3,4.6,5.0,5.0,3.9,4.2,3.9,4.2,3.5,4.0,3.7,3.8,4.3,4.5,4.6,4.5,4.3,4.4,4.6,3.9,3.9,3.1,3.9,4.4,4.4,4.4,4.6,3.9,4.6,2.5,4.6,2.8,4.0,3.4,3.8,4.5,4.8,3.3,3.9,3.5,4.5,4.0,3.6,4.7,3.9,5.0,4.6,3.9,4.9,3.6,3.7,3.9,2.7,3.8,2.8,3.5,4.1,4.7,4.3,4.5,4.1,4.8,3.4,5.0,4.3,4.4,1.8,4.2,3.3,5.0,4.8,4.5,5.0,4.5,4.7,4.6,4.5,3.5,3.5,2.9,5.0,4.3,4.8,4.7,4.3,4.1,5.0,5.0,4.0,4.3,4.1,5.0,5.0,4.0,3.5,4.1,4.6,4.1,4.2,4.2,2.2,4.3,4.7,3.8,4.1,3.1,4.2,3.0,4.8,3.7,3.1,4.6,2.9,4.2,4.7,4.5,2.8,4.4,4.4,4.1,4.6,3.0,4.1,4.4,3.9,4.3,4.5,4.5,3.6,2.0,4.0,4.5,4.0,4.3,4.5,4.8,4.5,4.2,4.5,4.6,3.9,4.3,3.9,4.3,3.7,4.7,4.3,1.7,4.5,4.7,5.0,4.6,2.9,4.8,2.3,3.8,4.2,4.4,4.0,4.1,3.4,4.3,4.0,4.2,4.1,4.7,4.2,3.9,3.8,4.1,4.2,3.8,4.7,3.7,4.3,4.0,4.2,4.6,4.7,4.7,4.3,4.2,3.5,4.7,4.7,4.5,4.5,4.7,4.6,4.6,4.9,4.2,4.3,4.4,4.4,4.5,4.3,4.4,4.4,3.0,4.8,4.7,4.6,4.0,3.7,3.5,2.7,4.7,4.1,4.5,4.6,4.5,4.4,4.3,4.4,4.5,4.6,4.7,4.6,3.1,4.7,4.6,4.7,4.4,4.8,4.1,4.3,4.4,4.7,4.0,3.4,4.6,2.8,3.1,3.9,4.2,4.5,4.1,4.2,3.3,4.4,4.4,4.6,4.4,4.5,4.1,2.2,4.2,4.8,3.2,4.3,4.0,4.6,4.4,4.5,3.4,3.3,4.2,2.4,3.2,3.1,3.8,4.8,3.7,4.2,3.7,3.0,3.9,4.0,5.0,4.0,2.7,3.1,4.1,4.5,4.0,3.8,3.8,4.3,3.5,4.5,3.9,4.5,3.3,4.1,5.0,3.7,4.8,1.5,5.0,4.6,5.0,4.7,4.7,5.0,4.5,5.0,5.0,4.2,1.0,4.5,4.2,5.0,4.2,4.4,3.9,4.6,3.8,4.0,4.6,3.4,5.0,4.6,5.0,3.0,3.8,4.2,4.3,4.4,3.2,3.5,4.4,4.5,3.7,5.0,4.5,4.5,4.1,3.4,4.1,5.0,4.2,4.1,4.1,4.2,4.3,5.0,4.4,4.3,4.5,4.8,4.4,4.4,4.7,4.3,4.4,4.6,2.8,5.0,4.4,4.4,2.0,5.0,4.4,5.0,3.4,4.4,3.4,3.3,1.5,5.0,4.3,4.3,2.2,4.6,5.0,4.7,4.7,3.5,4.3,3.6,4.3,3.6,2.6,4.7,4.5,4.0,4.6,5.0,4.2,4.2,4.7,4.5,3.6,3.8,4.2,3.8,3.5,4.1,5.0,4.2,4.1,3.6,4.3,4.1,4.4,4.0,5.0,5.0,3.8,4.3,4.7,4.5,4.4,4.7,4.4,3.7,4.3,3.9,4.9,3.5,3.5,4.4,4.2,4.3,4.7,4.5,4.4,4.2,4.4,3.3,4.4,4.9,4.5,4.7,4.7,3.9,4.7,4.7,4.4,4.8,4.8,4.0,3.7,5.0,3.0,3.9,4.6,4.6,4.3,4.2,5.0,4.5,4.2,1.0,4.6,4.1,4.7,4.4,4.8,4.2,5.0,4.6,4.5,5.0,2.9,4.4,3.0,4.5,2.4,4.3,3.9,1.9,4.4,5.0,4.0,4.7,3.9,5.0,4.2,4.2,2.8,4.2,1.0,3.9,4.1,4.1,3.2,5.0,5.0,4.3,4.1,3.8,4.0,4.2,5.0,4.1,5.0,3.7,4.1,3.5,3.9,4.2,3.8,3.7,4.7,2.8,4.7,4.3,4.1,4.7,4.2,4.0,3.2,4.6,5.0,4.4,4.5,4.0,4.6,4.7,4.1,4.5,4.3,5.0,5.0,4.2,4.0,5.0,2.7,4.1,4.4,4.3,4.1,4.7,4.4,3.6,4.0,4.1,4.0,4.1,4.0,4.6,5.0,3.6,4.1,4.3,4.1,2.6,2.7,3.8,5.0,4.2,5.0,2.6,4.4,4.3,4.7,2.8,4.1,3.6,4.0,5.0,5.0,4.7,4.7,4.6,4.7,4.6,4.6,4.6,4.6,4.6,4.4,3.8,4.1,3.4,4.5,4.5,4.5,4.0,4.7,4.4,4.4,4.7,4.7,4.2,4.2,4.0,3.6,4.7,4.4,4.3,4.4,4.4,4.4,4.3,3.3,3.6,4.5,4.5,4.6,4.3,3.6,4.3,4.4,4.1,4.2,4.8,4.2,4.0,3.7,4.5,4.1,4.6,4.5,4.7,4.3,4.3,4.6,4.1,4.2,4.3,4.2,4.3,3.6,4.2,4.2,4.0,4.6,4.3,4.4,4.5,4.3,3.7,4.2,4.7,4.6,4.5,4.1,4.5,4.3,3.4,4.2,3.9,4.4,4.1,4.3,3.9,4.0,5.0,4.2,4.3,4.5,4.5,4.5,3.5,3.6,1.9,4.3,3.2,1.6,4.2,4.9,4.4,3.6,3.4,4.7,2.9,4.3,4.4,4.3,4.6,4.6,4.2,3.5,2.9,4.4,4.7,4.5,4.4,2.0,4.7,4.4,4.4,4.4,4.5,3.5,4.2,3.7,4.4,3.4,4.3,3.6,4.6,4.6,4.2,4.3,3.8,1.4,4.4,4.0,4.6,3.9,3.8,4.7,4.2,4.3,4.1,4.3,4.2,3.6,4.6,4.3,5.0,5.0,5.0,4.5,3.8,3.9,4.8,4.1,4.0,4.8,4.8,4.4,4.1,4.4,4.3,3.7,4.3,4.3,2.7,4.4,4.5,4.2,3.7,5.0,4.2,3.9,4.5,3.5,4.7,4.2,4.4,4.7,4.6,4.0,2.5,3.8,4.7,4.5,4.6,4.6,5.0,3.9,5.0,2.3,3.6,4.0,3.7,4.2,4.1,4.4,4.6,4.2,4.4,4.3,4.0,4.5,3.9,3.7,4.6,3.8,4.7,3.4,4.5,4.1,4.3,4.6,4.3,4.3,4.0,3.5,2.3,3.9,4.1,4.5,4.6,4.4,3.1,4.3,3.3,5.0,4.2,3.8,3.3,5.0,1.0,4.5,4.6,4.3,4.4,4.1,4.5,4.2,3.7,4.1,3.9,4.5,3.6,3.2,3.5,3.7,4.6,4.8,4.1,4.4,4.3,4.0,3.1,4.2,4.1,3.5,4.3,3.8,4.3,4.8,2.3,4.3,4.4,3.6,5.0,4.3,4.2,4.3,4.7,3.9,4.4,4.4,4.3,2.6,4.3,3.8,4.2,4.2,4.1,4.0,4.4,4.7,2.6,4.3,5.0,3.7,4.3,4.1,4.3,3.8,4.5,5.0,3.9,3.8,4.6,4.6,4.7,5.0,4.5,3.5,3.3,4.8,3.9,4.5,3.4,5.0,5.0,4.8,3.6,4.3,4.0,4.5,4.6,4.7,3.8,3.4,4.7,4.0,4.6,2.0,4.3,2.0,3.6,4.7,3.5,4.0,3.5,4.3,4.1,4.6,3.8,4.3,3.8,1.0,3.8,3.3,4.8,3.0,4.0,3.6,3.8,4.3,3.9,4.2,4.6,4.0,4.5,4.6,4.6,4.5,3.7,4.4,4.6,3.9,4.4,4.5,4.5,4.3,3.7,3.9,3.9,4.3,4.1,4.1,4.4,4.4,4.2,4.5,4.6,4.4,4.4,4.4,3.8,2.6,4.2,4.4,4.2,4.0,4.2,4.0,4.4,4.5,3.2,4.3,3.4,2.3,4.4,4.3,4.3,3.6,4.6,4.2,4.0,4.4,4.5,3.2,1.7,2.2,3.8,4.8,4.4,4.5,4.8,4.6,3.7,4.4,3.5,3.8,3.8,4.3,4.6,4.5,3.7,4.8,4.3,5.0,3.9,3.0,5.0,4.4,4.6,3.9,3.3,4.1,3.0,4.2,4.2,4.2,4.0,4.0,3.2,4.6,3.2,4.1,3.3,4.4,4.0,4.2,4.1,4.3,3.3,4.7,4.4,3.1,3.1,3.3,3.9,3.4,3.9,4.4,3.9,3.7,4.5,4.7,4.6,5.0,3.0,3.9,5.0,3.9,3.8,3.6,3.9,3.8,4.8,4.4,4.5,4.0,4.7,4.8,4.7,4.7,4.5,4.0,3.2,4.7,4.5,4.5,4.9,4.2,5.0,5.0,5.0,4.2,4.7,4.5,4.5,4.5,3.8,4.5,4.3,3.9,3.9,4.2,4.5,4.1,4.4,4.1,4.6,3.3,4.5,2.2,4.4,3.9,4.5,2.8,3.3,4.5,3.1,3.2,4.4,4.1,5.0,3.8,4.3,4.6,3.7,4.9,4.3,5.0,2.9,4.4,4.4,4.6,4.5,4.0,3.5,4.8,4.8,3.5,4.7,4.6,4.4,4.3,4.7,4.4,4.0,3.5,4.6,3.9,3.5,4.6,4.2,4.4,4.6,4.0,4.2,3.8,4.1,4.3,4.4,4.5,4.1,4.2,4.0,3.6,3.3,4.7,4.6,4.5,3.9,4.3,3.9,4.3,3.1,4.4,3.7,4.6,4.6,2.7,4.1,4.2,1.9,4.6,4.2,4.4,4.2,3.9,2.4,5.0,3.9,3.7,5.0,4.0,3.0,4.1,4.8,4.5,3.5,4.5,4.5,4.2,4.3,4.4,4.4,4.3,4.2,4.5,4.3,4.3,4.2,4.9,4.1,1.4,4.0,5.0,4.3,4.2,4.3,3.8,4.1,4.2,4.3,4.1,4.3,3.6,4.3,4.6,4.4,5.0,4.4,4.5,4.7,5.0,3.4,3.1,4.5,5.0,4.3,4.4,4.3,4.2,4.0,4.5,4.0,4.1,3.8,4.3,4.6,4.1,4.3,4.3,4.2,4.3,4.4,4.4,3.9,4.3,4.5,4.3,3.5,4.2,4.1,4.1,4.7,4.5,3.3,4.2,4.2,4.6,4.3,4.3,4.0,4.7,5.0,5.0,4.9,4.3,4.0,4.5,4.1,4.3,4.5,3.9,3.7,4.2,3.6,3.6,2.1,4.7,3.2,3.0,4.3,3.0,4.3,3.9,3.3,4.3,4.0,3.7,2.8,4.4,5.0,3.9,4.2,4.8,4.0,3.0,4.5,2.6,5.0,5.0,4.1,4.5,5.0,4.7,4.5,4.4,4.4,4.3,4.2,3.0,4.1,4.2,4.2,4.0,4.3,4.1,3.6,4.3,5.0,4.2,3.9,4.1,3.8,5.0,3.7,4.3,4.2,4.3,2.5,4.3,4.4,4.3,4.2,4.6,4.0,2.9,4.5,4.7,3.8,4.7,3.9,4.5,4.7,4.5,4.2,4.3,4.4,4.8,4.2,4.1,4.5,4.5,4.6,4.4,4.1,4.3,4.7,4.4,4.2,4.3,4.5,4.3,4.8,4.5,4.6,4.7,4.4,4.1,4.3,4.2,4.2,3.6,2.8,3.9,3.8,4.4,3.7,2.7,3.8,3.2,3.9,2.3,4.1,4.3,3.1,4.6,4.1,4.4,3.2,4.5,3.7,4.4,4.5,5.0,4.8,4.6,4.0,4.1,4.1,4.8,4.3,2.8,4.7,4.5,4.2,4.3,3.8,3.8,4.2,3.8,4.0,4.0,4.6,4.0,4.3,4.3,3.9,5.0,4.0,4.1,3.9,4.2,4.3,4.5,4.4,4.1,4.2,4.5,4.6,4.1,3.9,4.7,3.9,4.3,2.9,4.4,3.7,4.4,4.1,2.8,4.9,3.4,2.8,2.5,4.7,3.1,3.2,4.3,3.9,3.6,3.2,3.5,3.3,2.4,4.4,2.8,5.0,4.4,5.0,3.3,2.9,4.1,4.6,2.2,4.3,5.0,2.5,3.0,3.7,5.0,5.0,4.1,4.1,2.6,4.6,4.5,4.5,3.3,4.4,4.7,4.7,4.0,4.5,4.3,4.6,4.7,4.4,4.0,4.2,4.1,4.3,4.7,4.1,3.1,4.0,4.5,4.4,4.4,4.6,4.0,4.6,4.3,4.3,3.9,4.5,4.7,4.3,4.6,4.2,4.3,4.2,4.1,4.6,4.4,3.7,4.4,3.9,4.3,4.3,4.3,4.5,4.5,4.5,4.5,4.7,4.3,4.4,4.5,4.3,4.3,4.2,4.2,4.3,4.2,4.7,4.1,4.3,4.1,3.8,4.5,4.1,4.3,4.5,4.1,4.4,4.3,4.4,4.3,4.1,4.6,4.7,4.2,3.7,4.7,4.4,4.7,4.2,4.6,4.5,4.8,3.7,4.3,4.2,3.6,4.1,2.3,4.3,4.6,4.5,4.0,4.2,4.6,4.2,4.5,4.3,4.4,3.6,4.0,2.8,3.8,4.1,3.8,3.4,4.5,4.3,3.1,4.6,3.3,3.9,4.2,4.9,3.9,3.4,3.7,4.2,3.8,4.6,4.4,4.0,4.2,4.2,4.5,4.6,4.4,4.6,4.5,3.7,4.1,4.2,4.0,4.5,4.6,4.5,4.4,3.3,4.2,4.2,4.0,4.0,4.0,3.5,4.5,3.9,3.9,4.1,4.4,4.2,4.4,4.3,4.1,4.0,4.3,4.4,4.5,4.6,3.7,3.8,3.4,4.3,3.8,4.7,4.4,4.4,4.1,4.4,4.0,3.9,4.3,4.2,3.3,4.0,4.6,4.1,4.1,3.4,3.4,4.1,4.0,3.4,3.2,3.8,3.8,3.9,3.6,3.8,3.9,3.2,1.0,4.6,3.6,4.9,2.6,3.9,3.5,3.2,3.3,3.8,3.9,4.6,1.8,4.3,3.9,4.8,3.7,4.0,4.1,4.6,4.0,4.8,4.0,3.5,3.0,4.6,1.6,3.8,1.7,4.6,5.0,4.6,4.4,4.5,3.8,4.0,4.1,5.0,5.0,1.0,4.4,4.7,4.6,2.4,4.5,4.4,4.3,5.0,4.1,3.8,3.9,3.1,4.7,4.5,3.5,4.5,4.6,4.5,4.5,4.4,4.3,4.4,4.2,4.6,4.5,3.8,4.3,4.6,4.3,3.6,4.2,4.7,4.3,4.7,4.8,3.1,4.5,4.4,4.5,4.5,4.7,4.1,4.4,4.3,4.6,3.4,4.7,3.6,3.7,2.1,2.0,3.5,4.3,2.4,4.5,2.8,4.5,2.8,3.9,3.2,3.1,2.4,4.6,2.9,4.0,3.7,2.3,2.9,4.6,4.3,5.0,4.2,4.6,4.5,4.2,4.8,3.5,4.6,3.5,3.6,5.0,3.0,2.9,3.7,4.6,4.2,3.2,2.5,4.4,4.3,2.7,4.0,4.5,3.4,4.3,4.3,4.3,4.0,4.9,3.4,4.9,4.3,4.7,4.8,4.3,4.3,4.0,3.5,5.0,4.7,4.2,4.4,4.2,5.0,5.0,2.0,3.7,3.9,4.5,3.1,4.5,4.7,4.4,3.8,4.2,4.5,4.5,4.6,4.2,4.5,4.2,4.2,4.1,4.3,5.0,4.6,4.0,4.4,4.5,3.6,4.6,4.0,4.6,4.5,4.5,4.8,5.0,4.4,4.0,3.5,5.0,4.0,4.2,4.0,3.9,4.5,3.6,4.2,3.0,3.0,4.0,3.4,4.9,4.0,4.4,4.1,4.4,4.0,4.5,4.2,3.9,3.6,5.0,4.4,3.6,4.7,4.2,4.5,4.7,4.3,4.2,4.4,4.7,4.4,4.1,4.5,4.1,4.0,4.3,4.2,4.2,4.1,4.2,5.0,4.0,4.0,4.5,4.1,4.7,4.4,4.9,3.6,4.2,4.4,4.5,4.2,4.2,4.5,4.4,4.4,4.5,4.5,3.9,4.3,4.4,4.5,4.0,4.5,4.0,4.4,4.3,2.5,4.4,3.8,4.4,4.2,4.1,4.2,3.9,4.5,4.1,4.4,4.3,4.5,3.4,3.4,4.4,4.2,4.4,3.5,4.1,4.6,1.7,3.3,5.0,4.8,4.6,3.3,4.2,3.5,3.7,5.0,4.6,4.1,3.5,5.0,3.7,4.0,4.2,4.5,3.8,2.5,4.0,4.0,4.1,3.4,3.6,3.4,3.9,4.6,4.3,4.7,5.0,3.9,3.9,4.2,4.3,3.5,4.1,4.2,4.4,4.5,3.8,3.4,3.9,4.5,3.0,4.1,4.6,3.9,4.7,4.5,3.4,5.0,5.0,5.0,4.0,4.0,4.9,5.0,4.6,4.8,4.1,4.1,4.7,5.0,4.4,3.3,4.0,3.5,2.8,3.6,3.2,3.6,3.7,3.3,3.1,4.1,3.1,3.5,3.6,5.0,2.3,3.1,2.9,3.0,2.9,3.9,5.0,3.4,5.0,4.8,4.2,5.0,4.3,4.6,4.7,4.4,4.8,4.1,4.6,4.3,4.6,4.0,2.9,4.1,4.2,4.3,4.4,2.4,4.2,3.1,3.0,4.7,3.4,4.7,4.7,4.2,5.0,4.5,4.3,3.3,4.4,4.2,4.2,4.7,4.3,4.8,4.2,4.0,4.2,4.1,4.6,4.6,3.8,4.5,4.4,4.1,4.0,3.9,3.5,5.0,4.6,3.6,4.2,3.8,3.4,3.8,4.2,4.2,3.7,4.0,4.4,4.5,3.7,4.2,3.9,4.0,3.7,4.2,4.0,3.9,4.1,4.3,4.5,4.5,3.3,4.4,4.2,4.2,4.1,4.1,4.4,4.1,3.9,3.9,4.4,3.8,3.0,3.4,4.3,5.0,4.1,2.4,3.9,4.0,3.0,4.4,3.4,2.9,5.0,4.5,3.7,3.0,4.0,3.2,3.6,3.2,3.7,4.7,4.4,3.9,4.4,4.3,4.9,2.6,5.0,4.1,4.0,4.1,3.3,4.2,4.0,4.3,4.4,5.0,4.3,4.4,3.9,4.3,4.0,3.8,4.5,3.8,4.4,4.3,4.7,3.9,4.2,3.8,4.3,3.8,4.2,4.5,4.2,3.6,4.0,3.5,4.4,3.5,4.1,4.8,4.4,4.3,4.0,4.2,4.4,3.5,4.3,4.4,4.7,5.0,3.8,5.0,4.8,4.9,4.3,5.0,4.9,4.9,4.9,4.5,4.5,5.0,5.0,3.0,4.9,5.0,5.0,4.1,4.1,4.3,4.3,4.1,4.7,4.9,4.0,5.0,5.0,4.6,4.2,3.7,5.0,4.3,4.0,4.3,4.0,4.0,3.1,3.4,4.2,4.2,4.1,3.4,4.0,3.9,4.8,4.1,4.3,4.3,4.4,4.4,4.5,4.5,4.8,4.4,4.5,4.6,4.6,4.5,4.2,4.4,4.2,4.7,4.5,4.2,4.5,4.2,4.7,4.1,4.1,4.6,4.4,4.5,3.8,3.9,3.5,3.8,4.2,4.6,3.7,4.4,3.6,3.4,4.0,4.3,4.3,4.5,4.4,4.5,4.1,4.4,4.3,4.5,4.5,4.2,4.5,4.3,4.1,4.6,4.3,4.0,4.4,4.4,4.6,4.6,4.3,4.3,4.2,4.5,4.0,4.6,4.5,3.8,4.3,4.3,4.9,4.0,4.5,4.1,4.5,4.2,4.4,4.4,4.0,4.3,4.3,4.4,4.4,4.0,4.7,4.2,4.5,4.1,4.4,4.1,4.3,3.5,4.7,2.6,4.2,5.0,4.3,4.4,4.3,4.1,4.3,4.5,4.6,4.6,4.7,4.3,4.2,4.5,4.3,4.5,3.5,4.3,4.6,4.5,4.3,4.4,3.4,4.3,3.8,4.5,5.0,4.9,5.0,4.2,4.3,4.4,2.3,4.7,4.4,4.3,4.4,4.0,3.6,4.1,4.6,3.9,4.4,3.7,3.9,4.3,4.1,3.6,3.5,3.9,3.9,3.8,4.0,4.5,3.6,3.9,4.3,4.0,4.2,3.7,3.9,4.2,3.5,4.0,3.8,4.1,4.2,4.1,4.4,3.7,4.7,3.8,4.0,4.2,3.8,3.9,4.0,3.1,5.0,3.5,4.1,4.5,4.7,4.1,3.9,4.0,4.3,3.1,4.2,4.1,4.4,3.2,3.3,4.3,4.7,4.3,4.2,4.7,4.3,4.2,4.2,4.2,4.1,4.2,4.3,4.4,4.3,3.5,4.3,1.8,4.2,4.2,4.6,4.0,4.3,5.0,3.8,4.3,3.0,5.0,4.7,4.6,4.4,4.7,5.0,4.8,3.0,4.6,4.6,4.1,4.6,4.5,4.3,4.2,3.9,4.7,4.9,4.3,4.4,3.6,4.6,4.5,3.9,4.3,4.8,3.7,4.4,4.2,4.3,4.6,4.5,3.9,4.3,4.4,4.0,4.7,4.3,4.5,4.2,4.2,4.8,4.6,4.5,4.0,4.2,4.1,4.7,4.2,4.6,4.5,3.9,3.6,4.6,3.4,4.2,3.4,3.6,4.2,3.5,4.3,3.9,4.3,3.6,3.9,4.3,3.7,3.8,4.1,4.1,4.7,4.1,1.9,3.6,3.8,4.5,2.7,4.5,5.0,4.0,4.2,4.4,4.0,3.1,5.0,4.7,3.7,3.9,3.0,4.2,3.0,4.2,4.2,3.7,4.6,4.5,4.6,4.7,4.3,2.3,2.8,2.8,3.6,3.0,3.2,3.5,3.8,3.5,4.2,4.5,3.4,3.0,4.4,4.0,4.3,4.1,3.6,3.7,4.2,3.7,4.3,3.3,4.4,4.8,3.5,4.0,4.9,4.0,4.6,4.3,3.6,3.9,3.9,4.0,4.2,4.4,4.3,3.7,4.3,3.4,3.5,4.2,4.2,3.6,3.9,3.8,3.8,4.0,4.5,3.8,4.9,3.8,4.1,3.5,3.0,4.5,4.7,3.8,3.3,4.0,4.1,3.7,3.9,3.5,4.4,4.0,4.0,4.6,4.4,4.5,4.3,4.4,4.3,4.1,4.2,2.7,4.2,2.3,3.9,4.1,2.9,3.3,4.2,2.9,3.5,2.8,4.3,3.5,4.6,4.2,4.2,3.7,4.7,3.9,4.3,4.4,4.0,4.4,3.7,4.3,3.5,4.3,4.0,4.5,4.2,4.3,4.1,2.5,2.7,1.2,4.7,4.9,4.7,4.4,4.7,4.0,4.7,4.3,4.7,4.4,4.6,4.4,4.4,4.4,4.6,3.1,4.3,3.7,4.6,4.1,4.2,4.4,4.1,3.6,4.4,3.8,4.0,3.2,2.8,3.1,2.9,4.1,3.3,3.5,4.2,2.8,2.1,4.4,4.4,4.2,4.1,3.3,3.5,4.7,3.1,4.3,4.1,4.2,2.5,3.9,3.0,3.2,4.3,4.3,4.2,4.3,2.2,3.9,2.8,4.4,4.6,4.4,3.9,2.9,4.1,5.0,4.6,3.7,4.4,4.2,4.4,3.9,3.6,3.4,4.3,4.3,4.4,4.3,4.3,4.4,4.0,4.5,4.6,4.3,4.1,4.4,3.5,4.1,3.8,4.2,4.3,4.5,4.0,4.0,4.3,4.1,3.4,4.0,4.3,4.7,4.5,4.3,4.1,4.1,4.4,4.6,3.8,3.9,4.2,4.2,3.7,4.3,4.2,3.6,4.3,4.3,4.3,4.5,4.3,4.7,3.8,4.0,4.1,3.9,4.3,3.4,4.2,4.5,4.4,4.2,4.7,4.6,4.4,4.4,4.8,4.6,4.3,4.4,4.4,3.3,4.5,4.6,4.3,4.9,4.3,4.5,4.9,3.7,4.5,4.6,4.5,4.1,4.8,5.0,3.4,4.5,4.8,4.5,4.5,4.5,4.5,4.5,4.1,4.1,3.6,4.7,4.6,4.9,4.6,4.1,4.5,3.9,3.9,4.6,3.8,4.7,3.9,4.1,3.9,4.0,4.3,4.0,4.4,4.1,5.0,4.8,4.6,5.0,4.2,4.7,4.0,4.4,4.9,3.5,4.1,4.2,4.4,4.5,3.1,4.5,4.6,4.3,4.4,4.6,4.3,4.8,2.8,4.1,1.0,3.0,5.0,4.5,5.0,4.1,4.4,3.0,3.8,3.9,5.0,4.5,5.0,3.3,4.5,4.9,4.3,4.5,4.1,4.8,3.8,4.1,3.9,4.2,4.2,4.8,4.1,4.1,4.0,3.9,4.1,4.1,4.2,3.7,3.9,3.9,3.6,3.7,3.6,4.3,3.9,4.5,2.6,4.4,1.0,4.2,4.8,5.0,4.3,4.4,4.5,4.9,5.0,4.2,4.2,4.0,2.1,4.2,2.5,4.4,4.4,4.6,4.4,4.2,4.5,3.3,3.9,4.5,4.1,4.8,4.6,4.4,3.8,3.7,4.2,3.7,4.3,4.5,3.5,4.0,4.5,2.9,3.9,3.6,4.6,2.1,4.7,4.5,4.1,4.5,3.7,2.9,4.0,4.2,3.7,3.6,3.9,3.4,3.5,4.2,3.4,3.9,3.0,3.6,3.2,4.1,4.1,4.2,4.2,4.7,4.6,4.5,4.3,4.5,4.5,4.4,4.3,4.2,3.7,4.1,4.3,4.0,3.5,4.2,4.4,4.2,4.4,3.8,3.9,4.0,3.8,3.6,4.2,3.8,3.7,4.0,4.2,4.4,4.4,4.9,5.0,4.8,4.0,4.0,4.9,3.8,4.9,1.5,5.0,4.8,3.9,3.7,4.6,4.7,4.6,4.3,4.2,4.6,4.7,4.6,2.0,3.6,3.2,3.8,4.0,3.8,3.8,4.4,4.4,4.4,3.8,4.3,4.6,1.0,3.2,4.7,4.3,4.5,4.1,4.9,4.1,4.2,3.5,4.2,5.0,3.8,4.7,4.5,5.0,3.3,5.0,4.0,4.5,3.2,4.5,4.2,3.7,3.8,5.0,4.1,2.9,4.7,5.0,3.2,3.8,3.8,4.6,4.6,4.4,4.8,4.2,3.3,3.9,4.5,3.9,4.3,4.4,3.9,4.6,3.9,3.4,4.6,4.2,4.8,5.0,5.0,3.8,2.9,4.6,3.8,4.1,4.5,4.2,2.5,3.5,4.6,4.4,4.6,4.3,4.2,4.2,4.1,4.2,4.3,4.5,4.4,5.0,4.6,5.0,3.4,4.6,4.5,3.8,4.1,4.4,4.4,4.4,3.0,4.2,4.2,3.9,4.2,4.4,5.0,4.0,4.3,4.6,3.6,4.4,4.1,4.2,4.3,4.5,3.9,4.3,3.5,4.0,3.8,3.6,4.3,4.2,5.0,3.4,3.5,3.7,4.2,3.6,4.5,4.2,4.3,4.4,2.7,4.1,4.4,4.5,3.4,2.9,4.8,4.0,3.9,5.0,3.9,4.0,3.6,4.1,4.3,3.8,4.2,4.3,4.2,4.2,4.1,4.0,4.1,4.0,4.2,4.4,4.2,4.7,4.6,4.7,4.1,4.9,4.0,4.3,4.2,4.3,4.7,4.8,4.1,4.0,4.2,4.0,3.3,5.0,4.0,4.2,3.4,4.6,3.8,3.8,4.8,4.0,4.5,5.0,4.5,4.5],\"xaxis\":\"x\",\"yaxis\":\"y\",\"type\":\"histogram\"}],                        {\"template\":{\"data\":{\"histogram2dcontour\":[{\"type\":\"histogram2dcontour\",\"colorbar\":{\"outlinewidth\":0,\"ticks\":\"\"},\"colorscale\":[[0.0,\"#0d0887\"],[0.1111111111111111,\"#46039f\"],[0.2222222222222222,\"#7201a8\"],[0.3333333333333333,\"#9c179e\"],[0.4444444444444444,\"#bd3786\"],[0.5555555555555556,\"#d8576b\"],[0.6666666666666666,\"#ed7953\"],[0.7777777777777778,\"#fb9f3a\"],[0.8888888888888888,\"#fdca26\"],[1.0,\"#f0f921\"]]}],\"choropleth\":[{\"type\":\"choropleth\",\"colorbar\":{\"outlinewidth\":0,\"ticks\":\"\"}}],\"histogram2d\":[{\"type\":\"histogram2d\",\"colorbar\":{\"outlinewidth\":0,\"ticks\":\"\"},\"colorscale\":[[0.0,\"#0d0887\"],[0.1111111111111111,\"#46039f\"],[0.2222222222222222,\"#7201a8\"],[0.3333333333333333,\"#9c179e\"],[0.4444444444444444,\"#bd3786\"],[0.5555555555555556,\"#d8576b\"],[0.6666666666666666,\"#ed7953\"],[0.7777777777777778,\"#fb9f3a\"],[0.8888888888888888,\"#fdca26\"],[1.0,\"#f0f921\"]]}],\"heatmap\":[{\"type\":\"heatmap\",\"colorbar\":{\"outlinewidth\":0,\"ticks\":\"\"},\"colorscale\":[[0.0,\"#0d0887\"],[0.1111111111111111,\"#46039f\"],[0.2222222222222222,\"#7201a8\"],[0.3333333333333333,\"#9c179e\"],[0.4444444444444444,\"#bd3786\"],[0.5555555555555556,\"#d8576b\"],[0.6666666666666666,\"#ed7953\"],[0.7777777777777778,\"#fb9f3a\"],[0.8888888888888888,\"#fdca26\"],[1.0,\"#f0f921\"]]}],\"heatmapgl\":[{\"type\":\"heatmapgl\",\"colorbar\":{\"outlinewidth\":0,\"ticks\":\"\"},\"colorscale\":[[0.0,\"#0d0887\"],[0.1111111111111111,\"#46039f\"],[0.2222222222222222,\"#7201a8\"],[0.3333333333333333,\"#9c179e\"],[0.4444444444444444,\"#bd3786\"],[0.5555555555555556,\"#d8576b\"],[0.6666666666666666,\"#ed7953\"],[0.7777777777777778,\"#fb9f3a\"],[0.8888888888888888,\"#fdca26\"],[1.0,\"#f0f921\"]]}],\"contourcarpet\":[{\"type\":\"contourcarpet\",\"colorbar\":{\"outlinewidth\":0,\"ticks\":\"\"}}],\"contour\":[{\"type\":\"contour\",\"colorbar\":{\"outlinewidth\":0,\"ticks\":\"\"},\"colorscale\":[[0.0,\"#0d0887\"],[0.1111111111111111,\"#46039f\"],[0.2222222222222222,\"#7201a8\"],[0.3333333333333333,\"#9c179e\"],[0.4444444444444444,\"#bd3786\"],[0.5555555555555556,\"#d8576b\"],[0.6666666666666666,\"#ed7953\"],[0.7777777777777778,\"#fb9f3a\"],[0.8888888888888888,\"#fdca26\"],[1.0,\"#f0f921\"]]}],\"surface\":[{\"type\":\"surface\",\"colorbar\":{\"outlinewidth\":0,\"ticks\":\"\"},\"colorscale\":[[0.0,\"#0d0887\"],[0.1111111111111111,\"#46039f\"],[0.2222222222222222,\"#7201a8\"],[0.3333333333333333,\"#9c179e\"],[0.4444444444444444,\"#bd3786\"],[0.5555555555555556,\"#d8576b\"],[0.6666666666666666,\"#ed7953\"],[0.7777777777777778,\"#fb9f3a\"],[0.8888888888888888,\"#fdca26\"],[1.0,\"#f0f921\"]]}],\"mesh3d\":[{\"type\":\"mesh3d\",\"colorbar\":{\"outlinewidth\":0,\"ticks\":\"\"}}],\"scatter\":[{\"fillpattern\":{\"fillmode\":\"overlay\",\"size\":10,\"solidity\":0.2},\"type\":\"scatter\"}],\"parcoords\":[{\"type\":\"parcoords\",\"line\":{\"colorbar\":{\"outlinewidth\":0,\"ticks\":\"\"}}}],\"scatterpolargl\":[{\"type\":\"scatterpolargl\",\"marker\":{\"colorbar\":{\"outlinewidth\":0,\"ticks\":\"\"}}}],\"bar\":[{\"error_x\":{\"color\":\"#2a3f5f\"},\"error_y\":{\"color\":\"#2a3f5f\"},\"marker\":{\"line\":{\"color\":\"#E5ECF6\",\"width\":0.5},\"pattern\":{\"fillmode\":\"overlay\",\"size\":10,\"solidity\":0.2}},\"type\":\"bar\"}],\"scattergeo\":[{\"type\":\"scattergeo\",\"marker\":{\"colorbar\":{\"outlinewidth\":0,\"ticks\":\"\"}}}],\"scatterpolar\":[{\"type\":\"scatterpolar\",\"marker\":{\"colorbar\":{\"outlinewidth\":0,\"ticks\":\"\"}}}],\"histogram\":[{\"marker\":{\"pattern\":{\"fillmode\":\"overlay\",\"size\":10,\"solidity\":0.2}},\"type\":\"histogram\"}],\"scattergl\":[{\"type\":\"scattergl\",\"marker\":{\"colorbar\":{\"outlinewidth\":0,\"ticks\":\"\"}}}],\"scatter3d\":[{\"type\":\"scatter3d\",\"line\":{\"colorbar\":{\"outlinewidth\":0,\"ticks\":\"\"}},\"marker\":{\"colorbar\":{\"outlinewidth\":0,\"ticks\":\"\"}}}],\"scattermapbox\":[{\"type\":\"scattermapbox\",\"marker\":{\"colorbar\":{\"outlinewidth\":0,\"ticks\":\"\"}}}],\"scatterternary\":[{\"type\":\"scatterternary\",\"marker\":{\"colorbar\":{\"outlinewidth\":0,\"ticks\":\"\"}}}],\"scattercarpet\":[{\"type\":\"scattercarpet\",\"marker\":{\"colorbar\":{\"outlinewidth\":0,\"ticks\":\"\"}}}],\"carpet\":[{\"aaxis\":{\"endlinecolor\":\"#2a3f5f\",\"gridcolor\":\"white\",\"linecolor\":\"white\",\"minorgridcolor\":\"white\",\"startlinecolor\":\"#2a3f5f\"},\"baxis\":{\"endlinecolor\":\"#2a3f5f\",\"gridcolor\":\"white\",\"linecolor\":\"white\",\"minorgridcolor\":\"white\",\"startlinecolor\":\"#2a3f5f\"},\"type\":\"carpet\"}],\"table\":[{\"cells\":{\"fill\":{\"color\":\"#EBF0F8\"},\"line\":{\"color\":\"white\"}},\"header\":{\"fill\":{\"color\":\"#C8D4E3\"},\"line\":{\"color\":\"white\"}},\"type\":\"table\"}],\"barpolar\":[{\"marker\":{\"line\":{\"color\":\"#E5ECF6\",\"width\":0.5},\"pattern\":{\"fillmode\":\"overlay\",\"size\":10,\"solidity\":0.2}},\"type\":\"barpolar\"}],\"pie\":[{\"automargin\":true,\"type\":\"pie\"}]},\"layout\":{\"autotypenumbers\":\"strict\",\"colorway\":[\"#636efa\",\"#EF553B\",\"#00cc96\",\"#ab63fa\",\"#FFA15A\",\"#19d3f3\",\"#FF6692\",\"#B6E880\",\"#FF97FF\",\"#FECB52\"],\"font\":{\"color\":\"#2a3f5f\"},\"hovermode\":\"closest\",\"hoverlabel\":{\"align\":\"left\"},\"paper_bgcolor\":\"white\",\"plot_bgcolor\":\"#E5ECF6\",\"polar\":{\"bgcolor\":\"#E5ECF6\",\"angularaxis\":{\"gridcolor\":\"white\",\"linecolor\":\"white\",\"ticks\":\"\"},\"radialaxis\":{\"gridcolor\":\"white\",\"linecolor\":\"white\",\"ticks\":\"\"}},\"ternary\":{\"bgcolor\":\"#E5ECF6\",\"aaxis\":{\"gridcolor\":\"white\",\"linecolor\":\"white\",\"ticks\":\"\"},\"baxis\":{\"gridcolor\":\"white\",\"linecolor\":\"white\",\"ticks\":\"\"},\"caxis\":{\"gridcolor\":\"white\",\"linecolor\":\"white\",\"ticks\":\"\"}},\"coloraxis\":{\"colorbar\":{\"outlinewidth\":0,\"ticks\":\"\"}},\"colorscale\":{\"sequential\":[[0.0,\"#0d0887\"],[0.1111111111111111,\"#46039f\"],[0.2222222222222222,\"#7201a8\"],[0.3333333333333333,\"#9c179e\"],[0.4444444444444444,\"#bd3786\"],[0.5555555555555556,\"#d8576b\"],[0.6666666666666666,\"#ed7953\"],[0.7777777777777778,\"#fb9f3a\"],[0.8888888888888888,\"#fdca26\"],[1.0,\"#f0f921\"]],\"sequentialminus\":[[0.0,\"#0d0887\"],[0.1111111111111111,\"#46039f\"],[0.2222222222222222,\"#7201a8\"],[0.3333333333333333,\"#9c179e\"],[0.4444444444444444,\"#bd3786\"],[0.5555555555555556,\"#d8576b\"],[0.6666666666666666,\"#ed7953\"],[0.7777777777777778,\"#fb9f3a\"],[0.8888888888888888,\"#fdca26\"],[1.0,\"#f0f921\"]],\"diverging\":[[0,\"#8e0152\"],[0.1,\"#c51b7d\"],[0.2,\"#de77ae\"],[0.3,\"#f1b6da\"],[0.4,\"#fde0ef\"],[0.5,\"#f7f7f7\"],[0.6,\"#e6f5d0\"],[0.7,\"#b8e186\"],[0.8,\"#7fbc41\"],[0.9,\"#4d9221\"],[1,\"#276419\"]]},\"xaxis\":{\"gridcolor\":\"white\",\"linecolor\":\"white\",\"ticks\":\"\",\"title\":{\"standoff\":15},\"zerolinecolor\":\"white\",\"automargin\":true,\"zerolinewidth\":2},\"yaxis\":{\"gridcolor\":\"white\",\"linecolor\":\"white\",\"ticks\":\"\",\"title\":{\"standoff\":15},\"zerolinecolor\":\"white\",\"automargin\":true,\"zerolinewidth\":2},\"scene\":{\"xaxis\":{\"backgroundcolor\":\"#E5ECF6\",\"gridcolor\":\"white\",\"linecolor\":\"white\",\"showbackground\":true,\"ticks\":\"\",\"zerolinecolor\":\"white\",\"gridwidth\":2},\"yaxis\":{\"backgroundcolor\":\"#E5ECF6\",\"gridcolor\":\"white\",\"linecolor\":\"white\",\"showbackground\":true,\"ticks\":\"\",\"zerolinecolor\":\"white\",\"gridwidth\":2},\"zaxis\":{\"backgroundcolor\":\"#E5ECF6\",\"gridcolor\":\"white\",\"linecolor\":\"white\",\"showbackground\":true,\"ticks\":\"\",\"zerolinecolor\":\"white\",\"gridwidth\":2}},\"shapedefaults\":{\"line\":{\"color\":\"#2a3f5f\"}},\"annotationdefaults\":{\"arrowcolor\":\"#2a3f5f\",\"arrowhead\":0,\"arrowwidth\":1},\"geo\":{\"bgcolor\":\"white\",\"landcolor\":\"#E5ECF6\",\"subunitcolor\":\"white\",\"showland\":true,\"showlakes\":true,\"lakecolor\":\"white\"},\"title\":{\"x\":0.05},\"mapbox\":{\"style\":\"light\"}}},\"xaxis\":{\"anchor\":\"y\",\"domain\":[0.0,1.0],\"title\":{\"text\":\"Rating\"}},\"yaxis\":{\"anchor\":\"x\",\"domain\":[0.0,1.0],\"title\":{\"text\":\"count\"}},\"legend\":{\"tracegroupgap\":0},\"title\":{\"text\":\"App Ratings Overview\"},\"barmode\":\"relative\",\"height\":800},                        {\"responsive\": true}                    ).then(function(){\n",
              "                            \n",
              "var gd = document.getElementById('2fd978be-cdef-460e-90f0-9137a0c2c27a');\n",
              "var x = new MutationObserver(function (mutations, observer) {{\n",
              "        var display = window.getComputedStyle(gd).display;\n",
              "        if (!display || display === 'none') {{\n",
              "            console.log([gd, 'removed!']);\n",
              "            Plotly.purge(gd);\n",
              "            observer.disconnect();\n",
              "        }}\n",
              "}});\n",
              "\n",
              "// Listen for the removal of the full notebook cells\n",
              "var notebookContainer = gd.closest('#notebook-container');\n",
              "if (notebookContainer) {{\n",
              "    x.observe(notebookContainer, {childList: true});\n",
              "}}\n",
              "\n",
              "// Listen for the clearing of the current output cell\n",
              "var outputEl = gd.closest('.output');\n",
              "if (outputEl) {{\n",
              "    x.observe(outputEl, {childList: true});\n",
              "}}\n",
              "\n",
              "                        })                };                            </script>        </div>\n",
              "</body>\n",
              "</html>"
            ]
          },
          "metadata": {}
        }
      ]
    },
    {
      "cell_type": "markdown",
      "source": [
        "# - Most of the ratings are concentrated around 4."
      ],
      "metadata": {
        "id": "pYdWWf2XfqrZ"
      }
    },
    {
      "cell_type": "markdown",
      "source": [
        "# Let's observe the distribution of ratings within each category column."
      ],
      "metadata": {
        "id": "FaFqax-Rh71e"
      }
    },
    {
      "cell_type": "code",
      "source": [
        "AverageRatperCat=df.groupby('Category')['Rating'].mean().reset_index(name='Average Rating')\n",
        "AverageRatperCat"
      ],
      "metadata": {
        "colab": {
          "base_uri": "https://localhost:8080/",
          "height": 1000
        },
        "id": "v1-4NTSmiSfe",
        "outputId": "4ae33759-c05d-438a-bbac-505ed555adc6"
      },
      "execution_count": 227,
      "outputs": [
        {
          "output_type": "execute_result",
          "data": {
            "text/plain": [
              "               Category  Average Rating\n",
              "0        ART_AND_DESIGN        4.377049\n",
              "1     AUTO_AND_VEHICLES        4.190411\n",
              "2                BEAUTY        4.278571\n",
              "3   BOOKS_AND_REFERENCE        4.347458\n",
              "4              BUSINESS        4.102593\n",
              "5                COMICS        4.155172\n",
              "6         COMMUNICATION        4.151466\n",
              "7                DATING        3.971698\n",
              "8             EDUCATION        4.375969\n",
              "9         ENTERTAINMENT        4.136036\n",
              "10               EVENTS        4.435556\n",
              "11               FAMILY        4.191264\n",
              "12              FINANCE        4.127445\n",
              "13       FOOD_AND_DRINK        4.164151\n",
              "14                 GAME        4.281285\n",
              "15   HEALTH_AND_FITNESS        4.261450\n",
              "16       HOUSE_AND_HOME        4.164706\n",
              "17   LIBRARIES_AND_DEMO        4.179688\n",
              "18            LIFESTYLE        4.096066\n",
              "19  MAPS_AND_NAVIGATION        4.051613\n",
              "20              MEDICAL        4.182450\n",
              "21   NEWS_AND_MAGAZINES        4.128505\n",
              "22            PARENTING        4.300000\n",
              "23      PERSONALIZATION        4.333117\n",
              "24          PHOTOGRAPHY        4.182895\n",
              "25         PRODUCTIVITY        4.201796\n",
              "26             SHOPPING        4.251485\n",
              "27               SOCIAL        4.254918\n",
              "28               SPORTS        4.225175\n",
              "29                TOOLS        4.047203\n",
              "30     TRAVEL_AND_LOCAL        4.094146\n",
              "31        VIDEO_PLAYERS        4.063750\n",
              "32              WEATHER        4.244000"
            ],
            "text/html": [
              "\n",
              "  <div id=\"df-5d19c39e-e4fc-420b-93b5-b883fcdc9f45\">\n",
              "    <div class=\"colab-df-container\">\n",
              "      <div>\n",
              "<style scoped>\n",
              "    .dataframe tbody tr th:only-of-type {\n",
              "        vertical-align: middle;\n",
              "    }\n",
              "\n",
              "    .dataframe tbody tr th {\n",
              "        vertical-align: top;\n",
              "    }\n",
              "\n",
              "    .dataframe thead th {\n",
              "        text-align: right;\n",
              "    }\n",
              "</style>\n",
              "<table border=\"1\" class=\"dataframe\">\n",
              "  <thead>\n",
              "    <tr style=\"text-align: right;\">\n",
              "      <th></th>\n",
              "      <th>Category</th>\n",
              "      <th>Average Rating</th>\n",
              "    </tr>\n",
              "  </thead>\n",
              "  <tbody>\n",
              "    <tr>\n",
              "      <th>0</th>\n",
              "      <td>ART_AND_DESIGN</td>\n",
              "      <td>4.377049</td>\n",
              "    </tr>\n",
              "    <tr>\n",
              "      <th>1</th>\n",
              "      <td>AUTO_AND_VEHICLES</td>\n",
              "      <td>4.190411</td>\n",
              "    </tr>\n",
              "    <tr>\n",
              "      <th>2</th>\n",
              "      <td>BEAUTY</td>\n",
              "      <td>4.278571</td>\n",
              "    </tr>\n",
              "    <tr>\n",
              "      <th>3</th>\n",
              "      <td>BOOKS_AND_REFERENCE</td>\n",
              "      <td>4.347458</td>\n",
              "    </tr>\n",
              "    <tr>\n",
              "      <th>4</th>\n",
              "      <td>BUSINESS</td>\n",
              "      <td>4.102593</td>\n",
              "    </tr>\n",
              "    <tr>\n",
              "      <th>5</th>\n",
              "      <td>COMICS</td>\n",
              "      <td>4.155172</td>\n",
              "    </tr>\n",
              "    <tr>\n",
              "      <th>6</th>\n",
              "      <td>COMMUNICATION</td>\n",
              "      <td>4.151466</td>\n",
              "    </tr>\n",
              "    <tr>\n",
              "      <th>7</th>\n",
              "      <td>DATING</td>\n",
              "      <td>3.971698</td>\n",
              "    </tr>\n",
              "    <tr>\n",
              "      <th>8</th>\n",
              "      <td>EDUCATION</td>\n",
              "      <td>4.375969</td>\n",
              "    </tr>\n",
              "    <tr>\n",
              "      <th>9</th>\n",
              "      <td>ENTERTAINMENT</td>\n",
              "      <td>4.136036</td>\n",
              "    </tr>\n",
              "    <tr>\n",
              "      <th>10</th>\n",
              "      <td>EVENTS</td>\n",
              "      <td>4.435556</td>\n",
              "    </tr>\n",
              "    <tr>\n",
              "      <th>11</th>\n",
              "      <td>FAMILY</td>\n",
              "      <td>4.191264</td>\n",
              "    </tr>\n",
              "    <tr>\n",
              "      <th>12</th>\n",
              "      <td>FINANCE</td>\n",
              "      <td>4.127445</td>\n",
              "    </tr>\n",
              "    <tr>\n",
              "      <th>13</th>\n",
              "      <td>FOOD_AND_DRINK</td>\n",
              "      <td>4.164151</td>\n",
              "    </tr>\n",
              "    <tr>\n",
              "      <th>14</th>\n",
              "      <td>GAME</td>\n",
              "      <td>4.281285</td>\n",
              "    </tr>\n",
              "    <tr>\n",
              "      <th>15</th>\n",
              "      <td>HEALTH_AND_FITNESS</td>\n",
              "      <td>4.261450</td>\n",
              "    </tr>\n",
              "    <tr>\n",
              "      <th>16</th>\n",
              "      <td>HOUSE_AND_HOME</td>\n",
              "      <td>4.164706</td>\n",
              "    </tr>\n",
              "    <tr>\n",
              "      <th>17</th>\n",
              "      <td>LIBRARIES_AND_DEMO</td>\n",
              "      <td>4.179688</td>\n",
              "    </tr>\n",
              "    <tr>\n",
              "      <th>18</th>\n",
              "      <td>LIFESTYLE</td>\n",
              "      <td>4.096066</td>\n",
              "    </tr>\n",
              "    <tr>\n",
              "      <th>19</th>\n",
              "      <td>MAPS_AND_NAVIGATION</td>\n",
              "      <td>4.051613</td>\n",
              "    </tr>\n",
              "    <tr>\n",
              "      <th>20</th>\n",
              "      <td>MEDICAL</td>\n",
              "      <td>4.182450</td>\n",
              "    </tr>\n",
              "    <tr>\n",
              "      <th>21</th>\n",
              "      <td>NEWS_AND_MAGAZINES</td>\n",
              "      <td>4.128505</td>\n",
              "    </tr>\n",
              "    <tr>\n",
              "      <th>22</th>\n",
              "      <td>PARENTING</td>\n",
              "      <td>4.300000</td>\n",
              "    </tr>\n",
              "    <tr>\n",
              "      <th>23</th>\n",
              "      <td>PERSONALIZATION</td>\n",
              "      <td>4.333117</td>\n",
              "    </tr>\n",
              "    <tr>\n",
              "      <th>24</th>\n",
              "      <td>PHOTOGRAPHY</td>\n",
              "      <td>4.182895</td>\n",
              "    </tr>\n",
              "    <tr>\n",
              "      <th>25</th>\n",
              "      <td>PRODUCTIVITY</td>\n",
              "      <td>4.201796</td>\n",
              "    </tr>\n",
              "    <tr>\n",
              "      <th>26</th>\n",
              "      <td>SHOPPING</td>\n",
              "      <td>4.251485</td>\n",
              "    </tr>\n",
              "    <tr>\n",
              "      <th>27</th>\n",
              "      <td>SOCIAL</td>\n",
              "      <td>4.254918</td>\n",
              "    </tr>\n",
              "    <tr>\n",
              "      <th>28</th>\n",
              "      <td>SPORTS</td>\n",
              "      <td>4.225175</td>\n",
              "    </tr>\n",
              "    <tr>\n",
              "      <th>29</th>\n",
              "      <td>TOOLS</td>\n",
              "      <td>4.047203</td>\n",
              "    </tr>\n",
              "    <tr>\n",
              "      <th>30</th>\n",
              "      <td>TRAVEL_AND_LOCAL</td>\n",
              "      <td>4.094146</td>\n",
              "    </tr>\n",
              "    <tr>\n",
              "      <th>31</th>\n",
              "      <td>VIDEO_PLAYERS</td>\n",
              "      <td>4.063750</td>\n",
              "    </tr>\n",
              "    <tr>\n",
              "      <th>32</th>\n",
              "      <td>WEATHER</td>\n",
              "      <td>4.244000</td>\n",
              "    </tr>\n",
              "  </tbody>\n",
              "</table>\n",
              "</div>\n",
              "      <button class=\"colab-df-convert\" onclick=\"convertToInteractive('df-5d19c39e-e4fc-420b-93b5-b883fcdc9f45')\"\n",
              "              title=\"Convert this dataframe to an interactive table.\"\n",
              "              style=\"display:none;\">\n",
              "        \n",
              "  <svg xmlns=\"http://www.w3.org/2000/svg\" height=\"24px\"viewBox=\"0 0 24 24\"\n",
              "       width=\"24px\">\n",
              "    <path d=\"M0 0h24v24H0V0z\" fill=\"none\"/>\n",
              "    <path d=\"M18.56 5.44l.94 2.06.94-2.06 2.06-.94-2.06-.94-.94-2.06-.94 2.06-2.06.94zm-11 1L8.5 8.5l.94-2.06 2.06-.94-2.06-.94L8.5 2.5l-.94 2.06-2.06.94zm10 10l.94 2.06.94-2.06 2.06-.94-2.06-.94-.94-2.06-.94 2.06-2.06.94z\"/><path d=\"M17.41 7.96l-1.37-1.37c-.4-.4-.92-.59-1.43-.59-.52 0-1.04.2-1.43.59L10.3 9.45l-7.72 7.72c-.78.78-.78 2.05 0 2.83L4 21.41c.39.39.9.59 1.41.59.51 0 1.02-.2 1.41-.59l7.78-7.78 2.81-2.81c.8-.78.8-2.07 0-2.86zM5.41 20L4 18.59l7.72-7.72 1.47 1.35L5.41 20z\"/>\n",
              "  </svg>\n",
              "      </button>\n",
              "      \n",
              "  <style>\n",
              "    .colab-df-container {\n",
              "      display:flex;\n",
              "      flex-wrap:wrap;\n",
              "      gap: 12px;\n",
              "    }\n",
              "\n",
              "    .colab-df-convert {\n",
              "      background-color: #E8F0FE;\n",
              "      border: none;\n",
              "      border-radius: 50%;\n",
              "      cursor: pointer;\n",
              "      display: none;\n",
              "      fill: #1967D2;\n",
              "      height: 32px;\n",
              "      padding: 0 0 0 0;\n",
              "      width: 32px;\n",
              "    }\n",
              "\n",
              "    .colab-df-convert:hover {\n",
              "      background-color: #E2EBFA;\n",
              "      box-shadow: 0px 1px 2px rgba(60, 64, 67, 0.3), 0px 1px 3px 1px rgba(60, 64, 67, 0.15);\n",
              "      fill: #174EA6;\n",
              "    }\n",
              "\n",
              "    [theme=dark] .colab-df-convert {\n",
              "      background-color: #3B4455;\n",
              "      fill: #D2E3FC;\n",
              "    }\n",
              "\n",
              "    [theme=dark] .colab-df-convert:hover {\n",
              "      background-color: #434B5C;\n",
              "      box-shadow: 0px 1px 3px 1px rgba(0, 0, 0, 0.15);\n",
              "      filter: drop-shadow(0px 1px 2px rgba(0, 0, 0, 0.3));\n",
              "      fill: #FFFFFF;\n",
              "    }\n",
              "  </style>\n",
              "\n",
              "      <script>\n",
              "        const buttonEl =\n",
              "          document.querySelector('#df-5d19c39e-e4fc-420b-93b5-b883fcdc9f45 button.colab-df-convert');\n",
              "        buttonEl.style.display =\n",
              "          google.colab.kernel.accessAllowed ? 'block' : 'none';\n",
              "\n",
              "        async function convertToInteractive(key) {\n",
              "          const element = document.querySelector('#df-5d19c39e-e4fc-420b-93b5-b883fcdc9f45');\n",
              "          const dataTable =\n",
              "            await google.colab.kernel.invokeFunction('convertToInteractive',\n",
              "                                                     [key], {});\n",
              "          if (!dataTable) return;\n",
              "\n",
              "          const docLinkHtml = 'Like what you see? Visit the ' +\n",
              "            '<a target=\"_blank\" href=https://colab.research.google.com/notebooks/data_table.ipynb>data table notebook</a>'\n",
              "            + ' to learn more about interactive tables.';\n",
              "          element.innerHTML = '';\n",
              "          dataTable['output_type'] = 'display_data';\n",
              "          await google.colab.output.renderOutput(dataTable, element);\n",
              "          const docLink = document.createElement('div');\n",
              "          docLink.innerHTML = docLinkHtml;\n",
              "          element.appendChild(docLink);\n",
              "        }\n",
              "      </script>\n",
              "    </div>\n",
              "  </div>\n",
              "  "
            ]
          },
          "metadata": {},
          "execution_count": 227
        }
      ]
    },
    {
      "cell_type": "code",
      "source": [
        "figure=px.bar(AverageRatperCat, x='Category', y='Average Rating', title='Mean score for each category', color='Category',\n",
        "              text_auto='.3s', height=800)\n",
        "figure.show()"
      ],
      "metadata": {
        "colab": {
          "base_uri": "https://localhost:8080/",
          "height": 817
        },
        "id": "Cz52KRHokq0o",
        "outputId": "dfc1c5ce-b6f1-439f-839b-309955cf2200"
      },
      "execution_count": 228,
      "outputs": [
        {
          "output_type": "display_data",
          "data": {
            "text/html": [
              "<html>\n",
              "<head><meta charset=\"utf-8\" /></head>\n",
              "<body>\n",
              "    <div>            <script src=\"https://cdnjs.cloudflare.com/ajax/libs/mathjax/2.7.5/MathJax.js?config=TeX-AMS-MML_SVG\"></script><script type=\"text/javascript\">if (window.MathJax && window.MathJax.Hub && window.MathJax.Hub.Config) {window.MathJax.Hub.Config({SVG: {font: \"STIX-Web\"}});}</script>                <script type=\"text/javascript\">window.PlotlyConfig = {MathJaxConfig: 'local'};</script>\n",
              "        <script src=\"https://cdn.plot.ly/plotly-2.18.2.min.js\"></script>                <div id=\"81e20454-0950-4aa9-8039-53d47bea76f9\" class=\"plotly-graph-div\" style=\"height:800px; width:100%;\"></div>            <script type=\"text/javascript\">                                    window.PLOTLYENV=window.PLOTLYENV || {};                                    if (document.getElementById(\"81e20454-0950-4aa9-8039-53d47bea76f9\")) {                    Plotly.newPlot(                        \"81e20454-0950-4aa9-8039-53d47bea76f9\",                        [{\"alignmentgroup\":\"True\",\"hovertemplate\":\"Category=%{x}<br>Average Rating=%{y}<extra></extra>\",\"legendgroup\":\"ART_AND_DESIGN\",\"marker\":{\"color\":\"#636efa\",\"pattern\":{\"shape\":\"\"}},\"name\":\"ART_AND_DESIGN\",\"offsetgroup\":\"ART_AND_DESIGN\",\"orientation\":\"v\",\"showlegend\":true,\"textposition\":\"auto\",\"texttemplate\":\"%{y:.3s}\",\"x\":[\"ART_AND_DESIGN\"],\"xaxis\":\"x\",\"y\":[4.377049180327869],\"yaxis\":\"y\",\"type\":\"bar\"},{\"alignmentgroup\":\"True\",\"hovertemplate\":\"Category=%{x}<br>Average Rating=%{y}<extra></extra>\",\"legendgroup\":\"AUTO_AND_VEHICLES\",\"marker\":{\"color\":\"#EF553B\",\"pattern\":{\"shape\":\"\"}},\"name\":\"AUTO_AND_VEHICLES\",\"offsetgroup\":\"AUTO_AND_VEHICLES\",\"orientation\":\"v\",\"showlegend\":true,\"textposition\":\"auto\",\"texttemplate\":\"%{y:.3s}\",\"x\":[\"AUTO_AND_VEHICLES\"],\"xaxis\":\"x\",\"y\":[4.190410958904109],\"yaxis\":\"y\",\"type\":\"bar\"},{\"alignmentgroup\":\"True\",\"hovertemplate\":\"Category=%{x}<br>Average Rating=%{y}<extra></extra>\",\"legendgroup\":\"BEAUTY\",\"marker\":{\"color\":\"#00cc96\",\"pattern\":{\"shape\":\"\"}},\"name\":\"BEAUTY\",\"offsetgroup\":\"BEAUTY\",\"orientation\":\"v\",\"showlegend\":true,\"textposition\":\"auto\",\"texttemplate\":\"%{y:.3s}\",\"x\":[\"BEAUTY\"],\"xaxis\":\"x\",\"y\":[4.2785714285714285],\"yaxis\":\"y\",\"type\":\"bar\"},{\"alignmentgroup\":\"True\",\"hovertemplate\":\"Category=%{x}<br>Average Rating=%{y}<extra></extra>\",\"legendgroup\":\"BOOKS_AND_REFERENCE\",\"marker\":{\"color\":\"#ab63fa\",\"pattern\":{\"shape\":\"\"}},\"name\":\"BOOKS_AND_REFERENCE\",\"offsetgroup\":\"BOOKS_AND_REFERENCE\",\"orientation\":\"v\",\"showlegend\":true,\"textposition\":\"auto\",\"texttemplate\":\"%{y:.3s}\",\"x\":[\"BOOKS_AND_REFERENCE\"],\"xaxis\":\"x\",\"y\":[4.3474576271186445],\"yaxis\":\"y\",\"type\":\"bar\"},{\"alignmentgroup\":\"True\",\"hovertemplate\":\"Category=%{x}<br>Average Rating=%{y}<extra></extra>\",\"legendgroup\":\"BUSINESS\",\"marker\":{\"color\":\"#FFA15A\",\"pattern\":{\"shape\":\"\"}},\"name\":\"BUSINESS\",\"offsetgroup\":\"BUSINESS\",\"orientation\":\"v\",\"showlegend\":true,\"textposition\":\"auto\",\"texttemplate\":\"%{y:.3s}\",\"x\":[\"BUSINESS\"],\"xaxis\":\"x\",\"y\":[4.102592592592592],\"yaxis\":\"y\",\"type\":\"bar\"},{\"alignmentgroup\":\"True\",\"hovertemplate\":\"Category=%{x}<br>Average Rating=%{y}<extra></extra>\",\"legendgroup\":\"COMICS\",\"marker\":{\"color\":\"#19d3f3\",\"pattern\":{\"shape\":\"\"}},\"name\":\"COMICS\",\"offsetgroup\":\"COMICS\",\"orientation\":\"v\",\"showlegend\":true,\"textposition\":\"auto\",\"texttemplate\":\"%{y:.3s}\",\"x\":[\"COMICS\"],\"xaxis\":\"x\",\"y\":[4.155172413793103],\"yaxis\":\"y\",\"type\":\"bar\"},{\"alignmentgroup\":\"True\",\"hovertemplate\":\"Category=%{x}<br>Average Rating=%{y}<extra></extra>\",\"legendgroup\":\"COMMUNICATION\",\"marker\":{\"color\":\"#FF6692\",\"pattern\":{\"shape\":\"\"}},\"name\":\"COMMUNICATION\",\"offsetgroup\":\"COMMUNICATION\",\"orientation\":\"v\",\"showlegend\":true,\"textposition\":\"auto\",\"texttemplate\":\"%{y:.3s}\",\"x\":[\"COMMUNICATION\"],\"xaxis\":\"x\",\"y\":[4.151465798045603],\"yaxis\":\"y\",\"type\":\"bar\"},{\"alignmentgroup\":\"True\",\"hovertemplate\":\"Category=%{x}<br>Average Rating=%{y}<extra></extra>\",\"legendgroup\":\"DATING\",\"marker\":{\"color\":\"#B6E880\",\"pattern\":{\"shape\":\"\"}},\"name\":\"DATING\",\"offsetgroup\":\"DATING\",\"orientation\":\"v\",\"showlegend\":true,\"textposition\":\"auto\",\"texttemplate\":\"%{y:.3s}\",\"x\":[\"DATING\"],\"xaxis\":\"x\",\"y\":[3.9716981132075473],\"yaxis\":\"y\",\"type\":\"bar\"},{\"alignmentgroup\":\"True\",\"hovertemplate\":\"Category=%{x}<br>Average Rating=%{y}<extra></extra>\",\"legendgroup\":\"EDUCATION\",\"marker\":{\"color\":\"#FF97FF\",\"pattern\":{\"shape\":\"\"}},\"name\":\"EDUCATION\",\"offsetgroup\":\"EDUCATION\",\"orientation\":\"v\",\"showlegend\":true,\"textposition\":\"auto\",\"texttemplate\":\"%{y:.3s}\",\"x\":[\"EDUCATION\"],\"xaxis\":\"x\",\"y\":[4.375968992248062],\"yaxis\":\"y\",\"type\":\"bar\"},{\"alignmentgroup\":\"True\",\"hovertemplate\":\"Category=%{x}<br>Average Rating=%{y}<extra></extra>\",\"legendgroup\":\"ENTERTAINMENT\",\"marker\":{\"color\":\"#FECB52\",\"pattern\":{\"shape\":\"\"}},\"name\":\"ENTERTAINMENT\",\"offsetgroup\":\"ENTERTAINMENT\",\"orientation\":\"v\",\"showlegend\":true,\"textposition\":\"auto\",\"texttemplate\":\"%{y:.3s}\",\"x\":[\"ENTERTAINMENT\"],\"xaxis\":\"x\",\"y\":[4.136036036036036],\"yaxis\":\"y\",\"type\":\"bar\"},{\"alignmentgroup\":\"True\",\"hovertemplate\":\"Category=%{x}<br>Average Rating=%{y}<extra></extra>\",\"legendgroup\":\"EVENTS\",\"marker\":{\"color\":\"#636efa\",\"pattern\":{\"shape\":\"\"}},\"name\":\"EVENTS\",\"offsetgroup\":\"EVENTS\",\"orientation\":\"v\",\"showlegend\":true,\"textposition\":\"auto\",\"texttemplate\":\"%{y:.3s}\",\"x\":[\"EVENTS\"],\"xaxis\":\"x\",\"y\":[4.435555555555555],\"yaxis\":\"y\",\"type\":\"bar\"},{\"alignmentgroup\":\"True\",\"hovertemplate\":\"Category=%{x}<br>Average Rating=%{y}<extra></extra>\",\"legendgroup\":\"FAMILY\",\"marker\":{\"color\":\"#EF553B\",\"pattern\":{\"shape\":\"\"}},\"name\":\"FAMILY\",\"offsetgroup\":\"FAMILY\",\"orientation\":\"v\",\"showlegend\":true,\"textposition\":\"auto\",\"texttemplate\":\"%{y:.3s}\",\"x\":[\"FAMILY\"],\"xaxis\":\"x\",\"y\":[4.191263832265579],\"yaxis\":\"y\",\"type\":\"bar\"},{\"alignmentgroup\":\"True\",\"hovertemplate\":\"Category=%{x}<br>Average Rating=%{y}<extra></extra>\",\"legendgroup\":\"FINANCE\",\"marker\":{\"color\":\"#00cc96\",\"pattern\":{\"shape\":\"\"}},\"name\":\"FINANCE\",\"offsetgroup\":\"FINANCE\",\"orientation\":\"v\",\"showlegend\":true,\"textposition\":\"auto\",\"texttemplate\":\"%{y:.3s}\",\"x\":[\"FINANCE\"],\"xaxis\":\"x\",\"y\":[4.127444794952682],\"yaxis\":\"y\",\"type\":\"bar\"},{\"alignmentgroup\":\"True\",\"hovertemplate\":\"Category=%{x}<br>Average Rating=%{y}<extra></extra>\",\"legendgroup\":\"FOOD_AND_DRINK\",\"marker\":{\"color\":\"#ab63fa\",\"pattern\":{\"shape\":\"\"}},\"name\":\"FOOD_AND_DRINK\",\"offsetgroup\":\"FOOD_AND_DRINK\",\"orientation\":\"v\",\"showlegend\":true,\"textposition\":\"auto\",\"texttemplate\":\"%{y:.3s}\",\"x\":[\"FOOD_AND_DRINK\"],\"xaxis\":\"x\",\"y\":[4.164150943396226],\"yaxis\":\"y\",\"type\":\"bar\"},{\"alignmentgroup\":\"True\",\"hovertemplate\":\"Category=%{x}<br>Average Rating=%{y}<extra></extra>\",\"legendgroup\":\"GAME\",\"marker\":{\"color\":\"#FFA15A\",\"pattern\":{\"shape\":\"\"}},\"name\":\"GAME\",\"offsetgroup\":\"GAME\",\"orientation\":\"v\",\"showlegend\":true,\"textposition\":\"auto\",\"texttemplate\":\"%{y:.3s}\",\"x\":[\"GAME\"],\"xaxis\":\"x\",\"y\":[4.281284916201118],\"yaxis\":\"y\",\"type\":\"bar\"},{\"alignmentgroup\":\"True\",\"hovertemplate\":\"Category=%{x}<br>Average Rating=%{y}<extra></extra>\",\"legendgroup\":\"HEALTH_AND_FITNESS\",\"marker\":{\"color\":\"#19d3f3\",\"pattern\":{\"shape\":\"\"}},\"name\":\"HEALTH_AND_FITNESS\",\"offsetgroup\":\"HEALTH_AND_FITNESS\",\"orientation\":\"v\",\"showlegend\":true,\"textposition\":\"auto\",\"texttemplate\":\"%{y:.3s}\",\"x\":[\"HEALTH_AND_FITNESS\"],\"xaxis\":\"x\",\"y\":[4.261450381679389],\"yaxis\":\"y\",\"type\":\"bar\"},{\"alignmentgroup\":\"True\",\"hovertemplate\":\"Category=%{x}<br>Average Rating=%{y}<extra></extra>\",\"legendgroup\":\"HOUSE_AND_HOME\",\"marker\":{\"color\":\"#FF6692\",\"pattern\":{\"shape\":\"\"}},\"name\":\"HOUSE_AND_HOME\",\"offsetgroup\":\"HOUSE_AND_HOME\",\"orientation\":\"v\",\"showlegend\":true,\"textposition\":\"auto\",\"texttemplate\":\"%{y:.3s}\",\"x\":[\"HOUSE_AND_HOME\"],\"xaxis\":\"x\",\"y\":[4.164705882352941],\"yaxis\":\"y\",\"type\":\"bar\"},{\"alignmentgroup\":\"True\",\"hovertemplate\":\"Category=%{x}<br>Average Rating=%{y}<extra></extra>\",\"legendgroup\":\"LIBRARIES_AND_DEMO\",\"marker\":{\"color\":\"#B6E880\",\"pattern\":{\"shape\":\"\"}},\"name\":\"LIBRARIES_AND_DEMO\",\"offsetgroup\":\"LIBRARIES_AND_DEMO\",\"orientation\":\"v\",\"showlegend\":true,\"textposition\":\"auto\",\"texttemplate\":\"%{y:.3s}\",\"x\":[\"LIBRARIES_AND_DEMO\"],\"xaxis\":\"x\",\"y\":[4.1796875],\"yaxis\":\"y\",\"type\":\"bar\"},{\"alignmentgroup\":\"True\",\"hovertemplate\":\"Category=%{x}<br>Average Rating=%{y}<extra></extra>\",\"legendgroup\":\"LIFESTYLE\",\"marker\":{\"color\":\"#FF97FF\",\"pattern\":{\"shape\":\"\"}},\"name\":\"LIFESTYLE\",\"offsetgroup\":\"LIFESTYLE\",\"orientation\":\"v\",\"showlegend\":true,\"textposition\":\"auto\",\"texttemplate\":\"%{y:.3s}\",\"x\":[\"LIFESTYLE\"],\"xaxis\":\"x\",\"y\":[4.096065573770492],\"yaxis\":\"y\",\"type\":\"bar\"},{\"alignmentgroup\":\"True\",\"hovertemplate\":\"Category=%{x}<br>Average Rating=%{y}<extra></extra>\",\"legendgroup\":\"MAPS_AND_NAVIGATION\",\"marker\":{\"color\":\"#FECB52\",\"pattern\":{\"shape\":\"\"}},\"name\":\"MAPS_AND_NAVIGATION\",\"offsetgroup\":\"MAPS_AND_NAVIGATION\",\"orientation\":\"v\",\"showlegend\":true,\"textposition\":\"auto\",\"texttemplate\":\"%{y:.3s}\",\"x\":[\"MAPS_AND_NAVIGATION\"],\"xaxis\":\"x\",\"y\":[4.051612903225807],\"yaxis\":\"y\",\"type\":\"bar\"},{\"alignmentgroup\":\"True\",\"hovertemplate\":\"Category=%{x}<br>Average Rating=%{y}<extra></extra>\",\"legendgroup\":\"MEDICAL\",\"marker\":{\"color\":\"#636efa\",\"pattern\":{\"shape\":\"\"}},\"name\":\"MEDICAL\",\"offsetgroup\":\"MEDICAL\",\"orientation\":\"v\",\"showlegend\":true,\"textposition\":\"auto\",\"texttemplate\":\"%{y:.3s}\",\"x\":[\"MEDICAL\"],\"xaxis\":\"x\",\"y\":[4.182450331125827],\"yaxis\":\"y\",\"type\":\"bar\"},{\"alignmentgroup\":\"True\",\"hovertemplate\":\"Category=%{x}<br>Average Rating=%{y}<extra></extra>\",\"legendgroup\":\"NEWS_AND_MAGAZINES\",\"marker\":{\"color\":\"#EF553B\",\"pattern\":{\"shape\":\"\"}},\"name\":\"NEWS_AND_MAGAZINES\",\"offsetgroup\":\"NEWS_AND_MAGAZINES\",\"orientation\":\"v\",\"showlegend\":true,\"textposition\":\"auto\",\"texttemplate\":\"%{y:.3s}\",\"x\":[\"NEWS_AND_MAGAZINES\"],\"xaxis\":\"x\",\"y\":[4.128504672897196],\"yaxis\":\"y\",\"type\":\"bar\"},{\"alignmentgroup\":\"True\",\"hovertemplate\":\"Category=%{x}<br>Average Rating=%{y}<extra></extra>\",\"legendgroup\":\"PARENTING\",\"marker\":{\"color\":\"#00cc96\",\"pattern\":{\"shape\":\"\"}},\"name\":\"PARENTING\",\"offsetgroup\":\"PARENTING\",\"orientation\":\"v\",\"showlegend\":true,\"textposition\":\"auto\",\"texttemplate\":\"%{y:.3s}\",\"x\":[\"PARENTING\"],\"xaxis\":\"x\",\"y\":[4.3],\"yaxis\":\"y\",\"type\":\"bar\"},{\"alignmentgroup\":\"True\",\"hovertemplate\":\"Category=%{x}<br>Average Rating=%{y}<extra></extra>\",\"legendgroup\":\"PERSONALIZATION\",\"marker\":{\"color\":\"#ab63fa\",\"pattern\":{\"shape\":\"\"}},\"name\":\"PERSONALIZATION\",\"offsetgroup\":\"PERSONALIZATION\",\"orientation\":\"v\",\"showlegend\":true,\"textposition\":\"auto\",\"texttemplate\":\"%{y:.3s}\",\"x\":[\"PERSONALIZATION\"],\"xaxis\":\"x\",\"y\":[4.333116883116883],\"yaxis\":\"y\",\"type\":\"bar\"},{\"alignmentgroup\":\"True\",\"hovertemplate\":\"Category=%{x}<br>Average Rating=%{y}<extra></extra>\",\"legendgroup\":\"PHOTOGRAPHY\",\"marker\":{\"color\":\"#FFA15A\",\"pattern\":{\"shape\":\"\"}},\"name\":\"PHOTOGRAPHY\",\"offsetgroup\":\"PHOTOGRAPHY\",\"orientation\":\"v\",\"showlegend\":true,\"textposition\":\"auto\",\"texttemplate\":\"%{y:.3s}\",\"x\":[\"PHOTOGRAPHY\"],\"xaxis\":\"x\",\"y\":[4.182894736842105],\"yaxis\":\"y\",\"type\":\"bar\"},{\"alignmentgroup\":\"True\",\"hovertemplate\":\"Category=%{x}<br>Average Rating=%{y}<extra></extra>\",\"legendgroup\":\"PRODUCTIVITY\",\"marker\":{\"color\":\"#19d3f3\",\"pattern\":{\"shape\":\"\"}},\"name\":\"PRODUCTIVITY\",\"offsetgroup\":\"PRODUCTIVITY\",\"orientation\":\"v\",\"showlegend\":true,\"textposition\":\"auto\",\"texttemplate\":\"%{y:.3s}\",\"x\":[\"PRODUCTIVITY\"],\"xaxis\":\"x\",\"y\":[4.201796407185629],\"yaxis\":\"y\",\"type\":\"bar\"},{\"alignmentgroup\":\"True\",\"hovertemplate\":\"Category=%{x}<br>Average Rating=%{y}<extra></extra>\",\"legendgroup\":\"SHOPPING\",\"marker\":{\"color\":\"#FF6692\",\"pattern\":{\"shape\":\"\"}},\"name\":\"SHOPPING\",\"offsetgroup\":\"SHOPPING\",\"orientation\":\"v\",\"showlegend\":true,\"textposition\":\"auto\",\"texttemplate\":\"%{y:.3s}\",\"x\":[\"SHOPPING\"],\"xaxis\":\"x\",\"y\":[4.251485148514851],\"yaxis\":\"y\",\"type\":\"bar\"},{\"alignmentgroup\":\"True\",\"hovertemplate\":\"Category=%{x}<br>Average Rating=%{y}<extra></extra>\",\"legendgroup\":\"SOCIAL\",\"marker\":{\"color\":\"#B6E880\",\"pattern\":{\"shape\":\"\"}},\"name\":\"SOCIAL\",\"offsetgroup\":\"SOCIAL\",\"orientation\":\"v\",\"showlegend\":true,\"textposition\":\"auto\",\"texttemplate\":\"%{y:.3s}\",\"x\":[\"SOCIAL\"],\"xaxis\":\"x\",\"y\":[4.254918032786885],\"yaxis\":\"y\",\"type\":\"bar\"},{\"alignmentgroup\":\"True\",\"hovertemplate\":\"Category=%{x}<br>Average Rating=%{y}<extra></extra>\",\"legendgroup\":\"SPORTS\",\"marker\":{\"color\":\"#FF97FF\",\"pattern\":{\"shape\":\"\"}},\"name\":\"SPORTS\",\"offsetgroup\":\"SPORTS\",\"orientation\":\"v\",\"showlegend\":true,\"textposition\":\"auto\",\"texttemplate\":\"%{y:.3s}\",\"x\":[\"SPORTS\"],\"xaxis\":\"x\",\"y\":[4.225174825174825],\"yaxis\":\"y\",\"type\":\"bar\"},{\"alignmentgroup\":\"True\",\"hovertemplate\":\"Category=%{x}<br>Average Rating=%{y}<extra></extra>\",\"legendgroup\":\"TOOLS\",\"marker\":{\"color\":\"#FECB52\",\"pattern\":{\"shape\":\"\"}},\"name\":\"TOOLS\",\"offsetgroup\":\"TOOLS\",\"orientation\":\"v\",\"showlegend\":true,\"textposition\":\"auto\",\"texttemplate\":\"%{y:.3s}\",\"x\":[\"TOOLS\"],\"xaxis\":\"x\",\"y\":[4.047203274215552],\"yaxis\":\"y\",\"type\":\"bar\"},{\"alignmentgroup\":\"True\",\"hovertemplate\":\"Category=%{x}<br>Average Rating=%{y}<extra></extra>\",\"legendgroup\":\"TRAVEL_AND_LOCAL\",\"marker\":{\"color\":\"#636efa\",\"pattern\":{\"shape\":\"\"}},\"name\":\"TRAVEL_AND_LOCAL\",\"offsetgroup\":\"TRAVEL_AND_LOCAL\",\"orientation\":\"v\",\"showlegend\":true,\"textposition\":\"auto\",\"texttemplate\":\"%{y:.3s}\",\"x\":[\"TRAVEL_AND_LOCAL\"],\"xaxis\":\"x\",\"y\":[4.094146341463414],\"yaxis\":\"y\",\"type\":\"bar\"},{\"alignmentgroup\":\"True\",\"hovertemplate\":\"Category=%{x}<br>Average Rating=%{y}<extra></extra>\",\"legendgroup\":\"VIDEO_PLAYERS\",\"marker\":{\"color\":\"#EF553B\",\"pattern\":{\"shape\":\"\"}},\"name\":\"VIDEO_PLAYERS\",\"offsetgroup\":\"VIDEO_PLAYERS\",\"orientation\":\"v\",\"showlegend\":true,\"textposition\":\"auto\",\"texttemplate\":\"%{y:.3s}\",\"x\":[\"VIDEO_PLAYERS\"],\"xaxis\":\"x\",\"y\":[4.063750000000001],\"yaxis\":\"y\",\"type\":\"bar\"},{\"alignmentgroup\":\"True\",\"hovertemplate\":\"Category=%{x}<br>Average Rating=%{y}<extra></extra>\",\"legendgroup\":\"WEATHER\",\"marker\":{\"color\":\"#00cc96\",\"pattern\":{\"shape\":\"\"}},\"name\":\"WEATHER\",\"offsetgroup\":\"WEATHER\",\"orientation\":\"v\",\"showlegend\":true,\"textposition\":\"auto\",\"texttemplate\":\"%{y:.3s}\",\"x\":[\"WEATHER\"],\"xaxis\":\"x\",\"y\":[4.244],\"yaxis\":\"y\",\"type\":\"bar\"}],                        {\"template\":{\"data\":{\"histogram2dcontour\":[{\"type\":\"histogram2dcontour\",\"colorbar\":{\"outlinewidth\":0,\"ticks\":\"\"},\"colorscale\":[[0.0,\"#0d0887\"],[0.1111111111111111,\"#46039f\"],[0.2222222222222222,\"#7201a8\"],[0.3333333333333333,\"#9c179e\"],[0.4444444444444444,\"#bd3786\"],[0.5555555555555556,\"#d8576b\"],[0.6666666666666666,\"#ed7953\"],[0.7777777777777778,\"#fb9f3a\"],[0.8888888888888888,\"#fdca26\"],[1.0,\"#f0f921\"]]}],\"choropleth\":[{\"type\":\"choropleth\",\"colorbar\":{\"outlinewidth\":0,\"ticks\":\"\"}}],\"histogram2d\":[{\"type\":\"histogram2d\",\"colorbar\":{\"outlinewidth\":0,\"ticks\":\"\"},\"colorscale\":[[0.0,\"#0d0887\"],[0.1111111111111111,\"#46039f\"],[0.2222222222222222,\"#7201a8\"],[0.3333333333333333,\"#9c179e\"],[0.4444444444444444,\"#bd3786\"],[0.5555555555555556,\"#d8576b\"],[0.6666666666666666,\"#ed7953\"],[0.7777777777777778,\"#fb9f3a\"],[0.8888888888888888,\"#fdca26\"],[1.0,\"#f0f921\"]]}],\"heatmap\":[{\"type\":\"heatmap\",\"colorbar\":{\"outlinewidth\":0,\"ticks\":\"\"},\"colorscale\":[[0.0,\"#0d0887\"],[0.1111111111111111,\"#46039f\"],[0.2222222222222222,\"#7201a8\"],[0.3333333333333333,\"#9c179e\"],[0.4444444444444444,\"#bd3786\"],[0.5555555555555556,\"#d8576b\"],[0.6666666666666666,\"#ed7953\"],[0.7777777777777778,\"#fb9f3a\"],[0.8888888888888888,\"#fdca26\"],[1.0,\"#f0f921\"]]}],\"heatmapgl\":[{\"type\":\"heatmapgl\",\"colorbar\":{\"outlinewidth\":0,\"ticks\":\"\"},\"colorscale\":[[0.0,\"#0d0887\"],[0.1111111111111111,\"#46039f\"],[0.2222222222222222,\"#7201a8\"],[0.3333333333333333,\"#9c179e\"],[0.4444444444444444,\"#bd3786\"],[0.5555555555555556,\"#d8576b\"],[0.6666666666666666,\"#ed7953\"],[0.7777777777777778,\"#fb9f3a\"],[0.8888888888888888,\"#fdca26\"],[1.0,\"#f0f921\"]]}],\"contourcarpet\":[{\"type\":\"contourcarpet\",\"colorbar\":{\"outlinewidth\":0,\"ticks\":\"\"}}],\"contour\":[{\"type\":\"contour\",\"colorbar\":{\"outlinewidth\":0,\"ticks\":\"\"},\"colorscale\":[[0.0,\"#0d0887\"],[0.1111111111111111,\"#46039f\"],[0.2222222222222222,\"#7201a8\"],[0.3333333333333333,\"#9c179e\"],[0.4444444444444444,\"#bd3786\"],[0.5555555555555556,\"#d8576b\"],[0.6666666666666666,\"#ed7953\"],[0.7777777777777778,\"#fb9f3a\"],[0.8888888888888888,\"#fdca26\"],[1.0,\"#f0f921\"]]}],\"surface\":[{\"type\":\"surface\",\"colorbar\":{\"outlinewidth\":0,\"ticks\":\"\"},\"colorscale\":[[0.0,\"#0d0887\"],[0.1111111111111111,\"#46039f\"],[0.2222222222222222,\"#7201a8\"],[0.3333333333333333,\"#9c179e\"],[0.4444444444444444,\"#bd3786\"],[0.5555555555555556,\"#d8576b\"],[0.6666666666666666,\"#ed7953\"],[0.7777777777777778,\"#fb9f3a\"],[0.8888888888888888,\"#fdca26\"],[1.0,\"#f0f921\"]]}],\"mesh3d\":[{\"type\":\"mesh3d\",\"colorbar\":{\"outlinewidth\":0,\"ticks\":\"\"}}],\"scatter\":[{\"fillpattern\":{\"fillmode\":\"overlay\",\"size\":10,\"solidity\":0.2},\"type\":\"scatter\"}],\"parcoords\":[{\"type\":\"parcoords\",\"line\":{\"colorbar\":{\"outlinewidth\":0,\"ticks\":\"\"}}}],\"scatterpolargl\":[{\"type\":\"scatterpolargl\",\"marker\":{\"colorbar\":{\"outlinewidth\":0,\"ticks\":\"\"}}}],\"bar\":[{\"error_x\":{\"color\":\"#2a3f5f\"},\"error_y\":{\"color\":\"#2a3f5f\"},\"marker\":{\"line\":{\"color\":\"#E5ECF6\",\"width\":0.5},\"pattern\":{\"fillmode\":\"overlay\",\"size\":10,\"solidity\":0.2}},\"type\":\"bar\"}],\"scattergeo\":[{\"type\":\"scattergeo\",\"marker\":{\"colorbar\":{\"outlinewidth\":0,\"ticks\":\"\"}}}],\"scatterpolar\":[{\"type\":\"scatterpolar\",\"marker\":{\"colorbar\":{\"outlinewidth\":0,\"ticks\":\"\"}}}],\"histogram\":[{\"marker\":{\"pattern\":{\"fillmode\":\"overlay\",\"size\":10,\"solidity\":0.2}},\"type\":\"histogram\"}],\"scattergl\":[{\"type\":\"scattergl\",\"marker\":{\"colorbar\":{\"outlinewidth\":0,\"ticks\":\"\"}}}],\"scatter3d\":[{\"type\":\"scatter3d\",\"line\":{\"colorbar\":{\"outlinewidth\":0,\"ticks\":\"\"}},\"marker\":{\"colorbar\":{\"outlinewidth\":0,\"ticks\":\"\"}}}],\"scattermapbox\":[{\"type\":\"scattermapbox\",\"marker\":{\"colorbar\":{\"outlinewidth\":0,\"ticks\":\"\"}}}],\"scatterternary\":[{\"type\":\"scatterternary\",\"marker\":{\"colorbar\":{\"outlinewidth\":0,\"ticks\":\"\"}}}],\"scattercarpet\":[{\"type\":\"scattercarpet\",\"marker\":{\"colorbar\":{\"outlinewidth\":0,\"ticks\":\"\"}}}],\"carpet\":[{\"aaxis\":{\"endlinecolor\":\"#2a3f5f\",\"gridcolor\":\"white\",\"linecolor\":\"white\",\"minorgridcolor\":\"white\",\"startlinecolor\":\"#2a3f5f\"},\"baxis\":{\"endlinecolor\":\"#2a3f5f\",\"gridcolor\":\"white\",\"linecolor\":\"white\",\"minorgridcolor\":\"white\",\"startlinecolor\":\"#2a3f5f\"},\"type\":\"carpet\"}],\"table\":[{\"cells\":{\"fill\":{\"color\":\"#EBF0F8\"},\"line\":{\"color\":\"white\"}},\"header\":{\"fill\":{\"color\":\"#C8D4E3\"},\"line\":{\"color\":\"white\"}},\"type\":\"table\"}],\"barpolar\":[{\"marker\":{\"line\":{\"color\":\"#E5ECF6\",\"width\":0.5},\"pattern\":{\"fillmode\":\"overlay\",\"size\":10,\"solidity\":0.2}},\"type\":\"barpolar\"}],\"pie\":[{\"automargin\":true,\"type\":\"pie\"}]},\"layout\":{\"autotypenumbers\":\"strict\",\"colorway\":[\"#636efa\",\"#EF553B\",\"#00cc96\",\"#ab63fa\",\"#FFA15A\",\"#19d3f3\",\"#FF6692\",\"#B6E880\",\"#FF97FF\",\"#FECB52\"],\"font\":{\"color\":\"#2a3f5f\"},\"hovermode\":\"closest\",\"hoverlabel\":{\"align\":\"left\"},\"paper_bgcolor\":\"white\",\"plot_bgcolor\":\"#E5ECF6\",\"polar\":{\"bgcolor\":\"#E5ECF6\",\"angularaxis\":{\"gridcolor\":\"white\",\"linecolor\":\"white\",\"ticks\":\"\"},\"radialaxis\":{\"gridcolor\":\"white\",\"linecolor\":\"white\",\"ticks\":\"\"}},\"ternary\":{\"bgcolor\":\"#E5ECF6\",\"aaxis\":{\"gridcolor\":\"white\",\"linecolor\":\"white\",\"ticks\":\"\"},\"baxis\":{\"gridcolor\":\"white\",\"linecolor\":\"white\",\"ticks\":\"\"},\"caxis\":{\"gridcolor\":\"white\",\"linecolor\":\"white\",\"ticks\":\"\"}},\"coloraxis\":{\"colorbar\":{\"outlinewidth\":0,\"ticks\":\"\"}},\"colorscale\":{\"sequential\":[[0.0,\"#0d0887\"],[0.1111111111111111,\"#46039f\"],[0.2222222222222222,\"#7201a8\"],[0.3333333333333333,\"#9c179e\"],[0.4444444444444444,\"#bd3786\"],[0.5555555555555556,\"#d8576b\"],[0.6666666666666666,\"#ed7953\"],[0.7777777777777778,\"#fb9f3a\"],[0.8888888888888888,\"#fdca26\"],[1.0,\"#f0f921\"]],\"sequentialminus\":[[0.0,\"#0d0887\"],[0.1111111111111111,\"#46039f\"],[0.2222222222222222,\"#7201a8\"],[0.3333333333333333,\"#9c179e\"],[0.4444444444444444,\"#bd3786\"],[0.5555555555555556,\"#d8576b\"],[0.6666666666666666,\"#ed7953\"],[0.7777777777777778,\"#fb9f3a\"],[0.8888888888888888,\"#fdca26\"],[1.0,\"#f0f921\"]],\"diverging\":[[0,\"#8e0152\"],[0.1,\"#c51b7d\"],[0.2,\"#de77ae\"],[0.3,\"#f1b6da\"],[0.4,\"#fde0ef\"],[0.5,\"#f7f7f7\"],[0.6,\"#e6f5d0\"],[0.7,\"#b8e186\"],[0.8,\"#7fbc41\"],[0.9,\"#4d9221\"],[1,\"#276419\"]]},\"xaxis\":{\"gridcolor\":\"white\",\"linecolor\":\"white\",\"ticks\":\"\",\"title\":{\"standoff\":15},\"zerolinecolor\":\"white\",\"automargin\":true,\"zerolinewidth\":2},\"yaxis\":{\"gridcolor\":\"white\",\"linecolor\":\"white\",\"ticks\":\"\",\"title\":{\"standoff\":15},\"zerolinecolor\":\"white\",\"automargin\":true,\"zerolinewidth\":2},\"scene\":{\"xaxis\":{\"backgroundcolor\":\"#E5ECF6\",\"gridcolor\":\"white\",\"linecolor\":\"white\",\"showbackground\":true,\"ticks\":\"\",\"zerolinecolor\":\"white\",\"gridwidth\":2},\"yaxis\":{\"backgroundcolor\":\"#E5ECF6\",\"gridcolor\":\"white\",\"linecolor\":\"white\",\"showbackground\":true,\"ticks\":\"\",\"zerolinecolor\":\"white\",\"gridwidth\":2},\"zaxis\":{\"backgroundcolor\":\"#E5ECF6\",\"gridcolor\":\"white\",\"linecolor\":\"white\",\"showbackground\":true,\"ticks\":\"\",\"zerolinecolor\":\"white\",\"gridwidth\":2}},\"shapedefaults\":{\"line\":{\"color\":\"#2a3f5f\"}},\"annotationdefaults\":{\"arrowcolor\":\"#2a3f5f\",\"arrowhead\":0,\"arrowwidth\":1},\"geo\":{\"bgcolor\":\"white\",\"landcolor\":\"#E5ECF6\",\"subunitcolor\":\"white\",\"showland\":true,\"showlakes\":true,\"lakecolor\":\"white\"},\"title\":{\"x\":0.05},\"mapbox\":{\"style\":\"light\"}}},\"xaxis\":{\"anchor\":\"y\",\"domain\":[0.0,1.0],\"title\":{\"text\":\"Category\"},\"categoryorder\":\"array\",\"categoryarray\":[\"ART_AND_DESIGN\",\"AUTO_AND_VEHICLES\",\"BEAUTY\",\"BOOKS_AND_REFERENCE\",\"BUSINESS\",\"COMICS\",\"COMMUNICATION\",\"DATING\",\"EDUCATION\",\"ENTERTAINMENT\",\"EVENTS\",\"FAMILY\",\"FINANCE\",\"FOOD_AND_DRINK\",\"GAME\",\"HEALTH_AND_FITNESS\",\"HOUSE_AND_HOME\",\"LIBRARIES_AND_DEMO\",\"LIFESTYLE\",\"MAPS_AND_NAVIGATION\",\"MEDICAL\",\"NEWS_AND_MAGAZINES\",\"PARENTING\",\"PERSONALIZATION\",\"PHOTOGRAPHY\",\"PRODUCTIVITY\",\"SHOPPING\",\"SOCIAL\",\"SPORTS\",\"TOOLS\",\"TRAVEL_AND_LOCAL\",\"VIDEO_PLAYERS\",\"WEATHER\"]},\"yaxis\":{\"anchor\":\"x\",\"domain\":[0.0,1.0],\"title\":{\"text\":\"Average Rating\"}},\"legend\":{\"title\":{\"text\":\"Category\"},\"tracegroupgap\":0},\"title\":{\"text\":\"Mean score for each category\"},\"barmode\":\"relative\",\"height\":800},                        {\"responsive\": true}                    ).then(function(){\n",
              "                            \n",
              "var gd = document.getElementById('81e20454-0950-4aa9-8039-53d47bea76f9');\n",
              "var x = new MutationObserver(function (mutations, observer) {{\n",
              "        var display = window.getComputedStyle(gd).display;\n",
              "        if (!display || display === 'none') {{\n",
              "            console.log([gd, 'removed!']);\n",
              "            Plotly.purge(gd);\n",
              "            observer.disconnect();\n",
              "        }}\n",
              "}});\n",
              "\n",
              "// Listen for the removal of the full notebook cells\n",
              "var notebookContainer = gd.closest('#notebook-container');\n",
              "if (notebookContainer) {{\n",
              "    x.observe(notebookContainer, {childList: true});\n",
              "}}\n",
              "\n",
              "// Listen for the clearing of the current output cell\n",
              "var outputEl = gd.closest('.output');\n",
              "if (outputEl) {{\n",
              "    x.observe(outputEl, {childList: true});\n",
              "}}\n",
              "\n",
              "                        })                };                            </script>        </div>\n",
              "</body>\n",
              "</html>"
            ]
          },
          "metadata": {}
        }
      ]
    },
    {
      "cell_type": "markdown",
      "source": [
        "# - Among all categories, \"Event\" has the highest average rating. However \"Dating\" category displays the lowest average rating."
      ],
      "metadata": {
        "id": "VhQ2YaS3nXna"
      }
    },
    {
      "cell_type": "markdown",
      "source": [
        "# Next, let's determine which category has the highest number of user reviews."
      ],
      "metadata": {
        "id": "se5VgtWPt_ut"
      }
    },
    {
      "cell_type": "code",
      "source": [
        "df['Reviews'].unique()"
      ],
      "metadata": {
        "colab": {
          "base_uri": "https://localhost:8080/"
        },
        "id": "jb3BbIQB4bDT",
        "outputId": "96c2fb4b-ab5e-4141-df7b-09ae9eea4898"
      },
      "execution_count": 229,
      "outputs": [
        {
          "output_type": "execute_result",
          "data": {
            "text/plain": [
              "array(['159', '967', '87510', ..., '603', '1195', '398307'], dtype=object)"
            ]
          },
          "metadata": {},
          "execution_count": 229
        }
      ]
    },
    {
      "cell_type": "code",
      "source": [
        "#Convert Reviews to numeric values/from 'object' to 'float'\n",
        "#df[['Reviews']] = df[['Reviews']].apply(pd.to_numeric)\n",
        "df['Reviews'] = df['Reviews'].astype(float)\n",
        "df['Reviews'].unique()\n",
        "df['Reviews'].dtypes"
      ],
      "metadata": {
        "colab": {
          "base_uri": "https://localhost:8080/"
        },
        "id": "fNOoJfDGIEjm",
        "outputId": "3abd984d-a40a-46d7-c5b5-608a06dfb1b8"
      },
      "execution_count": 230,
      "outputs": [
        {
          "output_type": "execute_result",
          "data": {
            "text/plain": [
              "dtype('float64')"
            ]
          },
          "metadata": {},
          "execution_count": 230
        }
      ]
    },
    {
      "cell_type": "code",
      "source": [
        "RevPerCat=df.groupby('Category')['Reviews'].sum().reset_index(name='Total reviews')\n",
        "RevPerCat"
      ],
      "metadata": {
        "colab": {
          "base_uri": "https://localhost:8080/",
          "height": 1000
        },
        "id": "Fymgbx5PIfwL",
        "outputId": "b8216ac3-9ac0-4009-973c-ae1f6fb1cf68"
      },
      "execution_count": 231,
      "outputs": [
        {
          "output_type": "execute_result",
          "data": {
            "text/plain": [
              "               Category  Total reviews\n",
              "0        ART_AND_DESIGN   1.714317e+06\n",
              "1     AUTO_AND_VEHICLES   1.163630e+06\n",
              "2                BEAUTY   3.951330e+05\n",
              "3   BOOKS_AND_REFERENCE   2.187282e+07\n",
              "4              BUSINESS   1.235770e+07\n",
              "5                COMICS   3.381945e+06\n",
              "6         COMMUNICATION   6.012731e+08\n",
              "7                DATING   5.545164e+06\n",
              "8             EDUCATION   2.316472e+07\n",
              "9         ENTERTAINMENT   4.757072e+07\n",
              "10               EVENTS   1.605900e+05\n",
              "11               FAMILY   3.967685e+08\n",
              "12              FINANCE   1.699957e+07\n",
              "13       FOOD_AND_DRINK   7.671255e+06\n",
              "14                 GAME   1.415534e+09\n",
              "15   HEALTH_AND_FITNESS   3.084506e+07\n",
              "16       HOUSE_AND_HOME   2.794391e+06\n",
              "17   LIBRARIES_AND_DEMO   1.013390e+06\n",
              "18            LIFESTYLE   1.281956e+07\n",
              "19  MAPS_AND_NAVIGATION   3.065906e+07\n",
              "20              MEDICAL   1.396427e+06\n",
              "21   NEWS_AND_MAGAZINES   3.824491e+07\n",
              "22            PARENTING   9.536090e+05\n",
              "23      PERSONALIZATION   7.519242e+07\n",
              "24          PHOTOGRAPHY   2.042974e+08\n",
              "25         PRODUCTIVITY   1.025542e+08\n",
              "26             SHOPPING   9.493097e+07\n",
              "27               SOCIAL   5.335765e+08\n",
              "28               SPORTS   6.532211e+07\n",
              "29                TOOLS   2.731802e+08\n",
              "30     TRAVEL_AND_LOCAL   5.556501e+07\n",
              "31        VIDEO_PLAYERS   1.103797e+08\n",
              "32              WEATHER   1.460470e+07"
            ],
            "text/html": [
              "\n",
              "  <div id=\"df-df442d32-e55b-4d32-90ea-975cce0861c1\">\n",
              "    <div class=\"colab-df-container\">\n",
              "      <div>\n",
              "<style scoped>\n",
              "    .dataframe tbody tr th:only-of-type {\n",
              "        vertical-align: middle;\n",
              "    }\n",
              "\n",
              "    .dataframe tbody tr th {\n",
              "        vertical-align: top;\n",
              "    }\n",
              "\n",
              "    .dataframe thead th {\n",
              "        text-align: right;\n",
              "    }\n",
              "</style>\n",
              "<table border=\"1\" class=\"dataframe\">\n",
              "  <thead>\n",
              "    <tr style=\"text-align: right;\">\n",
              "      <th></th>\n",
              "      <th>Category</th>\n",
              "      <th>Total reviews</th>\n",
              "    </tr>\n",
              "  </thead>\n",
              "  <tbody>\n",
              "    <tr>\n",
              "      <th>0</th>\n",
              "      <td>ART_AND_DESIGN</td>\n",
              "      <td>1.714317e+06</td>\n",
              "    </tr>\n",
              "    <tr>\n",
              "      <th>1</th>\n",
              "      <td>AUTO_AND_VEHICLES</td>\n",
              "      <td>1.163630e+06</td>\n",
              "    </tr>\n",
              "    <tr>\n",
              "      <th>2</th>\n",
              "      <td>BEAUTY</td>\n",
              "      <td>3.951330e+05</td>\n",
              "    </tr>\n",
              "    <tr>\n",
              "      <th>3</th>\n",
              "      <td>BOOKS_AND_REFERENCE</td>\n",
              "      <td>2.187282e+07</td>\n",
              "    </tr>\n",
              "    <tr>\n",
              "      <th>4</th>\n",
              "      <td>BUSINESS</td>\n",
              "      <td>1.235770e+07</td>\n",
              "    </tr>\n",
              "    <tr>\n",
              "      <th>5</th>\n",
              "      <td>COMICS</td>\n",
              "      <td>3.381945e+06</td>\n",
              "    </tr>\n",
              "    <tr>\n",
              "      <th>6</th>\n",
              "      <td>COMMUNICATION</td>\n",
              "      <td>6.012731e+08</td>\n",
              "    </tr>\n",
              "    <tr>\n",
              "      <th>7</th>\n",
              "      <td>DATING</td>\n",
              "      <td>5.545164e+06</td>\n",
              "    </tr>\n",
              "    <tr>\n",
              "      <th>8</th>\n",
              "      <td>EDUCATION</td>\n",
              "      <td>2.316472e+07</td>\n",
              "    </tr>\n",
              "    <tr>\n",
              "      <th>9</th>\n",
              "      <td>ENTERTAINMENT</td>\n",
              "      <td>4.757072e+07</td>\n",
              "    </tr>\n",
              "    <tr>\n",
              "      <th>10</th>\n",
              "      <td>EVENTS</td>\n",
              "      <td>1.605900e+05</td>\n",
              "    </tr>\n",
              "    <tr>\n",
              "      <th>11</th>\n",
              "      <td>FAMILY</td>\n",
              "      <td>3.967685e+08</td>\n",
              "    </tr>\n",
              "    <tr>\n",
              "      <th>12</th>\n",
              "      <td>FINANCE</td>\n",
              "      <td>1.699957e+07</td>\n",
              "    </tr>\n",
              "    <tr>\n",
              "      <th>13</th>\n",
              "      <td>FOOD_AND_DRINK</td>\n",
              "      <td>7.671255e+06</td>\n",
              "    </tr>\n",
              "    <tr>\n",
              "      <th>14</th>\n",
              "      <td>GAME</td>\n",
              "      <td>1.415534e+09</td>\n",
              "    </tr>\n",
              "    <tr>\n",
              "      <th>15</th>\n",
              "      <td>HEALTH_AND_FITNESS</td>\n",
              "      <td>3.084506e+07</td>\n",
              "    </tr>\n",
              "    <tr>\n",
              "      <th>16</th>\n",
              "      <td>HOUSE_AND_HOME</td>\n",
              "      <td>2.794391e+06</td>\n",
              "    </tr>\n",
              "    <tr>\n",
              "      <th>17</th>\n",
              "      <td>LIBRARIES_AND_DEMO</td>\n",
              "      <td>1.013390e+06</td>\n",
              "    </tr>\n",
              "    <tr>\n",
              "      <th>18</th>\n",
              "      <td>LIFESTYLE</td>\n",
              "      <td>1.281956e+07</td>\n",
              "    </tr>\n",
              "    <tr>\n",
              "      <th>19</th>\n",
              "      <td>MAPS_AND_NAVIGATION</td>\n",
              "      <td>3.065906e+07</td>\n",
              "    </tr>\n",
              "    <tr>\n",
              "      <th>20</th>\n",
              "      <td>MEDICAL</td>\n",
              "      <td>1.396427e+06</td>\n",
              "    </tr>\n",
              "    <tr>\n",
              "      <th>21</th>\n",
              "      <td>NEWS_AND_MAGAZINES</td>\n",
              "      <td>3.824491e+07</td>\n",
              "    </tr>\n",
              "    <tr>\n",
              "      <th>22</th>\n",
              "      <td>PARENTING</td>\n",
              "      <td>9.536090e+05</td>\n",
              "    </tr>\n",
              "    <tr>\n",
              "      <th>23</th>\n",
              "      <td>PERSONALIZATION</td>\n",
              "      <td>7.519242e+07</td>\n",
              "    </tr>\n",
              "    <tr>\n",
              "      <th>24</th>\n",
              "      <td>PHOTOGRAPHY</td>\n",
              "      <td>2.042974e+08</td>\n",
              "    </tr>\n",
              "    <tr>\n",
              "      <th>25</th>\n",
              "      <td>PRODUCTIVITY</td>\n",
              "      <td>1.025542e+08</td>\n",
              "    </tr>\n",
              "    <tr>\n",
              "      <th>26</th>\n",
              "      <td>SHOPPING</td>\n",
              "      <td>9.493097e+07</td>\n",
              "    </tr>\n",
              "    <tr>\n",
              "      <th>27</th>\n",
              "      <td>SOCIAL</td>\n",
              "      <td>5.335765e+08</td>\n",
              "    </tr>\n",
              "    <tr>\n",
              "      <th>28</th>\n",
              "      <td>SPORTS</td>\n",
              "      <td>6.532211e+07</td>\n",
              "    </tr>\n",
              "    <tr>\n",
              "      <th>29</th>\n",
              "      <td>TOOLS</td>\n",
              "      <td>2.731802e+08</td>\n",
              "    </tr>\n",
              "    <tr>\n",
              "      <th>30</th>\n",
              "      <td>TRAVEL_AND_LOCAL</td>\n",
              "      <td>5.556501e+07</td>\n",
              "    </tr>\n",
              "    <tr>\n",
              "      <th>31</th>\n",
              "      <td>VIDEO_PLAYERS</td>\n",
              "      <td>1.103797e+08</td>\n",
              "    </tr>\n",
              "    <tr>\n",
              "      <th>32</th>\n",
              "      <td>WEATHER</td>\n",
              "      <td>1.460470e+07</td>\n",
              "    </tr>\n",
              "  </tbody>\n",
              "</table>\n",
              "</div>\n",
              "      <button class=\"colab-df-convert\" onclick=\"convertToInteractive('df-df442d32-e55b-4d32-90ea-975cce0861c1')\"\n",
              "              title=\"Convert this dataframe to an interactive table.\"\n",
              "              style=\"display:none;\">\n",
              "        \n",
              "  <svg xmlns=\"http://www.w3.org/2000/svg\" height=\"24px\"viewBox=\"0 0 24 24\"\n",
              "       width=\"24px\">\n",
              "    <path d=\"M0 0h24v24H0V0z\" fill=\"none\"/>\n",
              "    <path d=\"M18.56 5.44l.94 2.06.94-2.06 2.06-.94-2.06-.94-.94-2.06-.94 2.06-2.06.94zm-11 1L8.5 8.5l.94-2.06 2.06-.94-2.06-.94L8.5 2.5l-.94 2.06-2.06.94zm10 10l.94 2.06.94-2.06 2.06-.94-2.06-.94-.94-2.06-.94 2.06-2.06.94z\"/><path d=\"M17.41 7.96l-1.37-1.37c-.4-.4-.92-.59-1.43-.59-.52 0-1.04.2-1.43.59L10.3 9.45l-7.72 7.72c-.78.78-.78 2.05 0 2.83L4 21.41c.39.39.9.59 1.41.59.51 0 1.02-.2 1.41-.59l7.78-7.78 2.81-2.81c.8-.78.8-2.07 0-2.86zM5.41 20L4 18.59l7.72-7.72 1.47 1.35L5.41 20z\"/>\n",
              "  </svg>\n",
              "      </button>\n",
              "      \n",
              "  <style>\n",
              "    .colab-df-container {\n",
              "      display:flex;\n",
              "      flex-wrap:wrap;\n",
              "      gap: 12px;\n",
              "    }\n",
              "\n",
              "    .colab-df-convert {\n",
              "      background-color: #E8F0FE;\n",
              "      border: none;\n",
              "      border-radius: 50%;\n",
              "      cursor: pointer;\n",
              "      display: none;\n",
              "      fill: #1967D2;\n",
              "      height: 32px;\n",
              "      padding: 0 0 0 0;\n",
              "      width: 32px;\n",
              "    }\n",
              "\n",
              "    .colab-df-convert:hover {\n",
              "      background-color: #E2EBFA;\n",
              "      box-shadow: 0px 1px 2px rgba(60, 64, 67, 0.3), 0px 1px 3px 1px rgba(60, 64, 67, 0.15);\n",
              "      fill: #174EA6;\n",
              "    }\n",
              "\n",
              "    [theme=dark] .colab-df-convert {\n",
              "      background-color: #3B4455;\n",
              "      fill: #D2E3FC;\n",
              "    }\n",
              "\n",
              "    [theme=dark] .colab-df-convert:hover {\n",
              "      background-color: #434B5C;\n",
              "      box-shadow: 0px 1px 3px 1px rgba(0, 0, 0, 0.15);\n",
              "      filter: drop-shadow(0px 1px 2px rgba(0, 0, 0, 0.3));\n",
              "      fill: #FFFFFF;\n",
              "    }\n",
              "  </style>\n",
              "\n",
              "      <script>\n",
              "        const buttonEl =\n",
              "          document.querySelector('#df-df442d32-e55b-4d32-90ea-975cce0861c1 button.colab-df-convert');\n",
              "        buttonEl.style.display =\n",
              "          google.colab.kernel.accessAllowed ? 'block' : 'none';\n",
              "\n",
              "        async function convertToInteractive(key) {\n",
              "          const element = document.querySelector('#df-df442d32-e55b-4d32-90ea-975cce0861c1');\n",
              "          const dataTable =\n",
              "            await google.colab.kernel.invokeFunction('convertToInteractive',\n",
              "                                                     [key], {});\n",
              "          if (!dataTable) return;\n",
              "\n",
              "          const docLinkHtml = 'Like what you see? Visit the ' +\n",
              "            '<a target=\"_blank\" href=https://colab.research.google.com/notebooks/data_table.ipynb>data table notebook</a>'\n",
              "            + ' to learn more about interactive tables.';\n",
              "          element.innerHTML = '';\n",
              "          dataTable['output_type'] = 'display_data';\n",
              "          await google.colab.output.renderOutput(dataTable, element);\n",
              "          const docLink = document.createElement('div');\n",
              "          docLink.innerHTML = docLinkHtml;\n",
              "          element.appendChild(docLink);\n",
              "        }\n",
              "      </script>\n",
              "    </div>\n",
              "  </div>\n",
              "  "
            ]
          },
          "metadata": {},
          "execution_count": 231
        }
      ]
    },
    {
      "cell_type": "code",
      "source": [
        "figure= px.line(RevPerCat, x='Category', y='Total reviews', markers=True, title='Distribution of total app reviews for each Category', height=800)\n",
        "figure.show()"
      ],
      "metadata": {
        "colab": {
          "base_uri": "https://localhost:8080/",
          "height": 817
        },
        "id": "-F5X3lNUMKaf",
        "outputId": "d5cb0cb9-85ac-4f41-8cd8-b0e14c0b35aa"
      },
      "execution_count": 232,
      "outputs": [
        {
          "output_type": "display_data",
          "data": {
            "text/html": [
              "<html>\n",
              "<head><meta charset=\"utf-8\" /></head>\n",
              "<body>\n",
              "    <div>            <script src=\"https://cdnjs.cloudflare.com/ajax/libs/mathjax/2.7.5/MathJax.js?config=TeX-AMS-MML_SVG\"></script><script type=\"text/javascript\">if (window.MathJax && window.MathJax.Hub && window.MathJax.Hub.Config) {window.MathJax.Hub.Config({SVG: {font: \"STIX-Web\"}});}</script>                <script type=\"text/javascript\">window.PlotlyConfig = {MathJaxConfig: 'local'};</script>\n",
              "        <script src=\"https://cdn.plot.ly/plotly-2.18.2.min.js\"></script>                <div id=\"14e61289-9966-4be0-9801-5b70635da11e\" class=\"plotly-graph-div\" style=\"height:800px; width:100%;\"></div>            <script type=\"text/javascript\">                                    window.PLOTLYENV=window.PLOTLYENV || {};                                    if (document.getElementById(\"14e61289-9966-4be0-9801-5b70635da11e\")) {                    Plotly.newPlot(                        \"14e61289-9966-4be0-9801-5b70635da11e\",                        [{\"hovertemplate\":\"Category=%{x}<br>Total reviews=%{y}<extra></extra>\",\"legendgroup\":\"\",\"line\":{\"color\":\"#636efa\",\"dash\":\"solid\"},\"marker\":{\"symbol\":\"circle\"},\"mode\":\"markers+lines\",\"name\":\"\",\"orientation\":\"v\",\"showlegend\":false,\"x\":[\"ART_AND_DESIGN\",\"AUTO_AND_VEHICLES\",\"BEAUTY\",\"BOOKS_AND_REFERENCE\",\"BUSINESS\",\"COMICS\",\"COMMUNICATION\",\"DATING\",\"EDUCATION\",\"ENTERTAINMENT\",\"EVENTS\",\"FAMILY\",\"FINANCE\",\"FOOD_AND_DRINK\",\"GAME\",\"HEALTH_AND_FITNESS\",\"HOUSE_AND_HOME\",\"LIBRARIES_AND_DEMO\",\"LIFESTYLE\",\"MAPS_AND_NAVIGATION\",\"MEDICAL\",\"NEWS_AND_MAGAZINES\",\"PARENTING\",\"PERSONALIZATION\",\"PHOTOGRAPHY\",\"PRODUCTIVITY\",\"SHOPPING\",\"SOCIAL\",\"SPORTS\",\"TOOLS\",\"TRAVEL_AND_LOCAL\",\"VIDEO_PLAYERS\",\"WEATHER\"],\"xaxis\":\"x\",\"y\":[1714317.0,1163630.0,395133.0,21872818.0,12357705.0,3381945.0,601273091.0,5545164.0,23164724.0,47570716.0,160590.0,396768541.0,16999569.0,7671255.0,1415533878.0,30845065.0,2794391.0,1013390.0,12819560.0,30659060.0,1396427.0,38244909.0,953609.0,75192419.0,204297367.0,102554240.0,94930973.0,533576498.0,65322107.0,273180158.0,55565013.0,110379692.0,14604695.0],\"yaxis\":\"y\",\"type\":\"scatter\"}],                        {\"template\":{\"data\":{\"histogram2dcontour\":[{\"type\":\"histogram2dcontour\",\"colorbar\":{\"outlinewidth\":0,\"ticks\":\"\"},\"colorscale\":[[0.0,\"#0d0887\"],[0.1111111111111111,\"#46039f\"],[0.2222222222222222,\"#7201a8\"],[0.3333333333333333,\"#9c179e\"],[0.4444444444444444,\"#bd3786\"],[0.5555555555555556,\"#d8576b\"],[0.6666666666666666,\"#ed7953\"],[0.7777777777777778,\"#fb9f3a\"],[0.8888888888888888,\"#fdca26\"],[1.0,\"#f0f921\"]]}],\"choropleth\":[{\"type\":\"choropleth\",\"colorbar\":{\"outlinewidth\":0,\"ticks\":\"\"}}],\"histogram2d\":[{\"type\":\"histogram2d\",\"colorbar\":{\"outlinewidth\":0,\"ticks\":\"\"},\"colorscale\":[[0.0,\"#0d0887\"],[0.1111111111111111,\"#46039f\"],[0.2222222222222222,\"#7201a8\"],[0.3333333333333333,\"#9c179e\"],[0.4444444444444444,\"#bd3786\"],[0.5555555555555556,\"#d8576b\"],[0.6666666666666666,\"#ed7953\"],[0.7777777777777778,\"#fb9f3a\"],[0.8888888888888888,\"#fdca26\"],[1.0,\"#f0f921\"]]}],\"heatmap\":[{\"type\":\"heatmap\",\"colorbar\":{\"outlinewidth\":0,\"ticks\":\"\"},\"colorscale\":[[0.0,\"#0d0887\"],[0.1111111111111111,\"#46039f\"],[0.2222222222222222,\"#7201a8\"],[0.3333333333333333,\"#9c179e\"],[0.4444444444444444,\"#bd3786\"],[0.5555555555555556,\"#d8576b\"],[0.6666666666666666,\"#ed7953\"],[0.7777777777777778,\"#fb9f3a\"],[0.8888888888888888,\"#fdca26\"],[1.0,\"#f0f921\"]]}],\"heatmapgl\":[{\"type\":\"heatmapgl\",\"colorbar\":{\"outlinewidth\":0,\"ticks\":\"\"},\"colorscale\":[[0.0,\"#0d0887\"],[0.1111111111111111,\"#46039f\"],[0.2222222222222222,\"#7201a8\"],[0.3333333333333333,\"#9c179e\"],[0.4444444444444444,\"#bd3786\"],[0.5555555555555556,\"#d8576b\"],[0.6666666666666666,\"#ed7953\"],[0.7777777777777778,\"#fb9f3a\"],[0.8888888888888888,\"#fdca26\"],[1.0,\"#f0f921\"]]}],\"contourcarpet\":[{\"type\":\"contourcarpet\",\"colorbar\":{\"outlinewidth\":0,\"ticks\":\"\"}}],\"contour\":[{\"type\":\"contour\",\"colorbar\":{\"outlinewidth\":0,\"ticks\":\"\"},\"colorscale\":[[0.0,\"#0d0887\"],[0.1111111111111111,\"#46039f\"],[0.2222222222222222,\"#7201a8\"],[0.3333333333333333,\"#9c179e\"],[0.4444444444444444,\"#bd3786\"],[0.5555555555555556,\"#d8576b\"],[0.6666666666666666,\"#ed7953\"],[0.7777777777777778,\"#fb9f3a\"],[0.8888888888888888,\"#fdca26\"],[1.0,\"#f0f921\"]]}],\"surface\":[{\"type\":\"surface\",\"colorbar\":{\"outlinewidth\":0,\"ticks\":\"\"},\"colorscale\":[[0.0,\"#0d0887\"],[0.1111111111111111,\"#46039f\"],[0.2222222222222222,\"#7201a8\"],[0.3333333333333333,\"#9c179e\"],[0.4444444444444444,\"#bd3786\"],[0.5555555555555556,\"#d8576b\"],[0.6666666666666666,\"#ed7953\"],[0.7777777777777778,\"#fb9f3a\"],[0.8888888888888888,\"#fdca26\"],[1.0,\"#f0f921\"]]}],\"mesh3d\":[{\"type\":\"mesh3d\",\"colorbar\":{\"outlinewidth\":0,\"ticks\":\"\"}}],\"scatter\":[{\"fillpattern\":{\"fillmode\":\"overlay\",\"size\":10,\"solidity\":0.2},\"type\":\"scatter\"}],\"parcoords\":[{\"type\":\"parcoords\",\"line\":{\"colorbar\":{\"outlinewidth\":0,\"ticks\":\"\"}}}],\"scatterpolargl\":[{\"type\":\"scatterpolargl\",\"marker\":{\"colorbar\":{\"outlinewidth\":0,\"ticks\":\"\"}}}],\"bar\":[{\"error_x\":{\"color\":\"#2a3f5f\"},\"error_y\":{\"color\":\"#2a3f5f\"},\"marker\":{\"line\":{\"color\":\"#E5ECF6\",\"width\":0.5},\"pattern\":{\"fillmode\":\"overlay\",\"size\":10,\"solidity\":0.2}},\"type\":\"bar\"}],\"scattergeo\":[{\"type\":\"scattergeo\",\"marker\":{\"colorbar\":{\"outlinewidth\":0,\"ticks\":\"\"}}}],\"scatterpolar\":[{\"type\":\"scatterpolar\",\"marker\":{\"colorbar\":{\"outlinewidth\":0,\"ticks\":\"\"}}}],\"histogram\":[{\"marker\":{\"pattern\":{\"fillmode\":\"overlay\",\"size\":10,\"solidity\":0.2}},\"type\":\"histogram\"}],\"scattergl\":[{\"type\":\"scattergl\",\"marker\":{\"colorbar\":{\"outlinewidth\":0,\"ticks\":\"\"}}}],\"scatter3d\":[{\"type\":\"scatter3d\",\"line\":{\"colorbar\":{\"outlinewidth\":0,\"ticks\":\"\"}},\"marker\":{\"colorbar\":{\"outlinewidth\":0,\"ticks\":\"\"}}}],\"scattermapbox\":[{\"type\":\"scattermapbox\",\"marker\":{\"colorbar\":{\"outlinewidth\":0,\"ticks\":\"\"}}}],\"scatterternary\":[{\"type\":\"scatterternary\",\"marker\":{\"colorbar\":{\"outlinewidth\":0,\"ticks\":\"\"}}}],\"scattercarpet\":[{\"type\":\"scattercarpet\",\"marker\":{\"colorbar\":{\"outlinewidth\":0,\"ticks\":\"\"}}}],\"carpet\":[{\"aaxis\":{\"endlinecolor\":\"#2a3f5f\",\"gridcolor\":\"white\",\"linecolor\":\"white\",\"minorgridcolor\":\"white\",\"startlinecolor\":\"#2a3f5f\"},\"baxis\":{\"endlinecolor\":\"#2a3f5f\",\"gridcolor\":\"white\",\"linecolor\":\"white\",\"minorgridcolor\":\"white\",\"startlinecolor\":\"#2a3f5f\"},\"type\":\"carpet\"}],\"table\":[{\"cells\":{\"fill\":{\"color\":\"#EBF0F8\"},\"line\":{\"color\":\"white\"}},\"header\":{\"fill\":{\"color\":\"#C8D4E3\"},\"line\":{\"color\":\"white\"}},\"type\":\"table\"}],\"barpolar\":[{\"marker\":{\"line\":{\"color\":\"#E5ECF6\",\"width\":0.5},\"pattern\":{\"fillmode\":\"overlay\",\"size\":10,\"solidity\":0.2}},\"type\":\"barpolar\"}],\"pie\":[{\"automargin\":true,\"type\":\"pie\"}]},\"layout\":{\"autotypenumbers\":\"strict\",\"colorway\":[\"#636efa\",\"#EF553B\",\"#00cc96\",\"#ab63fa\",\"#FFA15A\",\"#19d3f3\",\"#FF6692\",\"#B6E880\",\"#FF97FF\",\"#FECB52\"],\"font\":{\"color\":\"#2a3f5f\"},\"hovermode\":\"closest\",\"hoverlabel\":{\"align\":\"left\"},\"paper_bgcolor\":\"white\",\"plot_bgcolor\":\"#E5ECF6\",\"polar\":{\"bgcolor\":\"#E5ECF6\",\"angularaxis\":{\"gridcolor\":\"white\",\"linecolor\":\"white\",\"ticks\":\"\"},\"radialaxis\":{\"gridcolor\":\"white\",\"linecolor\":\"white\",\"ticks\":\"\"}},\"ternary\":{\"bgcolor\":\"#E5ECF6\",\"aaxis\":{\"gridcolor\":\"white\",\"linecolor\":\"white\",\"ticks\":\"\"},\"baxis\":{\"gridcolor\":\"white\",\"linecolor\":\"white\",\"ticks\":\"\"},\"caxis\":{\"gridcolor\":\"white\",\"linecolor\":\"white\",\"ticks\":\"\"}},\"coloraxis\":{\"colorbar\":{\"outlinewidth\":0,\"ticks\":\"\"}},\"colorscale\":{\"sequential\":[[0.0,\"#0d0887\"],[0.1111111111111111,\"#46039f\"],[0.2222222222222222,\"#7201a8\"],[0.3333333333333333,\"#9c179e\"],[0.4444444444444444,\"#bd3786\"],[0.5555555555555556,\"#d8576b\"],[0.6666666666666666,\"#ed7953\"],[0.7777777777777778,\"#fb9f3a\"],[0.8888888888888888,\"#fdca26\"],[1.0,\"#f0f921\"]],\"sequentialminus\":[[0.0,\"#0d0887\"],[0.1111111111111111,\"#46039f\"],[0.2222222222222222,\"#7201a8\"],[0.3333333333333333,\"#9c179e\"],[0.4444444444444444,\"#bd3786\"],[0.5555555555555556,\"#d8576b\"],[0.6666666666666666,\"#ed7953\"],[0.7777777777777778,\"#fb9f3a\"],[0.8888888888888888,\"#fdca26\"],[1.0,\"#f0f921\"]],\"diverging\":[[0,\"#8e0152\"],[0.1,\"#c51b7d\"],[0.2,\"#de77ae\"],[0.3,\"#f1b6da\"],[0.4,\"#fde0ef\"],[0.5,\"#f7f7f7\"],[0.6,\"#e6f5d0\"],[0.7,\"#b8e186\"],[0.8,\"#7fbc41\"],[0.9,\"#4d9221\"],[1,\"#276419\"]]},\"xaxis\":{\"gridcolor\":\"white\",\"linecolor\":\"white\",\"ticks\":\"\",\"title\":{\"standoff\":15},\"zerolinecolor\":\"white\",\"automargin\":true,\"zerolinewidth\":2},\"yaxis\":{\"gridcolor\":\"white\",\"linecolor\":\"white\",\"ticks\":\"\",\"title\":{\"standoff\":15},\"zerolinecolor\":\"white\",\"automargin\":true,\"zerolinewidth\":2},\"scene\":{\"xaxis\":{\"backgroundcolor\":\"#E5ECF6\",\"gridcolor\":\"white\",\"linecolor\":\"white\",\"showbackground\":true,\"ticks\":\"\",\"zerolinecolor\":\"white\",\"gridwidth\":2},\"yaxis\":{\"backgroundcolor\":\"#E5ECF6\",\"gridcolor\":\"white\",\"linecolor\":\"white\",\"showbackground\":true,\"ticks\":\"\",\"zerolinecolor\":\"white\",\"gridwidth\":2},\"zaxis\":{\"backgroundcolor\":\"#E5ECF6\",\"gridcolor\":\"white\",\"linecolor\":\"white\",\"showbackground\":true,\"ticks\":\"\",\"zerolinecolor\":\"white\",\"gridwidth\":2}},\"shapedefaults\":{\"line\":{\"color\":\"#2a3f5f\"}},\"annotationdefaults\":{\"arrowcolor\":\"#2a3f5f\",\"arrowhead\":0,\"arrowwidth\":1},\"geo\":{\"bgcolor\":\"white\",\"landcolor\":\"#E5ECF6\",\"subunitcolor\":\"white\",\"showland\":true,\"showlakes\":true,\"lakecolor\":\"white\"},\"title\":{\"x\":0.05},\"mapbox\":{\"style\":\"light\"}}},\"xaxis\":{\"anchor\":\"y\",\"domain\":[0.0,1.0],\"title\":{\"text\":\"Category\"}},\"yaxis\":{\"anchor\":\"x\",\"domain\":[0.0,1.0],\"title\":{\"text\":\"Total reviews\"}},\"legend\":{\"tracegroupgap\":0},\"title\":{\"text\":\"Distribution of total app reviews for each Category\"},\"height\":800},                        {\"responsive\": true}                    ).then(function(){\n",
              "                            \n",
              "var gd = document.getElementById('14e61289-9966-4be0-9801-5b70635da11e');\n",
              "var x = new MutationObserver(function (mutations, observer) {{\n",
              "        var display = window.getComputedStyle(gd).display;\n",
              "        if (!display || display === 'none') {{\n",
              "            console.log([gd, 'removed!']);\n",
              "            Plotly.purge(gd);\n",
              "            observer.disconnect();\n",
              "        }}\n",
              "}});\n",
              "\n",
              "// Listen for the removal of the full notebook cells\n",
              "var notebookContainer = gd.closest('#notebook-container');\n",
              "if (notebookContainer) {{\n",
              "    x.observe(notebookContainer, {childList: true});\n",
              "}}\n",
              "\n",
              "// Listen for the clearing of the current output cell\n",
              "var outputEl = gd.closest('.output');\n",
              "if (outputEl) {{\n",
              "    x.observe(outputEl, {childList: true});\n",
              "}}\n",
              "\n",
              "                        })                };                            </script>        </div>\n",
              "</body>\n",
              "</html>"
            ]
          },
          "metadata": {}
        }
      ]
    },
    {
      "cell_type": "markdown",
      "source": [
        "# - The Game category has the highest number of reviews.\n",
        "# - The Event app, however, has a high rating but a relatively low number of reviews."
      ],
      "metadata": {
        "id": "aJFWreH-VsEY"
      }
    },
    {
      "cell_type": "markdown",
      "source": [
        "# Distribution of app installs on each category."
      ],
      "metadata": {
        "id": "tjUp0mLK3YBd"
      }
    },
    {
      "cell_type": "code",
      "source": [
        "# Check special characters\n",
        "df['Installs'].unique()"
      ],
      "metadata": {
        "colab": {
          "base_uri": "https://localhost:8080/"
        },
        "id": "aUfWuDY42qpD",
        "outputId": "e9c40c9c-b909-4584-9e76-3f9b1e2efe9f"
      },
      "execution_count": 233,
      "outputs": [
        {
          "output_type": "execute_result",
          "data": {
            "text/plain": [
              "array(['10,000+', '500,000+', '5,000,000+', '50,000,000+', '100,000+',\n",
              "       '50,000+', '1,000,000+', '10,000,000+', '5,000+', '100,000,000+',\n",
              "       '1,000,000,000+', '1,000+', '500,000,000+', '100+', '500+', '10+',\n",
              "       '5+', '50+', '1+'], dtype=object)"
            ]
          },
          "metadata": {},
          "execution_count": 233
        }
      ]
    },
    {
      "cell_type": "code",
      "source": [
        "# Clean the 'Installs' data and convert the data type from 'object' to 'float'.\n",
        "Installs=[]\n",
        "\n",
        "for x in df.Installs: \n",
        "  if ',' in x:\n",
        "    x = x.replace(',' ,'')\n",
        "  if '+' in x:\n",
        "    x = x.replace('+','')\n",
        "  x=int(x)\n",
        "  Installs.append(x)\n"
      ],
      "metadata": {
        "id": "ZathhZIP32WD"
      },
      "execution_count": 234,
      "outputs": []
    },
    {
      "cell_type": "code",
      "source": [
        "df['Installs']=Installs\n",
        "df['Installs'] = df['Installs'].astype(float)\n",
        "df['Installs']"
      ],
      "metadata": {
        "colab": {
          "base_uri": "https://localhost:8080/"
        },
        "id": "3zncfPWg8gAN",
        "outputId": "a9db7dc5-0c94-4349-d5e0-ff2855e99248"
      },
      "execution_count": 239,
      "outputs": [
        {
          "output_type": "execute_result",
          "data": {
            "text/plain": [
              "0           10000.0\n",
              "1          500000.0\n",
              "2         5000000.0\n",
              "3        50000000.0\n",
              "4          100000.0\n",
              "            ...    \n",
              "10834         500.0\n",
              "10836        5000.0\n",
              "10837         100.0\n",
              "10839        1000.0\n",
              "10840    10000000.0\n",
              "Name: Installs, Length: 8886, dtype: float64"
            ]
          },
          "metadata": {},
          "execution_count": 239
        }
      ]
    },
    {
      "cell_type": "code",
      "source": [
        "df['Installs'].unique()"
      ],
      "metadata": {
        "colab": {
          "base_uri": "https://localhost:8080/"
        },
        "id": "LZdBIbur8WKG",
        "outputId": "b85620a3-7fc9-4207-f4b0-c94afe9a8c26"
      },
      "execution_count": 240,
      "outputs": [
        {
          "output_type": "execute_result",
          "data": {
            "text/plain": [
              "array([1.e+04, 5.e+05, 5.e+06, 5.e+07, 1.e+05, 5.e+04, 1.e+06, 1.e+07,\n",
              "       5.e+03, 1.e+08, 1.e+09, 1.e+03, 5.e+08, 1.e+02, 5.e+02, 1.e+01,\n",
              "       5.e+00, 5.e+01, 1.e+00])"
            ]
          },
          "metadata": {},
          "execution_count": 240
        }
      ]
    },
    {
      "cell_type": "code",
      "source": [
        "InsPerCat=df.groupby('Category')['Installs'].sum().reset_index(name='Total installs')"
      ],
      "metadata": {
        "id": "Pclooq9yA20J"
      },
      "execution_count": 241,
      "outputs": []
    },
    {
      "cell_type": "code",
      "source": [
        "figure=px.pie(InsPerCat, values='Total installs', names='Category',color_discrete_sequence=px.colors.sequential.Rainbow)\n",
        "figure.update_layout(title_text='Distribution of total app installation for each Category',height = 800)\n",
        "figure.update_traces(rotation=90,textposition='inside',textinfo='label+percent+value')"
      ],
      "metadata": {
        "colab": {
          "base_uri": "https://localhost:8080/",
          "height": 817
        },
        "id": "yobxa0w9BV6M",
        "outputId": "58b6d178-255a-4fe9-cd63-f868e2a40592"
      },
      "execution_count": 242,
      "outputs": [
        {
          "output_type": "display_data",
          "data": {
            "text/html": [
              "<html>\n",
              "<head><meta charset=\"utf-8\" /></head>\n",
              "<body>\n",
              "    <div>            <script src=\"https://cdnjs.cloudflare.com/ajax/libs/mathjax/2.7.5/MathJax.js?config=TeX-AMS-MML_SVG\"></script><script type=\"text/javascript\">if (window.MathJax && window.MathJax.Hub && window.MathJax.Hub.Config) {window.MathJax.Hub.Config({SVG: {font: \"STIX-Web\"}});}</script>                <script type=\"text/javascript\">window.PlotlyConfig = {MathJaxConfig: 'local'};</script>\n",
              "        <script src=\"https://cdn.plot.ly/plotly-2.18.2.min.js\"></script>                <div id=\"1371a8f0-9706-40d9-9a75-a64c04365d49\" class=\"plotly-graph-div\" style=\"height:800px; width:100%;\"></div>            <script type=\"text/javascript\">                                    window.PLOTLYENV=window.PLOTLYENV || {};                                    if (document.getElementById(\"1371a8f0-9706-40d9-9a75-a64c04365d49\")) {                    Plotly.newPlot(                        \"1371a8f0-9706-40d9-9a75-a64c04365d49\",                        [{\"domain\":{\"x\":[0.0,1.0],\"y\":[0.0,1.0]},\"hovertemplate\":\"Category=%{label}<br>Total installs=%{value}<extra></extra>\",\"labels\":[\"ART_AND_DESIGN\",\"AUTO_AND_VEHICLES\",\"BEAUTY\",\"BOOKS_AND_REFERENCE\",\"BUSINESS\",\"COMICS\",\"COMMUNICATION\",\"DATING\",\"EDUCATION\",\"ENTERTAINMENT\",\"EVENTS\",\"FAMILY\",\"FINANCE\",\"FOOD_AND_DRINK\",\"GAME\",\"HEALTH_AND_FITNESS\",\"HOUSE_AND_HOME\",\"LIBRARIES_AND_DEMO\",\"LIFESTYLE\",\"MAPS_AND_NAVIGATION\",\"MEDICAL\",\"NEWS_AND_MAGAZINES\",\"PARENTING\",\"PERSONALIZATION\",\"PHOTOGRAPHY\",\"PRODUCTIVITY\",\"SHOPPING\",\"SOCIAL\",\"SPORTS\",\"TOOLS\",\"TRAVEL_AND_LOCAL\",\"VIDEO_PLAYERS\",\"WEATHER\"],\"legendgroup\":\"\",\"name\":\"\",\"showlegend\":true,\"values\":[124228100.0,53129800.0,26916200.0,1916291655.0,863518120.0,56036100.0,24152241530.0,206522410.0,533852000.0,2455660000.0,15949410.0,10041080590.0,770312400.0,257777750.0,31543862717.0,1361006220.0,125082000.0,61083000.0,534741120.0,724267560.0,42162676.0,5393110650.0,31116110.0,2074341930.0,9721243130.0,12463070180.0,2573331540.0,12513841475.0,1528531465.0,11450224500.0,6361859300.0,6221897200.0,426096500.0],\"type\":\"pie\",\"rotation\":90,\"textinfo\":\"label+percent+value\",\"textposition\":\"inside\"}],                        {\"template\":{\"data\":{\"histogram2dcontour\":[{\"type\":\"histogram2dcontour\",\"colorbar\":{\"outlinewidth\":0,\"ticks\":\"\"},\"colorscale\":[[0.0,\"#0d0887\"],[0.1111111111111111,\"#46039f\"],[0.2222222222222222,\"#7201a8\"],[0.3333333333333333,\"#9c179e\"],[0.4444444444444444,\"#bd3786\"],[0.5555555555555556,\"#d8576b\"],[0.6666666666666666,\"#ed7953\"],[0.7777777777777778,\"#fb9f3a\"],[0.8888888888888888,\"#fdca26\"],[1.0,\"#f0f921\"]]}],\"choropleth\":[{\"type\":\"choropleth\",\"colorbar\":{\"outlinewidth\":0,\"ticks\":\"\"}}],\"histogram2d\":[{\"type\":\"histogram2d\",\"colorbar\":{\"outlinewidth\":0,\"ticks\":\"\"},\"colorscale\":[[0.0,\"#0d0887\"],[0.1111111111111111,\"#46039f\"],[0.2222222222222222,\"#7201a8\"],[0.3333333333333333,\"#9c179e\"],[0.4444444444444444,\"#bd3786\"],[0.5555555555555556,\"#d8576b\"],[0.6666666666666666,\"#ed7953\"],[0.7777777777777778,\"#fb9f3a\"],[0.8888888888888888,\"#fdca26\"],[1.0,\"#f0f921\"]]}],\"heatmap\":[{\"type\":\"heatmap\",\"colorbar\":{\"outlinewidth\":0,\"ticks\":\"\"},\"colorscale\":[[0.0,\"#0d0887\"],[0.1111111111111111,\"#46039f\"],[0.2222222222222222,\"#7201a8\"],[0.3333333333333333,\"#9c179e\"],[0.4444444444444444,\"#bd3786\"],[0.5555555555555556,\"#d8576b\"],[0.6666666666666666,\"#ed7953\"],[0.7777777777777778,\"#fb9f3a\"],[0.8888888888888888,\"#fdca26\"],[1.0,\"#f0f921\"]]}],\"heatmapgl\":[{\"type\":\"heatmapgl\",\"colorbar\":{\"outlinewidth\":0,\"ticks\":\"\"},\"colorscale\":[[0.0,\"#0d0887\"],[0.1111111111111111,\"#46039f\"],[0.2222222222222222,\"#7201a8\"],[0.3333333333333333,\"#9c179e\"],[0.4444444444444444,\"#bd3786\"],[0.5555555555555556,\"#d8576b\"],[0.6666666666666666,\"#ed7953\"],[0.7777777777777778,\"#fb9f3a\"],[0.8888888888888888,\"#fdca26\"],[1.0,\"#f0f921\"]]}],\"contourcarpet\":[{\"type\":\"contourcarpet\",\"colorbar\":{\"outlinewidth\":0,\"ticks\":\"\"}}],\"contour\":[{\"type\":\"contour\",\"colorbar\":{\"outlinewidth\":0,\"ticks\":\"\"},\"colorscale\":[[0.0,\"#0d0887\"],[0.1111111111111111,\"#46039f\"],[0.2222222222222222,\"#7201a8\"],[0.3333333333333333,\"#9c179e\"],[0.4444444444444444,\"#bd3786\"],[0.5555555555555556,\"#d8576b\"],[0.6666666666666666,\"#ed7953\"],[0.7777777777777778,\"#fb9f3a\"],[0.8888888888888888,\"#fdca26\"],[1.0,\"#f0f921\"]]}],\"surface\":[{\"type\":\"surface\",\"colorbar\":{\"outlinewidth\":0,\"ticks\":\"\"},\"colorscale\":[[0.0,\"#0d0887\"],[0.1111111111111111,\"#46039f\"],[0.2222222222222222,\"#7201a8\"],[0.3333333333333333,\"#9c179e\"],[0.4444444444444444,\"#bd3786\"],[0.5555555555555556,\"#d8576b\"],[0.6666666666666666,\"#ed7953\"],[0.7777777777777778,\"#fb9f3a\"],[0.8888888888888888,\"#fdca26\"],[1.0,\"#f0f921\"]]}],\"mesh3d\":[{\"type\":\"mesh3d\",\"colorbar\":{\"outlinewidth\":0,\"ticks\":\"\"}}],\"scatter\":[{\"fillpattern\":{\"fillmode\":\"overlay\",\"size\":10,\"solidity\":0.2},\"type\":\"scatter\"}],\"parcoords\":[{\"type\":\"parcoords\",\"line\":{\"colorbar\":{\"outlinewidth\":0,\"ticks\":\"\"}}}],\"scatterpolargl\":[{\"type\":\"scatterpolargl\",\"marker\":{\"colorbar\":{\"outlinewidth\":0,\"ticks\":\"\"}}}],\"bar\":[{\"error_x\":{\"color\":\"#2a3f5f\"},\"error_y\":{\"color\":\"#2a3f5f\"},\"marker\":{\"line\":{\"color\":\"#E5ECF6\",\"width\":0.5},\"pattern\":{\"fillmode\":\"overlay\",\"size\":10,\"solidity\":0.2}},\"type\":\"bar\"}],\"scattergeo\":[{\"type\":\"scattergeo\",\"marker\":{\"colorbar\":{\"outlinewidth\":0,\"ticks\":\"\"}}}],\"scatterpolar\":[{\"type\":\"scatterpolar\",\"marker\":{\"colorbar\":{\"outlinewidth\":0,\"ticks\":\"\"}}}],\"histogram\":[{\"marker\":{\"pattern\":{\"fillmode\":\"overlay\",\"size\":10,\"solidity\":0.2}},\"type\":\"histogram\"}],\"scattergl\":[{\"type\":\"scattergl\",\"marker\":{\"colorbar\":{\"outlinewidth\":0,\"ticks\":\"\"}}}],\"scatter3d\":[{\"type\":\"scatter3d\",\"line\":{\"colorbar\":{\"outlinewidth\":0,\"ticks\":\"\"}},\"marker\":{\"colorbar\":{\"outlinewidth\":0,\"ticks\":\"\"}}}],\"scattermapbox\":[{\"type\":\"scattermapbox\",\"marker\":{\"colorbar\":{\"outlinewidth\":0,\"ticks\":\"\"}}}],\"scatterternary\":[{\"type\":\"scatterternary\",\"marker\":{\"colorbar\":{\"outlinewidth\":0,\"ticks\":\"\"}}}],\"scattercarpet\":[{\"type\":\"scattercarpet\",\"marker\":{\"colorbar\":{\"outlinewidth\":0,\"ticks\":\"\"}}}],\"carpet\":[{\"aaxis\":{\"endlinecolor\":\"#2a3f5f\",\"gridcolor\":\"white\",\"linecolor\":\"white\",\"minorgridcolor\":\"white\",\"startlinecolor\":\"#2a3f5f\"},\"baxis\":{\"endlinecolor\":\"#2a3f5f\",\"gridcolor\":\"white\",\"linecolor\":\"white\",\"minorgridcolor\":\"white\",\"startlinecolor\":\"#2a3f5f\"},\"type\":\"carpet\"}],\"table\":[{\"cells\":{\"fill\":{\"color\":\"#EBF0F8\"},\"line\":{\"color\":\"white\"}},\"header\":{\"fill\":{\"color\":\"#C8D4E3\"},\"line\":{\"color\":\"white\"}},\"type\":\"table\"}],\"barpolar\":[{\"marker\":{\"line\":{\"color\":\"#E5ECF6\",\"width\":0.5},\"pattern\":{\"fillmode\":\"overlay\",\"size\":10,\"solidity\":0.2}},\"type\":\"barpolar\"}],\"pie\":[{\"automargin\":true,\"type\":\"pie\"}]},\"layout\":{\"autotypenumbers\":\"strict\",\"colorway\":[\"#636efa\",\"#EF553B\",\"#00cc96\",\"#ab63fa\",\"#FFA15A\",\"#19d3f3\",\"#FF6692\",\"#B6E880\",\"#FF97FF\",\"#FECB52\"],\"font\":{\"color\":\"#2a3f5f\"},\"hovermode\":\"closest\",\"hoverlabel\":{\"align\":\"left\"},\"paper_bgcolor\":\"white\",\"plot_bgcolor\":\"#E5ECF6\",\"polar\":{\"bgcolor\":\"#E5ECF6\",\"angularaxis\":{\"gridcolor\":\"white\",\"linecolor\":\"white\",\"ticks\":\"\"},\"radialaxis\":{\"gridcolor\":\"white\",\"linecolor\":\"white\",\"ticks\":\"\"}},\"ternary\":{\"bgcolor\":\"#E5ECF6\",\"aaxis\":{\"gridcolor\":\"white\",\"linecolor\":\"white\",\"ticks\":\"\"},\"baxis\":{\"gridcolor\":\"white\",\"linecolor\":\"white\",\"ticks\":\"\"},\"caxis\":{\"gridcolor\":\"white\",\"linecolor\":\"white\",\"ticks\":\"\"}},\"coloraxis\":{\"colorbar\":{\"outlinewidth\":0,\"ticks\":\"\"}},\"colorscale\":{\"sequential\":[[0.0,\"#0d0887\"],[0.1111111111111111,\"#46039f\"],[0.2222222222222222,\"#7201a8\"],[0.3333333333333333,\"#9c179e\"],[0.4444444444444444,\"#bd3786\"],[0.5555555555555556,\"#d8576b\"],[0.6666666666666666,\"#ed7953\"],[0.7777777777777778,\"#fb9f3a\"],[0.8888888888888888,\"#fdca26\"],[1.0,\"#f0f921\"]],\"sequentialminus\":[[0.0,\"#0d0887\"],[0.1111111111111111,\"#46039f\"],[0.2222222222222222,\"#7201a8\"],[0.3333333333333333,\"#9c179e\"],[0.4444444444444444,\"#bd3786\"],[0.5555555555555556,\"#d8576b\"],[0.6666666666666666,\"#ed7953\"],[0.7777777777777778,\"#fb9f3a\"],[0.8888888888888888,\"#fdca26\"],[1.0,\"#f0f921\"]],\"diverging\":[[0,\"#8e0152\"],[0.1,\"#c51b7d\"],[0.2,\"#de77ae\"],[0.3,\"#f1b6da\"],[0.4,\"#fde0ef\"],[0.5,\"#f7f7f7\"],[0.6,\"#e6f5d0\"],[0.7,\"#b8e186\"],[0.8,\"#7fbc41\"],[0.9,\"#4d9221\"],[1,\"#276419\"]]},\"xaxis\":{\"gridcolor\":\"white\",\"linecolor\":\"white\",\"ticks\":\"\",\"title\":{\"standoff\":15},\"zerolinecolor\":\"white\",\"automargin\":true,\"zerolinewidth\":2},\"yaxis\":{\"gridcolor\":\"white\",\"linecolor\":\"white\",\"ticks\":\"\",\"title\":{\"standoff\":15},\"zerolinecolor\":\"white\",\"automargin\":true,\"zerolinewidth\":2},\"scene\":{\"xaxis\":{\"backgroundcolor\":\"#E5ECF6\",\"gridcolor\":\"white\",\"linecolor\":\"white\",\"showbackground\":true,\"ticks\":\"\",\"zerolinecolor\":\"white\",\"gridwidth\":2},\"yaxis\":{\"backgroundcolor\":\"#E5ECF6\",\"gridcolor\":\"white\",\"linecolor\":\"white\",\"showbackground\":true,\"ticks\":\"\",\"zerolinecolor\":\"white\",\"gridwidth\":2},\"zaxis\":{\"backgroundcolor\":\"#E5ECF6\",\"gridcolor\":\"white\",\"linecolor\":\"white\",\"showbackground\":true,\"ticks\":\"\",\"zerolinecolor\":\"white\",\"gridwidth\":2}},\"shapedefaults\":{\"line\":{\"color\":\"#2a3f5f\"}},\"annotationdefaults\":{\"arrowcolor\":\"#2a3f5f\",\"arrowhead\":0,\"arrowwidth\":1},\"geo\":{\"bgcolor\":\"white\",\"landcolor\":\"#E5ECF6\",\"subunitcolor\":\"white\",\"showland\":true,\"showlakes\":true,\"lakecolor\":\"white\"},\"title\":{\"x\":0.05},\"mapbox\":{\"style\":\"light\"}}},\"legend\":{\"tracegroupgap\":0},\"margin\":{\"t\":60},\"piecolorway\":[\"rgb(150,0,90)\",\"rgb(0,0,200)\",\"rgb(0,25,255)\",\"rgb(0,152,255)\",\"rgb(44,255,150)\",\"rgb(151,255,0)\",\"rgb(255,234,0)\",\"rgb(255,111,0)\",\"rgb(255,0,0)\"],\"title\":{\"text\":\"Distribution of total app installation for each Category\"},\"height\":800},                        {\"responsive\": true}                    ).then(function(){\n",
              "                            \n",
              "var gd = document.getElementById('1371a8f0-9706-40d9-9a75-a64c04365d49');\n",
              "var x = new MutationObserver(function (mutations, observer) {{\n",
              "        var display = window.getComputedStyle(gd).display;\n",
              "        if (!display || display === 'none') {{\n",
              "            console.log([gd, 'removed!']);\n",
              "            Plotly.purge(gd);\n",
              "            observer.disconnect();\n",
              "        }}\n",
              "}});\n",
              "\n",
              "// Listen for the removal of the full notebook cells\n",
              "var notebookContainer = gd.closest('#notebook-container');\n",
              "if (notebookContainer) {{\n",
              "    x.observe(notebookContainer, {childList: true});\n",
              "}}\n",
              "\n",
              "// Listen for the clearing of the current output cell\n",
              "var outputEl = gd.closest('.output');\n",
              "if (outputEl) {{\n",
              "    x.observe(outputEl, {childList: true});\n",
              "}}\n",
              "\n",
              "                        })                };                            </script>        </div>\n",
              "</body>\n",
              "</html>"
            ]
          },
          "metadata": {}
        }
      ]
    },
    {
      "cell_type": "markdown",
      "source": [
        "# - The most frequently installed category by users are Game, followed by Communication as the second most installed category, and Social as the third most installed category."
      ],
      "metadata": {
        "id": "S3PCovZWJKEA"
      }
    },
    {
      "cell_type": "markdown",
      "source": [
        "# Let's examine the Type column to determine if the app is free or paid."
      ],
      "metadata": {
        "id": "uq6K9tHPN7TP"
      }
    },
    {
      "cell_type": "code",
      "source": [
        "df['Type'].unique()"
      ],
      "metadata": {
        "colab": {
          "base_uri": "https://localhost:8080/"
        },
        "id": "UVIV4LSwOEow",
        "outputId": "38538fd3-4ad1-47ca-8433-0e420f2acd61"
      },
      "execution_count": 243,
      "outputs": [
        {
          "output_type": "execute_result",
          "data": {
            "text/plain": [
              "array(['Free', 'Paid'], dtype=object)"
            ]
          },
          "metadata": {},
          "execution_count": 243
        }
      ]
    },
    {
      "cell_type": "code",
      "source": [
        "typCat = df.groupby('Category')['Type'].value_counts().reset_index(name=\"Count\")\n",
        "typCat"
      ],
      "metadata": {
        "colab": {
          "base_uri": "https://localhost:8080/",
          "height": 423
        },
        "id": "o0DwSInwOUJL",
        "outputId": "8969c892-c673-4f6a-a59f-5f5c18b3e5df"
      },
      "execution_count": 244,
      "outputs": [
        {
          "output_type": "execute_result",
          "data": {
            "text/plain": [
              "             Category  Type  Count\n",
              "0      ART_AND_DESIGN  Free     58\n",
              "1      ART_AND_DESIGN  Paid      3\n",
              "2   AUTO_AND_VEHICLES  Free     72\n",
              "3   AUTO_AND_VEHICLES  Paid      1\n",
              "4              BEAUTY  Free     42\n",
              "..                ...   ...    ...\n",
              "56   TRAVEL_AND_LOCAL  Paid      8\n",
              "57      VIDEO_PLAYERS  Free    156\n",
              "58      VIDEO_PLAYERS  Paid      4\n",
              "59            WEATHER  Free     68\n",
              "60            WEATHER  Paid      7\n",
              "\n",
              "[61 rows x 3 columns]"
            ],
            "text/html": [
              "\n",
              "  <div id=\"df-b9039c83-98df-4e98-adb0-99856cf11d68\">\n",
              "    <div class=\"colab-df-container\">\n",
              "      <div>\n",
              "<style scoped>\n",
              "    .dataframe tbody tr th:only-of-type {\n",
              "        vertical-align: middle;\n",
              "    }\n",
              "\n",
              "    .dataframe tbody tr th {\n",
              "        vertical-align: top;\n",
              "    }\n",
              "\n",
              "    .dataframe thead th {\n",
              "        text-align: right;\n",
              "    }\n",
              "</style>\n",
              "<table border=\"1\" class=\"dataframe\">\n",
              "  <thead>\n",
              "    <tr style=\"text-align: right;\">\n",
              "      <th></th>\n",
              "      <th>Category</th>\n",
              "      <th>Type</th>\n",
              "      <th>Count</th>\n",
              "    </tr>\n",
              "  </thead>\n",
              "  <tbody>\n",
              "    <tr>\n",
              "      <th>0</th>\n",
              "      <td>ART_AND_DESIGN</td>\n",
              "      <td>Free</td>\n",
              "      <td>58</td>\n",
              "    </tr>\n",
              "    <tr>\n",
              "      <th>1</th>\n",
              "      <td>ART_AND_DESIGN</td>\n",
              "      <td>Paid</td>\n",
              "      <td>3</td>\n",
              "    </tr>\n",
              "    <tr>\n",
              "      <th>2</th>\n",
              "      <td>AUTO_AND_VEHICLES</td>\n",
              "      <td>Free</td>\n",
              "      <td>72</td>\n",
              "    </tr>\n",
              "    <tr>\n",
              "      <th>3</th>\n",
              "      <td>AUTO_AND_VEHICLES</td>\n",
              "      <td>Paid</td>\n",
              "      <td>1</td>\n",
              "    </tr>\n",
              "    <tr>\n",
              "      <th>4</th>\n",
              "      <td>BEAUTY</td>\n",
              "      <td>Free</td>\n",
              "      <td>42</td>\n",
              "    </tr>\n",
              "    <tr>\n",
              "      <th>...</th>\n",
              "      <td>...</td>\n",
              "      <td>...</td>\n",
              "      <td>...</td>\n",
              "    </tr>\n",
              "    <tr>\n",
              "      <th>56</th>\n",
              "      <td>TRAVEL_AND_LOCAL</td>\n",
              "      <td>Paid</td>\n",
              "      <td>8</td>\n",
              "    </tr>\n",
              "    <tr>\n",
              "      <th>57</th>\n",
              "      <td>VIDEO_PLAYERS</td>\n",
              "      <td>Free</td>\n",
              "      <td>156</td>\n",
              "    </tr>\n",
              "    <tr>\n",
              "      <th>58</th>\n",
              "      <td>VIDEO_PLAYERS</td>\n",
              "      <td>Paid</td>\n",
              "      <td>4</td>\n",
              "    </tr>\n",
              "    <tr>\n",
              "      <th>59</th>\n",
              "      <td>WEATHER</td>\n",
              "      <td>Free</td>\n",
              "      <td>68</td>\n",
              "    </tr>\n",
              "    <tr>\n",
              "      <th>60</th>\n",
              "      <td>WEATHER</td>\n",
              "      <td>Paid</td>\n",
              "      <td>7</td>\n",
              "    </tr>\n",
              "  </tbody>\n",
              "</table>\n",
              "<p>61 rows × 3 columns</p>\n",
              "</div>\n",
              "      <button class=\"colab-df-convert\" onclick=\"convertToInteractive('df-b9039c83-98df-4e98-adb0-99856cf11d68')\"\n",
              "              title=\"Convert this dataframe to an interactive table.\"\n",
              "              style=\"display:none;\">\n",
              "        \n",
              "  <svg xmlns=\"http://www.w3.org/2000/svg\" height=\"24px\"viewBox=\"0 0 24 24\"\n",
              "       width=\"24px\">\n",
              "    <path d=\"M0 0h24v24H0V0z\" fill=\"none\"/>\n",
              "    <path d=\"M18.56 5.44l.94 2.06.94-2.06 2.06-.94-2.06-.94-.94-2.06-.94 2.06-2.06.94zm-11 1L8.5 8.5l.94-2.06 2.06-.94-2.06-.94L8.5 2.5l-.94 2.06-2.06.94zm10 10l.94 2.06.94-2.06 2.06-.94-2.06-.94-.94-2.06-.94 2.06-2.06.94z\"/><path d=\"M17.41 7.96l-1.37-1.37c-.4-.4-.92-.59-1.43-.59-.52 0-1.04.2-1.43.59L10.3 9.45l-7.72 7.72c-.78.78-.78 2.05 0 2.83L4 21.41c.39.39.9.59 1.41.59.51 0 1.02-.2 1.41-.59l7.78-7.78 2.81-2.81c.8-.78.8-2.07 0-2.86zM5.41 20L4 18.59l7.72-7.72 1.47 1.35L5.41 20z\"/>\n",
              "  </svg>\n",
              "      </button>\n",
              "      \n",
              "  <style>\n",
              "    .colab-df-container {\n",
              "      display:flex;\n",
              "      flex-wrap:wrap;\n",
              "      gap: 12px;\n",
              "    }\n",
              "\n",
              "    .colab-df-convert {\n",
              "      background-color: #E8F0FE;\n",
              "      border: none;\n",
              "      border-radius: 50%;\n",
              "      cursor: pointer;\n",
              "      display: none;\n",
              "      fill: #1967D2;\n",
              "      height: 32px;\n",
              "      padding: 0 0 0 0;\n",
              "      width: 32px;\n",
              "    }\n",
              "\n",
              "    .colab-df-convert:hover {\n",
              "      background-color: #E2EBFA;\n",
              "      box-shadow: 0px 1px 2px rgba(60, 64, 67, 0.3), 0px 1px 3px 1px rgba(60, 64, 67, 0.15);\n",
              "      fill: #174EA6;\n",
              "    }\n",
              "\n",
              "    [theme=dark] .colab-df-convert {\n",
              "      background-color: #3B4455;\n",
              "      fill: #D2E3FC;\n",
              "    }\n",
              "\n",
              "    [theme=dark] .colab-df-convert:hover {\n",
              "      background-color: #434B5C;\n",
              "      box-shadow: 0px 1px 3px 1px rgba(0, 0, 0, 0.15);\n",
              "      filter: drop-shadow(0px 1px 2px rgba(0, 0, 0, 0.3));\n",
              "      fill: #FFFFFF;\n",
              "    }\n",
              "  </style>\n",
              "\n",
              "      <script>\n",
              "        const buttonEl =\n",
              "          document.querySelector('#df-b9039c83-98df-4e98-adb0-99856cf11d68 button.colab-df-convert');\n",
              "        buttonEl.style.display =\n",
              "          google.colab.kernel.accessAllowed ? 'block' : 'none';\n",
              "\n",
              "        async function convertToInteractive(key) {\n",
              "          const element = document.querySelector('#df-b9039c83-98df-4e98-adb0-99856cf11d68');\n",
              "          const dataTable =\n",
              "            await google.colab.kernel.invokeFunction('convertToInteractive',\n",
              "                                                     [key], {});\n",
              "          if (!dataTable) return;\n",
              "\n",
              "          const docLinkHtml = 'Like what you see? Visit the ' +\n",
              "            '<a target=\"_blank\" href=https://colab.research.google.com/notebooks/data_table.ipynb>data table notebook</a>'\n",
              "            + ' to learn more about interactive tables.';\n",
              "          element.innerHTML = '';\n",
              "          dataTable['output_type'] = 'display_data';\n",
              "          await google.colab.output.renderOutput(dataTable, element);\n",
              "          const docLink = document.createElement('div');\n",
              "          docLink.innerHTML = docLinkHtml;\n",
              "          element.appendChild(docLink);\n",
              "        }\n",
              "      </script>\n",
              "    </div>\n",
              "  </div>\n",
              "  "
            ]
          },
          "metadata": {},
          "execution_count": 244
        }
      ]
    },
    {
      "cell_type": "code",
      "source": [
        "figure = px.bar(typCat, x=\"Category\", y=\"Count\", color='Type', barmode='group', height=900)\n",
        "figure.show()"
      ],
      "metadata": {
        "colab": {
          "base_uri": "https://localhost:8080/",
          "height": 917
        },
        "id": "zSGbCpfVQLdj",
        "outputId": "30451dcb-a575-4f17-b7f3-01407ca98223"
      },
      "execution_count": 253,
      "outputs": [
        {
          "output_type": "display_data",
          "data": {
            "text/html": [
              "<html>\n",
              "<head><meta charset=\"utf-8\" /></head>\n",
              "<body>\n",
              "    <div>            <script src=\"https://cdnjs.cloudflare.com/ajax/libs/mathjax/2.7.5/MathJax.js?config=TeX-AMS-MML_SVG\"></script><script type=\"text/javascript\">if (window.MathJax && window.MathJax.Hub && window.MathJax.Hub.Config) {window.MathJax.Hub.Config({SVG: {font: \"STIX-Web\"}});}</script>                <script type=\"text/javascript\">window.PlotlyConfig = {MathJaxConfig: 'local'};</script>\n",
              "        <script src=\"https://cdn.plot.ly/plotly-2.18.2.min.js\"></script>                <div id=\"9f412c8b-5084-4c96-a5b4-53683fd17e3f\" class=\"plotly-graph-div\" style=\"height:900px; width:100%;\"></div>            <script type=\"text/javascript\">                                    window.PLOTLYENV=window.PLOTLYENV || {};                                    if (document.getElementById(\"9f412c8b-5084-4c96-a5b4-53683fd17e3f\")) {                    Plotly.newPlot(                        \"9f412c8b-5084-4c96-a5b4-53683fd17e3f\",                        [{\"alignmentgroup\":\"True\",\"hovertemplate\":\"Type=Free<br>Category=%{x}<br>Count=%{y}<extra></extra>\",\"legendgroup\":\"Free\",\"marker\":{\"color\":\"#636efa\",\"pattern\":{\"shape\":\"\"}},\"name\":\"Free\",\"offsetgroup\":\"Free\",\"orientation\":\"v\",\"showlegend\":true,\"textposition\":\"auto\",\"x\":[\"ART_AND_DESIGN\",\"AUTO_AND_VEHICLES\",\"BEAUTY\",\"BOOKS_AND_REFERENCE\",\"BUSINESS\",\"COMICS\",\"COMMUNICATION\",\"DATING\",\"EDUCATION\",\"ENTERTAINMENT\",\"EVENTS\",\"FAMILY\",\"FINANCE\",\"FOOD_AND_DRINK\",\"GAME\",\"HEALTH_AND_FITNESS\",\"HOUSE_AND_HOME\",\"LIBRARIES_AND_DEMO\",\"LIFESTYLE\",\"MAPS_AND_NAVIGATION\",\"MEDICAL\",\"NEWS_AND_MAGAZINES\",\"PARENTING\",\"PERSONALIZATION\",\"PHOTOGRAPHY\",\"PRODUCTIVITY\",\"SHOPPING\",\"SOCIAL\",\"SPORTS\",\"TOOLS\",\"TRAVEL_AND_LOCAL\",\"VIDEO_PLAYERS\",\"WEATHER\"],\"xaxis\":\"x\",\"y\":[58,72,42,169,261,58,285,155,125,109,45,1560,304,104,997,251,68,64,287,119,238,212,48,243,288,316,200,242,264,670,197,156,68],\"yaxis\":\"y\",\"type\":\"bar\"},{\"alignmentgroup\":\"True\",\"hovertemplate\":\"Type=Paid<br>Category=%{x}<br>Count=%{y}<extra></extra>\",\"legendgroup\":\"Paid\",\"marker\":{\"color\":\"#EF553B\",\"pattern\":{\"shape\":\"\"}},\"name\":\"Paid\",\"offsetgroup\":\"Paid\",\"orientation\":\"v\",\"showlegend\":true,\"textposition\":\"auto\",\"x\":[\"ART_AND_DESIGN\",\"AUTO_AND_VEHICLES\",\"BOOKS_AND_REFERENCE\",\"BUSINESS\",\"COMMUNICATION\",\"DATING\",\"EDUCATION\",\"ENTERTAINMENT\",\"FAMILY\",\"FINANCE\",\"FOOD_AND_DRINK\",\"GAME\",\"HEALTH_AND_FITNESS\",\"LIFESTYLE\",\"MAPS_AND_NAVIGATION\",\"MEDICAL\",\"NEWS_AND_MAGAZINES\",\"PARENTING\",\"PERSONALIZATION\",\"PHOTOGRAPHY\",\"PRODUCTIVITY\",\"SHOPPING\",\"SOCIAL\",\"SPORTS\",\"TOOLS\",\"TRAVEL_AND_LOCAL\",\"VIDEO_PLAYERS\",\"WEATHER\"],\"xaxis\":\"x\",\"y\":[3,1,8,9,22,4,4,2,157,13,2,77,11,18,5,64,2,2,65,16,18,2,2,22,63,8,4,7],\"yaxis\":\"y\",\"type\":\"bar\"}],                        {\"template\":{\"data\":{\"histogram2dcontour\":[{\"type\":\"histogram2dcontour\",\"colorbar\":{\"outlinewidth\":0,\"ticks\":\"\"},\"colorscale\":[[0.0,\"#0d0887\"],[0.1111111111111111,\"#46039f\"],[0.2222222222222222,\"#7201a8\"],[0.3333333333333333,\"#9c179e\"],[0.4444444444444444,\"#bd3786\"],[0.5555555555555556,\"#d8576b\"],[0.6666666666666666,\"#ed7953\"],[0.7777777777777778,\"#fb9f3a\"],[0.8888888888888888,\"#fdca26\"],[1.0,\"#f0f921\"]]}],\"choropleth\":[{\"type\":\"choropleth\",\"colorbar\":{\"outlinewidth\":0,\"ticks\":\"\"}}],\"histogram2d\":[{\"type\":\"histogram2d\",\"colorbar\":{\"outlinewidth\":0,\"ticks\":\"\"},\"colorscale\":[[0.0,\"#0d0887\"],[0.1111111111111111,\"#46039f\"],[0.2222222222222222,\"#7201a8\"],[0.3333333333333333,\"#9c179e\"],[0.4444444444444444,\"#bd3786\"],[0.5555555555555556,\"#d8576b\"],[0.6666666666666666,\"#ed7953\"],[0.7777777777777778,\"#fb9f3a\"],[0.8888888888888888,\"#fdca26\"],[1.0,\"#f0f921\"]]}],\"heatmap\":[{\"type\":\"heatmap\",\"colorbar\":{\"outlinewidth\":0,\"ticks\":\"\"},\"colorscale\":[[0.0,\"#0d0887\"],[0.1111111111111111,\"#46039f\"],[0.2222222222222222,\"#7201a8\"],[0.3333333333333333,\"#9c179e\"],[0.4444444444444444,\"#bd3786\"],[0.5555555555555556,\"#d8576b\"],[0.6666666666666666,\"#ed7953\"],[0.7777777777777778,\"#fb9f3a\"],[0.8888888888888888,\"#fdca26\"],[1.0,\"#f0f921\"]]}],\"heatmapgl\":[{\"type\":\"heatmapgl\",\"colorbar\":{\"outlinewidth\":0,\"ticks\":\"\"},\"colorscale\":[[0.0,\"#0d0887\"],[0.1111111111111111,\"#46039f\"],[0.2222222222222222,\"#7201a8\"],[0.3333333333333333,\"#9c179e\"],[0.4444444444444444,\"#bd3786\"],[0.5555555555555556,\"#d8576b\"],[0.6666666666666666,\"#ed7953\"],[0.7777777777777778,\"#fb9f3a\"],[0.8888888888888888,\"#fdca26\"],[1.0,\"#f0f921\"]]}],\"contourcarpet\":[{\"type\":\"contourcarpet\",\"colorbar\":{\"outlinewidth\":0,\"ticks\":\"\"}}],\"contour\":[{\"type\":\"contour\",\"colorbar\":{\"outlinewidth\":0,\"ticks\":\"\"},\"colorscale\":[[0.0,\"#0d0887\"],[0.1111111111111111,\"#46039f\"],[0.2222222222222222,\"#7201a8\"],[0.3333333333333333,\"#9c179e\"],[0.4444444444444444,\"#bd3786\"],[0.5555555555555556,\"#d8576b\"],[0.6666666666666666,\"#ed7953\"],[0.7777777777777778,\"#fb9f3a\"],[0.8888888888888888,\"#fdca26\"],[1.0,\"#f0f921\"]]}],\"surface\":[{\"type\":\"surface\",\"colorbar\":{\"outlinewidth\":0,\"ticks\":\"\"},\"colorscale\":[[0.0,\"#0d0887\"],[0.1111111111111111,\"#46039f\"],[0.2222222222222222,\"#7201a8\"],[0.3333333333333333,\"#9c179e\"],[0.4444444444444444,\"#bd3786\"],[0.5555555555555556,\"#d8576b\"],[0.6666666666666666,\"#ed7953\"],[0.7777777777777778,\"#fb9f3a\"],[0.8888888888888888,\"#fdca26\"],[1.0,\"#f0f921\"]]}],\"mesh3d\":[{\"type\":\"mesh3d\",\"colorbar\":{\"outlinewidth\":0,\"ticks\":\"\"}}],\"scatter\":[{\"fillpattern\":{\"fillmode\":\"overlay\",\"size\":10,\"solidity\":0.2},\"type\":\"scatter\"}],\"parcoords\":[{\"type\":\"parcoords\",\"line\":{\"colorbar\":{\"outlinewidth\":0,\"ticks\":\"\"}}}],\"scatterpolargl\":[{\"type\":\"scatterpolargl\",\"marker\":{\"colorbar\":{\"outlinewidth\":0,\"ticks\":\"\"}}}],\"bar\":[{\"error_x\":{\"color\":\"#2a3f5f\"},\"error_y\":{\"color\":\"#2a3f5f\"},\"marker\":{\"line\":{\"color\":\"#E5ECF6\",\"width\":0.5},\"pattern\":{\"fillmode\":\"overlay\",\"size\":10,\"solidity\":0.2}},\"type\":\"bar\"}],\"scattergeo\":[{\"type\":\"scattergeo\",\"marker\":{\"colorbar\":{\"outlinewidth\":0,\"ticks\":\"\"}}}],\"scatterpolar\":[{\"type\":\"scatterpolar\",\"marker\":{\"colorbar\":{\"outlinewidth\":0,\"ticks\":\"\"}}}],\"histogram\":[{\"marker\":{\"pattern\":{\"fillmode\":\"overlay\",\"size\":10,\"solidity\":0.2}},\"type\":\"histogram\"}],\"scattergl\":[{\"type\":\"scattergl\",\"marker\":{\"colorbar\":{\"outlinewidth\":0,\"ticks\":\"\"}}}],\"scatter3d\":[{\"type\":\"scatter3d\",\"line\":{\"colorbar\":{\"outlinewidth\":0,\"ticks\":\"\"}},\"marker\":{\"colorbar\":{\"outlinewidth\":0,\"ticks\":\"\"}}}],\"scattermapbox\":[{\"type\":\"scattermapbox\",\"marker\":{\"colorbar\":{\"outlinewidth\":0,\"ticks\":\"\"}}}],\"scatterternary\":[{\"type\":\"scatterternary\",\"marker\":{\"colorbar\":{\"outlinewidth\":0,\"ticks\":\"\"}}}],\"scattercarpet\":[{\"type\":\"scattercarpet\",\"marker\":{\"colorbar\":{\"outlinewidth\":0,\"ticks\":\"\"}}}],\"carpet\":[{\"aaxis\":{\"endlinecolor\":\"#2a3f5f\",\"gridcolor\":\"white\",\"linecolor\":\"white\",\"minorgridcolor\":\"white\",\"startlinecolor\":\"#2a3f5f\"},\"baxis\":{\"endlinecolor\":\"#2a3f5f\",\"gridcolor\":\"white\",\"linecolor\":\"white\",\"minorgridcolor\":\"white\",\"startlinecolor\":\"#2a3f5f\"},\"type\":\"carpet\"}],\"table\":[{\"cells\":{\"fill\":{\"color\":\"#EBF0F8\"},\"line\":{\"color\":\"white\"}},\"header\":{\"fill\":{\"color\":\"#C8D4E3\"},\"line\":{\"color\":\"white\"}},\"type\":\"table\"}],\"barpolar\":[{\"marker\":{\"line\":{\"color\":\"#E5ECF6\",\"width\":0.5},\"pattern\":{\"fillmode\":\"overlay\",\"size\":10,\"solidity\":0.2}},\"type\":\"barpolar\"}],\"pie\":[{\"automargin\":true,\"type\":\"pie\"}]},\"layout\":{\"autotypenumbers\":\"strict\",\"colorway\":[\"#636efa\",\"#EF553B\",\"#00cc96\",\"#ab63fa\",\"#FFA15A\",\"#19d3f3\",\"#FF6692\",\"#B6E880\",\"#FF97FF\",\"#FECB52\"],\"font\":{\"color\":\"#2a3f5f\"},\"hovermode\":\"closest\",\"hoverlabel\":{\"align\":\"left\"},\"paper_bgcolor\":\"white\",\"plot_bgcolor\":\"#E5ECF6\",\"polar\":{\"bgcolor\":\"#E5ECF6\",\"angularaxis\":{\"gridcolor\":\"white\",\"linecolor\":\"white\",\"ticks\":\"\"},\"radialaxis\":{\"gridcolor\":\"white\",\"linecolor\":\"white\",\"ticks\":\"\"}},\"ternary\":{\"bgcolor\":\"#E5ECF6\",\"aaxis\":{\"gridcolor\":\"white\",\"linecolor\":\"white\",\"ticks\":\"\"},\"baxis\":{\"gridcolor\":\"white\",\"linecolor\":\"white\",\"ticks\":\"\"},\"caxis\":{\"gridcolor\":\"white\",\"linecolor\":\"white\",\"ticks\":\"\"}},\"coloraxis\":{\"colorbar\":{\"outlinewidth\":0,\"ticks\":\"\"}},\"colorscale\":{\"sequential\":[[0.0,\"#0d0887\"],[0.1111111111111111,\"#46039f\"],[0.2222222222222222,\"#7201a8\"],[0.3333333333333333,\"#9c179e\"],[0.4444444444444444,\"#bd3786\"],[0.5555555555555556,\"#d8576b\"],[0.6666666666666666,\"#ed7953\"],[0.7777777777777778,\"#fb9f3a\"],[0.8888888888888888,\"#fdca26\"],[1.0,\"#f0f921\"]],\"sequentialminus\":[[0.0,\"#0d0887\"],[0.1111111111111111,\"#46039f\"],[0.2222222222222222,\"#7201a8\"],[0.3333333333333333,\"#9c179e\"],[0.4444444444444444,\"#bd3786\"],[0.5555555555555556,\"#d8576b\"],[0.6666666666666666,\"#ed7953\"],[0.7777777777777778,\"#fb9f3a\"],[0.8888888888888888,\"#fdca26\"],[1.0,\"#f0f921\"]],\"diverging\":[[0,\"#8e0152\"],[0.1,\"#c51b7d\"],[0.2,\"#de77ae\"],[0.3,\"#f1b6da\"],[0.4,\"#fde0ef\"],[0.5,\"#f7f7f7\"],[0.6,\"#e6f5d0\"],[0.7,\"#b8e186\"],[0.8,\"#7fbc41\"],[0.9,\"#4d9221\"],[1,\"#276419\"]]},\"xaxis\":{\"gridcolor\":\"white\",\"linecolor\":\"white\",\"ticks\":\"\",\"title\":{\"standoff\":15},\"zerolinecolor\":\"white\",\"automargin\":true,\"zerolinewidth\":2},\"yaxis\":{\"gridcolor\":\"white\",\"linecolor\":\"white\",\"ticks\":\"\",\"title\":{\"standoff\":15},\"zerolinecolor\":\"white\",\"automargin\":true,\"zerolinewidth\":2},\"scene\":{\"xaxis\":{\"backgroundcolor\":\"#E5ECF6\",\"gridcolor\":\"white\",\"linecolor\":\"white\",\"showbackground\":true,\"ticks\":\"\",\"zerolinecolor\":\"white\",\"gridwidth\":2},\"yaxis\":{\"backgroundcolor\":\"#E5ECF6\",\"gridcolor\":\"white\",\"linecolor\":\"white\",\"showbackground\":true,\"ticks\":\"\",\"zerolinecolor\":\"white\",\"gridwidth\":2},\"zaxis\":{\"backgroundcolor\":\"#E5ECF6\",\"gridcolor\":\"white\",\"linecolor\":\"white\",\"showbackground\":true,\"ticks\":\"\",\"zerolinecolor\":\"white\",\"gridwidth\":2}},\"shapedefaults\":{\"line\":{\"color\":\"#2a3f5f\"}},\"annotationdefaults\":{\"arrowcolor\":\"#2a3f5f\",\"arrowhead\":0,\"arrowwidth\":1},\"geo\":{\"bgcolor\":\"white\",\"landcolor\":\"#E5ECF6\",\"subunitcolor\":\"white\",\"showland\":true,\"showlakes\":true,\"lakecolor\":\"white\"},\"title\":{\"x\":0.05},\"mapbox\":{\"style\":\"light\"}}},\"xaxis\":{\"anchor\":\"y\",\"domain\":[0.0,1.0],\"title\":{\"text\":\"Category\"}},\"yaxis\":{\"anchor\":\"x\",\"domain\":[0.0,1.0],\"title\":{\"text\":\"Count\"}},\"legend\":{\"title\":{\"text\":\"Type\"},\"tracegroupgap\":0},\"margin\":{\"t\":60},\"barmode\":\"group\",\"height\":900},                        {\"responsive\": true}                    ).then(function(){\n",
              "                            \n",
              "var gd = document.getElementById('9f412c8b-5084-4c96-a5b4-53683fd17e3f');\n",
              "var x = new MutationObserver(function (mutations, observer) {{\n",
              "        var display = window.getComputedStyle(gd).display;\n",
              "        if (!display || display === 'none') {{\n",
              "            console.log([gd, 'removed!']);\n",
              "            Plotly.purge(gd);\n",
              "            observer.disconnect();\n",
              "        }}\n",
              "}});\n",
              "\n",
              "// Listen for the removal of the full notebook cells\n",
              "var notebookContainer = gd.closest('#notebook-container');\n",
              "if (notebookContainer) {{\n",
              "    x.observe(notebookContainer, {childList: true});\n",
              "}}\n",
              "\n",
              "// Listen for the clearing of the current output cell\n",
              "var outputEl = gd.closest('.output');\n",
              "if (outputEl) {{\n",
              "    x.observe(outputEl, {childList: true});\n",
              "}}\n",
              "\n",
              "                        })                };                            </script>        </div>\n",
              "</body>\n",
              "</html>"
            ]
          },
          "metadata": {}
        }
      ]
    },
    {
      "cell_type": "markdown",
      "source": [
        "# - Once again, the family category has the highest number of both free and paid apps on the Google Play Store.\n",
        "# - Shopping apps, social apps, entertainment apps, art and design apps, events apps, education apps, comics apps and others are mostly free."
      ],
      "metadata": {
        "id": "4rz0Jmf2SWJy"
      }
    }
  ]
}