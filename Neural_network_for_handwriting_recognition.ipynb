{
  "nbformat": 4,
  "nbformat_minor": 0,
  "metadata": {
    "colab": {
      "provenance": [],
      "gpuType": "T4"
    },
    "kernelspec": {
      "name": "python3",
      "display_name": "Python 3"
    },
    "language_info": {
      "name": "python"
    },
    "accelerator": "GPU"
  },
  "cells": [
    {
      "cell_type": "markdown",
      "source": [
        "# **Project name : Neural network for handwriting recognition**\n",
        "\n",
        "Building a neural network for handwriting recognition is a popular application of machine learning, we are going to use the MNIST dataset for the implementation of a neural network for handwriting recognition using Python and TensorFlow/Keras. To implement this we will use a special type of deep neural network called Convolutional Neural Networks."
      ],
      "metadata": {
        "id": "HBqS3do_kLCc"
      }
    },
    {
      "cell_type": "markdown",
      "source": [
        "# **Import Libraries and load the Dataset**"
      ],
      "metadata": {
        "id": "hNREx2K_2tD7"
      }
    },
    {
      "cell_type": "code",
      "source": [
        "# We import the MNIST dataset from keras because the Keras library already contains many datasets and MNIST is one of them.\n",
        "from keras.datasets import mnist\n",
        "from keras.models import Sequential\n",
        "from keras.layers import Conv2D, MaxPooling2D, Flatten, Dense\n",
        "import numpy as np\n",
        "import matplotlib.pyplot as plt # library to visualize the image"
      ],
      "metadata": {
        "id": "x78cT6q92jD0"
      },
      "execution_count": 17,
      "outputs": []
    },
    {
      "cell_type": "markdown",
      "source": [
        "- MNIST dataset contains 28x28 grayscale images of handwritten digits and their corresponding labels (0 to 9)."
      ],
      "metadata": {
        "id": "vHqeSxwi2yXr"
      }
    },
    {
      "cell_type": "code",
      "source": [
        "# Load the dataset\n",
        "# to split the data of training and testing sets\n",
        "(x_train, y_train), (x_test, y_test) = mnist.load_data()"
      ],
      "metadata": {
        "id": "7XLJwNxbkLoQ"
      },
      "execution_count": 18,
      "outputs": []
    },
    {
      "cell_type": "markdown",
      "source": [
        "# **Preprocess the Data**"
      ],
      "metadata": {
        "id": "7ak0D0cP3q2c"
      }
    },
    {
      "cell_type": "code",
      "source": [
        "# Normalize the pixel values to a range of 0 to 1\n",
        "\n",
        "x_train = x_train/255.0\n",
        "x_test = x_test/255.0\n",
        "\n",
        "# Reshape the train & test image dataset so that they can be put in the model.\n",
        "# Reshape the images to a 4D tensor (samples, rows, columns, channels)\n",
        "# Using -1 as the value for one of the dimensions allows NumPy (or TensorFlow) to automatically calculate the appropriate size for\n",
        "# that dimension based on the total number of elements in the array and the other specified dimensions.\n",
        "\n",
        "x_train=x_train.reshape(-1,28,28,1)\n",
        "x_test=x_test.reshape(-1,28,28,1)\n"
      ],
      "metadata": {
        "id": "FWgrKKX26ngs"
      },
      "execution_count": 19,
      "outputs": []
    },
    {
      "cell_type": "markdown",
      "source": [
        "# **Create a simple Neural Network**"
      ],
      "metadata": {
        "id": "lEs0H_Jp4OvQ"
      }
    },
    {
      "cell_type": "code",
      "source": [
        "# Create the CNN model :\n",
        "\n",
        "# Conv2D (Convolutional Layer): to extract features, the input image is a 2D image of size 28x28 with a single channel (grayscale image).\n",
        "# MaxPooling2D : performs a downsampling operation by selecting the maximum value within a window of size (2, 2) without overlapping.\n",
        "# Flatten : flattens the data into a single-dimensional vector.\n",
        "# Dense (Fully Connected Layer): A Dense layer with 64 neurons.\n",
        "# Dense (Output Layer): with 10 neurons, one for each digit class (0 to 9).\n",
        "\n",
        "model_cnn = Sequential([\n",
        "    Conv2D(32,(3,3), activation='relu', input_shape=(28,28,1)),\n",
        "    MaxPooling2D((2,2)),\n",
        "    Conv2D(64,(3,3), activation='relu', input_shape=(28,28,1)),\n",
        "    MaxPooling2D((2,2)),\n",
        "\n",
        "    Flatten(),\n",
        "    Dense(64, activation='relu'),\n",
        "    Dense(10, activation='softmax')\n",
        "\n",
        "])"
      ],
      "metadata": {
        "id": "2fxtu3i5fnAA"
      },
      "execution_count": 20,
      "outputs": []
    },
    {
      "cell_type": "markdown",
      "source": [
        "# Compiling Model\n",
        "\n",
        "- we are compiling the model, where we define the optimizing function & the loss function to be used for fitting.\n"
      ],
      "metadata": {
        "id": "64CErH7ozne0"
      }
    },
    {
      "cell_type": "code",
      "source": [
        "# Compile the model\n",
        "\n",
        "model_cnn.compile(optimizer='adam', loss='sparse_categorical_crossentropy', metrics='accuracy')"
      ],
      "metadata": {
        "id": "83zWEpGafM3g"
      },
      "execution_count": 21,
      "outputs": []
    },
    {
      "cell_type": "markdown",
      "source": [
        "# Fitting Model\n",
        "- Train the model using training data."
      ],
      "metadata": {
        "id": "iwSOQJJ3zq_f"
      }
    },
    {
      "cell_type": "code",
      "source": [
        "# Train the Model\n",
        "\n",
        "model_cnn.fit(x_train, y_train, epochs=10, batch_size=32, validation_split=0.1)\n",
        "print('Model trained')\n",
        "model_cnn.save('mnist.h5') # Save wights and model"
      ],
      "metadata": {
        "colab": {
          "base_uri": "https://localhost:8080/"
        },
        "id": "s7rD69X6gIvV",
        "outputId": "50985289-32b4-48be-8fea-0bea6a940510"
      },
      "execution_count": 14,
      "outputs": [
        {
          "output_type": "stream",
          "name": "stdout",
          "text": [
            "Epoch 1/10\n",
            "1688/1688 [==============================] - 9s 4ms/step - loss: 0.1505 - accuracy: 0.9547 - val_loss: 0.0525 - val_accuracy: 0.9835\n",
            "Epoch 2/10\n",
            "1688/1688 [==============================] - 7s 4ms/step - loss: 0.0465 - accuracy: 0.9850 - val_loss: 0.0397 - val_accuracy: 0.9878\n",
            "Epoch 3/10\n",
            "1688/1688 [==============================] - 7s 4ms/step - loss: 0.0325 - accuracy: 0.9892 - val_loss: 0.0400 - val_accuracy: 0.9870\n",
            "Epoch 4/10\n",
            "1688/1688 [==============================] - 7s 4ms/step - loss: 0.0228 - accuracy: 0.9927 - val_loss: 0.0380 - val_accuracy: 0.9895\n",
            "Epoch 5/10\n",
            "1688/1688 [==============================] - 7s 4ms/step - loss: 0.0171 - accuracy: 0.9943 - val_loss: 0.0333 - val_accuracy: 0.9910\n",
            "Epoch 6/10\n",
            "1688/1688 [==============================] - 7s 4ms/step - loss: 0.0130 - accuracy: 0.9957 - val_loss: 0.0422 - val_accuracy: 0.9890\n",
            "Epoch 7/10\n",
            "1688/1688 [==============================] - 6s 4ms/step - loss: 0.0112 - accuracy: 0.9961 - val_loss: 0.0428 - val_accuracy: 0.9893\n",
            "Epoch 8/10\n",
            "1688/1688 [==============================] - 7s 4ms/step - loss: 0.0082 - accuracy: 0.9971 - val_loss: 0.0504 - val_accuracy: 0.9890\n",
            "Epoch 9/10\n",
            "1688/1688 [==============================] - 6s 4ms/step - loss: 0.0088 - accuracy: 0.9972 - val_loss: 0.0409 - val_accuracy: 0.9903\n",
            "Epoch 10/10\n",
            "1688/1688 [==============================] - 7s 4ms/step - loss: 0.0054 - accuracy: 0.9982 - val_loss: 0.0421 - val_accuracy: 0.9925\n",
            "Model trained\n"
          ]
        }
      ]
    },
    {
      "cell_type": "markdown",
      "source": [
        "# **Evaluate the model's performance**"
      ],
      "metadata": {
        "id": "SdEkGcCj_KMw"
      }
    },
    {
      "cell_type": "code",
      "source": [
        "# Evaluate the Model:\n",
        "test_score=model_cnn.evaluate(x_test, y_test)\n",
        "print(f'Test accuracy : {test_score[1]}')"
      ],
      "metadata": {
        "colab": {
          "base_uri": "https://localhost:8080/"
        },
        "id": "_RtdSQfJiYYE",
        "outputId": "faeb11c5-ff57-4914-84cf-59e3f8885254"
      },
      "execution_count": 15,
      "outputs": [
        {
          "output_type": "stream",
          "name": "stdout",
          "text": [
            "313/313 [==============================] - 1s 2ms/step - loss: 0.0322 - accuracy: 0.9922\n",
            "Test accuracy : 0.9922000169754028\n"
          ]
        }
      ]
    },
    {
      "cell_type": "markdown",
      "source": [
        "# **Predictions**\n",
        "- Use the trained model to do some predictions on test data."
      ],
      "metadata": {
        "id": "szzU1aTt_rhn"
      }
    },
    {
      "cell_type": "code",
      "source": [
        "# Some predictions\n",
        "# Select an image from the test data\n",
        "\n",
        "index = np.random.randint(0,x_test.shape[0])  # x_test.shape[0]:The number of images in the dataset.\n",
        "image = x_test[index].reshape(1,28,28,1)\n",
        "result = model_cnn.predict(image)\n",
        "predicted_class = np.argmax(result)\n",
        "\n",
        "plt.imshow(image.squeeze(), cmap='gray')\n",
        "plt.title(f\"Predicted class: {predicted_class}\")\n",
        "plt.show()\n"
      ],
      "metadata": {
        "colab": {
          "base_uri": "https://localhost:8080/",
          "height": 470
        },
        "id": "lTwPO-BXnJH0",
        "outputId": "f92c5a88-3124-4c57-d7e4-4c27ca49ceb6"
      },
      "execution_count": 16,
      "outputs": [
        {
          "output_type": "stream",
          "name": "stdout",
          "text": [
            "1/1 [==============================] - 0s 69ms/step\n"
          ]
        },
        {
          "output_type": "display_data",
          "data": {
            "text/plain": [
              "<Figure size 640x480 with 1 Axes>"
            ],
            "image/png": "[encoded data removed]"
          },
          "metadata": {}
        }
      ]
    }
  ]
}